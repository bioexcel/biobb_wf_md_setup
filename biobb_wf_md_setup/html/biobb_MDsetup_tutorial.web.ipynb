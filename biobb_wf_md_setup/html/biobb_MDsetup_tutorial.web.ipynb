{
 "cells": [
  {
   "cell_type": "markdown",
   "metadata": {},
   "source": [
    "# Protein MD Setup tutorial using BioExcel Building Blocks (biobb)\n",
    "**Based on the official GROMACS tutorial:** [http://www.mdtutorials.com/gmx/lysozyme/index.html](http://www.mdtutorials.com/gmx/lysozyme/index.html)\n",
    "***\n",
    "This tutorial aims to illustrate the process of **setting up a simulation system** containing a **protein**, step by step, using the **BioExcel Building Blocks library (biobb)**. The particular example used is the **Lysozyme** protein (PDB code 1AKI). \n",
    "***\n",
    "\n",
    "## Settings\n",
    "\n",
    "### Biobb modules used\n",
    "\n",
    " - [biobb_io](https://github.com/bioexcel/biobb_io): Tools to fetch biomolecular data from public databases.\n",
    " - [biobb_model](https://github.com/bioexcel/biobb_model): Tools to model macromolecular structures.\n",
    " - [biobb_gromacs](https://github.com/bioexcel/biobb_gromacs): Tools to setup and run Molecular Dynamics simulations.\n",
    " - [biobb_analysis](https://github.com/bioexcel/biobb_analysis): Tools to analyse Molecular Dynamics trajectories.\n",
    " \n",
    "### Auxiliar libraries used\n",
    "\n",
    " - [nb_conda_kernels](https://github.com/Anaconda-Platform/nb_conda_kernels): Enables a Jupyter Notebook or JupyterLab application in one conda environment to access kernels for Python, R, and other languages found in other environments.\n",
    " - [nglview](http://nglviewer.org/#nglview): Jupyter/IPython widget to interactively view molecular structures and trajectories in notebooks.\n",
    " - [ipywidgets](https://github.com/jupyter-widgets/ipywidgets): Interactive HTML widgets for Jupyter notebooks and the IPython kernel.\n",
    " - [plotly](https://plot.ly/python/offline/): Python interactive graphing library integrated in Jupyter notebooks.\n",
    " - [simpletraj](https://github.com/arose/simpletraj): Lightweight coordinate-only trajectory reader based on code from GROMACS, MDAnalysis and VMD.\n",
    "\n",
    "### Conda Installation and Launch\n",
    "\n",
    "```console\n",
    "git clone https://github.com/bioexcel/biobb_wf_md_setup.git\n",
    "cd biobb_wf_md_setup\n",
    "conda env create -f conda_env/environment.yml\n",
    "conda activate biobb_GMX_MDsetup_tutorial\n",
    "jupyter nbextension enable python-markdown/main\n",
    "jupyter-notebook biobb_wf_md_setup/notebooks/biobb_MDsetup_tutorial.ipynb\n",
    "```\n",
    "\n",
    "Please execute the following commands before launching the Jupyter Notebook if you experience some issues with widgets such as NGL View (3D molecular visualization):\n",
    "\n",
    "```console\n",
    "jupyter-nbextension enable --py --user widgetsnbextension\n",
    "jupyter-nbextension enable --py --user nglview\n",
    "```\n",
    "\n",
    "***\n",
    "## Pipeline steps\n",
    " 1. [Input Parameters](#input)\n",
    " 2. [Fetching PDB Structure](#fetch)\n",
    " 3. [Fix Protein Structure](#fix)\n",
    " 4. [Create Protein System Topology](#top)\n",
    " 5. [Create Solvent Box](#box)\n",
    " 6. [Fill the Box with Water Molecules](#water)\n",
    " 7. [Adding Ions](#ions)\n",
    " 8. [Energetically Minimize the System](#min)\n",
    " 9. [Equilibrate the System (NVT)](#nvt)\n",
    " 10. [Equilibrate the System (NPT)](#npt)\n",
    " 11. [Free Molecular Dynamics Simulation](#free)\n",
    " 12. [Post-processing and Visualizing Resulting 3D Trajectory](#post)\n",
    " 13. [Output Files](#output)\n",
    " 14. [Questions & Comments](#questions)\n",
    " \n",
    "***\n",
    "<img src=\"https://bioexcel.eu/wp-content/uploads/2019/04/Bioexcell_logo_1080px_transp.png\" alt=\"Bioexcel2 logo\"\n",
    "\ttitle=\"Bioexcel2 logo\" width=\"400\" />\n",
    "***\n"
   ]
  },
  {
   "cell_type": "markdown",
   "metadata": {},
   "source": [
    "<a id=\"input\"></a>\n",
    "## Input parameters\n",
    "**Input parameters** needed:\n",
    " - **pdbCode**: PDB code of the protein structure (e.g. 1AKI)"
   ]
  },
  {
   "cell_type": "code",
   "execution_count": 18,
   "metadata": {},
   "outputs": [],
   "source": [
    "import nglview\n",
    "import ipywidgets\n",
    "\n",
    "pdbCode = \"1AKI\""
   ]
  },
  {
   "cell_type": "markdown",
   "metadata": {},
   "source": [
    "<a id=\"fetch\"></a>\n",
    "***\n",
    "## Fetching PDB structure\n",
    "Downloading **PDB structure** with the **protein molecule** from the RCSB PDB database.<br>\n",
    "Alternatively, a **PDB file** can be used as starting structure. <br>\n",
    "***\n",
    "**Building Blocks** used:\n",
    " - [Pdb](https://biobb-io.readthedocs.io/en/latest/api.html#module-api.pdb) from **biobb_io.api.pdb**\n",
    "***"
   ]
  },
  {
   "cell_type": "code",
   "execution_count": 19,
   "metadata": {},
   "outputs": [
    {
     "name": "stdout",
     "output_type": "stream",
     "text": [
      "2021-06-23 07:31:28,686 [MainThread  ] [INFO ]  Downloading: 1aki from: https://www.ebi.ac.uk/pdbe/entry-files/download/pdb1aki.ent\n",
      "2021-06-23 07:31:28,873 [MainThread  ] [INFO ]  Writting pdb to: 1AKI.pdb\n",
      "2021-06-23 07:31:28,875 [MainThread  ] [INFO ]  Filtering lines NOT starting with one of these words: ['ATOM', 'MODEL', 'ENDMDL']\n"
     ]
    },
    {
     "name": "stderr",
     "output_type": "stream",
     "text": [
      "/anaconda3/envs/biobb_dev_37/lib/python3.7/site-packages/urllib3/connectionpool.py:986: InsecureRequestWarning: Unverified HTTPS request is being made to host 'www.ebi.ac.uk'. Adding certificate verification is strongly advised. See: https://urllib3.readthedocs.io/en/latest/advanced-usage.html#ssl-warnings\n",
      "  InsecureRequestWarning,\n"
     ]
    },
    {
     "data": {
      "text/plain": [
       "0"
      ]
     },
     "execution_count": 19,
     "metadata": {},
     "output_type": "execute_result"
    }
   ],
   "source": [
    "# Downloading desired PDB file \n",
    "# Import module\n",
    "from biobb_io.api.pdb import pdb\n",
    "\n",
    "# Create properties dict and inputs/outputs\n",
    "downloaded_pdb = pdbCode+'.pdb'\n",
    "prop = {\n",
    "    'pdb_code': pdbCode\n",
    "}\n",
    "\n",
    "#Create and launch bb\n",
    "pdb(output_pdb_path=downloaded_pdb,\n",
    "    properties=prop)"
   ]
  },
  {
   "cell_type": "markdown",
   "metadata": {},
   "source": [
    "<a id=\"vis3D\"></a>\n",
    "### Visualizing 3D structure\n",
    "Visualizing the downloaded/given **PDB structure** using **NGL**:    "
   ]
  },
  {
   "cell_type": "code",
   "execution_count": 20,
   "metadata": {
    "scrolled": true
   },
   "outputs": [
    {
     "data": {
      "application/vnd.jupyter.widget-view+json": {
       "model_id": "4da7d770677245c289a6ebaa2252bb61",
       "version_major": 2,
       "version_minor": 0
      },
      "text/plain": [
       "NGLWidget()"
      ]
     },
     "metadata": {},
     "output_type": "display_data"
    }
   ],
   "source": [
    "# Show protein\n",
    "view = nglview.show_structure_file(downloaded_pdb)\n",
    "view.add_representation(repr_type='ball+stick', selection='all')\n",
    "view._remote_call('setSize', target='Widget', args=['','600px'])\n",
    "view"
   ]
  },
  {
   "cell_type": "markdown",
   "metadata": {},
   "source": [
    "<img src='ngl1.png'></img>"
   ]
  },
  {
   "cell_type": "markdown",
   "metadata": {},
   "source": [
    "<a id=\"fix\"></a>\n",
    "***\n",
    "## Fix protein structure\n",
    "**Checking** and **fixing** (if needed) the protein structure:<br>\n",
    "- **Modeling** **missing side-chain atoms**, modifying incorrect **amide assignments**, choosing **alternative locations**.<br>\n",
    "- **Checking** for missing **backbone atoms**, **heteroatoms**, **modified residues** and possible **atomic clashes**.\n",
    "\n",
    "***\n",
    "**Building Blocks** used:\n",
    " - [FixSideChain](https://biobb-model.readthedocs.io/en/latest/model.html#module-model.fix_side_chain) from **biobb_model.model.fix_side_chain**\n",
    "***"
   ]
  },
  {
   "cell_type": "code",
   "execution_count": 21,
   "metadata": {},
   "outputs": [
    {
     "name": "stdout",
     "output_type": "stream",
     "text": [
      "2021-06-23 07:31:29,579 [MainThread  ] [INFO ]  check_structure -i 1AKI.pdb -o 1AKI_fixed.pdb --force_save fixside --fix ALL\n",
      "\n",
      "2021-06-23 07:31:29,585 [MainThread  ] [INFO ]  Exit code 0\n",
      "\n",
      "2021-06-23 07:31:29,589 [MainThread  ] [INFO ]  ===============================================================================\n",
      "=                   BioBB structure checking utility v3.7.2                   =\n",
      "=                 A. Hospital, P. Andrio, J.L. Gelpi 2018-20                  =\n",
      "===============================================================================\n",
      "\n",
      "Warning: sequence features only available in mmCIF format or with external fasta input\n",
      "Structure 1AKI.pdb loaded\n",
      " Title: \n",
      " Experimental method: unknown\n",
      " Resolution: None A\n",
      "\n",
      " Num. models: 1\n",
      " Num. chains: 1 (A: Protein)\n",
      " Num. residues:  129\n",
      " Num. residues with ins. codes:  0\n",
      " Num. HETATM residues:  0\n",
      " Num. ligands or modified residues:  0\n",
      " Num. water mol.:  0\n",
      " Num. atoms:  1001\n",
      "\n",
      "Running fixside. Options: --fix ALL\n",
      "No residues with missing or unknown side chain atoms found\n",
      "Structure not modified, saving due to --force_save option\n",
      "Final Num. models: 1\n",
      "Final Num. chains: 1 (A: Protein)\n",
      "Final Num. residues:  129\n",
      "Final Num. residues with ins. codes:  0\n",
      "Final Num. HETATM residues:  0\n",
      "Final Num. ligands or modified residues:  0\n",
      "Final Num. water mol.:  0\n",
      "Final Num. atoms:  1001\n",
      "Structure saved on 1AKI_fixed.pdb\n",
      "\n",
      "2021-06-23 07:31:29,591 [MainThread  ] [INFO ]  Removed: []\n"
     ]
    },
    {
     "data": {
      "text/plain": [
       "0"
      ]
     },
     "execution_count": 21,
     "metadata": {},
     "output_type": "execute_result"
    }
   ],
   "source": [
    "# Check & Fix PDB\n",
    "# Import module\n",
    "from biobb_model.model.fix_side_chain import fix_side_chain\n",
    "\n",
    "# Create prop dict and inputs/outputs\n",
    "fixed_pdb = pdbCode + '_fixed.pdb'\n",
    "\n",
    "# Create and launch bb\n",
    "fix_side_chain(input_pdb_path=downloaded_pdb, \n",
    "             output_pdb_path=fixed_pdb)"
   ]
  },
  {
   "cell_type": "markdown",
   "metadata": {},
   "source": [
    "### Visualizing 3D structure\n",
    "Visualizing the fixed **PDB structure** using **NGL**. In this particular example, the checking step didn't find any issue to be solved, so there is no difference between the original structure and the fixed one.   "
   ]
  },
  {
   "cell_type": "code",
   "execution_count": 22,
   "metadata": {
    "scrolled": true
   },
   "outputs": [
    {
     "data": {
      "application/vnd.jupyter.widget-view+json": {
       "model_id": "adcbfc7aebf94f30844cb618cb22e62c",
       "version_major": 2,
       "version_minor": 0
      },
      "text/plain": [
       "NGLWidget()"
      ]
     },
     "metadata": {},
     "output_type": "display_data"
    }
   ],
   "source": [
    "# Show protein\n",
    "view = nglview.show_structure_file(fixed_pdb)\n",
    "view.add_representation(repr_type='ball+stick', selection='all')\n",
    "view._remote_call('setSize', target='Widget', args=['','600px'])\n",
    "view.camera='orthographic'\n",
    "view"
   ]
  },
  {
   "cell_type": "markdown",
   "metadata": {},
   "source": [
    "<img src='ngl2.png'></img>"
   ]
  },
  {
   "cell_type": "markdown",
   "metadata": {},
   "source": [
    "<a id=\"top\"></a>\n",
    "***\n",
    "## Create protein system topology\n",
    "**Building GROMACS topology** corresponding to the protein structure.<br>\n",
    "Force field used in this tutorial is [**amber99sb-ildn**](https://dx.doi.org/10.1002%2Fprot.22711): AMBER **parm99** force field with **corrections on backbone** (sb) and **side-chain torsion potentials** (ildn). Water molecules type used in this tutorial is [**spc/e**](https://pubs.acs.org/doi/abs/10.1021/j100308a038).<br>\n",
    "Adding **hydrogen atoms** if missing. Automatically identifying **disulfide bridges**. <br>\n",
    "\n",
    "Generating two output files: \n",
    "- **GROMACS structure** (gro file)\n",
    "- **GROMACS topology** ZIP compressed file containing:\n",
    "    - *GROMACS topology top file* (top file)\n",
    "    - *GROMACS position restraint file/s* (itp file/s)\n",
    "***\n",
    "**Building Blocks** used:\n",
    " - [Pdb2gmx](https://biobb-md.readthedocs.io/en/latest/gromacs.html#module-gromacs.pdb2gmx) from **biobb_gromacs.gromacs.pdb2gmx**\n",
    "***"
   ]
  },
  {
   "cell_type": "code",
   "execution_count": 23,
   "metadata": {},
   "outputs": [
    {
     "name": "stdout",
     "output_type": "stream",
     "text": [
      "2021-06-23 07:31:29,835 [MainThread  ] [INFO ]  GROMACS Pdb2gmx 20190 version detected\n",
      "2021-06-23 07:31:29,842 [MainThread  ] [INFO ]  Not using any container\n",
      "2021-06-23 07:31:30,419 [MainThread  ] [INFO ]  gmx -nobackup -nocopyright pdb2gmx -f 1AKI_fixed.pdb -o 1AKI_pdb2gmx.gro -p p2g.top -water spce -ff amber99sb-ildn -i posre.itp\n",
      "\n",
      "2021-06-23 07:31:30,421 [MainThread  ] [INFO ]  Exit code 0\n",
      "\n",
      "2021-06-23 07:31:30,421 [MainThread  ] [INFO ]  \n",
      "Using the Amber99sb-ildn force field in directory amber99sb-ildn.ff\n",
      "\n",
      "going to rename amber99sb-ildn.ff/aminoacids.r2b\n",
      "going to rename amber99sb-ildn.ff/dna.r2b\n",
      "going to rename amber99sb-ildn.ff/rna.r2b\n",
      "Reading 1AKI_fixed.pdb...\n",
      "Read '', 1001 atoms\n",
      "Analyzing pdb file\n",
      "Splitting chemical chains based on TER records or chain id changing.\n",
      "There are 1 chains and 0 blocks of water and 129 residues with 1001 atoms\n",
      "\n",
      "  chain  #res #atoms\n",
      "  1 'A'   129   1001  \n",
      "\n",
      "Reading residue database... (Amber99sb-ildn)\n",
      "Processing chain 1 'A' (1001 atoms, 129 residues)\n",
      "Identified residue LYS1 as a starting terminus.\n",
      "Identified residue LEU129 as a ending terminus.\n",
      "Checking for duplicate atoms....\n",
      "Generating any missing hydrogen atoms and/or adding termini.\n",
      "Now there are 129 residues with 1960 atoms\n",
      "\t\t--------- PLEASE NOTE ------------\n",
      "You have successfully generated a topology from: 1AKI_fixed.pdb.\n",
      "The Amber99sb-ildn force field and the spce water model are used.\n",
      "\t\t--------- ETON ESAELP ------------\n",
      "\n",
      "2021-06-23 07:31:30,422 [MainThread  ] [INFO ]                        :-) GROMACS - gmx pdb2gmx, 2019 (-:\n",
      "\n",
      "Executable:   /usr/local/gromacs/bin/gmx\n",
      "Data prefix:  /usr/local/gromacs\n",
      "Working dir:  /home/gbayarri_local/projects/BioBB/tutorials/biobb_wf_md_setup/biobb_wf_md_setup/notebooks\n",
      "Command line:\n",
      "  gmx -nobackup -nocopyright pdb2gmx -f 1AKI_fixed.pdb -o 1AKI_pdb2gmx.gro -p p2g.top -water spce -ff amber99sb-ildn -i posre.itp\n",
      "\n",
      "Opening force field file /usr/local/gromacs/share/gromacs/top/amber99sb-ildn.ff/aminoacids.r2b\n",
      "Opening force field file /usr/local/gromacs/share/gromacs/top/amber99sb-ildn.ff/dna.r2b\n",
      "Opening force field file /usr/local/gromacs/share/gromacs/top/amber99sb-ildn.ff/rna.r2b\n",
      "All occupancies are one\n",
      "Opening force field file /usr/local/gromacs/share/gromacs/top/amber99sb-ildn.ff/atomtypes.atp\n",
      "Atomtype 67\n",
      "Opening force field file /usr/local/gromacs/share/gromacs/top/amber99sb-ildn.ff/aminoacids.rtp\n",
      "Residue 93\n",
      "Sorting it all out...\n",
      "Opening force field file /usr/local/gromacs/share/gromacs/top/amber99sb-ildn.ff/dna.rtp\n",
      "Residue 109\n",
      "Sorting it all out...\n",
      "Opening force field file /usr/local/gromacs/share/gromacs/top/amber99sb-ildn.ff/rna.rtp\n",
      "Residue 125\n",
      "Sorting it all out...\n",
      "Opening force field file /usr/local/gromacs/share/gromacs/top/amber99sb-ildn.ff/aminoacids.hdb\n",
      "Opening force field file /usr/local/gromacs/share/gromacs/top/amber99sb-ildn.ff/dna.hdb\n",
      "Opening force field file /usr/local/gromacs/share/gromacs/top/amber99sb-ildn.ff/rna.hdb\n",
      "Opening force field file /usr/local/gromacs/share/gromacs/top/amber99sb-ildn.ff/aminoacids.n.tdb\n",
      "Opening force field file /usr/local/gromacs/share/gromacs/top/amber99sb-ildn.ff/aminoacids.c.tdb\n",
      "Analysing hydrogen-bonding network for automated assignment of histidine\n",
      " protonation. 213 donors and 184 acceptors were found.\n",
      "There are 255 hydrogen bonds\n",
      "Will use HISE for residue 15\n",
      "8 out of 8 lines of specbond.dat converted successfully\n",
      "Special Atom Distance matrix:\n",
      "                    CYS6   MET12   HIS15   CYS30   CYS64   CYS76   CYS80\n",
      "                    SG48    SD87  NE2118   SG238   SG513   SG601   SG630\n",
      "   MET12    SD87   1.166\n",
      "   HIS15  NE2118   1.776   1.019\n",
      "   CYS30   SG238   1.406   1.054   2.069\n",
      "   CYS64   SG513   2.835   1.794   1.789   2.241\n",
      "   CYS76   SG601   2.704   1.551   1.468   2.116   0.765\n",
      "   CYS80   SG630   2.959   1.951   1.916   2.391   0.199   0.944\n",
      "   CYS94   SG724   2.550   1.407   1.382   1.975   0.665   0.202   0.855\n",
      "  MET105   SD799   1.827   0.911   1.683   0.888   1.849   1.461   2.036\n",
      "  CYS115   SG889   1.576   1.084   2.078   0.200   2.111   1.989   2.262\n",
      "  CYS127   SG981   0.197   1.072   1.721   1.313   2.799   2.622   2.934\n",
      "                   CYS94  MET105  CYS115\n",
      "                   SG724   SD799   SG889\n",
      "  MET105   SD799   1.381\n",
      "  CYS115   SG889   1.853   0.790\n",
      "  CYS127   SG981   2.475   1.686   1.483\n",
      "Linking CYS-6 SG-48 and CYS-127 SG-981...\n",
      "Linking CYS-30 SG-238 and CYS-115 SG-889...\n",
      "Linking CYS-64 SG-513 and CYS-80 SG-630...\n",
      "Linking CYS-76 SG-601 and CYS-94 SG-724...\n",
      "Opening force field file /usr/local/gromacs/share/gromacs/top/amber99sb-ildn.ff/aminoacids.arn\n",
      "Opening force field file /usr/local/gromacs/share/gromacs/top/amber99sb-ildn.ff/dna.arn\n",
      "Opening force field file /usr/local/gromacs/share/gromacs/top/amber99sb-ildn.ff/rna.arn\n",
      "Making bonds...\n",
      "Number of bonds was 1985, now 1984\n",
      "Generating angles, dihedrals and pairs...\n",
      "Before cleaning: 5142 pairs\n",
      "Before cleaning: 5454 dihedrals\n",
      "Keeping all generated dihedrals\n",
      "Making cmap torsions...\n",
      "There are 5454 dihedrals,  426 impropers, 3547 angles\n",
      "          5106 pairs,     1984 bonds and     0 virtual sites\n",
      "Total mass 14313.332 a.m.u.\n",
      "Total charge 8.000 e\n",
      "Writing topology\n",
      "\n",
      "Writing coordinate file...\n",
      "\n",
      "GROMACS reminds you: \"If You're So Special Why aren't You Dead ?\" (The Breeders)\n",
      "\n",
      "\n",
      "2021-06-23 07:31:30,423 [MainThread  ] [INFO ]  Compressing topology to: 1AKI_pdb2gmx_top.zip\n",
      "2021-06-23 07:31:30,425 [MainThread  ] [INFO ]  Ignored file amber99sb-ildn.ff/forcefield.itp\n",
      "2021-06-23 07:31:30,436 [MainThread  ] [INFO ]  Ignored file amber99sb-ildn.ff/spce.itp\n",
      "2021-06-23 07:31:30,437 [MainThread  ] [INFO ]  Ignored file amber99sb-ildn.ff/ions.itp\n",
      "2021-06-23 07:31:30,441 [MainThread  ] [INFO ]  Adding:\n",
      "2021-06-23 07:31:30,442 [MainThread  ] [INFO ]  ['p2g.top', 'posre.itp']\n",
      "2021-06-23 07:31:30,443 [MainThread  ] [INFO ]  to: /home/gbayarri_local/projects/BioBB/tutorials/biobb_wf_md_setup/biobb_wf_md_setup/notebooks/1AKI_pdb2gmx_top.zip\n",
      "2021-06-23 07:31:30,445 [MainThread  ] [INFO ]  Removed: ['p2g.top', 'posre.itp']\n"
     ]
    },
    {
     "data": {
      "text/plain": [
       "0"
      ]
     },
     "execution_count": 23,
     "metadata": {},
     "output_type": "execute_result"
    }
   ],
   "source": [
    "# Create system topology\n",
    "# Import module\n",
    "from biobb_gromacs.gromacs.pdb2gmx import pdb2gmx\n",
    "\n",
    "# Create inputs/outputs\n",
    "output_pdb2gmx_gro = pdbCode+'_pdb2gmx.gro'\n",
    "output_pdb2gmx_top_zip = pdbCode+'_pdb2gmx_top.zip'\n",
    "\n",
    "# Create and launch bb\n",
    "pdb2gmx(input_pdb_path=fixed_pdb, \n",
    "        output_gro_path=output_pdb2gmx_gro, \n",
    "        output_top_zip_path=output_pdb2gmx_top_zip)"
   ]
  },
  {
   "cell_type": "markdown",
   "metadata": {},
   "source": [
    "### Visualizing 3D structure\n",
    "Visualizing the generated **GRO structure** using **NGL**. Note that **hydrogen atoms** were added to the structure by the **pdb2gmx GROMACS tool** when generating the **topology**.    "
   ]
  },
  {
   "cell_type": "code",
   "execution_count": 24,
   "metadata": {
    "scrolled": true
   },
   "outputs": [
    {
     "data": {
      "application/vnd.jupyter.widget-view+json": {
       "model_id": "f39b8efb6f6e49d0ae15c145a20e4db1",
       "version_major": 2,
       "version_minor": 0
      },
      "text/plain": [
       "NGLWidget()"
      ]
     },
     "metadata": {},
     "output_type": "display_data"
    }
   ],
   "source": [
    "# Show protein\n",
    "view = nglview.show_structure_file(output_pdb2gmx_gro)\n",
    "view.add_representation(repr_type='ball+stick', selection='all')\n",
    "view._remote_call('setSize', target='Widget', args=['','600px'])\n",
    "view.camera='orthographic'\n",
    "view"
   ]
  },
  {
   "cell_type": "markdown",
   "metadata": {},
   "source": [
    "<img src='ngl3.png'></img>"
   ]
  },
  {
   "cell_type": "markdown",
   "metadata": {},
   "source": [
    "<a id=\"box\"></a>\n",
    "***\n",
    "## Create solvent box\n",
    "Define the unit cell for the **protein structure MD system** to fill it with water molecules.<br>\n",
    "A **cubic box** is used to define the unit cell, with a **distance from the protein to the box edge of 1.0 nm**. The protein is **centered in the box**.  \n",
    "\n",
    "***\n",
    "**Building Blocks** used:\n",
    " - [Editconf](https://biobb-md.readthedocs.io/en/latest/gromacs.html#module-gromacs.editconf) from **biobb_gromacs.gromacs.editconf** \n",
    "***"
   ]
  },
  {
   "cell_type": "code",
   "execution_count": 25,
   "metadata": {},
   "outputs": [
    {
     "name": "stdout",
     "output_type": "stream",
     "text": [
      "2021-06-23 07:31:30,618 [MainThread  ] [INFO ]  GROMACS Editconf 20190 version detected\n",
      "2021-06-23 07:31:30,619 [MainThread  ] [INFO ]  Centering molecule in the box.\n",
      "2021-06-23 07:31:30,620 [MainThread  ] [INFO ]  Distance of the box to molecule:   1.00\n",
      "2021-06-23 07:31:30,621 [MainThread  ] [INFO ]  Box type: cubic\n",
      "2021-06-23 07:31:30,622 [MainThread  ] [INFO ]  Not using any container\n",
      "2021-06-23 07:31:30,650 [MainThread  ] [INFO ]  gmx -nobackup -nocopyright editconf -f 1AKI_pdb2gmx.gro -o 1AKI_editconf.gro -d 1.0 -bt cubic -c\n",
      "\n",
      "2021-06-23 07:31:30,652 [MainThread  ] [INFO ]  Exit code 0\n",
      "\n",
      "2021-06-23 07:31:30,653 [MainThread  ] [INFO ]  Note that major changes are planned in future for editconf, to improve usability and utility.Read 1960 atoms\n",
      "Volume: 55.8378 nm^3, corresponds to roughly 25100 electrons\n",
      "No velocities found\n",
      "    system size :  3.817  4.234  3.454 (nm)\n",
      "    diameter    :  5.010               (nm)\n",
      "    center      :  2.781  2.488  0.017 (nm)\n",
      "    box vectors :  3.817  4.235  3.455 (nm)\n",
      "    box angles  :  90.00  90.00  90.00 (degrees)\n",
      "    box volume  :  55.84               (nm^3)\n",
      "    shift       :  0.724  1.017  3.488 (nm)\n",
      "new center      :  3.505  3.505  3.505 (nm)\n",
      "new box vectors :  7.010  7.010  7.010 (nm)\n",
      "new box angles  :  90.00  90.00  90.00 (degrees)\n",
      "new box volume  : 344.48               (nm^3)\n",
      "\n",
      "2021-06-23 07:31:30,653 [MainThread  ] [INFO ]                        :-) GROMACS - gmx editconf, 2019 (-:\n",
      "\n",
      "Executable:   /usr/local/gromacs/bin/gmx\n",
      "Data prefix:  /usr/local/gromacs\n",
      "Working dir:  /home/gbayarri_local/projects/BioBB/tutorials/biobb_wf_md_setup/biobb_wf_md_setup/notebooks\n",
      "Command line:\n",
      "  gmx -nobackup -nocopyright editconf -f 1AKI_pdb2gmx.gro -o 1AKI_editconf.gro -d 1.0 -bt cubic -c\n",
      "\n",
      "\n",
      "GROMACS reminds you: \"I never thought of stopping, and I just hated sleeping. I can't imagine having a better life.\" (Barbara McClintock)\n",
      "\n",
      "\n",
      "2021-06-23 07:31:30,654 [MainThread  ] [INFO ]  Removed: []\n"
     ]
    },
    {
     "data": {
      "text/plain": [
       "0"
      ]
     },
     "execution_count": 25,
     "metadata": {},
     "output_type": "execute_result"
    }
   ],
   "source": [
    "# Editconf: Create solvent box\n",
    "# Import module\n",
    "from biobb_gromacs.gromacs.editconf import editconf\n",
    "\n",
    "# Create prop dict and inputs/outputs\n",
    "output_editconf_gro = pdbCode+'_editconf.gro'\n",
    "\n",
    "prop = {\n",
    "    'box_type': 'cubic',\n",
    "    'distance_to_molecule': 1.0\n",
    "}\n",
    "\n",
    "#Create and launch bb\n",
    "editconf(input_gro_path=output_pdb2gmx_gro, \n",
    "         output_gro_path=output_editconf_gro,\n",
    "         properties=prop)"
   ]
  },
  {
   "cell_type": "markdown",
   "metadata": {},
   "source": [
    "<a id=\"water\"></a>\n",
    "***\n",
    "## Fill the box with water molecules\n",
    "Fill the unit cell for the **protein structure system** with water molecules.<br>\n",
    "The solvent type used is the default **Simple Point Charge water (SPC)**, a generic equilibrated 3-point solvent model. \n",
    "\n",
    "***\n",
    "**Building Blocks** used:\n",
    " - [Solvate](https://biobb-md.readthedocs.io/en/latest/gromacs.html#module-gromacs.solvate) from **biobb_gromacs.gromacs.solvate** \n",
    "***"
   ]
  },
  {
   "cell_type": "code",
   "execution_count": 26,
   "metadata": {},
   "outputs": [
    {
     "name": "stdout",
     "output_type": "stream",
     "text": [
      "2021-06-23 07:31:30,707 [MainThread  ] [INFO ]  GROMACS Solvate 20190 version detected\n",
      "2021-06-23 07:31:30,715 [MainThread  ] [INFO ]  Extracting: /home/gbayarri_local/projects/BioBB/tutorials/biobb_wf_md_setup/biobb_wf_md_setup/notebooks/1AKI_pdb2gmx_top.zip\n",
      "2021-06-23 07:31:30,716 [MainThread  ] [INFO ]  to:\n",
      "2021-06-23 07:31:30,717 [MainThread  ] [INFO ]  ['8917f853-a42b-466d-a186-a0ac33dce06d/p2g.top', '8917f853-a42b-466d-a186-a0ac33dce06d/posre.itp']\n",
      "2021-06-23 07:31:30,718 [MainThread  ] [INFO ]  Unzipping: \n",
      "2021-06-23 07:31:30,718 [MainThread  ] [INFO ]  1AKI_pdb2gmx_top.zip\n",
      "2021-06-23 07:31:30,721 [MainThread  ] [INFO ]  To: \n",
      "2021-06-23 07:31:30,722 [MainThread  ] [INFO ]  8917f853-a42b-466d-a186-a0ac33dce06d/p2g.top\n",
      "2021-06-23 07:31:30,723 [MainThread  ] [INFO ]  8917f853-a42b-466d-a186-a0ac33dce06d/posre.itp\n",
      "2021-06-23 07:31:30,727 [MainThread  ] [INFO ]  Not using any container\n",
      "2021-06-23 07:31:31,271 [MainThread  ] [INFO ]  gmx -nobackup -nocopyright solvate -cp 1AKI_editconf.gro -cs spc216.gro -o 1AKI_solvate.gro -p 8917f853-a42b-466d-a186-a0ac33dce06d/p2g.top\n",
      "\n",
      "2021-06-23 07:31:31,272 [MainThread  ] [INFO ]  Exit code 0\n",
      "\n",
      "2021-06-23 07:31:31,272 [MainThread  ] [INFO ]  \n",
      "WARNING: Masses and atomic (Van der Waals) radii will be guessed\n",
      "         based on residue and atom names, since they could not be\n",
      "         definitively assigned from the information in your input\n",
      "         files. These guessed numbers might deviate from the mass\n",
      "         and radius of the atom type. Please check the output\n",
      "         files if necessary.\n",
      "\n",
      "\n",
      "WARNING: Masses and atomic (Van der Waals) radii will be guessed\n",
      "         based on residue and atom names, since they could not be\n",
      "         definitively assigned from the information in your input\n",
      "         files. These guessed numbers might deviate from the mass\n",
      "         and radius of the atom type. Please check the output\n",
      "         files if necessary.\n",
      "\n",
      "\n",
      "WARNING: Masses and atomic (Van der Waals) radii will be guessed\n",
      "         based on residue and atom names, since they could not be\n",
      "         definitively assigned from the information in your input\n",
      "         files. These guessed numbers might deviate from the mass\n",
      "         and radius of the atom type. Please check the output\n",
      "         files if necessary.\n",
      "\n",
      "NOTE: From version 5.0 gmx solvate uses the Van der Waals radii\n",
      "from the source below. This means the results may be different\n",
      "compared to previous GROMACS versions.\n",
      "\n",
      "++++ PLEASE READ AND CITE THE FOLLOWING REFERENCE ++++\n",
      "A. Bondi\n",
      "van der Waals Volumes and Radii\n",
      "J. Phys. Chem. 68 (1964) pp. 441-451\n",
      "-------- -------- --- Thank You --- -------- --------\n",
      "\n",
      "Adding line for 10644 solvent molecules with resname (SOL) to topology file (8917f853-a42b-466d-a186-a0ac33dce06d/p2g.top)\n",
      "\n",
      "2021-06-23 07:31:31,273 [MainThread  ] [INFO ]                        :-) GROMACS - gmx solvate, 2019 (-:\n",
      "\n",
      "Executable:   /usr/local/gromacs/bin/gmx\n",
      "Data prefix:  /usr/local/gromacs\n",
      "Working dir:  /home/gbayarri_local/projects/BioBB/tutorials/biobb_wf_md_setup/biobb_wf_md_setup/notebooks\n",
      "Command line:\n",
      "  gmx -nobackup -nocopyright solvate -cp 1AKI_editconf.gro -cs spc216.gro -o 1AKI_solvate.gro -p 8917f853-a42b-466d-a186-a0ac33dce06d/p2g.top\n",
      "\n",
      "Reading solute configuration\n",
      "\n",
      "Initialising inter-atomic distances...\n",
      "Generating solvent configuration\n",
      "Will generate new solvent configuration of 4x4x4 boxes\n",
      "Solvent box contains 39252 atoms in 13084 residues\n",
      "Removed 5451 solvent atoms due to solvent-solvent overlap\n",
      "Removed 1869 solvent atoms due to solute-solvent overlap\n",
      "Sorting configuration\n",
      "Found 1 molecule type:\n",
      "    SOL (   3 atoms): 10644 residues\n",
      "Generated solvent containing 31932 atoms in 10644 residues\n",
      "Writing generated configuration to 1AKI_solvate.gro\n",
      "\n",
      "Output configuration contains 33892 atoms in 10773 residues\n",
      "Volume                 :     344.484 (nm^3)\n",
      "Density                :     997.935 (g/l)\n",
      "Number of solvent molecules:  10644   \n",
      "\n",
      "Processing topology\n",
      "\n",
      "GROMACS reminds you: \"We all understand the twinge of discomfort at the thought that we share a common ancestor with the apes. No one can embarrass you like a relative.\" (Neal DeGrasse Tyson)\n",
      "\n",
      "\n",
      "2021-06-23 07:31:31,274 [MainThread  ] [INFO ]  Compressing topology to: 1AKI_solvate_top.zip\n",
      "2021-06-23 07:31:31,275 [MainThread  ] [INFO ]  Ignored file 8917f853-a42b-466d-a186-a0ac33dce06d/amber99sb-ildn.ff/forcefield.itp\n",
      "2021-06-23 07:31:31,284 [MainThread  ] [INFO ]  Ignored file 8917f853-a42b-466d-a186-a0ac33dce06d/amber99sb-ildn.ff/spce.itp\n",
      "2021-06-23 07:31:31,285 [MainThread  ] [INFO ]  Ignored file 8917f853-a42b-466d-a186-a0ac33dce06d/amber99sb-ildn.ff/ions.itp\n",
      "2021-06-23 07:31:31,289 [MainThread  ] [INFO ]  Adding:\n",
      "2021-06-23 07:31:31,290 [MainThread  ] [INFO ]  ['8917f853-a42b-466d-a186-a0ac33dce06d/p2g.top', '8917f853-a42b-466d-a186-a0ac33dce06d/posre.itp']\n",
      "2021-06-23 07:31:31,291 [MainThread  ] [INFO ]  to: /home/gbayarri_local/projects/BioBB/tutorials/biobb_wf_md_setup/biobb_wf_md_setup/notebooks/1AKI_solvate_top.zip\n",
      "2021-06-23 07:31:31,292 [MainThread  ] [INFO ]  Removed: ['8917f853-a42b-466d-a186-a0ac33dce06d']\n"
     ]
    },
    {
     "data": {
      "text/plain": [
       "0"
      ]
     },
     "execution_count": 26,
     "metadata": {},
     "output_type": "execute_result"
    }
   ],
   "source": [
    "# Solvate: Fill the box with water molecules\n",
    "from biobb_gromacs.gromacs.solvate import solvate\n",
    "\n",
    "# Create prop dict and inputs/outputs\n",
    "output_solvate_gro = pdbCode+'_solvate.gro'\n",
    "output_solvate_top_zip = pdbCode+'_solvate_top.zip'\n",
    "\n",
    "# Create and launch bb\n",
    "solvate(input_solute_gro_path=output_editconf_gro, \n",
    "        output_gro_path=output_solvate_gro, \n",
    "        input_top_zip_path=output_pdb2gmx_top_zip, \n",
    "        output_top_zip_path=output_solvate_top_zip)"
   ]
  },
  {
   "cell_type": "markdown",
   "metadata": {},
   "source": [
    "### Visualizing 3D structure\n",
    "Visualizing the **protein system** with the newly added **solvent box** using **NGL**.<br> Note the **cubic box** filled with **water molecules** surrounding the **protein structure**, which is **centered** right in the middle of the cube."
   ]
  },
  {
   "cell_type": "code",
   "execution_count": 27,
   "metadata": {
    "scrolled": true
   },
   "outputs": [
    {
     "data": {
      "application/vnd.jupyter.widget-view+json": {
       "model_id": "0f05beb063d54224a23e700542a1e30f",
       "version_major": 2,
       "version_minor": 0
      },
      "text/plain": [
       "NGLWidget()"
      ]
     },
     "metadata": {},
     "output_type": "display_data"
    }
   ],
   "source": [
    "# Show protein\n",
    "view = nglview.show_structure_file(output_solvate_gro)\n",
    "view.clear_representations()\n",
    "view.add_representation(repr_type='cartoon', selection='solute', color='green')\n",
    "view.add_representation(repr_type='ball+stick', selection='SOL')\n",
    "view._remote_call('setSize', target='Widget', args=['','600px'])\n",
    "view.camera='orthographic'\n",
    "view"
   ]
  },
  {
   "cell_type": "markdown",
   "metadata": {},
   "source": [
    "<img src='ngl4.png'></img>"
   ]
  },
  {
   "cell_type": "markdown",
   "metadata": {},
   "source": [
    "<a id=\"ions\"></a>\n",
    "***\n",
    "## Adding ions\n",
    "Add ions to neutralize the **protein structure** charge\n",
    "- [Step 1](#ionsStep1): Creating portable binary run file for ion generation\n",
    "- [Step 2](#ionsStep2): Adding ions to **neutralize** the system\n",
    "***\n",
    "**Building Blocks** used:\n",
    " - [Grompp](https://biobb-md.readthedocs.io/en/latest/gromacs.html#module-gromacs.grompp) from **biobb_gromacs.gromacs.grompp** \n",
    " - [Genion](https://biobb-md.readthedocs.io/en/latest/gromacs.html#module-gromacs.genion) from **biobb_gromacs.gromacs.genion** \n",
    "***"
   ]
  },
  {
   "cell_type": "markdown",
   "metadata": {},
   "source": [
    "<a id=\"ionsStep1\"></a>\n",
    "### Step 1: Creating portable binary run file for ion generation\n",
    "A simple **energy minimization** molecular dynamics parameters (mdp) properties will be used to generate the portable binary run file for **ion generation**, although **any legitimate combination of parameters** could be used in this step."
   ]
  },
  {
   "cell_type": "code",
   "execution_count": 28,
   "metadata": {},
   "outputs": [
    {
     "name": "stdout",
     "output_type": "stream",
     "text": [
      "2021-06-23 07:31:31,562 [MainThread  ] [INFO ]  GROMACS Grompp 20190 version detected\n",
      "2021-06-23 07:31:31,567 [MainThread  ] [INFO ]  Extracting: /home/gbayarri_local/projects/BioBB/tutorials/biobb_wf_md_setup/biobb_wf_md_setup/notebooks/1AKI_solvate_top.zip\n",
      "2021-06-23 07:31:31,568 [MainThread  ] [INFO ]  to:\n",
      "2021-06-23 07:31:31,569 [MainThread  ] [INFO ]  ['59cdbc80-d19c-4132-8627-fb4653bb1bd2/p2g.top', '59cdbc80-d19c-4132-8627-fb4653bb1bd2/posre.itp']\n",
      "2021-06-23 07:31:31,570 [MainThread  ] [INFO ]  Unzipping: \n",
      "2021-06-23 07:31:31,571 [MainThread  ] [INFO ]  1AKI_solvate_top.zip\n",
      "2021-06-23 07:31:31,572 [MainThread  ] [INFO ]  To: \n",
      "2021-06-23 07:31:31,572 [MainThread  ] [INFO ]  59cdbc80-d19c-4132-8627-fb4653bb1bd2/p2g.top\n",
      "2021-06-23 07:31:31,573 [MainThread  ] [INFO ]  59cdbc80-d19c-4132-8627-fb4653bb1bd2/posre.itp\n",
      "2021-06-23 07:31:31,575 [MainThread  ] [INFO ]  Not using any container\n",
      "2021-06-23 07:31:31,971 [MainThread  ] [INFO ]  gmx -nobackup -nocopyright grompp -f 2a0bea2e-dec5-4d26-b98c-ec9bfd2276cc/grompp.mdp -c 1AKI_solvate.gro -r 1AKI_solvate.gro -p 59cdbc80-d19c-4132-8627-fb4653bb1bd2/p2g.top -o 1AKI_gppion.tpr -po mdout.mdp -maxwarn 10\n",
      "\n",
      "2021-06-23 07:31:31,973 [MainThread  ] [INFO ]  Exit code 0\n",
      "\n",
      "2021-06-23 07:31:31,974 [MainThread  ] [INFO ]  \n",
      "++++ PLEASE READ AND CITE THE FOLLOWING REFERENCE ++++\n",
      "J. S. Hub, B. L. de Groot, H. Grubmueller, G. Groenhof\n",
      "Quantifying Artifacts in Ewald Simulations of Inhomogeneous Systems with a Net\n",
      "Charge\n",
      "J. Chem. Theory Comput. 10 (2014) pp. 381-393\n",
      "-------- -------- --- Thank You --- -------- --------\n",
      "\n",
      "Analysing residue names:\n",
      "There are:   129    Protein residues\n",
      "There are: 10644      Water residues\n",
      "Analysing Protein...\n",
      "Calculating fourier grid dimensions for X Y Z\n",
      "Using a fourier grid of 60x60x60, spacing 0.117 0.117 0.117\n",
      "This run will generate roughly 3 Mb of data\n",
      "\n",
      "2021-06-23 07:31:31,975 [MainThread  ] [INFO ]                         :-) GROMACS - gmx grompp, 2019 (-:\n",
      "\n",
      "Executable:   /usr/local/gromacs/bin/gmx\n",
      "Data prefix:  /usr/local/gromacs\n",
      "Working dir:  /home/gbayarri_local/projects/BioBB/tutorials/biobb_wf_md_setup/biobb_wf_md_setup/notebooks\n",
      "Command line:\n",
      "  gmx -nobackup -nocopyright grompp -f 2a0bea2e-dec5-4d26-b98c-ec9bfd2276cc/grompp.mdp -c 1AKI_solvate.gro -r 1AKI_solvate.gro -p 59cdbc80-d19c-4132-8627-fb4653bb1bd2/p2g.top -o 1AKI_gppion.tpr -po mdout.mdp -maxwarn 10\n",
      "\n",
      "Setting the LD random seed to -745342150\n",
      "Generated 2145 of the 2145 non-bonded parameter combinations\n",
      "Generating 1-4 interactions: fudge = 0.5\n",
      "Generated 2145 of the 2145 1-4 parameter combinations\n",
      "Excluding 3 bonded neighbours molecule type 'Protein_chain_A'\n",
      "Excluding 2 bonded neighbours molecule type 'SOL'\n",
      "\n",
      "NOTE 1 [file p2g.top, line 18676]:\n",
      "  System has non-zero total charge: 8.000000\n",
      "  Total charge should normally be an integer. See\n",
      "  http://www.gromacs.org/Documentation/Floating_Point_Arithmetic\n",
      "  for discussion on how close it should be to an integer.\n",
      "  \n",
      "\n",
      "\n",
      "\n",
      "WARNING 1 [file p2g.top, line 18676]:\n",
      "  You are using Ewald electrostatics in a system with net charge. This can\n",
      "  lead to severe artifacts, such as ions moving into regions with low\n",
      "  dielectric, due to the uniform background charge. We suggest to\n",
      "  neutralize your system with counter ions, possibly in combination with a\n",
      "  physiological salt concentration.\n",
      "\n",
      "Removing all charge groups because cutoff-scheme=Verlet\n",
      "Number of degrees of freedom in T-Coupling group rest is 69741.00\n",
      "Estimate for the relative computational load of the PME mesh part: 0.24\n",
      "\n",
      "There was 1 note\n",
      "\n",
      "There was 1 warning\n",
      "\n",
      "GROMACS reminds you: \"Check Your Output\" (P. Ahlstrom)\n",
      "\n",
      "\n",
      "2021-06-23 07:31:31,981 [MainThread  ] [INFO ]  Removed: ['mdout.mdp', '59cdbc80-d19c-4132-8627-fb4653bb1bd2', '2a0bea2e-dec5-4d26-b98c-ec9bfd2276cc']\n"
     ]
    },
    {
     "data": {
      "text/plain": [
       "0"
      ]
     },
     "execution_count": 28,
     "metadata": {},
     "output_type": "execute_result"
    }
   ],
   "source": [
    "# Grompp: Creating portable binary run file for ion generation\n",
    "from biobb_gromacs.gromacs.grompp import grompp\n",
    "\n",
    "# Create prop dict and inputs/outputs\n",
    "output_gppion_tpr = pdbCode+'_gppion.tpr'\n",
    "prop = {\n",
    "    'simulation_type': 'minimization'\n",
    "}\n",
    "\n",
    "# Create and launch bb\n",
    "grompp(input_gro_path=output_solvate_gro, \n",
    "       input_top_zip_path=output_solvate_top_zip, \n",
    "       output_tpr_path=output_gppion_tpr,  \n",
    "       properties=prop)"
   ]
  },
  {
   "cell_type": "markdown",
   "metadata": {},
   "source": [
    "<a id=\"ionsStep2\"></a>\n",
    "### Step 2: Adding ions to neutralize the system\n",
    "Replace **solvent molecules** with **ions** to **neutralize** the system."
   ]
  },
  {
   "cell_type": "code",
   "execution_count": 29,
   "metadata": {},
   "outputs": [
    {
     "name": "stdout",
     "output_type": "stream",
     "text": [
      "2021-06-23 07:31:32,026 [MainThread  ] [INFO ]  GROMACS Genion 20190 version detected\n",
      "2021-06-23 07:31:32,031 [MainThread  ] [INFO ]  Extracting: /home/gbayarri_local/projects/BioBB/tutorials/biobb_wf_md_setup/biobb_wf_md_setup/notebooks/1AKI_solvate_top.zip\n",
      "2021-06-23 07:31:32,031 [MainThread  ] [INFO ]  to:\n",
      "2021-06-23 07:31:32,032 [MainThread  ] [INFO ]  ['477df766-3dcc-44ba-abb8-cfaf66894e66/p2g.top', '477df766-3dcc-44ba-abb8-cfaf66894e66/posre.itp']\n",
      "2021-06-23 07:31:32,032 [MainThread  ] [INFO ]  Unzipping: \n",
      "2021-06-23 07:31:32,033 [MainThread  ] [INFO ]  1AKI_solvate_top.zip\n",
      "2021-06-23 07:31:32,033 [MainThread  ] [INFO ]  To: \n",
      "2021-06-23 07:31:32,034 [MainThread  ] [INFO ]  477df766-3dcc-44ba-abb8-cfaf66894e66/p2g.top\n",
      "2021-06-23 07:31:32,034 [MainThread  ] [INFO ]  477df766-3dcc-44ba-abb8-cfaf66894e66/posre.itp\n",
      "2021-06-23 07:31:32,035 [MainThread  ] [INFO ]  To reach up 0.05 mol/litre concentration\n",
      "2021-06-23 07:31:32,035 [MainThread  ] [INFO ]  Not using any container\n",
      "2021-06-23 07:31:32,186 [MainThread  ] [INFO ]  echo \"SOL\" | gmx -nobackup -nocopyright genion -s 1AKI_gppion.tpr -o 1AKI_genion.gro -p 477df766-3dcc-44ba-abb8-cfaf66894e66/p2g.top -neutral -conc 0.05 -seed 1993\n",
      "\n",
      "2021-06-23 07:31:32,187 [MainThread  ] [INFO ]  Exit code 0\n",
      "\n",
      "2021-06-23 07:31:32,188 [MainThread  ] [INFO ]  Will try to add 10 NA ions and 18 CL ions.\n",
      "Select a continuous group of solvent molecules\n",
      "Selected 13: 'SOL'\n",
      "\n",
      "Processing topology\n",
      "Replacing 28 solute molecules in topology file (477df766-3dcc-44ba-abb8-cfaf66894e66/p2g.top)  by 10 NA and 18 CL ions.\n",
      "\n",
      "2021-06-23 07:31:32,189 [MainThread  ] [INFO ]                         :-) GROMACS - gmx genion, 2019 (-:\n",
      "\n",
      "Executable:   /usr/local/gromacs/bin/gmx\n",
      "Data prefix:  /usr/local/gromacs\n",
      "Working dir:  /home/gbayarri_local/projects/BioBB/tutorials/biobb_wf_md_setup/biobb_wf_md_setup/notebooks\n",
      "Command line:\n",
      "  gmx -nobackup -nocopyright genion -s 1AKI_gppion.tpr -o 1AKI_genion.gro -p 477df766-3dcc-44ba-abb8-cfaf66894e66/p2g.top -neutral -conc 0.05 -seed 1993\n",
      "\n",
      "Reading file 1AKI_gppion.tpr, VERSION 2019 (single precision)\n",
      "Reading file 1AKI_gppion.tpr, VERSION 2019 (single precision)\n",
      "Group     0 (         System) has 33892 elements\n",
      "Group     1 (        Protein) has  1960 elements\n",
      "Group     2 (      Protein-H) has  1001 elements\n",
      "Group     3 (        C-alpha) has   129 elements\n",
      "Group     4 (       Backbone) has   387 elements\n",
      "Group     5 (      MainChain) has   517 elements\n",
      "Group     6 (   MainChain+Cb) has   634 elements\n",
      "Group     7 (    MainChain+H) has   646 elements\n",
      "Group     8 (      SideChain) has  1314 elements\n",
      "Group     9 (    SideChain-H) has   484 elements\n",
      "Group    10 (    Prot-Masses) has  1960 elements\n",
      "Group    11 (    non-Protein) has 31932 elements\n",
      "Group    12 (          Water) has 31932 elements\n",
      "Group    13 (            SOL) has 31932 elements\n",
      "Group    14 (      non-Water) has  1960 elements\n",
      "Select a group: Number of (3-atomic) solvent molecules: 10644\n",
      "Using random seed 1993.\n",
      "Replacing solvent molecule 6684 (atom 22012) with NA\n",
      "Replacing solvent molecule 3713 (atom 13099) with NA\n",
      "Replacing solvent molecule 6865 (atom 22555) with NA\n",
      "Replacing solvent molecule 6607 (atom 21781) with NA\n",
      "Replacing solvent molecule 2054 (atom 8122) with NA\n",
      "Replacing solvent molecule 3610 (atom 12790) with NA\n",
      "Replacing solvent molecule 2213 (atom 8599) with NA\n",
      "Replacing solvent molecule 2304 (atom 8872) with NA\n",
      "Replacing solvent molecule 1640 (atom 6880) with NA\n",
      "Replacing solvent molecule 2994 (atom 10942) with NA\n",
      "Replacing solvent molecule 905 (atom 4675) with CL\n",
      "Replacing solvent molecule 9779 (atom 31297) with CL\n",
      "Replacing solvent molecule 9064 (atom 29152) with CL\n",
      "Replacing solvent molecule 4558 (atom 15634) with CL\n",
      "Replacing solvent molecule 1900 (atom 7660) with CL\n",
      "Replacing solvent molecule 7505 (atom 24475) with CL\n",
      "Replacing solvent molecule 9184 (atom 29512) with CL\n",
      "Replacing solvent molecule 5771 (atom 19273) with CL\n",
      "Replacing solvent molecule 2902 (atom 10666) with CL\n",
      "Replacing solvent molecule 2024 (atom 8032) with CL\n",
      "Replacing solvent molecule 8521 (atom 27523) with CL\n",
      "Replacing solvent molecule 909 (atom 4687) with CL\n",
      "Replacing solvent molecule 10104 (atom 32272) with CL\n",
      "Replacing solvent molecule 3869 (atom 13567) with CL\n",
      "Replacing solvent molecule 965 (atom 4855) with CL\n",
      "Replacing solvent molecule 5862 (atom 19546) with CL\n",
      "Replacing solvent molecule 8200 (atom 26560) with CL\n",
      "Replacing solvent molecule 3200 (atom 11560) with CL\n",
      "\n",
      "\n",
      "GROMACS reminds you: \"Inventions have long since reached their limit, and I see no hope for further development.\" (Julius Sextus Frontinus, 1st century A.D.)\n",
      "\n",
      "\n",
      "2021-06-23 07:31:32,190 [MainThread  ] [INFO ]  Compressing topology to: 1AKI_genion_top.zip\n",
      "2021-06-23 07:31:32,191 [MainThread  ] [INFO ]  Ignored file 477df766-3dcc-44ba-abb8-cfaf66894e66/amber99sb-ildn.ff/forcefield.itp\n",
      "2021-06-23 07:31:32,200 [MainThread  ] [INFO ]  Ignored file 477df766-3dcc-44ba-abb8-cfaf66894e66/amber99sb-ildn.ff/spce.itp\n",
      "2021-06-23 07:31:32,201 [MainThread  ] [INFO ]  Ignored file 477df766-3dcc-44ba-abb8-cfaf66894e66/amber99sb-ildn.ff/ions.itp\n",
      "2021-06-23 07:31:32,205 [MainThread  ] [INFO ]  Adding:\n",
      "2021-06-23 07:31:32,206 [MainThread  ] [INFO ]  ['477df766-3dcc-44ba-abb8-cfaf66894e66/p2g.top', '477df766-3dcc-44ba-abb8-cfaf66894e66/posre.itp']\n",
      "2021-06-23 07:31:32,207 [MainThread  ] [INFO ]  to: /home/gbayarri_local/projects/BioBB/tutorials/biobb_wf_md_setup/biobb_wf_md_setup/notebooks/1AKI_genion_top.zip\n",
      "2021-06-23 07:31:32,208 [MainThread  ] [INFO ]  Removed: ['477df766-3dcc-44ba-abb8-cfaf66894e66']\n"
     ]
    },
    {
     "data": {
      "text/plain": [
       "0"
      ]
     },
     "execution_count": 29,
     "metadata": {},
     "output_type": "execute_result"
    }
   ],
   "source": [
    "# Genion: Adding ions to neutralize the system\n",
    "from biobb_gromacs.gromacs.genion import genion\n",
    "\n",
    "# Create prop dict and inputs/outputs\n",
    "output_genion_gro = pdbCode+'_genion.gro'\n",
    "output_genion_top_zip = pdbCode+'_genion_top.zip'\n",
    "prop={\n",
    "    'neutral':True\n",
    "}\n",
    "\n",
    "# Create and launch bb\n",
    "genion(input_tpr_path=output_gppion_tpr, \n",
    "       output_gro_path=output_genion_gro, \n",
    "       input_top_zip_path=output_solvate_top_zip, \n",
    "       output_top_zip_path=output_genion_top_zip, \n",
    "       properties=prop)"
   ]
  },
  {
   "cell_type": "markdown",
   "metadata": {},
   "source": [
    "### Visualizing 3D structure\n",
    "Visualizing the **neutralized protein system** with the newly added **ions** using **NGL**"
   ]
  },
  {
   "cell_type": "code",
   "execution_count": 30,
   "metadata": {
    "scrolled": true
   },
   "outputs": [
    {
     "data": {
      "application/vnd.jupyter.widget-view+json": {
       "model_id": "ed9c60754fbb4abc9703589fcb31cdc0",
       "version_major": 2,
       "version_minor": 0
      },
      "text/plain": [
       "NGLWidget()"
      ]
     },
     "metadata": {},
     "output_type": "display_data"
    }
   ],
   "source": [
    "# Show protein\n",
    "view = nglview.show_structure_file(output_genion_gro)\n",
    "view.clear_representations()\n",
    "view.add_representation(repr_type='cartoon', selection='solute', color='sstruc')\n",
    "view.add_representation(repr_type='ball+stick', selection='NA')\n",
    "view.add_representation(repr_type='ball+stick', selection='CL')\n",
    "view._remote_call('setSize', target='Widget', args=['','600px'])\n",
    "view.camera='orthographic'\n",
    "view"
   ]
  },
  {
   "cell_type": "markdown",
   "metadata": {},
   "source": [
    "<img src='ngl5.png'></img>"
   ]
  },
  {
   "cell_type": "markdown",
   "metadata": {},
   "source": [
    "<a id=\"min\"></a>\n",
    "***\n",
    "## Energetically minimize the system\n",
    "Energetically minimize the **protein system** till reaching a desired potential energy.\n",
    "- [Step 1](#emStep1): Creating portable binary run file for energy minimization\n",
    "- [Step 2](#emStep2): Energetically minimize the **system** till reaching a force of 500 kJ mol-1 nm-1.\n",
    "- [Step 3](#emStep3): Checking **energy minimization** results. Plotting energy by time during the **minimization** process.\n",
    "***\n",
    "**Building Blocks** used:\n",
    " - [Grompp](https://biobb-md.readthedocs.io/en/latest/gromacs.html#module-gromacs.grompp) from **biobb_gromacs.gromacs.grompp** \n",
    " - [Mdrun](https://biobb-md.readthedocs.io/en/latest/gromacs.html#module-gromacs.mdrun) from **biobb_gromacs.gromacs.mdrun** \n",
    " - [GMXEnergy](https://biobb-analysis.readthedocs.io/en/latest/gromacs.html#module-gromacs.gmx_energy) from **biobb_analysis.gromacs.gmx_energy** \n",
    "***"
   ]
  },
  {
   "cell_type": "markdown",
   "metadata": {},
   "source": [
    "<a id=\"emStep1\"></a>\n",
    "### Step 1: Creating portable binary run file for energy minimization\n",
    "The **minimization** type of the **molecular dynamics parameters (mdp) property** contains the main default parameters to run an **energy minimization**:\n",
    "\n",
    "-  integrator  = steep ; Algorithm (steep = steepest descent minimization)\n",
    "-  emtol       = 1000.0 ; Stop minimization when the maximum force < 1000.0 kJ/mol/nm\n",
    "-  emstep      = 0.01 ; Minimization step size (nm)\n",
    "-  nsteps      = 50000 ; Maximum number of (minimization) steps to perform\n",
    "\n",
    "In this particular example, the method used to run the **energy minimization** is the default **steepest descent**, but the **maximum force** is placed at **500 KJ/mol\\*nm^2**, and the **maximum number of steps** to perform (if the maximum force is not reached) to **5,000 steps**. "
   ]
  },
  {
   "cell_type": "code",
   "execution_count": 31,
   "metadata": {},
   "outputs": [
    {
     "name": "stdout",
     "output_type": "stream",
     "text": [
      "2021-06-23 07:31:32,521 [MainThread  ] [INFO ]  GROMACS Grompp 20190 version detected\n",
      "2021-06-23 07:31:32,526 [MainThread  ] [INFO ]  Extracting: /home/gbayarri_local/projects/BioBB/tutorials/biobb_wf_md_setup/biobb_wf_md_setup/notebooks/1AKI_genion_top.zip\n",
      "2021-06-23 07:31:32,527 [MainThread  ] [INFO ]  to:\n",
      "2021-06-23 07:31:32,530 [MainThread  ] [INFO ]  ['18aff72e-a338-4ddd-ace1-77c076b59652/p2g.top', '18aff72e-a338-4ddd-ace1-77c076b59652/posre.itp']\n",
      "2021-06-23 07:31:32,531 [MainThread  ] [INFO ]  Unzipping: \n",
      "2021-06-23 07:31:32,532 [MainThread  ] [INFO ]  1AKI_genion_top.zip\n",
      "2021-06-23 07:31:32,533 [MainThread  ] [INFO ]  To: \n",
      "2021-06-23 07:31:32,533 [MainThread  ] [INFO ]  18aff72e-a338-4ddd-ace1-77c076b59652/p2g.top\n",
      "2021-06-23 07:31:32,534 [MainThread  ] [INFO ]  18aff72e-a338-4ddd-ace1-77c076b59652/posre.itp\n",
      "2021-06-23 07:31:32,535 [MainThread  ] [INFO ]  Not using any container\n",
      "2021-06-23 07:31:32,954 [MainThread  ] [INFO ]  gmx -nobackup -nocopyright grompp -f 9abe032d-e6e4-4f80-bbe7-7604326a768b/grompp.mdp -c 1AKI_genion.gro -r 1AKI_genion.gro -p 18aff72e-a338-4ddd-ace1-77c076b59652/p2g.top -o 1AKI_gppmin.tpr -po mdout.mdp -maxwarn 10\n",
      "\n",
      "2021-06-23 07:31:32,955 [MainThread  ] [INFO ]  Exit code 0\n",
      "\n",
      "2021-06-23 07:31:32,955 [MainThread  ] [INFO ]  Analysing residue names:\n",
      "There are:   129    Protein residues\n",
      "There are: 10616      Water residues\n",
      "There are:    28        Ion residues\n",
      "Analysing Protein...\n",
      "Analysing residues not classified as Protein/DNA/RNA/Water and splitting into groups...\n",
      "Calculating fourier grid dimensions for X Y Z\n",
      "Using a fourier grid of 60x60x60, spacing 0.117 0.117 0.117\n",
      "This run will generate roughly 3 Mb of data\n",
      "\n",
      "2021-06-23 07:31:32,956 [MainThread  ] [INFO ]                         :-) GROMACS - gmx grompp, 2019 (-:\n",
      "\n",
      "Executable:   /usr/local/gromacs/bin/gmx\n",
      "Data prefix:  /usr/local/gromacs\n",
      "Working dir:  /home/gbayarri_local/projects/BioBB/tutorials/biobb_wf_md_setup/biobb_wf_md_setup/notebooks\n",
      "Command line:\n",
      "  gmx -nobackup -nocopyright grompp -f 9abe032d-e6e4-4f80-bbe7-7604326a768b/grompp.mdp -c 1AKI_genion.gro -r 1AKI_genion.gro -p 18aff72e-a338-4ddd-ace1-77c076b59652/p2g.top -o 1AKI_gppmin.tpr -po mdout.mdp -maxwarn 10\n",
      "\n",
      "Setting the LD random seed to -368271847\n",
      "Generated 2145 of the 2145 non-bonded parameter combinations\n",
      "Generating 1-4 interactions: fudge = 0.5\n",
      "Generated 2145 of the 2145 1-4 parameter combinations\n",
      "Excluding 3 bonded neighbours molecule type 'Protein_chain_A'\n",
      "Excluding 2 bonded neighbours molecule type 'SOL'\n",
      "Excluding 1 bonded neighbours molecule type 'NA'\n",
      "Excluding 1 bonded neighbours molecule type 'CL'\n",
      "Removing all charge groups because cutoff-scheme=Verlet\n",
      "Number of degrees of freedom in T-Coupling group rest is 69657.00\n",
      "Estimate for the relative computational load of the PME mesh part: 0.24\n",
      "\n",
      "GROMACS reminds you: \"A professor is one who talks in someone else's sleep.\" (W.H. Auden)\n",
      "\n",
      "\n",
      "2021-06-23 07:31:32,958 [MainThread  ] [INFO ]  Removed: ['mdout.mdp', '18aff72e-a338-4ddd-ace1-77c076b59652', '9abe032d-e6e4-4f80-bbe7-7604326a768b']\n"
     ]
    },
    {
     "data": {
      "text/plain": [
       "0"
      ]
     },
     "execution_count": 31,
     "metadata": {},
     "output_type": "execute_result"
    }
   ],
   "source": [
    "# Grompp: Creating portable binary run file for mdrun\n",
    "from biobb_gromacs.gromacs.grompp import grompp\n",
    "\n",
    "# Create prop dict and inputs/outputs\n",
    "output_gppmin_tpr = pdbCode+'_gppmin.tpr'\n",
    "prop = {\n",
    "    'mdp':{\n",
    "        'emtol':'500',\n",
    "        'nsteps':'5000'\n",
    "    },\n",
    "    'simulation_type': 'minimization'\n",
    "}\n",
    "\n",
    "# Create and launch bb\n",
    "grompp(input_gro_path=output_genion_gro, \n",
    "       input_top_zip_path=output_genion_top_zip, \n",
    "       output_tpr_path=output_gppmin_tpr,  \n",
    "       properties=prop)"
   ]
  },
  {
   "cell_type": "markdown",
   "metadata": {},
   "source": [
    "<a id=\"emStep2\"></a>\n",
    "### Step 2: Running Energy Minimization\n",
    "Running **energy minimization** using the **tpr file** generated in the previous step. "
   ]
  },
  {
   "cell_type": "code",
   "execution_count": 32,
   "metadata": {},
   "outputs": [
    {
     "name": "stdout",
     "output_type": "stream",
     "text": [
      "2021-06-23 07:31:32,993 [MainThread  ] [INFO ]  GROMACS Mdrun 20190 version detected\n",
      "2021-06-23 07:31:32,994 [MainThread  ] [INFO ]  Not using any container\n",
      "2021-06-23 07:33:47,475 [MainThread  ] [INFO ]  gmx -nobackup -nocopyright mdrun -s 1AKI_gppmin.tpr -o 1AKI_min.trr -c 1AKI_min.gro -e 1AKI_min.edr -g 1AKI_min.log\n",
      "\n",
      "2021-06-23 07:33:47,476 [MainThread  ] [INFO ]  Exit code 0\n",
      "\n",
      "2021-06-23 07:33:47,477 [MainThread  ] [INFO ]                         :-) GROMACS - gmx mdrun, 2019 (-:\n",
      "\n",
      "Executable:   /usr/local/gromacs/bin/gmx\n",
      "Data prefix:  /usr/local/gromacs\n",
      "Working dir:  /home/gbayarri_local/projects/BioBB/tutorials/biobb_wf_md_setup/biobb_wf_md_setup/notebooks\n",
      "Command line:\n",
      "  gmx -nobackup -nocopyright mdrun -s 1AKI_gppmin.tpr -o 1AKI_min.trr -c 1AKI_min.gro -e 1AKI_min.edr -g 1AKI_min.log\n",
      "\n",
      "Reading file 1AKI_gppmin.tpr, VERSION 2019 (single precision)\n",
      "Using 1 MPI thread\n",
      "Using 8 OpenMP threads \n",
      "\n",
      "\n",
      "Steepest Descents:\n",
      "   Tolerance (Fmax)   =  5.00000e+02\n",
      "   Number of steps    =         5000\n",
      "\n",
      "writing lowest energy coordinates.\n",
      "\n",
      "Steepest Descents converged to Fmax < 500 in 2493 steps\n",
      "Potential Energy  = -6.0298525e+05\n",
      "Maximum force     =  4.4493021e+02 on atom 1958\n",
      "Norm of force     =  1.0284037e+01\n",
      "\n",
      "GROMACS reminds you: \"If it weren't for bad luck, we'd have no luck at all\" (The Unthanks)\n",
      "\n",
      "\n",
      "2021-06-23 07:33:47,478 [MainThread  ] [INFO ]  Removed: []\n"
     ]
    },
    {
     "data": {
      "text/plain": [
       "0"
      ]
     },
     "execution_count": 32,
     "metadata": {},
     "output_type": "execute_result"
    }
   ],
   "source": [
    "# Mdrun: Running minimization\n",
    "from biobb_gromacs.gromacs.mdrun import mdrun\n",
    "\n",
    "# Create prop dict and inputs/outputs\n",
    "output_min_trr = pdbCode+'_min.trr'\n",
    "output_min_gro = pdbCode+'_min.gro'\n",
    "output_min_edr = pdbCode+'_min.edr'\n",
    "output_min_log = pdbCode+'_min.log'\n",
    "\n",
    "# Create and launch bb\n",
    "mdrun(input_tpr_path=output_gppmin_tpr, \n",
    "      output_trr_path=output_min_trr, \n",
    "      output_gro_path=output_min_gro, \n",
    "      output_edr_path=output_min_edr, \n",
    "      output_log_path=output_min_log)"
   ]
  },
  {
   "cell_type": "markdown",
   "metadata": {},
   "source": [
    "<a id=\"emStep3\"></a>\n",
    "### Step 3: Checking Energy Minimization results\n",
    "Checking **energy minimization** results. Plotting **potential energy** by time during the minimization process. "
   ]
  },
  {
   "cell_type": "code",
   "execution_count": 33,
   "metadata": {},
   "outputs": [
    {
     "name": "stdout",
     "output_type": "stream",
     "text": [
      "2021-06-23 07:33:47,502 [MainThread  ] [INFO ]  Not using any container\n",
      "2021-06-23 07:33:47,532 [MainThread  ] [INFO ]  gmx energy -f /home/gbayarri_local/projects/BioBB/tutorials/biobb_wf_md_setup/biobb_wf_md_setup/notebooks/1AKI_min.edr -o 1AKI_min_ene.xvg -xvg none < 33c49c25-632e-4fde-bc40-6e482ff2ce92/instructions.in\n",
      "\n",
      "2021-06-23 07:33:47,534 [MainThread  ] [INFO ]  Exit code 0\n",
      "\n",
      "2021-06-23 07:33:47,534 [MainThread  ] [INFO ]  \n",
      "Statistics over 2493 steps [ 0.0000 through 2492.0000 ps ], 1 data sets\n",
      "All statistics are over 1973 points (frames)\n",
      "\n",
      "Energy                      Average   Err.Est.       RMSD  Tot-Drift\n",
      "-------------------------------------------------------------------------------\n",
      "Potential                   -585877       9000    22960.4   -58712.9  (kJ/mol)\n",
      "\n",
      "2021-06-23 07:33:47,537 [MainThread  ] [INFO ]                         :-) GROMACS - gmx energy, 2019 (-:\n",
      "\n",
      "                            GROMACS is written by:\n",
      "     Emile Apol      Rossen Apostolov      Paul Bauer     Herman J.C. Berendsen\n",
      "    Par Bjelkmar      Christian Blau   Viacheslav Bolnykh     Kevin Boyd    \n",
      " Aldert van Buuren   Rudi van Drunen     Anton Feenstra       Alan Gray     \n",
      "  Gerrit Groenhof     Anca Hamuraru    Vincent Hindriksen  M. Eric Irrgang  \n",
      "  Aleksei Iupinov   Christoph Junghans     Joe Jordan     Dimitrios Karkoulis\n",
      "    Peter Kasson        Jiri Kraus      Carsten Kutzner      Per Larsson    \n",
      "  Justin A. Lemkul    Viveca Lindahl    Magnus Lundborg     Erik Marklund   \n",
      "    Pascal Merz     Pieter Meulenhoff    Teemu Murtola       Szilard Pall   \n",
      "    Sander Pronk      Roland Schulz      Michael Shirts    Alexey Shvetsov  \n",
      "   Alfons Sijbers     Peter Tieleman      Jon Vincent      Teemu Virolainen \n",
      " Christian Wennberg    Maarten Wolf   \n",
      "                           and the project leaders:\n",
      "        Mark Abraham, Berk Hess, Erik Lindahl, and David van der Spoel\n",
      "\n",
      "Copyright (c) 1991-2000, University of Groningen, The Netherlands.\n",
      "Copyright (c) 2001-2018, The GROMACS development team at\n",
      "Uppsala University, Stockholm University and\n",
      "the Royal Institute of Technology, Sweden.\n",
      "check out http://www.gromacs.org for more information.\n",
      "\n",
      "GROMACS is free software; you can redistribute it and/or modify it\n",
      "under the terms of the GNU Lesser General Public License\n",
      "as published by the Free Software Foundation; either version 2.1\n",
      "of the License, or (at your option) any later version.\n",
      "\n",
      "GROMACS:      gmx energy, version 2019\n",
      "Executable:   /usr/local/gromacs/bin/gmx\n",
      "Data prefix:  /usr/local/gromacs\n",
      "Working dir:  /home/gbayarri_local/projects/BioBB/tutorials/biobb_wf_md_setup/biobb_wf_md_setup/notebooks\n",
      "Command line:\n",
      "  gmx energy -f /home/gbayarri_local/projects/BioBB/tutorials/biobb_wf_md_setup/biobb_wf_md_setup/notebooks/1AKI_min.edr -o 1AKI_min_ene.xvg -xvg none\n",
      "\n",
      "Opened /home/gbayarri_local/projects/BioBB/tutorials/biobb_wf_md_setup/biobb_wf_md_setup/notebooks/1AKI_min.edr as single precision energy file\n",
      "\n",
      "Select the terms you want from the following list by\n",
      "selecting either (part of) the name or the number or a combination.\n",
      "End your selection with an empty line or a zero.\n",
      "-------------------------------------------------------------------\n",
      "  1  Bond             2  Angle            3  Proper-Dih.      4  Improper-Dih. \n",
      "  5  LJ-14            6  Coulomb-14       7  LJ-(SR)          8  Coulomb-(SR)  \n",
      "  9  Coul.-recip.    10  Position-Rest.  11  Potential       12  Pressure      \n",
      " 13  Vir-XX          14  Vir-XY          15  Vir-XZ          16  Vir-YX        \n",
      " 17  Vir-YY          18  Vir-YZ          19  Vir-ZX          20  Vir-ZY        \n",
      " 21  Vir-ZZ          22  Pres-XX         23  Pres-XY         24  Pres-XZ       \n",
      " 25  Pres-YX         26  Pres-YY         27  Pres-YZ         28  Pres-ZX       \n",
      " 29  Pres-ZY         30  Pres-ZZ         31  #Surf*SurfTen   32  T-rest        \n",
      "\n",
      "\n",
      "Back Off! I just backed up 1AKI_min_ene.xvg to ./#1AKI_min_ene.xvg.7#\n",
      "Last energy frame read 1972 time 2492.000         \n",
      "\n",
      "GROMACS reminds you: \"Water is just water\" (Berk Hess)\n",
      "\n",
      "\n",
      "2021-06-23 07:33:47,547 [MainThread  ] [INFO ]  Removed: [PurePosixPath('33c49c25-632e-4fde-bc40-6e482ff2ce92')]\n"
     ]
    },
    {
     "data": {
      "text/plain": [
       "0"
      ]
     },
     "execution_count": 33,
     "metadata": {},
     "output_type": "execute_result"
    }
   ],
   "source": [
    "# GMXEnergy: Getting system energy by time  \n",
    "from biobb_analysis.gromacs.gmx_energy import gmx_energy\n",
    "\n",
    "# Create prop dict and inputs/outputs\n",
    "output_min_ene_xvg = pdbCode+'_min_ene.xvg'\n",
    "prop = {\n",
    "    'terms':  [\"Potential\"]\n",
    "}\n",
    "\n",
    "# Create and launch bb\n",
    "gmx_energy(input_energy_path=output_min_edr, \n",
    "          output_xvg_path=output_min_ene_xvg, \n",
    "          properties=prop)"
   ]
  },
  {
   "cell_type": "code",
   "execution_count": 34,
   "metadata": {},
   "outputs": [
    {
     "data": {
      "text/html": [
       "        <script type=\"text/javascript\">\n",
       "        window.PlotlyConfig = {MathJaxConfig: 'local'};\n",
       "        if (window.MathJax) {MathJax.Hub.Config({SVG: {font: \"STIX-Web\"}});}\n",
       "        if (typeof require !== 'undefined') {\n",
       "        require.undef(\"plotly\");\n",
       "        requirejs.config({\n",
       "            paths: {\n",
       "                'plotly': ['https://cdn.plot.ly/plotly-latest.min']\n",
       "            }\n",
       "        });\n",
       "        require(['plotly'], function(Plotly) {\n",
       "            window._Plotly = Plotly;\n",
       "        });\n",
       "        }\n",
       "        </script>\n",
       "        "
      ]
     },
     "metadata": {},
     "output_type": "display_data"
    },
    {
     "data": {
      "application/vnd.plotly.v1+json": {
       "config": {
        "linkText": "Export to plot.ly",
        "plotlyServerURL": "https://plot.ly",
        "showLink": false
       },
       "data": [
        {
         "type": "scatter",
         "x": [
          0,
          1,
          2,
          3,
          4,
          5,
          6,
          7,
          8,
          9,
          11,
          12,
          13,
          15,
          16,
          17,
          18,
          19,
          21,
          22,
          23,
          25,
          26,
          27,
          28,
          29,
          31,
          33,
          34,
          35,
          36,
          38,
          39,
          40,
          42,
          43,
          44,
          45,
          46,
          48,
          49,
          50,
          52,
          53,
          54,
          55,
          56,
          58,
          59,
          60,
          62,
          63,
          64,
          65,
          67,
          68,
          69,
          71,
          72,
          73,
          74,
          75,
          77,
          78,
          79,
          81,
          82,
          83,
          84,
          86,
          87,
          88,
          90,
          91,
          92,
          93,
          95,
          96,
          97,
          99,
          100,
          101,
          102,
          104,
          105,
          106,
          108,
          109,
          110,
          111,
          112,
          114,
          115,
          116,
          118,
          119,
          120,
          121,
          123,
          124,
          125,
          127,
          128,
          129,
          130,
          132,
          133,
          134,
          136,
          137,
          138,
          139,
          140,
          141,
          143,
          144,
          145,
          147,
          148,
          149,
          150,
          152,
          153,
          154,
          156,
          157,
          158,
          159,
          160,
          162,
          163,
          164,
          166,
          167,
          168,
          169,
          171,
          172,
          173,
          175,
          176,
          177,
          178,
          180,
          181,
          182,
          184,
          185,
          186,
          187,
          189,
          190,
          191,
          193,
          194,
          195,
          196,
          197,
          198,
          200,
          202,
          203,
          204,
          205,
          207,
          208,
          209,
          211,
          212,
          213,
          215,
          216,
          217,
          218,
          219,
          221,
          222,
          223,
          225,
          226,
          227,
          228,
          229,
          231,
          232,
          233,
          235,
          236,
          237,
          238,
          239,
          241,
          242,
          243,
          245,
          246,
          247,
          248,
          249,
          251,
          252,
          253,
          255,
          256,
          257,
          258,
          259,
          261,
          262,
          263,
          265,
          266,
          267,
          268,
          269,
          271,
          272,
          273,
          275,
          276,
          277,
          278,
          280,
          281,
          282,
          284,
          285,
          286,
          287,
          289,
          290,
          291,
          293,
          294,
          295,
          296,
          297,
          299,
          300,
          301,
          303,
          304,
          305,
          306,
          307,
          309,
          310,
          311,
          313,
          314,
          315,
          316,
          317,
          319,
          320,
          321,
          323,
          324,
          325,
          326,
          328,
          329,
          330,
          332,
          333,
          334,
          335,
          337,
          338,
          339,
          341,
          342,
          343,
          344,
          345,
          347,
          348,
          349,
          351,
          352,
          353,
          354,
          355,
          357,
          358,
          359,
          361,
          362,
          363,
          364,
          366,
          367,
          368,
          370,
          371,
          372,
          373,
          375,
          376,
          377,
          379,
          380,
          381,
          382,
          383,
          384,
          386,
          387,
          388,
          390,
          391,
          392,
          393,
          395,
          396,
          397,
          399,
          400,
          401,
          402,
          403,
          405,
          406,
          407,
          409,
          410,
          411,
          412,
          414,
          415,
          416,
          418,
          419,
          420,
          421,
          422,
          423,
          425,
          427,
          428,
          429,
          430,
          432,
          433,
          434,
          436,
          437,
          438,
          440,
          441,
          442,
          443,
          444,
          446,
          447,
          448,
          450,
          451,
          452,
          453,
          454,
          455,
          456,
          458,
          459,
          460,
          462,
          463,
          464,
          465,
          467,
          468,
          469,
          471,
          472,
          473,
          474,
          475,
          477,
          478,
          479,
          481,
          482,
          483,
          484,
          486,
          487,
          488,
          490,
          491,
          492,
          493,
          495,
          496,
          497,
          499,
          500,
          501,
          502,
          503,
          505,
          506,
          507,
          509,
          510,
          511,
          512,
          513,
          515,
          516,
          517,
          519,
          520,
          521,
          522,
          524,
          525,
          526,
          528,
          529,
          530,
          531,
          533,
          534,
          535,
          537,
          538,
          539,
          540,
          541,
          543,
          544,
          545,
          547,
          548,
          549,
          550,
          551,
          553,
          554,
          555,
          557,
          558,
          559,
          560,
          561,
          563,
          564,
          565,
          567,
          568,
          569,
          570,
          572,
          573,
          574,
          576,
          577,
          578,
          579,
          581,
          582,
          583,
          585,
          586,
          587,
          588,
          589,
          591,
          592,
          593,
          595,
          596,
          597,
          598,
          599,
          601,
          602,
          603,
          605,
          606,
          607,
          608,
          610,
          611,
          612,
          614,
          615,
          616,
          617,
          619,
          620,
          621,
          623,
          624,
          625,
          626,
          627,
          629,
          630,
          631,
          633,
          634,
          635,
          636,
          637,
          639,
          640,
          641,
          643,
          644,
          645,
          646,
          648,
          649,
          650,
          652,
          653,
          654,
          655,
          657,
          658,
          659,
          661,
          662,
          663,
          664,
          665,
          666,
          668,
          669,
          670,
          672,
          673,
          675,
          676,
          677,
          679,
          680,
          681,
          682,
          683,
          685,
          686,
          687,
          689,
          690,
          691,
          692,
          693,
          694,
          695,
          697,
          699,
          700,
          701,
          702,
          704,
          705,
          706,
          708,
          709,
          710,
          711,
          712,
          714,
          715,
          716,
          718,
          719,
          720,
          721,
          722,
          724,
          725,
          726,
          728,
          729,
          730,
          731,
          732,
          733,
          735,
          736,
          737,
          739,
          740,
          741,
          742,
          744,
          745,
          746,
          748,
          749,
          750,
          751,
          753,
          754,
          755,
          757,
          758,
          759,
          760,
          761,
          763,
          764,
          765,
          767,
          768,
          769,
          770,
          772,
          773,
          774,
          776,
          777,
          778,
          779,
          781,
          782,
          783,
          785,
          786,
          787,
          788,
          789,
          790,
          792,
          793,
          794,
          796,
          797,
          798,
          799,
          801,
          802,
          803,
          805,
          806,
          807,
          808,
          809,
          811,
          812,
          813,
          815,
          816,
          817,
          818,
          820,
          821,
          822,
          824,
          825,
          826,
          827,
          829,
          830,
          831,
          833,
          834,
          835,
          836,
          837,
          839,
          840,
          841,
          843,
          844,
          845,
          846,
          847,
          849,
          850,
          851,
          853,
          854,
          855,
          856,
          858,
          859,
          860,
          862,
          863,
          864,
          865,
          867,
          868,
          869,
          871,
          872,
          873,
          874,
          875,
          876,
          878,
          879,
          880,
          882,
          883,
          885,
          886,
          887,
          889,
          890,
          891,
          892,
          893,
          895,
          896,
          897,
          899,
          900,
          901,
          902,
          903,
          905,
          906,
          907,
          909,
          910,
          911,
          912,
          913,
          914,
          915,
          917,
          919,
          920,
          921,
          922,
          924,
          925,
          926,
          928,
          929,
          930,
          931,
          932,
          934,
          935,
          936,
          938,
          939,
          940,
          941,
          942,
          944,
          945,
          946,
          948,
          949,
          950,
          951,
          952,
          953,
          955,
          956,
          957,
          959,
          960,
          961,
          962,
          964,
          965,
          966,
          968,
          969,
          970,
          971,
          973,
          974,
          975,
          977,
          978,
          979,
          980,
          981,
          983,
          984,
          985,
          987,
          988,
          989,
          990,
          992,
          993,
          994,
          996,
          997,
          998,
          999,
          1001,
          1002,
          1003,
          1005,
          1006,
          1007,
          1008,
          1009,
          1011,
          1012,
          1013,
          1015,
          1016,
          1017,
          1018,
          1019,
          1021,
          1022,
          1023,
          1025,
          1026,
          1027,
          1028,
          1030,
          1031,
          1032,
          1034,
          1035,
          1036,
          1037,
          1039,
          1040,
          1041,
          1043,
          1044,
          1045,
          1046,
          1047,
          1048,
          1049,
          1051,
          1053,
          1054,
          1055,
          1056,
          1058,
          1059,
          1060,
          1062,
          1063,
          1064,
          1065,
          1066,
          1068,
          1069,
          1070,
          1072,
          1073,
          1074,
          1075,
          1076,
          1078,
          1079,
          1080,
          1082,
          1083,
          1084,
          1085,
          1086,
          1087,
          1089,
          1091,
          1092,
          1093,
          1094,
          1096,
          1097,
          1098,
          1100,
          1101,
          1102,
          1103,
          1104,
          1106,
          1107,
          1108,
          1110,
          1111,
          1112,
          1113,
          1114,
          1116,
          1117,
          1118,
          1120,
          1121,
          1122,
          1123,
          1124,
          1125,
          1127,
          1128,
          1129,
          1131,
          1132,
          1133,
          1134,
          1135,
          1137,
          1138,
          1139,
          1141,
          1142,
          1143,
          1144,
          1146,
          1147,
          1148,
          1150,
          1151,
          1152,
          1153,
          1155,
          1156,
          1157,
          1159,
          1160,
          1161,
          1162,
          1163,
          1165,
          1166,
          1167,
          1169,
          1170,
          1171,
          1172,
          1174,
          1175,
          1176,
          1178,
          1179,
          1180,
          1181,
          1183,
          1184,
          1185,
          1187,
          1188,
          1189,
          1190,
          1191,
          1193,
          1194,
          1195,
          1197,
          1198,
          1199,
          1200,
          1201,
          1203,
          1204,
          1205,
          1207,
          1208,
          1209,
          1210,
          1212,
          1213,
          1214,
          1216,
          1217,
          1218,
          1219,
          1221,
          1222,
          1223,
          1225,
          1226,
          1227,
          1228,
          1229,
          1231,
          1232,
          1233,
          1235,
          1236,
          1237,
          1238,
          1239,
          1240,
          1242,
          1243,
          1244,
          1246,
          1247,
          1249,
          1250,
          1251,
          1253,
          1254,
          1255,
          1256,
          1257,
          1259,
          1260,
          1261,
          1263,
          1264,
          1265,
          1266,
          1267,
          1269,
          1270,
          1271,
          1273,
          1274,
          1275,
          1276,
          1277,
          1279,
          1280,
          1281,
          1283,
          1284,
          1285,
          1286,
          1287,
          1288,
          1290,
          1291,
          1292,
          1294,
          1295,
          1297,
          1298,
          1299,
          1301,
          1302,
          1303,
          1304,
          1305,
          1307,
          1308,
          1309,
          1311,
          1312,
          1313,
          1314,
          1315,
          1317,
          1318,
          1319,
          1321,
          1322,
          1323,
          1324,
          1325,
          1327,
          1328,
          1329,
          1331,
          1332,
          1333,
          1334,
          1335,
          1336,
          1338,
          1339,
          1340,
          1342,
          1343,
          1345,
          1346,
          1347,
          1349,
          1350,
          1351,
          1352,
          1353,
          1355,
          1356,
          1357,
          1359,
          1360,
          1361,
          1362,
          1363,
          1365,
          1366,
          1367,
          1369,
          1370,
          1371,
          1372,
          1373,
          1375,
          1376,
          1377,
          1379,
          1380,
          1381,
          1382,
          1383,
          1384,
          1386,
          1387,
          1388,
          1390,
          1391,
          1393,
          1394,
          1395,
          1397,
          1398,
          1399,
          1400,
          1401,
          1403,
          1404,
          1405,
          1407,
          1408,
          1409,
          1410,
          1411,
          1413,
          1414,
          1415,
          1417,
          1418,
          1419,
          1420,
          1421,
          1422,
          1424,
          1425,
          1426,
          1428,
          1429,
          1431,
          1432,
          1433,
          1435,
          1436,
          1437,
          1438,
          1439,
          1441,
          1442,
          1443,
          1445,
          1446,
          1447,
          1448,
          1449,
          1451,
          1452,
          1453,
          1455,
          1456,
          1457,
          1458,
          1459,
          1461,
          1462,
          1463,
          1465,
          1466,
          1467,
          1468,
          1469,
          1470,
          1472,
          1473,
          1474,
          1476,
          1477,
          1479,
          1480,
          1481,
          1483,
          1484,
          1485,
          1486,
          1487,
          1489,
          1490,
          1491,
          1493,
          1494,
          1495,
          1496,
          1497,
          1499,
          1500,
          1501,
          1503,
          1504,
          1505,
          1506,
          1507,
          1509,
          1510,
          1511,
          1513,
          1514,
          1515,
          1516,
          1517,
          1518,
          1520,
          1521,
          1522,
          1524,
          1525,
          1527,
          1528,
          1529,
          1531,
          1532,
          1533,
          1534,
          1535,
          1537,
          1538,
          1539,
          1541,
          1542,
          1543,
          1544,
          1545,
          1547,
          1548,
          1549,
          1551,
          1552,
          1553,
          1554,
          1555,
          1557,
          1558,
          1559,
          1561,
          1562,
          1563,
          1564,
          1565,
          1566,
          1568,
          1569,
          1570,
          1572,
          1573,
          1575,
          1576,
          1577,
          1579,
          1580,
          1581,
          1582,
          1583,
          1585,
          1586,
          1587,
          1589,
          1590,
          1591,
          1592,
          1593,
          1595,
          1596,
          1597,
          1599,
          1600,
          1601,
          1602,
          1603,
          1605,
          1606,
          1607,
          1609,
          1610,
          1611,
          1612,
          1613,
          1614,
          1616,
          1617,
          1618,
          1620,
          1621,
          1623,
          1624,
          1625,
          1627,
          1628,
          1629,
          1630,
          1631,
          1633,
          1634,
          1635,
          1637,
          1638,
          1639,
          1640,
          1641,
          1643,
          1644,
          1645,
          1647,
          1648,
          1649,
          1650,
          1651,
          1653,
          1654,
          1655,
          1657,
          1658,
          1659,
          1660,
          1661,
          1662,
          1664,
          1666,
          1667,
          1668,
          1669,
          1671,
          1672,
          1673,
          1675,
          1676,
          1677,
          1679,
          1680,
          1681,
          1682,
          1683,
          1684,
          1685,
          1687,
          1688,
          1689,
          1691,
          1692,
          1693,
          1694,
          1696,
          1697,
          1698,
          1700,
          1701,
          1702,
          1703,
          1704,
          1706,
          1707,
          1708,
          1710,
          1711,
          1712,
          1713,
          1715,
          1716,
          1717,
          1719,
          1720,
          1721,
          1722,
          1724,
          1725,
          1726,
          1728,
          1729,
          1730,
          1731,
          1732,
          1733,
          1734,
          1736,
          1738,
          1739,
          1740,
          1741,
          1743,
          1744,
          1745,
          1747,
          1748,
          1749,
          1750,
          1751,
          1753,
          1754,
          1755,
          1757,
          1758,
          1759,
          1760,
          1761,
          1763,
          1764,
          1765,
          1767,
          1768,
          1769,
          1770,
          1771,
          1772,
          1774,
          1776,
          1777,
          1778,
          1779,
          1781,
          1782,
          1783,
          1785,
          1786,
          1787,
          1788,
          1789,
          1791,
          1792,
          1793,
          1795,
          1796,
          1797,
          1798,
          1799,
          1801,
          1802,
          1803,
          1805,
          1806,
          1807,
          1808,
          1809,
          1810,
          1812,
          1813,
          1814,
          1816,
          1817,
          1818,
          1819,
          1821,
          1822,
          1823,
          1825,
          1826,
          1827,
          1828,
          1830,
          1831,
          1832,
          1834,
          1835,
          1836,
          1837,
          1838,
          1840,
          1841,
          1842,
          1844,
          1845,
          1846,
          1847,
          1848,
          1850,
          1851,
          1852,
          1854,
          1855,
          1856,
          1857,
          1859,
          1860,
          1861,
          1863,
          1864,
          1865,
          1866,
          1868,
          1869,
          1870,
          1872,
          1873,
          1874,
          1875,
          1876,
          1877,
          1879,
          1880,
          1881,
          1883,
          1884,
          1886,
          1887,
          1888,
          1890,
          1891,
          1892,
          1893,
          1894,
          1896,
          1897,
          1898,
          1900,
          1901,
          1902,
          1903,
          1904,
          1906,
          1907,
          1908,
          1910,
          1911,
          1912,
          1913,
          1914,
          1915,
          1916,
          1918,
          1920,
          1921,
          1922,
          1923,
          1925,
          1926,
          1927,
          1929,
          1930,
          1931,
          1932,
          1933,
          1935,
          1936,
          1937,
          1939,
          1940,
          1941,
          1942,
          1943,
          1945,
          1946,
          1947,
          1949,
          1950,
          1951,
          1952,
          1953,
          1954,
          1956,
          1957,
          1958,
          1960,
          1961,
          1962,
          1963,
          1965,
          1966,
          1967,
          1969,
          1970,
          1971,
          1972,
          1974,
          1975,
          1976,
          1978,
          1979,
          1980,
          1981,
          1982,
          1984,
          1985,
          1986,
          1988,
          1989,
          1990,
          1991,
          1993,
          1994,
          1995,
          1997,
          1998,
          1999,
          2000,
          2002,
          2003,
          2004,
          2006,
          2007,
          2008,
          2009,
          2010,
          2011,
          2012,
          2014,
          2016,
          2017,
          2018,
          2019,
          2021,
          2022,
          2023,
          2025,
          2026,
          2027,
          2028,
          2029,
          2031,
          2032,
          2033,
          2035,
          2036,
          2037,
          2038,
          2039,
          2041,
          2042,
          2043,
          2045,
          2046,
          2047,
          2048,
          2049,
          2051,
          2052,
          2053,
          2055,
          2056,
          2057,
          2058,
          2060,
          2061,
          2062,
          2064,
          2065,
          2066,
          2067,
          2068,
          2070,
          2071,
          2072,
          2074,
          2075,
          2076,
          2077,
          2078,
          2080,
          2081,
          2082,
          2084,
          2085,
          2086,
          2087,
          2089,
          2090,
          2091,
          2093,
          2094,
          2095,
          2096,
          2097,
          2098,
          2100,
          2101,
          2102,
          2104,
          2105,
          2106,
          2107,
          2109,
          2110,
          2111,
          2113,
          2114,
          2115,
          2116,
          2118,
          2119,
          2120,
          2122,
          2123,
          2124,
          2125,
          2126,
          2128,
          2129,
          2130,
          2132,
          2133,
          2134,
          2135,
          2137,
          2138,
          2139,
          2141,
          2142,
          2143,
          2144,
          2146,
          2147,
          2148,
          2150,
          2151,
          2152,
          2153,
          2154,
          2155,
          2157,
          2158,
          2159,
          2161,
          2162,
          2163,
          2164,
          2166,
          2167,
          2168,
          2170,
          2171,
          2172,
          2173,
          2174,
          2176,
          2177,
          2178,
          2180,
          2181,
          2182,
          2183,
          2185,
          2186,
          2187,
          2189,
          2190,
          2191,
          2192,
          2194,
          2195,
          2196,
          2198,
          2199,
          2200,
          2201,
          2202,
          2203,
          2205,
          2206,
          2207,
          2209,
          2210,
          2212,
          2213,
          2214,
          2216,
          2217,
          2218,
          2219,
          2220,
          2222,
          2223,
          2224,
          2226,
          2227,
          2228,
          2229,
          2230,
          2231,
          2232,
          2234,
          2235,
          2236,
          2238,
          2239,
          2240,
          2241,
          2243,
          2244,
          2245,
          2247,
          2248,
          2249,
          2250,
          2252,
          2253,
          2254,
          2256,
          2257,
          2258,
          2259,
          2260,
          2262,
          2263,
          2264,
          2266,
          2267,
          2268,
          2269,
          2271,
          2272,
          2273,
          2275,
          2276,
          2277,
          2278,
          2279,
          2280,
          2282,
          2284,
          2285,
          2286,
          2287,
          2289,
          2290,
          2291,
          2293,
          2294,
          2295,
          2296,
          2297,
          2299,
          2300,
          2301,
          2303,
          2304,
          2305,
          2306,
          2307,
          2309,
          2310,
          2311,
          2313,
          2314,
          2315,
          2316,
          2317,
          2318,
          2320,
          2321,
          2322,
          2324,
          2325,
          2326,
          2327,
          2329,
          2330,
          2331,
          2333,
          2334,
          2335,
          2336,
          2338,
          2339,
          2340,
          2342,
          2343,
          2344,
          2345,
          2346,
          2347,
          2349,
          2350,
          2351,
          2353,
          2354,
          2356,
          2357,
          2358,
          2360,
          2361,
          2362,
          2363,
          2364,
          2365,
          2366,
          2368,
          2369,
          2370,
          2372,
          2373,
          2374,
          2375,
          2377,
          2378,
          2379,
          2381,
          2382,
          2383,
          2384,
          2386,
          2387,
          2388,
          2390,
          2391,
          2392,
          2393,
          2394,
          2396,
          2397,
          2398,
          2400,
          2401,
          2402,
          2403,
          2405,
          2406,
          2407,
          2409,
          2410,
          2411,
          2412,
          2413,
          2414,
          2416,
          2417,
          2418,
          2420,
          2421,
          2422,
          2423,
          2425,
          2426,
          2427,
          2429,
          2430,
          2431,
          2432,
          2434,
          2435,
          2436,
          2438,
          2439,
          2440,
          2441,
          2442,
          2444,
          2445,
          2446,
          2448,
          2449,
          2450,
          2451,
          2453,
          2454,
          2455,
          2457,
          2458,
          2459,
          2460,
          2461,
          2462,
          2464,
          2465,
          2466,
          2468,
          2469,
          2470,
          2471,
          2473,
          2474,
          2475,
          2477,
          2478,
          2479,
          2480,
          2482,
          2483,
          2484,
          2486,
          2487,
          2488,
          2489,
          2490,
          2492
         ],
         "y": [
          -327613.5625,
          -347307.46875,
          -371488.8125,
          -400073.125,
          -427774.75,
          -452045.5,
          -457292.53125,
          -461901.71875,
          -463965.46875,
          -467420.90625,
          -472347.84375,
          -473179.625,
          -479741.0625,
          -482195.53125,
          -483605.3125,
          -485771.4375,
          -486203.875,
          -487951.90625,
          -491241.09375,
          -491570.78125,
          -496080.5625,
          -497213.21875,
          -497915.6875,
          -498763.46875,
          -498799.15625,
          -499046.28125,
          -503262.40625,
          -504593,
          -505915.8125,
          -506156,
          -507576.65625,
          -508785.875,
          -509318.46875,
          -510724.90625,
          -511570.375,
          -512163.8125,
          -513049.4375,
          -513198.59375,
          -514060.0625,
          -515346.625,
          -515770.25,
          -517365.96875,
          -517970.875,
          -518393.28125,
          -518940.53125,
          -519113.65625,
          -519503,
          -520976.96875,
          -521470.0625,
          -523376.15625,
          -523768.4375,
          -524160.4375,
          -524392.6875,
          -524642.6875,
          -525842.0625,
          -526627.125,
          -528135,
          -528466.625,
          -528805,
          -529019.625,
          -529234.625,
          -529243.1875,
          -530580.75,
          -531360.9375,
          -533037.75,
          -533258.375,
          -533530.25,
          -533616,
          -533754.125,
          -534759.5625,
          -534983.1875,
          -536371.75,
          -536556.0625,
          -536813.875,
          -536877.375,
          -537045.6875,
          -537866.625,
          -538099.625,
          -539175.625,
          -539363.5,
          -539598,
          -539684.0625,
          -539870.875,
          -540482.5625,
          -540770.0625,
          -541525.375,
          -541729.1875,
          -541909.6875,
          -542070.5,
          -542177,
          -542256.75,
          -542923.5,
          -543345.375,
          -544165.75,
          -544324.4375,
          -544503.0625,
          -544597.5625,
          -544722.6875,
          -545211.0625,
          -545590.1875,
          -546232.5,
          -546385.0625,
          -546561,
          -546651.1875,
          -546802.125,
          -547171.5,
          -547471.0625,
          -547934.6875,
          -548092.375,
          -548235.625,
          -548367.125,
          -548467.25,
          -548547,
          -548560.375,
          -549139.4375,
          -549493.6875,
          -550262.25,
          -550353.1875,
          -550513.4375,
          -550523.125,
          -550658.75,
          -551057.25,
          -551099.3125,
          -551615,
          -551741.3125,
          -551839.625,
          -551936.9375,
          -551977.1875,
          -552012.1875,
          -552503.8125,
          -552620.625,
          -553263.125,
          -553349.6875,
          -553466,
          -553494.625,
          -553571.5,
          -553955.125,
          -554043.75,
          -554556.1875,
          -554649.5,
          -554753.1875,
          -554801.9375,
          -554870.6875,
          -555199.1875,
          -555380.0625,
          -555812,
          -555904.1875,
          -556006.9375,
          -556060.6875,
          -556137.375,
          -556408.6875,
          -556606.875,
          -556966.0625,
          -557058.8125,
          -557155.125,
          -557217.4375,
          -557289.875,
          -557298.6875,
          -557315.3125,
          -557748.6875,
          -557915.6875,
          -558079.0625,
          -558094.8125,
          -558290.625,
          -558424.4375,
          -558477.5,
          -558632.4375,
          -558756.1875,
          -558840,
          -558987.125,
          -559092.125,
          -559187.6875,
          -559306.1875,
          -559340.5,
          -559466.625,
          -559618.5625,
          -559700.625,
          -559890.8125,
          -559987,
          -560060.8125,
          -560160.4375,
          -560190.875,
          -560290.125,
          -560470.0625,
          -560560.0625,
          -560778.5,
          -560868.25,
          -560934,
          -561024.625,
          -561048.9375,
          -561135,
          -561331.8125,
          -561410.25,
          -561651.75,
          -561735.4375,
          -561795.125,
          -561875.625,
          -561897.0625,
          -561965.4375,
          -562183.875,
          -562253.25,
          -562523,
          -562599.0625,
          -562655.75,
          -562723.5625,
          -562743.6875,
          -562791.3125,
          -563035.5,
          -563099.4375,
          -563402.375,
          -563469.375,
          -563525.625,
          -563578,
          -563600.1875,
          -563623.3125,
          -563897,
          -563962.125,
          -564302.25,
          -564359.0625,
          -564415.875,
          -564451.5,
          -564476.9375,
          -564701.625,
          -564889.9375,
          -565192.625,
          -565244.0625,
          -565325.5625,
          -565338.375,
          -565419.75,
          -565568.375,
          -565615.375,
          -565799.25,
          -565869.5625,
          -565916.75,
          -565987,
          -566001.125,
          -566063.0625,
          -566233.125,
          -566282.5,
          -566494.75,
          -566557.8125,
          -566604.625,
          -566661.0625,
          -566679,
          -566719.375,
          -566914.1875,
          -566973.9375,
          -567219.0625,
          -567274,
          -567322.4375,
          -567363.5,
          -567387.5,
          -567402.4375,
          -567625.9375,
          -567711.375,
          -567992.6875,
          -568037.75,
          -568089.8125,
          -568114.375,
          -568144.9375,
          -568321.625,
          -568430.75,
          -568667.5625,
          -568712.6875,
          -568774.125,
          -568793.5,
          -568849,
          -568979.1875,
          -569043.6875,
          -569206.625,
          -569261.875,
          -569306.3125,
          -569356.1875,
          -569379.3125,
          -569415.5,
          -569566.75,
          -569654.0625,
          -569846.0625,
          -569894.125,
          -569940.9375,
          -569976.875,
          -570006.4375,
          -570019.625,
          -570196.375,
          -570334,
          -570556.875,
          -570597,
          -570647.25,
          -570668.3125,
          -570705.25,
          -570838.6875,
          -570923.0625,
          -571100.1875,
          -571144.25,
          -571192.5625,
          -571220.625,
          -571260.75,
          -571370.4375,
          -571472.375,
          -571611.8125,
          -571658.6875,
          -571702.9375,
          -571741.0625,
          -571774,
          -571795.875,
          -571804.5,
          -571977.9375,
          -572079.5625,
          -572310,
          -572341.25,
          -572392.6875,
          -572399.125,
          -572443.625,
          -572567.5625,
          -572594.9375,
          -572754.8125,
          -572798,
          -572832.9375,
          -572867.75,
          -572885,
          -572901.625,
          -573054.75,
          -573124.1875,
          -573323.5625,
          -573357.125,
          -573399.5,
          -573415,
          -573447.125,
          -573566.875,
          -573623.875,
          -573780.9375,
          -573818.875,
          -573857.625,
          -573883.75,
          -573911.8125,
          -573915.375,
          -573918.1875,
          -574109.8125,
          -574185.3125,
          -574256.375,
          -574263,
          -574349.125,
          -574405.8125,
          -574429.75,
          -574494.6875,
          -574548.625,
          -574587.875,
          -574652.3125,
          -574697.3125,
          -574739.875,
          -574790.25,
          -574809.625,
          -574862.375,
          -574927.1875,
          -574974.5625,
          -575056,
          -575098,
          -575134.0625,
          -575175.875,
          -575198.125,
          -575234,
          -575234.9375,
          -575255.4375,
          -575402.4375,
          -575403.9375,
          -575600.0625,
          -575627.125,
          -575662.8125,
          -575671.8125,
          -575696.75,
          -575817.375,
          -575847.6875,
          -576003.5625,
          -576035.8125,
          -576067.1875,
          -576089.5625,
          -576106.0625,
          -576109.625,
          -576255.3125,
          -576316,
          -576502.625,
          -576528.5,
          -576562.9375,
          -576573.1875,
          -576595.4375,
          -576708.5,
          -576750.875,
          -576904,
          -576931.9375,
          -576968.875,
          -576980.25,
          -577012.8125,
          -577101.5,
          -577138.9375,
          -577251.375,
          -577285.6875,
          -577313.25,
          -577343.6875,
          -577356.0625,
          -577377.5,
          -577482.0625,
          -577523.0625,
          -577655.625,
          -577686.0625,
          -577713.75,
          -577736.9375,
          -577750.6875,
          -577760.6875,
          -577882.3125,
          -577927.125,
          -578081.25,
          -578107.625,
          -578136.125,
          -578152.0625,
          -578166.375,
          -578268.1875,
          -578349.4375,
          -578490.125,
          -578514.5625,
          -578553.375,
          -578559.25,
          -578598.75,
          -578669.6875,
          -578690.3125,
          -578778.75,
          -578813.1875,
          -578835,
          -578870.125,
          -578874.25,
          -578906.4375,
          -578989.375,
          -579005.0625,
          -579108.875,
          -579140.75,
          -579161.6875,
          -579191.375,
          -579195.375,
          -579218.9375,
          -579316.125,
          -579327.0625,
          -579450.375,
          -579478.5625,
          -579499.3125,
          -579522.625,
          -579527.5,
          -579539.125,
          -579654.625,
          -579661.9375,
          -579808,
          -579831.75,
          -579854.25,
          -579868.75,
          -579876.5625,
          -579976.875,
          -580057.1875,
          -580196.625,
          -580216.4375,
          -580252.5625,
          -580253.4375,
          -580290.4375,
          -580358.0625,
          -580367.875,
          -580452.5625,
          -580483.5625,
          -580501.5,
          -580532.875,
          -580533.9375,
          -580561.1875,
          -580642.625,
          -580649.625,
          -580753.0625,
          -580780.5,
          -580798.9375,
          -580822.4375,
          -580826.4375,
          -580841.375,
          -580939.375,
          -580948.4375,
          -581074.625,
          -581097.1875,
          -581118.25,
          -581132.5,
          -581141.3125,
          -581228.4375,
          -581302.1875,
          -581420.75,
          -581440.625,
          -581471.9375,
          -581477,
          -581506.75,
          -581568.0625,
          -581586.1875,
          -581663.75,
          -581690.5625,
          -581709.625,
          -581734.6875,
          -581741.9375,
          -581761.5625,
          -581836.125,
          -581859.625,
          -581955.375,
          -581978.8125,
          -581999.4375,
          -582016.6875,
          -582028.0625,
          -582034.6875,
          -582125.125,
          -582168.9375,
          -582285.9375,
          -582304.375,
          -582328.375,
          -582337,
          -582353.5,
          -582424.6875,
          -582458,
          -582552.8125,
          -582573.8125,
          -582597.25,
          -582609.125,
          -582628.25,
          -582687.375,
          -582729.125,
          -582804.3125,
          -582827.6875,
          -582849,
          -582866.8125,
          -582881.625,
          -582890.875,
          -582891.375,
          -582988,
          -583030.3125,
          -583159.9375,
          -583173.5625,
          -583200.75,
          -583238.9375,
          -583271.1875,
          -583318.5,
          -583342.75,
          -583363.8125,
          -583387.6875,
          -583400.5625,
          -583422.875,
          -583467.75,
          -583509.0625,
          -583566.4375,
          -583588.5625,
          -583608.9375,
          -583629.8125,
          -583643.75,
          -583658.75,
          -583661.1875,
          -583664.75,
          -583762.25,
          -583800.125,
          -583836.125,
          -583841.125,
          -583884,
          -583914.9375,
          -583928.6875,
          -583965.25,
          -583992.1875,
          -584012.5625,
          -584043.5,
          -584046.875,
          -584080.0625,
          -584119.1875,
          -584132.375,
          -584182.3125,
          -584206.5,
          -584223.0625,
          -584246.9375,
          -584253.0625,
          -584274.6875,
          -584325.75,
          -584347.6875,
          -584414.875,
          -584435.3125,
          -584453.125,
          -584469.25,
          -584482.25,
          -584488.5,
          -584490.625,
          -584577.5,
          -584597.0625,
          -584710.375,
          -584723.8125,
          -584743.875,
          -584747.0625,
          -584760,
          -584827.25,
          -584840.375,
          -584930.5625,
          -584946.75,
          -584965.75,
          -584973.375,
          -584987.375,
          -585043.8125,
          -585071.1875,
          -585144.375,
          -585162.3125,
          -585179.4375,
          -585193.125,
          -585204.1875,
          -585208.25,
          -585276.5625,
          -585327.3125,
          -585415.5625,
          -585430.5625,
          -585450.3125,
          -585457.125,
          -585472.375,
          -585524.0625,
          -585551.0625,
          -585620.9375,
          -585637.8125,
          -585655.8125,
          -585667.125,
          -585682.0625,
          -585726.5,
          -585767.125,
          -585824.3125,
          -585842.4375,
          -585859.6875,
          -585874.375,
          -585887.5625,
          -585895.5625,
          -585898.125,
          -585969.1875,
          -586008.5625,
          -586105.5625,
          -586116.625,
          -586138.75,
          -586138.9375,
          -586159.25,
          -586209.4375,
          -586213.1875,
          -586277.5625,
          -586295.9375,
          -586308.0625,
          -586324.6875,
          -586327.375,
          -586338.6875,
          -586400.375,
          -586408.75,
          -586488.5625,
          -586503.875,
          -586518.3125,
          -586527.8125,
          -586535.25,
          -586589.9375,
          -586639.5,
          -586713.5625,
          -586728,
          -586748.0625,
          -586753.125,
          -586772,
          -586811.875,
          -586828.75,
          -586879.0625,
          -586897.125,
          -586911,
          -586927.125,
          -586933.875,
          -586946.5,
          -586994.375,
          -587018,
          -587080,
          -587095.4375,
          -587110.6875,
          -587122.25,
          -587131.75,
          -587136.25,
          -587194.125,
          -587234.1875,
          -587308.8125,
          -587322.1875,
          -587339.125,
          -587345.4375,
          -587357.625,
          -587403.125,
          -587429.625,
          -587490.25,
          -587504.625,
          -587521.3125,
          -587529.9375,
          -587544.3125,
          -587581.8125,
          -587613.0625,
          -587660.5,
          -587676.875,
          -587691.5,
          -587704.5625,
          -587714.75,
          -587723.375,
          -587723.5,
          -587786.0625,
          -587833.5625,
          -587918.625,
          -587928.25,
          -587948.875,
          -587972.9375,
          -587994.0625,
          -588023.5625,
          -588040.5,
          -588056,
          -588073.375,
          -588082.5625,
          -588099.6875,
          -588128,
          -588152.25,
          -588187.5,
          -588203.8125,
          -588217.625,
          -588233.875,
          -588242.875,
          -588257.125,
          -588290,
          -588320,
          -588361.5625,
          -588377.1875,
          -588391,
          -588404.75,
          -588414.8125,
          -588424.1875,
          -588425.375,
          -588426.8125,
          -588497.375,
          -588523.25,
          -588549,
          -588551.5625,
          -588582.1875,
          -588603.9375,
          -588612.5,
          -588638.6875,
          -588658.1875,
          -588671.5,
          -588693.1875,
          -588694.75,
          -588717.875,
          -588746.3125,
          -588754.5,
          -588791.625,
          -588808.125,
          -588819.375,
          -588835.5,
          -588840.8125,
          -588854.5,
          -588891.5625,
          -588909.3125,
          -588959.1875,
          -588972.75,
          -588986.375,
          -588996.5625,
          -589007.125,
          -589009.3125,
          -589012.375,
          -589073.875,
          -589077,
          -589156.375,
          -589166.25,
          -589179.125,
          -589183.0625,
          -589189.625,
          -589240.1875,
          -589256.625,
          -589325.4375,
          -589335.5625,
          -589350.8125,
          -589353.8125,
          -589367.3125,
          -589406.3125,
          -589417.1875,
          -589466.625,
          -589480.625,
          -589491.5625,
          -589503.4375,
          -589508.25,
          -589515.1875,
          -589562.0625,
          -589579.8125,
          -589640.4375,
          -589652.3125,
          -589664.625,
          -589672.375,
          -589679.625,
          -589719.875,
          -589755.125,
          -589809,
          -589820.8125,
          -589836.125,
          -589841.5625,
          -589856.4375,
          -589886.5625,
          -589903.875,
          -589942,
          -589956.375,
          -589967.875,
          -589980.875,
          -589987.0625,
          -589997.5,
          -590033.5625,
          -590056.5,
          -590102.5625,
          -590115.5,
          -590127.6875,
          -590137.9375,
          -590145.8125,
          -590150.4375,
          -590193.0625,
          -590228.625,
          -590283.5,
          -590294.625,
          -590308.0625,
          -590314.75,
          -590324.375,
          -590358.875,
          -590387.75,
          -590433.4375,
          -590445.75,
          -590459.5625,
          -590466.9375,
          -590479.25,
          -590507.0625,
          -590531.5,
          -590566.25,
          -590579.8125,
          -590591.75,
          -590603.875,
          -590611.75,
          -590620.9375,
          -590621.4375,
          -590623.5,
          -590682.75,
          -590704.125,
          -590725.875,
          -590728.375,
          -590753.6875,
          -590772.5,
          -590780.625,
          -590803.5,
          -590819.5625,
          -590830.9375,
          -590849,
          -590851.1875,
          -590870.0625,
          -590894.875,
          -590903.5625,
          -590935.5,
          -590949.5,
          -590959.5625,
          -590973.4375,
          -590977.9375,
          -590988.9375,
          -591021.5625,
          -591040.5625,
          -591084.4375,
          -591096,
          -591108.125,
          -591116.3125,
          -591126.375,
          -591127.5,
          -591132.125,
          -591183.375,
          -591203.25,
          -591222.625,
          -591227.1875,
          -591249.3125,
          -591267,
          -591276.8125,
          -591298.5,
          -591313.375,
          -591325.1875,
          -591341.1875,
          -591345.6875,
          -591362.3125,
          -591385.25,
          -591397.875,
          -591427.625,
          -591440.5,
          -591451.5,
          -591463.875,
          -591470.6875,
          -591480.5,
          -591509.625,
          -591538.375,
          -591578.5,
          -591589.875,
          -591602.8125,
          -591610.125,
          -591622,
          -591622.4375,
          -591630.5625,
          -591674.0625,
          -591674.875,
          -591730.875,
          -591741.375,
          -591750.5625,
          -591757.625,
          -591761,
          -591761.5,
          -591814.3125,
          -591822.4375,
          -591890.9375,
          -591898.6875,
          -591910.0625,
          -591911.8125,
          -591918.8125,
          -591960.3125,
          -591968.3125,
          -592024.5625,
          -592033.875,
          -592045.75,
          -592048.875,
          -592058.5625,
          -592092.25,
          -592102.75,
          -592145.25,
          -592156.875,
          -592166.25,
          -592175.3125,
          -592180.125,
          -592184.875,
          -592224.875,
          -592242.1875,
          -592293.6875,
          -592303.375,
          -592313.5,
          -592319.6875,
          -592326.625,
          -592359.625,
          -592385.3125,
          -592430.4375,
          -592440.1875,
          -592452.6875,
          -592457.6875,
          -592469.125,
          -592494.6875,
          -592509.8125,
          -592542.25,
          -592554,
          -592563.5625,
          -592573.9375,
          -592579.5,
          -592587.75,
          -592618,
          -592638,
          -592676.8125,
          -592687.1875,
          -592697.125,
          -592705.8125,
          -592712.3125,
          -592715.9375,
          -592752.3125,
          -592781.375,
          -592827.375,
          -592836.9375,
          -592848,
          -592853.5,
          -592861.6875,
          -592890.1875,
          -592913.6875,
          -592952.5,
          -592962.5625,
          -592974.1875,
          -592980.3125,
          -592990.875,
          -593013.9375,
          -593033.3125,
          -593062.6875,
          -593073.5625,
          -593083.125,
          -593093.375,
          -593100.0625,
          -593107.625,
          -593135.0625,
          -593159.5625,
          -593194.125,
          -593204.6875,
          -593214.9375,
          -593222.875,
          -593230,
          -593234.25,
          -593235.25,
          -593278.375,
          -593299.1875,
          -593358.625,
          -593364.6875,
          -593378.125,
          -593395.25,
          -593409.25,
          -593429.9375,
          -593441.1875,
          -593451.5,
          -593463.25,
          -593468.75,
          -593480.8125,
          -593500.625,
          -593516.25,
          -593540.375,
          -593551.6875,
          -593561.0625,
          -593572,
          -593577.5,
          -593587,
          -593609.9375,
          -593628.9375,
          -593657.5625,
          -593668.4375,
          -593677.625,
          -593687.0625,
          -593693,
          -593699.875,
          -593726.875,
          -593751.6875,
          -593785.9375,
          -593795.625,
          -593804.9375,
          -593812.75,
          -593819.625,
          -593823.1875,
          -593823.6875,
          -593866.0625,
          -593880.6875,
          -593939,
          -593944.1875,
          -593956.875,
          -593973.625,
          -593987.1875,
          -594007.75,
          -594018.5625,
          -594027.8125,
          -594038.75,
          -594044.5,
          -594055.0625,
          -594074.375,
          -594090,
          -594114.125,
          -594124.6875,
          -594133.8125,
          -594143.625,
          -594148.875,
          -594157.375,
          -594180.0625,
          -594198.6875,
          -594227.5625,
          -594237.375,
          -594246.6875,
          -594254.75,
          -594260.625,
          -594266.4375,
          -594293.0625,
          -594317.875,
          -594352.3125,
          -594361.625,
          -594370.875,
          -594377.375,
          -594384.25,
          -594386.4375,
          -594387.5,
          -594428.9375,
          -594437.5625,
          -594494.25,
          -594499.8125,
          -594511.375,
          -594528,
          -594541,
          -594561.3125,
          -594571.625,
          -594580.3125,
          -594591.125,
          -594595.8125,
          -594605.75,
          -594625,
          -594639.75,
          -594664.0625,
          -594673.875,
          -594682.3125,
          -594691.875,
          -594696.8125,
          -594704.5625,
          -594727.0625,
          -594745.875,
          -594774.625,
          -594783.6875,
          -594792.5625,
          -594800.125,
          -594805.75,
          -594810.8125,
          -594837.1875,
          -594863.125,
          -594897.3125,
          -594905.6875,
          -594914.875,
          -594920.5,
          -594927.375,
          -594928.5625,
          -594929.875,
          -594970.5625,
          -594973.8125,
          -595029.625,
          -595034.4375,
          -595045.1875,
          -595061.375,
          -595074.0625,
          -595094.5625,
          -595104.4375,
          -595112.625,
          -595122.5625,
          -595126.75,
          -595136.125,
          -595155.5,
          -595169.8125,
          -595194.125,
          -595203.5625,
          -595211.6875,
          -595220.3125,
          -595225.5,
          -595232.1875,
          -595254.4375,
          -595273.5625,
          -595301.9375,
          -595311,
          -595319.25,
          -595326.25,
          -595331.875,
          -595335.6875,
          -595336.125,
          -595372.75,
          -595391.1875,
          -595441.8125,
          -595446.625,
          -595458.125,
          -595472,
          -595483.1875,
          -595500.5625,
          -595510.25,
          -595518.25,
          -595528.4375,
          -595532.8125,
          -595543.0625,
          -595559.25,
          -595571.6875,
          -595592.0625,
          -595601.25,
          -595608.6875,
          -595618.125,
          -595622.8125,
          -595631.0625,
          -595650.125,
          -595664.4375,
          -595688.25,
          -595697.0625,
          -595705,
          -595713,
          -595717.875,
          -595723.875,
          -595746.0625,
          -595765.25,
          -595793.8125,
          -595801.8125,
          -595809.75,
          -595816.1875,
          -595821.875,
          -595824.9375,
          -595825.4375,
          -595860.9375,
          -595874.5625,
          -595924,
          -595928.5,
          -595939.375,
          -595953.25,
          -595963.9375,
          -595981.25,
          -595990.625,
          -595998.3125,
          -596007.8125,
          -596011.9375,
          -596021.5,
          -596037.5625,
          -596049.375,
          -596069.8125,
          -596078.4375,
          -596085.9375,
          -596094.6875,
          -596099,
          -596106.5,
          -596125.625,
          -596139.8125,
          -596163.6875,
          -596172.125,
          -596179.4375,
          -596187,
          -596191.625,
          -596196.6875,
          -596218.875,
          -596238.0625,
          -596266.5625,
          -596274.5,
          -596282.0625,
          -596288,
          -596293.25,
          -596295.6875,
          -596296,
          -596331.375,
          -596340,
          -596388.5625,
          -596392.8125,
          -596403.5625,
          -596416.9375,
          -596427.75,
          -596444.3125,
          -596452.9375,
          -596460.6875,
          -596469.3125,
          -596473.5,
          -596482.3125,
          -596498.4375,
          -596509.875,
          -596529.9375,
          -596538.25,
          -596545.625,
          -596553.8125,
          -596557.875,
          -596564.4375,
          -596583.3125,
          -596597.25,
          -596620.875,
          -596629.1875,
          -596636.25,
          -596642.9375,
          -596647.6875,
          -596652,
          -596674,
          -596693.5,
          -596721.5,
          -596729,
          -596736.625,
          -596741.875,
          -596746.8125,
          -596748.8125,
          -596749.5625,
          -596784.0625,
          -596788.5,
          -596836.5625,
          -596840.1875,
          -596849.6875,
          -596863.5625,
          -596873.375,
          -596890.375,
          -596898.625,
          -596905.4375,
          -596914.1875,
          -596917.6875,
          -596926.1875,
          -596942,
          -596953.3125,
          -596973.25,
          -596981.5,
          -596988.3125,
          -596995.75,
          -596999.875,
          -597005.75,
          -597024.5,
          -597038.25,
          -597062.625,
          -597069.9375,
          -597077.0625,
          -597082.9375,
          -597087.75,
          -597091.25,
          -597113.625,
          -597133,
          -597161.5,
          -597168.25,
          -597175.4375,
          -597180.125,
          -597185.4375,
          -597186.875,
          -597187.3125,
          -597220.75,
          -597222.375,
          -597269.1875,
          -597272.625,
          -597281.75,
          -597295.3125,
          -597305.1875,
          -597321.75,
          -597329.375,
          -597336.4375,
          -597344.375,
          -597347.9375,
          -597355.4375,
          -597371.5625,
          -597382.5,
          -597402.6875,
          -597410.5625,
          -597416.625,
          -597423.4375,
          -597427.6875,
          -597433.25,
          -597451.8125,
          -597466.3125,
          -597490.5,
          -597497.1875,
          -597503.6875,
          -597509.5,
          -597514.0625,
          -597517,
          -597539.25,
          -597560.5,
          -597588.4375,
          -597595.1875,
          -597602.3125,
          -597606.0625,
          -597611.4375,
          -597611.875,
          -597612.8125,
          -597646.375,
          -597658.625,
          -597671.5,
          -597672.75,
          -597688.5,
          -597698.1875,
          -597702.4375,
          -597713.125,
          -597723.1875,
          -597731.375,
          -597744,
          -597751.5625,
          -597758.9375,
          -597766.6875,
          -597771.375,
          -597779.4375,
          -597779.625,
          -597785.5625,
          -597808.0625,
          -597811.125,
          -597841.6875,
          -597847.6875,
          -597854.125,
          -597857.8125,
          -597862.1875,
          -597882,
          -597894.3125,
          -597919.5,
          -597926.1875,
          -597932.5625,
          -597937.6875,
          -597942,
          -597943.6875,
          -597967.4375,
          -597987.3125,
          -598017.625,
          -598023.3125,
          -598030.375,
          -598033.5625,
          -598038.75,
          -598057.4375,
          -598069.9375,
          -598094.5625,
          -598100.875,
          -598108.0625,
          -598111.8125,
          -598118.3125,
          -598133.3125,
          -598146.125,
          -598165.4375,
          -598172.1875,
          -598178.75,
          -598185.125,
          -598189.25,
          -598193.375,
          -598193.75,
          -598194.1875,
          -598226.8125,
          -598238.1875,
          -598250.3125,
          -598251.3125,
          -598265.125,
          -598274.75,
          -598278.9375,
          -598291.1875,
          -598299.625,
          -598305.9375,
          -598315.625,
          -598316.5625,
          -598327.125,
          -598340.1875,
          -598344.4375,
          -598361.4375,
          -598369.125,
          -598374.3125,
          -598381.9375,
          -598384.0625,
          -598390.0625,
          -598407.9375,
          -598416.375,
          -598440,
          -598446.4375,
          -598452.9375,
          -598457.125,
          -598462.375,
          -598463,
          -598465.5,
          -598493.1875,
          -598504.3125,
          -598514.9375,
          -598516.9375,
          -598529.8125,
          -598539,
          -598544.25,
          -598555.6875,
          -598563.875,
          -598570.3125,
          -598578.875,
          -598581.25,
          -598590.25,
          -598602.6875,
          -598609.125,
          -598625.125,
          -598631.875,
          -598638.25,
          -598644.75,
          -598648.1875,
          -598653.6875,
          -598669.8125,
          -598683.8125,
          -598705.3125,
          -598711.3125,
          -598718.375,
          -598722.25,
          -598728.6875,
          -598729.125,
          -598733.0625,
          -598757.25,
          -598758.75,
          -598789.625,
          -598795.3125,
          -598800.375,
          -598803.8125,
          -598806.25,
          -598827.8125,
          -598846.0625,
          -598875.625,
          -598880.75,
          -598888.5,
          -598890.125,
          -598897.375,
          -598912.625,
          -598917.9375,
          -598936.8125,
          -598943.875,
          -598948.875,
          -598955.625,
          -598957.4375,
          -598963,
          -598981.5625,
          -598988.125,
          -599011.5,
          -599017.6875,
          -599023.375,
          -599028.375,
          -599031.0625,
          -599033.5625,
          -599055.875,
          -599067.875,
          -599096.75,
          -599102.0625,
          -599108.5,
          -599111.25,
          -599115.5625,
          -599133.5,
          -599145.1875,
          -599169.4375,
          -599175.0625,
          -599181.625,
          -599184.5,
          -599190.5,
          -599205.3125,
          -599216.125,
          -599234.5,
          -599241.0625,
          -599246.6875,
          -599252.125,
          -599256,
          -599259.75,
          -599259.9375,
          -599284.4375,
          -599307.25,
          -599341.5,
          -599345.25,
          -599354.1875,
          -599363.1875,
          -599371.1875,
          -599382.125,
          -599389.25,
          -599395.25,
          -599402.8125,
          -599406,
          -599413.875,
          -599424.5625,
          -599433.375,
          -599446.875,
          -599453.25,
          -599459.5,
          -599466.0625,
          -599469.0625,
          -599475.75,
          -599488.3125,
          -599499.125,
          -599515.125,
          -599521.4375,
          -599527.0625,
          -599532.75,
          -599536.8125,
          -599541.1875,
          -599541.3125,
          -599542.875,
          -599570.375,
          -599580,
          -599590.4375,
          -599591.875,
          -599603.8125,
          -599612.5,
          -599616.5,
          -599627.25,
          -599635,
          -599640.8125,
          -599649.1875,
          -599650.375,
          -599659.25,
          -599670.9375,
          -599675.125,
          -599689.75,
          -599696.6875,
          -599701.3125,
          -599707.75,
          -599710.125,
          -599715.875,
          -599730.75,
          -599739.125,
          -599759.125,
          -599764.9375,
          -599770.375,
          -599774.5,
          -599778.875,
          -599780.375,
          -599782,
          -599806.3125,
          -599809.3125,
          -599840.9375,
          -599844.9375,
          -599850.875,
          -599852.3125,
          -599855.5625,
          -599875.5625,
          -599882.375,
          -599908.8125,
          -599913.625,
          -599919.8125,
          -599921.75,
          -599927.125,
          -599942.5,
          -599949.0625,
          -599969.5,
          -599975.125,
          -599980,
          -599984.6875,
          -599987.8125,
          -599990.375,
          -600009.375,
          -600021.375,
          -600046.0625,
          -600050.625,
          -600056.6875,
          -600059.375,
          -600063.5625,
          -600078.8125,
          -600090,
          -600111,
          -600116.375,
          -600122.3125,
          -600125.375,
          -600130.75,
          -600143.375,
          -600154.375,
          -600170.5,
          -600176.6875,
          -600181.875,
          -600186.8125,
          -600190.875,
          -600194.0625,
          -600194.375,
          -600194.6875,
          -600222.0625,
          -600232.3125,
          -600242.5625,
          -600243.5625,
          -600255.625,
          -600263.8125,
          -600267,
          -600276.3125,
          -600283.875,
          -600289.0625,
          -600297.9375,
          -600298.125,
          -600307.4375,
          -600318.1875,
          -600320.875,
          -600334.375,
          -600340.75,
          -600344.625,
          -600351.5625,
          -600352.75,
          -600359.3125,
          -600373.0625,
          -600377.125,
          -600395.1875,
          -600400.875,
          -600405.6875,
          -600409.9375,
          -600413.1875,
          -600415.375,
          -600433.25,
          -600448.0625,
          -600472.375,
          -600476.9375,
          -600483.25,
          -600484.5625,
          -600490.6875,
          -600503.6875,
          -600508.75,
          -600525.25,
          -600531,
          -600535.4375,
          -600540.5625,
          -600542.75,
          -600546.625,
          -600562.5,
          -600570.6875,
          -600591.0625,
          -600596.125,
          -600601.25,
          -600604.8125,
          -600608,
          -600609,
          -600628.4375,
          -600644.75,
          -600669.75,
          -600673.9375,
          -600679.875,
          -600681.4375,
          -600686.4375,
          -600700.5625,
          -600706.9375,
          -600726,
          -600730.8125,
          -600736.3125,
          -600739.5625,
          -600743.375,
          -600743.75,
          -600744.875,
          -600768.4375,
          -600768.5625,
          -600799.1875,
          -600802.875,
          -600808,
          -600808.9375,
          -600811.4375,
          -600830.5625,
          -600833.875,
          -600859.5625,
          -600863.5,
          -600868.875,
          -600870.1875,
          -600874.25,
          -600889.8125,
          -600895.4375,
          -600915.1875,
          -600919.875,
          -600924.4375,
          -600928.25,
          -600930.4375,
          -600932.375,
          -600951,
          -600962.75,
          -600987.5,
          -600991.25,
          -600996.8125,
          -600998.625,
          -601002.75,
          -601017.0625,
          -601023.4375,
          -601042.8125,
          -601047.5,
          -601052.5625,
          -601055.5625,
          -601059.0625,
          -601071.3125,
          -601084,
          -601100.3125,
          -601105.375,
          -601110.1875,
          -601114,
          -601118,
          -601119.5,
          -601121.3125,
          -601140.5625,
          -601148.4375,
          -601175.125,
          -601178.5,
          -601184.1875,
          -601184.875,
          -601189.875,
          -601204.125,
          -601206.5625,
          -601224.875,
          -601229.8125,
          -601233.8125,
          -601237.75,
          -601239.125,
          -601241.875,
          -601259.25,
          -601264.5,
          -601288.0625,
          -601291.8125,
          -601296.625,
          -601298.8125,
          -601301.875,
          -601316.5625,
          -601326.1875,
          -601346.1875,
          -601350.1875,
          -601355.6875,
          -601357.875,
          -601362.6875,
          -601374.25,
          -601382.0625,
          -601397,
          -601401.8125,
          -601406.6875,
          -601410.6875,
          -601413.6875,
          -601416.0625,
          -601416.3125,
          -601436.4375,
          -601449.8125,
          -601477.25,
          -601480.1875,
          -601486.375,
          -601494.0625,
          -601500.6875,
          -601510.375,
          -601515.6875,
          -601520.1875,
          -601525.9375,
          -601528.5625,
          -601534,
          -601543.125,
          -601551.125,
          -601562.6875,
          -601567.875,
          -601572.375,
          -601577.25,
          -601580.25,
          -601584.5,
          -601584.5625,
          -601586.5,
          -601606.1875,
          -601606.5,
          -601632.4375,
          -601636.0625,
          -601640.125,
          -601641.8125,
          -601644.3125,
          -601660.875,
          -601666.625,
          -601688.75,
          -601692.625,
          -601697.375,
          -601699,
          -601703.0625,
          -601716.5625,
          -601721.625,
          -601738,
          -601742.75,
          -601746.5,
          -601750.4375,
          -601752.625,
          -601754.75,
          -601770.5,
          -601780.75,
          -601801.75,
          -601805.625,
          -601810.4375,
          -601812.6875,
          -601816.375,
          -601828.875,
          -601836.375,
          -601853.125,
          -601857.3125,
          -601862.0625,
          -601865,
          -601868.8125,
          -601869.125,
          -601870.625,
          -601890.3125,
          -601898,
          -601905.25,
          -601907.3125,
          -601915.8125,
          -601922.4375,
          -601925.75,
          -601933.5625,
          -601939.625,
          -601944.3125,
          -601950.3125,
          -601951.625,
          -601958.8125,
          -601966.9375,
          -601970.625,
          -601981.1875,
          -601986.4375,
          -601990.4375,
          -601995.5,
          -601997.5,
          -602001.875,
          -602012.625,
          -602018.8125,
          -602032.625,
          -602037.4375,
          -602041.5,
          -602045.625,
          -602048.5,
          -602050.3125,
          -602051.3125,
          -602069,
          -602075.8125,
          -602099.3125,
          -602102.4375,
          -602107.1875,
          -602108.4375,
          -602111.8125,
          -602125.6875,
          -602129.5625,
          -602148.1875,
          -602152.1875,
          -602156.6875,
          -602159.1875,
          -602162.5625,
          -602174.25,
          -602183.5,
          -602198.8125,
          -602203.125,
          -602207.4375,
          -602210.5625,
          -602213.875,
          -602215.1875,
          -602215.75,
          -602234.375,
          -602238,
          -602263.25,
          -602266.0625,
          -602271.1875,
          -602278.9375,
          -602286.625,
          -602296.1875,
          -602301.125,
          -602304.875,
          -602309.5,
          -602312.5625,
          -602316.25,
          -602316.9375,
          -602319.125,
          -602335.625,
          -602336.875,
          -602358.8125,
          -602362.5625,
          -602366.3125,
          -602367.9375,
          -602370,
          -602384.5,
          -602392,
          -602411.125,
          -602414.6875,
          -602419.5,
          -602421.0625,
          -602425.25,
          -602436.0625,
          -602441.3125,
          -602455.75,
          -602459.9375,
          -602463.5625,
          -602467,
          -602469.25,
          -602471.3125,
          -602484.8125,
          -602495.25,
          -602513,
          -602517,
          -602521.125,
          -602523.0625,
          -602526.375,
          -602537.4375,
          -602545.5,
          -602560,
          -602563.9375,
          -602568.375,
          -602571.25,
          -602574.75,
          -602574.9375,
          -602576.75,
          -602593.625,
          -602594.6875,
          -602617.125,
          -602619.8125,
          -602624.0625,
          -602625.4375,
          -602627.375,
          -602641.3125,
          -602647.3125,
          -602665.75,
          -602669.3125,
          -602673.875,
          -602675.5,
          -602679,
          -602690.0625,
          -602695.3125,
          -602710,
          -602714,
          -602717.75,
          -602720.75,
          -602722.9375,
          -602724.6875,
          -602737.875,
          -602749.375,
          -602767.1875,
          -602770.5,
          -602775.1875,
          -602776.6875,
          -602780.5625,
          -602791.0625,
          -602797.4375,
          -602811.75,
          -602815.25,
          -602819.1875,
          -602822,
          -602824.9375,
          -602825.6875,
          -602826.8125,
          -602843.875,
          -602845.4375,
          -602867.8125,
          -602870.875,
          -602874.4375,
          -602875.5625,
          -602878.0625,
          -602892.0625,
          -602895.375,
          -602913.5,
          -602916.875,
          -602920.75,
          -602922.625,
          -602925.3125,
          -602936.875,
          -602943.0625,
          -602957.375,
          -602961.375,
          -602964.8125,
          -602967.75,
          -602970.25,
          -602971.3125,
          -602985.25
         ]
        }
       ],
       "layout": {
        "template": {
         "data": {
          "bar": [
           {
            "error_x": {
             "color": "#2a3f5f"
            },
            "error_y": {
             "color": "#2a3f5f"
            },
            "marker": {
             "line": {
              "color": "#E5ECF6",
              "width": 0.5
             }
            },
            "type": "bar"
           }
          ],
          "barpolar": [
           {
            "marker": {
             "line": {
              "color": "#E5ECF6",
              "width": 0.5
             }
            },
            "type": "barpolar"
           }
          ],
          "carpet": [
           {
            "aaxis": {
             "endlinecolor": "#2a3f5f",
             "gridcolor": "white",
             "linecolor": "white",
             "minorgridcolor": "white",
             "startlinecolor": "#2a3f5f"
            },
            "baxis": {
             "endlinecolor": "#2a3f5f",
             "gridcolor": "white",
             "linecolor": "white",
             "minorgridcolor": "white",
             "startlinecolor": "#2a3f5f"
            },
            "type": "carpet"
           }
          ],
          "choropleth": [
           {
            "colorbar": {
             "outlinewidth": 0,
             "ticks": ""
            },
            "type": "choropleth"
           }
          ],
          "contour": [
           {
            "colorbar": {
             "outlinewidth": 0,
             "ticks": ""
            },
            "colorscale": [
             [
              0,
              "#0d0887"
             ],
             [
              0.1111111111111111,
              "#46039f"
             ],
             [
              0.2222222222222222,
              "#7201a8"
             ],
             [
              0.3333333333333333,
              "#9c179e"
             ],
             [
              0.4444444444444444,
              "#bd3786"
             ],
             [
              0.5555555555555556,
              "#d8576b"
             ],
             [
              0.6666666666666666,
              "#ed7953"
             ],
             [
              0.7777777777777778,
              "#fb9f3a"
             ],
             [
              0.8888888888888888,
              "#fdca26"
             ],
             [
              1,
              "#f0f921"
             ]
            ],
            "type": "contour"
           }
          ],
          "contourcarpet": [
           {
            "colorbar": {
             "outlinewidth": 0,
             "ticks": ""
            },
            "type": "contourcarpet"
           }
          ],
          "heatmap": [
           {
            "colorbar": {
             "outlinewidth": 0,
             "ticks": ""
            },
            "colorscale": [
             [
              0,
              "#0d0887"
             ],
             [
              0.1111111111111111,
              "#46039f"
             ],
             [
              0.2222222222222222,
              "#7201a8"
             ],
             [
              0.3333333333333333,
              "#9c179e"
             ],
             [
              0.4444444444444444,
              "#bd3786"
             ],
             [
              0.5555555555555556,
              "#d8576b"
             ],
             [
              0.6666666666666666,
              "#ed7953"
             ],
             [
              0.7777777777777778,
              "#fb9f3a"
             ],
             [
              0.8888888888888888,
              "#fdca26"
             ],
             [
              1,
              "#f0f921"
             ]
            ],
            "type": "heatmap"
           }
          ],
          "heatmapgl": [
           {
            "colorbar": {
             "outlinewidth": 0,
             "ticks": ""
            },
            "colorscale": [
             [
              0,
              "#0d0887"
             ],
             [
              0.1111111111111111,
              "#46039f"
             ],
             [
              0.2222222222222222,
              "#7201a8"
             ],
             [
              0.3333333333333333,
              "#9c179e"
             ],
             [
              0.4444444444444444,
              "#bd3786"
             ],
             [
              0.5555555555555556,
              "#d8576b"
             ],
             [
              0.6666666666666666,
              "#ed7953"
             ],
             [
              0.7777777777777778,
              "#fb9f3a"
             ],
             [
              0.8888888888888888,
              "#fdca26"
             ],
             [
              1,
              "#f0f921"
             ]
            ],
            "type": "heatmapgl"
           }
          ],
          "histogram": [
           {
            "marker": {
             "colorbar": {
              "outlinewidth": 0,
              "ticks": ""
             }
            },
            "type": "histogram"
           }
          ],
          "histogram2d": [
           {
            "colorbar": {
             "outlinewidth": 0,
             "ticks": ""
            },
            "colorscale": [
             [
              0,
              "#0d0887"
             ],
             [
              0.1111111111111111,
              "#46039f"
             ],
             [
              0.2222222222222222,
              "#7201a8"
             ],
             [
              0.3333333333333333,
              "#9c179e"
             ],
             [
              0.4444444444444444,
              "#bd3786"
             ],
             [
              0.5555555555555556,
              "#d8576b"
             ],
             [
              0.6666666666666666,
              "#ed7953"
             ],
             [
              0.7777777777777778,
              "#fb9f3a"
             ],
             [
              0.8888888888888888,
              "#fdca26"
             ],
             [
              1,
              "#f0f921"
             ]
            ],
            "type": "histogram2d"
           }
          ],
          "histogram2dcontour": [
           {
            "colorbar": {
             "outlinewidth": 0,
             "ticks": ""
            },
            "colorscale": [
             [
              0,
              "#0d0887"
             ],
             [
              0.1111111111111111,
              "#46039f"
             ],
             [
              0.2222222222222222,
              "#7201a8"
             ],
             [
              0.3333333333333333,
              "#9c179e"
             ],
             [
              0.4444444444444444,
              "#bd3786"
             ],
             [
              0.5555555555555556,
              "#d8576b"
             ],
             [
              0.6666666666666666,
              "#ed7953"
             ],
             [
              0.7777777777777778,
              "#fb9f3a"
             ],
             [
              0.8888888888888888,
              "#fdca26"
             ],
             [
              1,
              "#f0f921"
             ]
            ],
            "type": "histogram2dcontour"
           }
          ],
          "mesh3d": [
           {
            "colorbar": {
             "outlinewidth": 0,
             "ticks": ""
            },
            "type": "mesh3d"
           }
          ],
          "parcoords": [
           {
            "line": {
             "colorbar": {
              "outlinewidth": 0,
              "ticks": ""
             }
            },
            "type": "parcoords"
           }
          ],
          "pie": [
           {
            "automargin": true,
            "type": "pie"
           }
          ],
          "scatter": [
           {
            "marker": {
             "colorbar": {
              "outlinewidth": 0,
              "ticks": ""
             }
            },
            "type": "scatter"
           }
          ],
          "scatter3d": [
           {
            "line": {
             "colorbar": {
              "outlinewidth": 0,
              "ticks": ""
             }
            },
            "marker": {
             "colorbar": {
              "outlinewidth": 0,
              "ticks": ""
             }
            },
            "type": "scatter3d"
           }
          ],
          "scattercarpet": [
           {
            "marker": {
             "colorbar": {
              "outlinewidth": 0,
              "ticks": ""
             }
            },
            "type": "scattercarpet"
           }
          ],
          "scattergeo": [
           {
            "marker": {
             "colorbar": {
              "outlinewidth": 0,
              "ticks": ""
             }
            },
            "type": "scattergeo"
           }
          ],
          "scattergl": [
           {
            "marker": {
             "colorbar": {
              "outlinewidth": 0,
              "ticks": ""
             }
            },
            "type": "scattergl"
           }
          ],
          "scattermapbox": [
           {
            "marker": {
             "colorbar": {
              "outlinewidth": 0,
              "ticks": ""
             }
            },
            "type": "scattermapbox"
           }
          ],
          "scatterpolar": [
           {
            "marker": {
             "colorbar": {
              "outlinewidth": 0,
              "ticks": ""
             }
            },
            "type": "scatterpolar"
           }
          ],
          "scatterpolargl": [
           {
            "marker": {
             "colorbar": {
              "outlinewidth": 0,
              "ticks": ""
             }
            },
            "type": "scatterpolargl"
           }
          ],
          "scatterternary": [
           {
            "marker": {
             "colorbar": {
              "outlinewidth": 0,
              "ticks": ""
             }
            },
            "type": "scatterternary"
           }
          ],
          "surface": [
           {
            "colorbar": {
             "outlinewidth": 0,
             "ticks": ""
            },
            "colorscale": [
             [
              0,
              "#0d0887"
             ],
             [
              0.1111111111111111,
              "#46039f"
             ],
             [
              0.2222222222222222,
              "#7201a8"
             ],
             [
              0.3333333333333333,
              "#9c179e"
             ],
             [
              0.4444444444444444,
              "#bd3786"
             ],
             [
              0.5555555555555556,
              "#d8576b"
             ],
             [
              0.6666666666666666,
              "#ed7953"
             ],
             [
              0.7777777777777778,
              "#fb9f3a"
             ],
             [
              0.8888888888888888,
              "#fdca26"
             ],
             [
              1,
              "#f0f921"
             ]
            ],
            "type": "surface"
           }
          ],
          "table": [
           {
            "cells": {
             "fill": {
              "color": "#EBF0F8"
             },
             "line": {
              "color": "white"
             }
            },
            "header": {
             "fill": {
              "color": "#C8D4E3"
             },
             "line": {
              "color": "white"
             }
            },
            "type": "table"
           }
          ]
         },
         "layout": {
          "annotationdefaults": {
           "arrowcolor": "#2a3f5f",
           "arrowhead": 0,
           "arrowwidth": 1
          },
          "coloraxis": {
           "colorbar": {
            "outlinewidth": 0,
            "ticks": ""
           }
          },
          "colorscale": {
           "diverging": [
            [
             0,
             "#8e0152"
            ],
            [
             0.1,
             "#c51b7d"
            ],
            [
             0.2,
             "#de77ae"
            ],
            [
             0.3,
             "#f1b6da"
            ],
            [
             0.4,
             "#fde0ef"
            ],
            [
             0.5,
             "#f7f7f7"
            ],
            [
             0.6,
             "#e6f5d0"
            ],
            [
             0.7,
             "#b8e186"
            ],
            [
             0.8,
             "#7fbc41"
            ],
            [
             0.9,
             "#4d9221"
            ],
            [
             1,
             "#276419"
            ]
           ],
           "sequential": [
            [
             0,
             "#0d0887"
            ],
            [
             0.1111111111111111,
             "#46039f"
            ],
            [
             0.2222222222222222,
             "#7201a8"
            ],
            [
             0.3333333333333333,
             "#9c179e"
            ],
            [
             0.4444444444444444,
             "#bd3786"
            ],
            [
             0.5555555555555556,
             "#d8576b"
            ],
            [
             0.6666666666666666,
             "#ed7953"
            ],
            [
             0.7777777777777778,
             "#fb9f3a"
            ],
            [
             0.8888888888888888,
             "#fdca26"
            ],
            [
             1,
             "#f0f921"
            ]
           ],
           "sequentialminus": [
            [
             0,
             "#0d0887"
            ],
            [
             0.1111111111111111,
             "#46039f"
            ],
            [
             0.2222222222222222,
             "#7201a8"
            ],
            [
             0.3333333333333333,
             "#9c179e"
            ],
            [
             0.4444444444444444,
             "#bd3786"
            ],
            [
             0.5555555555555556,
             "#d8576b"
            ],
            [
             0.6666666666666666,
             "#ed7953"
            ],
            [
             0.7777777777777778,
             "#fb9f3a"
            ],
            [
             0.8888888888888888,
             "#fdca26"
            ],
            [
             1,
             "#f0f921"
            ]
           ]
          },
          "colorway": [
           "#636efa",
           "#EF553B",
           "#00cc96",
           "#ab63fa",
           "#FFA15A",
           "#19d3f3",
           "#FF6692",
           "#B6E880",
           "#FF97FF",
           "#FECB52"
          ],
          "font": {
           "color": "#2a3f5f"
          },
          "geo": {
           "bgcolor": "white",
           "lakecolor": "white",
           "landcolor": "#E5ECF6",
           "showlakes": true,
           "showland": true,
           "subunitcolor": "white"
          },
          "hoverlabel": {
           "align": "left"
          },
          "hovermode": "closest",
          "mapbox": {
           "style": "light"
          },
          "paper_bgcolor": "white",
          "plot_bgcolor": "#E5ECF6",
          "polar": {
           "angularaxis": {
            "gridcolor": "white",
            "linecolor": "white",
            "ticks": ""
           },
           "bgcolor": "#E5ECF6",
           "radialaxis": {
            "gridcolor": "white",
            "linecolor": "white",
            "ticks": ""
           }
          },
          "scene": {
           "xaxis": {
            "backgroundcolor": "#E5ECF6",
            "gridcolor": "white",
            "gridwidth": 2,
            "linecolor": "white",
            "showbackground": true,
            "ticks": "",
            "zerolinecolor": "white"
           },
           "yaxis": {
            "backgroundcolor": "#E5ECF6",
            "gridcolor": "white",
            "gridwidth": 2,
            "linecolor": "white",
            "showbackground": true,
            "ticks": "",
            "zerolinecolor": "white"
           },
           "zaxis": {
            "backgroundcolor": "#E5ECF6",
            "gridcolor": "white",
            "gridwidth": 2,
            "linecolor": "white",
            "showbackground": true,
            "ticks": "",
            "zerolinecolor": "white"
           }
          },
          "shapedefaults": {
           "line": {
            "color": "#2a3f5f"
           }
          },
          "ternary": {
           "aaxis": {
            "gridcolor": "white",
            "linecolor": "white",
            "ticks": ""
           },
           "baxis": {
            "gridcolor": "white",
            "linecolor": "white",
            "ticks": ""
           },
           "bgcolor": "#E5ECF6",
           "caxis": {
            "gridcolor": "white",
            "linecolor": "white",
            "ticks": ""
           }
          },
          "title": {
           "x": 0.05
          },
          "xaxis": {
           "automargin": true,
           "gridcolor": "white",
           "linecolor": "white",
           "ticks": "",
           "title": {
            "standoff": 15
           },
           "zerolinecolor": "white",
           "zerolinewidth": 2
          },
          "yaxis": {
           "automargin": true,
           "gridcolor": "white",
           "linecolor": "white",
           "ticks": "",
           "title": {
            "standoff": 15
           },
           "zerolinecolor": "white",
           "zerolinewidth": 2
          }
         }
        },
        "title": {
         "text": "Energy Minimization"
        },
        "xaxis": {
         "title": {
          "text": "Energy Minimization Step"
         }
        },
        "yaxis": {
         "title": {
          "text": "Potential Energy KJ/mol-1"
         }
        }
       }
      },
      "text/html": [
       "<div>\n",
       "        \n",
       "        \n",
       "            <div id=\"8c71dd6d-d922-4186-904a-ad83c16c0e73\" class=\"plotly-graph-div\" style=\"height:525px; width:100%;\"></div>\n",
       "            <script type=\"text/javascript\">\n",
       "                require([\"plotly\"], function(Plotly) {\n",
       "                    window.PLOTLYENV=window.PLOTLYENV || {};\n",
       "                    \n",
       "                if (document.getElementById(\"8c71dd6d-d922-4186-904a-ad83c16c0e73\")) {\n",
       "                    Plotly.newPlot(\n",
       "                        '8c71dd6d-d922-4186-904a-ad83c16c0e73',\n",
       "                        [{\"type\": \"scatter\", \"x\": [0.0, 1.0, 2.0, 3.0, 4.0, 5.0, 6.0, 7.0, 8.0, 9.0, 11.0, 12.0, 13.0, 15.0, 16.0, 17.0, 18.0, 19.0, 21.0, 22.0, 23.0, 25.0, 26.0, 27.0, 28.0, 29.0, 31.0, 33.0, 34.0, 35.0, 36.0, 38.0, 39.0, 40.0, 42.0, 43.0, 44.0, 45.0, 46.0, 48.0, 49.0, 50.0, 52.0, 53.0, 54.0, 55.0, 56.0, 58.0, 59.0, 60.0, 62.0, 63.0, 64.0, 65.0, 67.0, 68.0, 69.0, 71.0, 72.0, 73.0, 74.0, 75.0, 77.0, 78.0, 79.0, 81.0, 82.0, 83.0, 84.0, 86.0, 87.0, 88.0, 90.0, 91.0, 92.0, 93.0, 95.0, 96.0, 97.0, 99.0, 100.0, 101.0, 102.0, 104.0, 105.0, 106.0, 108.0, 109.0, 110.0, 111.0, 112.0, 114.0, 115.0, 116.0, 118.0, 119.0, 120.0, 121.0, 123.0, 124.0, 125.0, 127.0, 128.0, 129.0, 130.0, 132.0, 133.0, 134.0, 136.0, 137.0, 138.0, 139.0, 140.0, 141.0, 143.0, 144.0, 145.0, 147.0, 148.0, 149.0, 150.0, 152.0, 153.0, 154.0, 156.0, 157.0, 158.0, 159.0, 160.0, 162.0, 163.0, 164.0, 166.0, 167.0, 168.0, 169.0, 171.0, 172.0, 173.0, 175.0, 176.0, 177.0, 178.0, 180.0, 181.0, 182.0, 184.0, 185.0, 186.0, 187.0, 189.0, 190.0, 191.0, 193.0, 194.0, 195.0, 196.0, 197.0, 198.0, 200.0, 202.0, 203.0, 204.0, 205.0, 207.0, 208.0, 209.0, 211.0, 212.0, 213.0, 215.0, 216.0, 217.0, 218.0, 219.0, 221.0, 222.0, 223.0, 225.0, 226.0, 227.0, 228.0, 229.0, 231.0, 232.0, 233.0, 235.0, 236.0, 237.0, 238.0, 239.0, 241.0, 242.0, 243.0, 245.0, 246.0, 247.0, 248.0, 249.0, 251.0, 252.0, 253.0, 255.0, 256.0, 257.0, 258.0, 259.0, 261.0, 262.0, 263.0, 265.0, 266.0, 267.0, 268.0, 269.0, 271.0, 272.0, 273.0, 275.0, 276.0, 277.0, 278.0, 280.0, 281.0, 282.0, 284.0, 285.0, 286.0, 287.0, 289.0, 290.0, 291.0, 293.0, 294.0, 295.0, 296.0, 297.0, 299.0, 300.0, 301.0, 303.0, 304.0, 305.0, 306.0, 307.0, 309.0, 310.0, 311.0, 313.0, 314.0, 315.0, 316.0, 317.0, 319.0, 320.0, 321.0, 323.0, 324.0, 325.0, 326.0, 328.0, 329.0, 330.0, 332.0, 333.0, 334.0, 335.0, 337.0, 338.0, 339.0, 341.0, 342.0, 343.0, 344.0, 345.0, 347.0, 348.0, 349.0, 351.0, 352.0, 353.0, 354.0, 355.0, 357.0, 358.0, 359.0, 361.0, 362.0, 363.0, 364.0, 366.0, 367.0, 368.0, 370.0, 371.0, 372.0, 373.0, 375.0, 376.0, 377.0, 379.0, 380.0, 381.0, 382.0, 383.0, 384.0, 386.0, 387.0, 388.0, 390.0, 391.0, 392.0, 393.0, 395.0, 396.0, 397.0, 399.0, 400.0, 401.0, 402.0, 403.0, 405.0, 406.0, 407.0, 409.0, 410.0, 411.0, 412.0, 414.0, 415.0, 416.0, 418.0, 419.0, 420.0, 421.0, 422.0, 423.0, 425.0, 427.0, 428.0, 429.0, 430.0, 432.0, 433.0, 434.0, 436.0, 437.0, 438.0, 440.0, 441.0, 442.0, 443.0, 444.0, 446.0, 447.0, 448.0, 450.0, 451.0, 452.0, 453.0, 454.0, 455.0, 456.0, 458.0, 459.0, 460.0, 462.0, 463.0, 464.0, 465.0, 467.0, 468.0, 469.0, 471.0, 472.0, 473.0, 474.0, 475.0, 477.0, 478.0, 479.0, 481.0, 482.0, 483.0, 484.0, 486.0, 487.0, 488.0, 490.0, 491.0, 492.0, 493.0, 495.0, 496.0, 497.0, 499.0, 500.0, 501.0, 502.0, 503.0, 505.0, 506.0, 507.0, 509.0, 510.0, 511.0, 512.0, 513.0, 515.0, 516.0, 517.0, 519.0, 520.0, 521.0, 522.0, 524.0, 525.0, 526.0, 528.0, 529.0, 530.0, 531.0, 533.0, 534.0, 535.0, 537.0, 538.0, 539.0, 540.0, 541.0, 543.0, 544.0, 545.0, 547.0, 548.0, 549.0, 550.0, 551.0, 553.0, 554.0, 555.0, 557.0, 558.0, 559.0, 560.0, 561.0, 563.0, 564.0, 565.0, 567.0, 568.0, 569.0, 570.0, 572.0, 573.0, 574.0, 576.0, 577.0, 578.0, 579.0, 581.0, 582.0, 583.0, 585.0, 586.0, 587.0, 588.0, 589.0, 591.0, 592.0, 593.0, 595.0, 596.0, 597.0, 598.0, 599.0, 601.0, 602.0, 603.0, 605.0, 606.0, 607.0, 608.0, 610.0, 611.0, 612.0, 614.0, 615.0, 616.0, 617.0, 619.0, 620.0, 621.0, 623.0, 624.0, 625.0, 626.0, 627.0, 629.0, 630.0, 631.0, 633.0, 634.0, 635.0, 636.0, 637.0, 639.0, 640.0, 641.0, 643.0, 644.0, 645.0, 646.0, 648.0, 649.0, 650.0, 652.0, 653.0, 654.0, 655.0, 657.0, 658.0, 659.0, 661.0, 662.0, 663.0, 664.0, 665.0, 666.0, 668.0, 669.0, 670.0, 672.0, 673.0, 675.0, 676.0, 677.0, 679.0, 680.0, 681.0, 682.0, 683.0, 685.0, 686.0, 687.0, 689.0, 690.0, 691.0, 692.0, 693.0, 694.0, 695.0, 697.0, 699.0, 700.0, 701.0, 702.0, 704.0, 705.0, 706.0, 708.0, 709.0, 710.0, 711.0, 712.0, 714.0, 715.0, 716.0, 718.0, 719.0, 720.0, 721.0, 722.0, 724.0, 725.0, 726.0, 728.0, 729.0, 730.0, 731.0, 732.0, 733.0, 735.0, 736.0, 737.0, 739.0, 740.0, 741.0, 742.0, 744.0, 745.0, 746.0, 748.0, 749.0, 750.0, 751.0, 753.0, 754.0, 755.0, 757.0, 758.0, 759.0, 760.0, 761.0, 763.0, 764.0, 765.0, 767.0, 768.0, 769.0, 770.0, 772.0, 773.0, 774.0, 776.0, 777.0, 778.0, 779.0, 781.0, 782.0, 783.0, 785.0, 786.0, 787.0, 788.0, 789.0, 790.0, 792.0, 793.0, 794.0, 796.0, 797.0, 798.0, 799.0, 801.0, 802.0, 803.0, 805.0, 806.0, 807.0, 808.0, 809.0, 811.0, 812.0, 813.0, 815.0, 816.0, 817.0, 818.0, 820.0, 821.0, 822.0, 824.0, 825.0, 826.0, 827.0, 829.0, 830.0, 831.0, 833.0, 834.0, 835.0, 836.0, 837.0, 839.0, 840.0, 841.0, 843.0, 844.0, 845.0, 846.0, 847.0, 849.0, 850.0, 851.0, 853.0, 854.0, 855.0, 856.0, 858.0, 859.0, 860.0, 862.0, 863.0, 864.0, 865.0, 867.0, 868.0, 869.0, 871.0, 872.0, 873.0, 874.0, 875.0, 876.0, 878.0, 879.0, 880.0, 882.0, 883.0, 885.0, 886.0, 887.0, 889.0, 890.0, 891.0, 892.0, 893.0, 895.0, 896.0, 897.0, 899.0, 900.0, 901.0, 902.0, 903.0, 905.0, 906.0, 907.0, 909.0, 910.0, 911.0, 912.0, 913.0, 914.0, 915.0, 917.0, 919.0, 920.0, 921.0, 922.0, 924.0, 925.0, 926.0, 928.0, 929.0, 930.0, 931.0, 932.0, 934.0, 935.0, 936.0, 938.0, 939.0, 940.0, 941.0, 942.0, 944.0, 945.0, 946.0, 948.0, 949.0, 950.0, 951.0, 952.0, 953.0, 955.0, 956.0, 957.0, 959.0, 960.0, 961.0, 962.0, 964.0, 965.0, 966.0, 968.0, 969.0, 970.0, 971.0, 973.0, 974.0, 975.0, 977.0, 978.0, 979.0, 980.0, 981.0, 983.0, 984.0, 985.0, 987.0, 988.0, 989.0, 990.0, 992.0, 993.0, 994.0, 996.0, 997.0, 998.0, 999.0, 1001.0, 1002.0, 1003.0, 1005.0, 1006.0, 1007.0, 1008.0, 1009.0, 1011.0, 1012.0, 1013.0, 1015.0, 1016.0, 1017.0, 1018.0, 1019.0, 1021.0, 1022.0, 1023.0, 1025.0, 1026.0, 1027.0, 1028.0, 1030.0, 1031.0, 1032.0, 1034.0, 1035.0, 1036.0, 1037.0, 1039.0, 1040.0, 1041.0, 1043.0, 1044.0, 1045.0, 1046.0, 1047.0, 1048.0, 1049.0, 1051.0, 1053.0, 1054.0, 1055.0, 1056.0, 1058.0, 1059.0, 1060.0, 1062.0, 1063.0, 1064.0, 1065.0, 1066.0, 1068.0, 1069.0, 1070.0, 1072.0, 1073.0, 1074.0, 1075.0, 1076.0, 1078.0, 1079.0, 1080.0, 1082.0, 1083.0, 1084.0, 1085.0, 1086.0, 1087.0, 1089.0, 1091.0, 1092.0, 1093.0, 1094.0, 1096.0, 1097.0, 1098.0, 1100.0, 1101.0, 1102.0, 1103.0, 1104.0, 1106.0, 1107.0, 1108.0, 1110.0, 1111.0, 1112.0, 1113.0, 1114.0, 1116.0, 1117.0, 1118.0, 1120.0, 1121.0, 1122.0, 1123.0, 1124.0, 1125.0, 1127.0, 1128.0, 1129.0, 1131.0, 1132.0, 1133.0, 1134.0, 1135.0, 1137.0, 1138.0, 1139.0, 1141.0, 1142.0, 1143.0, 1144.0, 1146.0, 1147.0, 1148.0, 1150.0, 1151.0, 1152.0, 1153.0, 1155.0, 1156.0, 1157.0, 1159.0, 1160.0, 1161.0, 1162.0, 1163.0, 1165.0, 1166.0, 1167.0, 1169.0, 1170.0, 1171.0, 1172.0, 1174.0, 1175.0, 1176.0, 1178.0, 1179.0, 1180.0, 1181.0, 1183.0, 1184.0, 1185.0, 1187.0, 1188.0, 1189.0, 1190.0, 1191.0, 1193.0, 1194.0, 1195.0, 1197.0, 1198.0, 1199.0, 1200.0, 1201.0, 1203.0, 1204.0, 1205.0, 1207.0, 1208.0, 1209.0, 1210.0, 1212.0, 1213.0, 1214.0, 1216.0, 1217.0, 1218.0, 1219.0, 1221.0, 1222.0, 1223.0, 1225.0, 1226.0, 1227.0, 1228.0, 1229.0, 1231.0, 1232.0, 1233.0, 1235.0, 1236.0, 1237.0, 1238.0, 1239.0, 1240.0, 1242.0, 1243.0, 1244.0, 1246.0, 1247.0, 1249.0, 1250.0, 1251.0, 1253.0, 1254.0, 1255.0, 1256.0, 1257.0, 1259.0, 1260.0, 1261.0, 1263.0, 1264.0, 1265.0, 1266.0, 1267.0, 1269.0, 1270.0, 1271.0, 1273.0, 1274.0, 1275.0, 1276.0, 1277.0, 1279.0, 1280.0, 1281.0, 1283.0, 1284.0, 1285.0, 1286.0, 1287.0, 1288.0, 1290.0, 1291.0, 1292.0, 1294.0, 1295.0, 1297.0, 1298.0, 1299.0, 1301.0, 1302.0, 1303.0, 1304.0, 1305.0, 1307.0, 1308.0, 1309.0, 1311.0, 1312.0, 1313.0, 1314.0, 1315.0, 1317.0, 1318.0, 1319.0, 1321.0, 1322.0, 1323.0, 1324.0, 1325.0, 1327.0, 1328.0, 1329.0, 1331.0, 1332.0, 1333.0, 1334.0, 1335.0, 1336.0, 1338.0, 1339.0, 1340.0, 1342.0, 1343.0, 1345.0, 1346.0, 1347.0, 1349.0, 1350.0, 1351.0, 1352.0, 1353.0, 1355.0, 1356.0, 1357.0, 1359.0, 1360.0, 1361.0, 1362.0, 1363.0, 1365.0, 1366.0, 1367.0, 1369.0, 1370.0, 1371.0, 1372.0, 1373.0, 1375.0, 1376.0, 1377.0, 1379.0, 1380.0, 1381.0, 1382.0, 1383.0, 1384.0, 1386.0, 1387.0, 1388.0, 1390.0, 1391.0, 1393.0, 1394.0, 1395.0, 1397.0, 1398.0, 1399.0, 1400.0, 1401.0, 1403.0, 1404.0, 1405.0, 1407.0, 1408.0, 1409.0, 1410.0, 1411.0, 1413.0, 1414.0, 1415.0, 1417.0, 1418.0, 1419.0, 1420.0, 1421.0, 1422.0, 1424.0, 1425.0, 1426.0, 1428.0, 1429.0, 1431.0, 1432.0, 1433.0, 1435.0, 1436.0, 1437.0, 1438.0, 1439.0, 1441.0, 1442.0, 1443.0, 1445.0, 1446.0, 1447.0, 1448.0, 1449.0, 1451.0, 1452.0, 1453.0, 1455.0, 1456.0, 1457.0, 1458.0, 1459.0, 1461.0, 1462.0, 1463.0, 1465.0, 1466.0, 1467.0, 1468.0, 1469.0, 1470.0, 1472.0, 1473.0, 1474.0, 1476.0, 1477.0, 1479.0, 1480.0, 1481.0, 1483.0, 1484.0, 1485.0, 1486.0, 1487.0, 1489.0, 1490.0, 1491.0, 1493.0, 1494.0, 1495.0, 1496.0, 1497.0, 1499.0, 1500.0, 1501.0, 1503.0, 1504.0, 1505.0, 1506.0, 1507.0, 1509.0, 1510.0, 1511.0, 1513.0, 1514.0, 1515.0, 1516.0, 1517.0, 1518.0, 1520.0, 1521.0, 1522.0, 1524.0, 1525.0, 1527.0, 1528.0, 1529.0, 1531.0, 1532.0, 1533.0, 1534.0, 1535.0, 1537.0, 1538.0, 1539.0, 1541.0, 1542.0, 1543.0, 1544.0, 1545.0, 1547.0, 1548.0, 1549.0, 1551.0, 1552.0, 1553.0, 1554.0, 1555.0, 1557.0, 1558.0, 1559.0, 1561.0, 1562.0, 1563.0, 1564.0, 1565.0, 1566.0, 1568.0, 1569.0, 1570.0, 1572.0, 1573.0, 1575.0, 1576.0, 1577.0, 1579.0, 1580.0, 1581.0, 1582.0, 1583.0, 1585.0, 1586.0, 1587.0, 1589.0, 1590.0, 1591.0, 1592.0, 1593.0, 1595.0, 1596.0, 1597.0, 1599.0, 1600.0, 1601.0, 1602.0, 1603.0, 1605.0, 1606.0, 1607.0, 1609.0, 1610.0, 1611.0, 1612.0, 1613.0, 1614.0, 1616.0, 1617.0, 1618.0, 1620.0, 1621.0, 1623.0, 1624.0, 1625.0, 1627.0, 1628.0, 1629.0, 1630.0, 1631.0, 1633.0, 1634.0, 1635.0, 1637.0, 1638.0, 1639.0, 1640.0, 1641.0, 1643.0, 1644.0, 1645.0, 1647.0, 1648.0, 1649.0, 1650.0, 1651.0, 1653.0, 1654.0, 1655.0, 1657.0, 1658.0, 1659.0, 1660.0, 1661.0, 1662.0, 1664.0, 1666.0, 1667.0, 1668.0, 1669.0, 1671.0, 1672.0, 1673.0, 1675.0, 1676.0, 1677.0, 1679.0, 1680.0, 1681.0, 1682.0, 1683.0, 1684.0, 1685.0, 1687.0, 1688.0, 1689.0, 1691.0, 1692.0, 1693.0, 1694.0, 1696.0, 1697.0, 1698.0, 1700.0, 1701.0, 1702.0, 1703.0, 1704.0, 1706.0, 1707.0, 1708.0, 1710.0, 1711.0, 1712.0, 1713.0, 1715.0, 1716.0, 1717.0, 1719.0, 1720.0, 1721.0, 1722.0, 1724.0, 1725.0, 1726.0, 1728.0, 1729.0, 1730.0, 1731.0, 1732.0, 1733.0, 1734.0, 1736.0, 1738.0, 1739.0, 1740.0, 1741.0, 1743.0, 1744.0, 1745.0, 1747.0, 1748.0, 1749.0, 1750.0, 1751.0, 1753.0, 1754.0, 1755.0, 1757.0, 1758.0, 1759.0, 1760.0, 1761.0, 1763.0, 1764.0, 1765.0, 1767.0, 1768.0, 1769.0, 1770.0, 1771.0, 1772.0, 1774.0, 1776.0, 1777.0, 1778.0, 1779.0, 1781.0, 1782.0, 1783.0, 1785.0, 1786.0, 1787.0, 1788.0, 1789.0, 1791.0, 1792.0, 1793.0, 1795.0, 1796.0, 1797.0, 1798.0, 1799.0, 1801.0, 1802.0, 1803.0, 1805.0, 1806.0, 1807.0, 1808.0, 1809.0, 1810.0, 1812.0, 1813.0, 1814.0, 1816.0, 1817.0, 1818.0, 1819.0, 1821.0, 1822.0, 1823.0, 1825.0, 1826.0, 1827.0, 1828.0, 1830.0, 1831.0, 1832.0, 1834.0, 1835.0, 1836.0, 1837.0, 1838.0, 1840.0, 1841.0, 1842.0, 1844.0, 1845.0, 1846.0, 1847.0, 1848.0, 1850.0, 1851.0, 1852.0, 1854.0, 1855.0, 1856.0, 1857.0, 1859.0, 1860.0, 1861.0, 1863.0, 1864.0, 1865.0, 1866.0, 1868.0, 1869.0, 1870.0, 1872.0, 1873.0, 1874.0, 1875.0, 1876.0, 1877.0, 1879.0, 1880.0, 1881.0, 1883.0, 1884.0, 1886.0, 1887.0, 1888.0, 1890.0, 1891.0, 1892.0, 1893.0, 1894.0, 1896.0, 1897.0, 1898.0, 1900.0, 1901.0, 1902.0, 1903.0, 1904.0, 1906.0, 1907.0, 1908.0, 1910.0, 1911.0, 1912.0, 1913.0, 1914.0, 1915.0, 1916.0, 1918.0, 1920.0, 1921.0, 1922.0, 1923.0, 1925.0, 1926.0, 1927.0, 1929.0, 1930.0, 1931.0, 1932.0, 1933.0, 1935.0, 1936.0, 1937.0, 1939.0, 1940.0, 1941.0, 1942.0, 1943.0, 1945.0, 1946.0, 1947.0, 1949.0, 1950.0, 1951.0, 1952.0, 1953.0, 1954.0, 1956.0, 1957.0, 1958.0, 1960.0, 1961.0, 1962.0, 1963.0, 1965.0, 1966.0, 1967.0, 1969.0, 1970.0, 1971.0, 1972.0, 1974.0, 1975.0, 1976.0, 1978.0, 1979.0, 1980.0, 1981.0, 1982.0, 1984.0, 1985.0, 1986.0, 1988.0, 1989.0, 1990.0, 1991.0, 1993.0, 1994.0, 1995.0, 1997.0, 1998.0, 1999.0, 2000.0, 2002.0, 2003.0, 2004.0, 2006.0, 2007.0, 2008.0, 2009.0, 2010.0, 2011.0, 2012.0, 2014.0, 2016.0, 2017.0, 2018.0, 2019.0, 2021.0, 2022.0, 2023.0, 2025.0, 2026.0, 2027.0, 2028.0, 2029.0, 2031.0, 2032.0, 2033.0, 2035.0, 2036.0, 2037.0, 2038.0, 2039.0, 2041.0, 2042.0, 2043.0, 2045.0, 2046.0, 2047.0, 2048.0, 2049.0, 2051.0, 2052.0, 2053.0, 2055.0, 2056.0, 2057.0, 2058.0, 2060.0, 2061.0, 2062.0, 2064.0, 2065.0, 2066.0, 2067.0, 2068.0, 2070.0, 2071.0, 2072.0, 2074.0, 2075.0, 2076.0, 2077.0, 2078.0, 2080.0, 2081.0, 2082.0, 2084.0, 2085.0, 2086.0, 2087.0, 2089.0, 2090.0, 2091.0, 2093.0, 2094.0, 2095.0, 2096.0, 2097.0, 2098.0, 2100.0, 2101.0, 2102.0, 2104.0, 2105.0, 2106.0, 2107.0, 2109.0, 2110.0, 2111.0, 2113.0, 2114.0, 2115.0, 2116.0, 2118.0, 2119.0, 2120.0, 2122.0, 2123.0, 2124.0, 2125.0, 2126.0, 2128.0, 2129.0, 2130.0, 2132.0, 2133.0, 2134.0, 2135.0, 2137.0, 2138.0, 2139.0, 2141.0, 2142.0, 2143.0, 2144.0, 2146.0, 2147.0, 2148.0, 2150.0, 2151.0, 2152.0, 2153.0, 2154.0, 2155.0, 2157.0, 2158.0, 2159.0, 2161.0, 2162.0, 2163.0, 2164.0, 2166.0, 2167.0, 2168.0, 2170.0, 2171.0, 2172.0, 2173.0, 2174.0, 2176.0, 2177.0, 2178.0, 2180.0, 2181.0, 2182.0, 2183.0, 2185.0, 2186.0, 2187.0, 2189.0, 2190.0, 2191.0, 2192.0, 2194.0, 2195.0, 2196.0, 2198.0, 2199.0, 2200.0, 2201.0, 2202.0, 2203.0, 2205.0, 2206.0, 2207.0, 2209.0, 2210.0, 2212.0, 2213.0, 2214.0, 2216.0, 2217.0, 2218.0, 2219.0, 2220.0, 2222.0, 2223.0, 2224.0, 2226.0, 2227.0, 2228.0, 2229.0, 2230.0, 2231.0, 2232.0, 2234.0, 2235.0, 2236.0, 2238.0, 2239.0, 2240.0, 2241.0, 2243.0, 2244.0, 2245.0, 2247.0, 2248.0, 2249.0, 2250.0, 2252.0, 2253.0, 2254.0, 2256.0, 2257.0, 2258.0, 2259.0, 2260.0, 2262.0, 2263.0, 2264.0, 2266.0, 2267.0, 2268.0, 2269.0, 2271.0, 2272.0, 2273.0, 2275.0, 2276.0, 2277.0, 2278.0, 2279.0, 2280.0, 2282.0, 2284.0, 2285.0, 2286.0, 2287.0, 2289.0, 2290.0, 2291.0, 2293.0, 2294.0, 2295.0, 2296.0, 2297.0, 2299.0, 2300.0, 2301.0, 2303.0, 2304.0, 2305.0, 2306.0, 2307.0, 2309.0, 2310.0, 2311.0, 2313.0, 2314.0, 2315.0, 2316.0, 2317.0, 2318.0, 2320.0, 2321.0, 2322.0, 2324.0, 2325.0, 2326.0, 2327.0, 2329.0, 2330.0, 2331.0, 2333.0, 2334.0, 2335.0, 2336.0, 2338.0, 2339.0, 2340.0, 2342.0, 2343.0, 2344.0, 2345.0, 2346.0, 2347.0, 2349.0, 2350.0, 2351.0, 2353.0, 2354.0, 2356.0, 2357.0, 2358.0, 2360.0, 2361.0, 2362.0, 2363.0, 2364.0, 2365.0, 2366.0, 2368.0, 2369.0, 2370.0, 2372.0, 2373.0, 2374.0, 2375.0, 2377.0, 2378.0, 2379.0, 2381.0, 2382.0, 2383.0, 2384.0, 2386.0, 2387.0, 2388.0, 2390.0, 2391.0, 2392.0, 2393.0, 2394.0, 2396.0, 2397.0, 2398.0, 2400.0, 2401.0, 2402.0, 2403.0, 2405.0, 2406.0, 2407.0, 2409.0, 2410.0, 2411.0, 2412.0, 2413.0, 2414.0, 2416.0, 2417.0, 2418.0, 2420.0, 2421.0, 2422.0, 2423.0, 2425.0, 2426.0, 2427.0, 2429.0, 2430.0, 2431.0, 2432.0, 2434.0, 2435.0, 2436.0, 2438.0, 2439.0, 2440.0, 2441.0, 2442.0, 2444.0, 2445.0, 2446.0, 2448.0, 2449.0, 2450.0, 2451.0, 2453.0, 2454.0, 2455.0, 2457.0, 2458.0, 2459.0, 2460.0, 2461.0, 2462.0, 2464.0, 2465.0, 2466.0, 2468.0, 2469.0, 2470.0, 2471.0, 2473.0, 2474.0, 2475.0, 2477.0, 2478.0, 2479.0, 2480.0, 2482.0, 2483.0, 2484.0, 2486.0, 2487.0, 2488.0, 2489.0, 2490.0, 2492.0], \"y\": [-327613.5625, -347307.46875, -371488.8125, -400073.125, -427774.75, -452045.5, -457292.53125, -461901.71875, -463965.46875, -467420.90625, -472347.84375, -473179.625, -479741.0625, -482195.53125, -483605.3125, -485771.4375, -486203.875, -487951.90625, -491241.09375, -491570.78125, -496080.5625, -497213.21875, -497915.6875, -498763.46875, -498799.15625, -499046.28125, -503262.40625, -504593.0, -505915.8125, -506156.0, -507576.65625, -508785.875, -509318.46875, -510724.90625, -511570.375, -512163.8125, -513049.4375, -513198.59375, -514060.0625, -515346.625, -515770.25, -517365.96875, -517970.875, -518393.28125, -518940.53125, -519113.65625, -519503.0, -520976.96875, -521470.0625, -523376.15625, -523768.4375, -524160.4375, -524392.6875, -524642.6875, -525842.0625, -526627.125, -528135.0, -528466.625, -528805.0, -529019.625, -529234.625, -529243.1875, -530580.75, -531360.9375, -533037.75, -533258.375, -533530.25, -533616.0, -533754.125, -534759.5625, -534983.1875, -536371.75, -536556.0625, -536813.875, -536877.375, -537045.6875, -537866.625, -538099.625, -539175.625, -539363.5, -539598.0, -539684.0625, -539870.875, -540482.5625, -540770.0625, -541525.375, -541729.1875, -541909.6875, -542070.5, -542177.0, -542256.75, -542923.5, -543345.375, -544165.75, -544324.4375, -544503.0625, -544597.5625, -544722.6875, -545211.0625, -545590.1875, -546232.5, -546385.0625, -546561.0, -546651.1875, -546802.125, -547171.5, -547471.0625, -547934.6875, -548092.375, -548235.625, -548367.125, -548467.25, -548547.0, -548560.375, -549139.4375, -549493.6875, -550262.25, -550353.1875, -550513.4375, -550523.125, -550658.75, -551057.25, -551099.3125, -551615.0, -551741.3125, -551839.625, -551936.9375, -551977.1875, -552012.1875, -552503.8125, -552620.625, -553263.125, -553349.6875, -553466.0, -553494.625, -553571.5, -553955.125, -554043.75, -554556.1875, -554649.5, -554753.1875, -554801.9375, -554870.6875, -555199.1875, -555380.0625, -555812.0, -555904.1875, -556006.9375, -556060.6875, -556137.375, -556408.6875, -556606.875, -556966.0625, -557058.8125, -557155.125, -557217.4375, -557289.875, -557298.6875, -557315.3125, -557748.6875, -557915.6875, -558079.0625, -558094.8125, -558290.625, -558424.4375, -558477.5, -558632.4375, -558756.1875, -558840.0, -558987.125, -559092.125, -559187.6875, -559306.1875, -559340.5, -559466.625, -559618.5625, -559700.625, -559890.8125, -559987.0, -560060.8125, -560160.4375, -560190.875, -560290.125, -560470.0625, -560560.0625, -560778.5, -560868.25, -560934.0, -561024.625, -561048.9375, -561135.0, -561331.8125, -561410.25, -561651.75, -561735.4375, -561795.125, -561875.625, -561897.0625, -561965.4375, -562183.875, -562253.25, -562523.0, -562599.0625, -562655.75, -562723.5625, -562743.6875, -562791.3125, -563035.5, -563099.4375, -563402.375, -563469.375, -563525.625, -563578.0, -563600.1875, -563623.3125, -563897.0, -563962.125, -564302.25, -564359.0625, -564415.875, -564451.5, -564476.9375, -564701.625, -564889.9375, -565192.625, -565244.0625, -565325.5625, -565338.375, -565419.75, -565568.375, -565615.375, -565799.25, -565869.5625, -565916.75, -565987.0, -566001.125, -566063.0625, -566233.125, -566282.5, -566494.75, -566557.8125, -566604.625, -566661.0625, -566679.0, -566719.375, -566914.1875, -566973.9375, -567219.0625, -567274.0, -567322.4375, -567363.5, -567387.5, -567402.4375, -567625.9375, -567711.375, -567992.6875, -568037.75, -568089.8125, -568114.375, -568144.9375, -568321.625, -568430.75, -568667.5625, -568712.6875, -568774.125, -568793.5, -568849.0, -568979.1875, -569043.6875, -569206.625, -569261.875, -569306.3125, -569356.1875, -569379.3125, -569415.5, -569566.75, -569654.0625, -569846.0625, -569894.125, -569940.9375, -569976.875, -570006.4375, -570019.625, -570196.375, -570334.0, -570556.875, -570597.0, -570647.25, -570668.3125, -570705.25, -570838.6875, -570923.0625, -571100.1875, -571144.25, -571192.5625, -571220.625, -571260.75, -571370.4375, -571472.375, -571611.8125, -571658.6875, -571702.9375, -571741.0625, -571774.0, -571795.875, -571804.5, -571977.9375, -572079.5625, -572310.0, -572341.25, -572392.6875, -572399.125, -572443.625, -572567.5625, -572594.9375, -572754.8125, -572798.0, -572832.9375, -572867.75, -572885.0, -572901.625, -573054.75, -573124.1875, -573323.5625, -573357.125, -573399.5, -573415.0, -573447.125, -573566.875, -573623.875, -573780.9375, -573818.875, -573857.625, -573883.75, -573911.8125, -573915.375, -573918.1875, -574109.8125, -574185.3125, -574256.375, -574263.0, -574349.125, -574405.8125, -574429.75, -574494.6875, -574548.625, -574587.875, -574652.3125, -574697.3125, -574739.875, -574790.25, -574809.625, -574862.375, -574927.1875, -574974.5625, -575056.0, -575098.0, -575134.0625, -575175.875, -575198.125, -575234.0, -575234.9375, -575255.4375, -575402.4375, -575403.9375, -575600.0625, -575627.125, -575662.8125, -575671.8125, -575696.75, -575817.375, -575847.6875, -576003.5625, -576035.8125, -576067.1875, -576089.5625, -576106.0625, -576109.625, -576255.3125, -576316.0, -576502.625, -576528.5, -576562.9375, -576573.1875, -576595.4375, -576708.5, -576750.875, -576904.0, -576931.9375, -576968.875, -576980.25, -577012.8125, -577101.5, -577138.9375, -577251.375, -577285.6875, -577313.25, -577343.6875, -577356.0625, -577377.5, -577482.0625, -577523.0625, -577655.625, -577686.0625, -577713.75, -577736.9375, -577750.6875, -577760.6875, -577882.3125, -577927.125, -578081.25, -578107.625, -578136.125, -578152.0625, -578166.375, -578268.1875, -578349.4375, -578490.125, -578514.5625, -578553.375, -578559.25, -578598.75, -578669.6875, -578690.3125, -578778.75, -578813.1875, -578835.0, -578870.125, -578874.25, -578906.4375, -578989.375, -579005.0625, -579108.875, -579140.75, -579161.6875, -579191.375, -579195.375, -579218.9375, -579316.125, -579327.0625, -579450.375, -579478.5625, -579499.3125, -579522.625, -579527.5, -579539.125, -579654.625, -579661.9375, -579808.0, -579831.75, -579854.25, -579868.75, -579876.5625, -579976.875, -580057.1875, -580196.625, -580216.4375, -580252.5625, -580253.4375, -580290.4375, -580358.0625, -580367.875, -580452.5625, -580483.5625, -580501.5, -580532.875, -580533.9375, -580561.1875, -580642.625, -580649.625, -580753.0625, -580780.5, -580798.9375, -580822.4375, -580826.4375, -580841.375, -580939.375, -580948.4375, -581074.625, -581097.1875, -581118.25, -581132.5, -581141.3125, -581228.4375, -581302.1875, -581420.75, -581440.625, -581471.9375, -581477.0, -581506.75, -581568.0625, -581586.1875, -581663.75, -581690.5625, -581709.625, -581734.6875, -581741.9375, -581761.5625, -581836.125, -581859.625, -581955.375, -581978.8125, -581999.4375, -582016.6875, -582028.0625, -582034.6875, -582125.125, -582168.9375, -582285.9375, -582304.375, -582328.375, -582337.0, -582353.5, -582424.6875, -582458.0, -582552.8125, -582573.8125, -582597.25, -582609.125, -582628.25, -582687.375, -582729.125, -582804.3125, -582827.6875, -582849.0, -582866.8125, -582881.625, -582890.875, -582891.375, -582988.0, -583030.3125, -583159.9375, -583173.5625, -583200.75, -583238.9375, -583271.1875, -583318.5, -583342.75, -583363.8125, -583387.6875, -583400.5625, -583422.875, -583467.75, -583509.0625, -583566.4375, -583588.5625, -583608.9375, -583629.8125, -583643.75, -583658.75, -583661.1875, -583664.75, -583762.25, -583800.125, -583836.125, -583841.125, -583884.0, -583914.9375, -583928.6875, -583965.25, -583992.1875, -584012.5625, -584043.5, -584046.875, -584080.0625, -584119.1875, -584132.375, -584182.3125, -584206.5, -584223.0625, -584246.9375, -584253.0625, -584274.6875, -584325.75, -584347.6875, -584414.875, -584435.3125, -584453.125, -584469.25, -584482.25, -584488.5, -584490.625, -584577.5, -584597.0625, -584710.375, -584723.8125, -584743.875, -584747.0625, -584760.0, -584827.25, -584840.375, -584930.5625, -584946.75, -584965.75, -584973.375, -584987.375, -585043.8125, -585071.1875, -585144.375, -585162.3125, -585179.4375, -585193.125, -585204.1875, -585208.25, -585276.5625, -585327.3125, -585415.5625, -585430.5625, -585450.3125, -585457.125, -585472.375, -585524.0625, -585551.0625, -585620.9375, -585637.8125, -585655.8125, -585667.125, -585682.0625, -585726.5, -585767.125, -585824.3125, -585842.4375, -585859.6875, -585874.375, -585887.5625, -585895.5625, -585898.125, -585969.1875, -586008.5625, -586105.5625, -586116.625, -586138.75, -586138.9375, -586159.25, -586209.4375, -586213.1875, -586277.5625, -586295.9375, -586308.0625, -586324.6875, -586327.375, -586338.6875, -586400.375, -586408.75, -586488.5625, -586503.875, -586518.3125, -586527.8125, -586535.25, -586589.9375, -586639.5, -586713.5625, -586728.0, -586748.0625, -586753.125, -586772.0, -586811.875, -586828.75, -586879.0625, -586897.125, -586911.0, -586927.125, -586933.875, -586946.5, -586994.375, -587018.0, -587080.0, -587095.4375, -587110.6875, -587122.25, -587131.75, -587136.25, -587194.125, -587234.1875, -587308.8125, -587322.1875, -587339.125, -587345.4375, -587357.625, -587403.125, -587429.625, -587490.25, -587504.625, -587521.3125, -587529.9375, -587544.3125, -587581.8125, -587613.0625, -587660.5, -587676.875, -587691.5, -587704.5625, -587714.75, -587723.375, -587723.5, -587786.0625, -587833.5625, -587918.625, -587928.25, -587948.875, -587972.9375, -587994.0625, -588023.5625, -588040.5, -588056.0, -588073.375, -588082.5625, -588099.6875, -588128.0, -588152.25, -588187.5, -588203.8125, -588217.625, -588233.875, -588242.875, -588257.125, -588290.0, -588320.0, -588361.5625, -588377.1875, -588391.0, -588404.75, -588414.8125, -588424.1875, -588425.375, -588426.8125, -588497.375, -588523.25, -588549.0, -588551.5625, -588582.1875, -588603.9375, -588612.5, -588638.6875, -588658.1875, -588671.5, -588693.1875, -588694.75, -588717.875, -588746.3125, -588754.5, -588791.625, -588808.125, -588819.375, -588835.5, -588840.8125, -588854.5, -588891.5625, -588909.3125, -588959.1875, -588972.75, -588986.375, -588996.5625, -589007.125, -589009.3125, -589012.375, -589073.875, -589077.0, -589156.375, -589166.25, -589179.125, -589183.0625, -589189.625, -589240.1875, -589256.625, -589325.4375, -589335.5625, -589350.8125, -589353.8125, -589367.3125, -589406.3125, -589417.1875, -589466.625, -589480.625, -589491.5625, -589503.4375, -589508.25, -589515.1875, -589562.0625, -589579.8125, -589640.4375, -589652.3125, -589664.625, -589672.375, -589679.625, -589719.875, -589755.125, -589809.0, -589820.8125, -589836.125, -589841.5625, -589856.4375, -589886.5625, -589903.875, -589942.0, -589956.375, -589967.875, -589980.875, -589987.0625, -589997.5, -590033.5625, -590056.5, -590102.5625, -590115.5, -590127.6875, -590137.9375, -590145.8125, -590150.4375, -590193.0625, -590228.625, -590283.5, -590294.625, -590308.0625, -590314.75, -590324.375, -590358.875, -590387.75, -590433.4375, -590445.75, -590459.5625, -590466.9375, -590479.25, -590507.0625, -590531.5, -590566.25, -590579.8125, -590591.75, -590603.875, -590611.75, -590620.9375, -590621.4375, -590623.5, -590682.75, -590704.125, -590725.875, -590728.375, -590753.6875, -590772.5, -590780.625, -590803.5, -590819.5625, -590830.9375, -590849.0, -590851.1875, -590870.0625, -590894.875, -590903.5625, -590935.5, -590949.5, -590959.5625, -590973.4375, -590977.9375, -590988.9375, -591021.5625, -591040.5625, -591084.4375, -591096.0, -591108.125, -591116.3125, -591126.375, -591127.5, -591132.125, -591183.375, -591203.25, -591222.625, -591227.1875, -591249.3125, -591267.0, -591276.8125, -591298.5, -591313.375, -591325.1875, -591341.1875, -591345.6875, -591362.3125, -591385.25, -591397.875, -591427.625, -591440.5, -591451.5, -591463.875, -591470.6875, -591480.5, -591509.625, -591538.375, -591578.5, -591589.875, -591602.8125, -591610.125, -591622.0, -591622.4375, -591630.5625, -591674.0625, -591674.875, -591730.875, -591741.375, -591750.5625, -591757.625, -591761.0, -591761.5, -591814.3125, -591822.4375, -591890.9375, -591898.6875, -591910.0625, -591911.8125, -591918.8125, -591960.3125, -591968.3125, -592024.5625, -592033.875, -592045.75, -592048.875, -592058.5625, -592092.25, -592102.75, -592145.25, -592156.875, -592166.25, -592175.3125, -592180.125, -592184.875, -592224.875, -592242.1875, -592293.6875, -592303.375, -592313.5, -592319.6875, -592326.625, -592359.625, -592385.3125, -592430.4375, -592440.1875, -592452.6875, -592457.6875, -592469.125, -592494.6875, -592509.8125, -592542.25, -592554.0, -592563.5625, -592573.9375, -592579.5, -592587.75, -592618.0, -592638.0, -592676.8125, -592687.1875, -592697.125, -592705.8125, -592712.3125, -592715.9375, -592752.3125, -592781.375, -592827.375, -592836.9375, -592848.0, -592853.5, -592861.6875, -592890.1875, -592913.6875, -592952.5, -592962.5625, -592974.1875, -592980.3125, -592990.875, -593013.9375, -593033.3125, -593062.6875, -593073.5625, -593083.125, -593093.375, -593100.0625, -593107.625, -593135.0625, -593159.5625, -593194.125, -593204.6875, -593214.9375, -593222.875, -593230.0, -593234.25, -593235.25, -593278.375, -593299.1875, -593358.625, -593364.6875, -593378.125, -593395.25, -593409.25, -593429.9375, -593441.1875, -593451.5, -593463.25, -593468.75, -593480.8125, -593500.625, -593516.25, -593540.375, -593551.6875, -593561.0625, -593572.0, -593577.5, -593587.0, -593609.9375, -593628.9375, -593657.5625, -593668.4375, -593677.625, -593687.0625, -593693.0, -593699.875, -593726.875, -593751.6875, -593785.9375, -593795.625, -593804.9375, -593812.75, -593819.625, -593823.1875, -593823.6875, -593866.0625, -593880.6875, -593939.0, -593944.1875, -593956.875, -593973.625, -593987.1875, -594007.75, -594018.5625, -594027.8125, -594038.75, -594044.5, -594055.0625, -594074.375, -594090.0, -594114.125, -594124.6875, -594133.8125, -594143.625, -594148.875, -594157.375, -594180.0625, -594198.6875, -594227.5625, -594237.375, -594246.6875, -594254.75, -594260.625, -594266.4375, -594293.0625, -594317.875, -594352.3125, -594361.625, -594370.875, -594377.375, -594384.25, -594386.4375, -594387.5, -594428.9375, -594437.5625, -594494.25, -594499.8125, -594511.375, -594528.0, -594541.0, -594561.3125, -594571.625, -594580.3125, -594591.125, -594595.8125, -594605.75, -594625.0, -594639.75, -594664.0625, -594673.875, -594682.3125, -594691.875, -594696.8125, -594704.5625, -594727.0625, -594745.875, -594774.625, -594783.6875, -594792.5625, -594800.125, -594805.75, -594810.8125, -594837.1875, -594863.125, -594897.3125, -594905.6875, -594914.875, -594920.5, -594927.375, -594928.5625, -594929.875, -594970.5625, -594973.8125, -595029.625, -595034.4375, -595045.1875, -595061.375, -595074.0625, -595094.5625, -595104.4375, -595112.625, -595122.5625, -595126.75, -595136.125, -595155.5, -595169.8125, -595194.125, -595203.5625, -595211.6875, -595220.3125, -595225.5, -595232.1875, -595254.4375, -595273.5625, -595301.9375, -595311.0, -595319.25, -595326.25, -595331.875, -595335.6875, -595336.125, -595372.75, -595391.1875, -595441.8125, -595446.625, -595458.125, -595472.0, -595483.1875, -595500.5625, -595510.25, -595518.25, -595528.4375, -595532.8125, -595543.0625, -595559.25, -595571.6875, -595592.0625, -595601.25, -595608.6875, -595618.125, -595622.8125, -595631.0625, -595650.125, -595664.4375, -595688.25, -595697.0625, -595705.0, -595713.0, -595717.875, -595723.875, -595746.0625, -595765.25, -595793.8125, -595801.8125, -595809.75, -595816.1875, -595821.875, -595824.9375, -595825.4375, -595860.9375, -595874.5625, -595924.0, -595928.5, -595939.375, -595953.25, -595963.9375, -595981.25, -595990.625, -595998.3125, -596007.8125, -596011.9375, -596021.5, -596037.5625, -596049.375, -596069.8125, -596078.4375, -596085.9375, -596094.6875, -596099.0, -596106.5, -596125.625, -596139.8125, -596163.6875, -596172.125, -596179.4375, -596187.0, -596191.625, -596196.6875, -596218.875, -596238.0625, -596266.5625, -596274.5, -596282.0625, -596288.0, -596293.25, -596295.6875, -596296.0, -596331.375, -596340.0, -596388.5625, -596392.8125, -596403.5625, -596416.9375, -596427.75, -596444.3125, -596452.9375, -596460.6875, -596469.3125, -596473.5, -596482.3125, -596498.4375, -596509.875, -596529.9375, -596538.25, -596545.625, -596553.8125, -596557.875, -596564.4375, -596583.3125, -596597.25, -596620.875, -596629.1875, -596636.25, -596642.9375, -596647.6875, -596652.0, -596674.0, -596693.5, -596721.5, -596729.0, -596736.625, -596741.875, -596746.8125, -596748.8125, -596749.5625, -596784.0625, -596788.5, -596836.5625, -596840.1875, -596849.6875, -596863.5625, -596873.375, -596890.375, -596898.625, -596905.4375, -596914.1875, -596917.6875, -596926.1875, -596942.0, -596953.3125, -596973.25, -596981.5, -596988.3125, -596995.75, -596999.875, -597005.75, -597024.5, -597038.25, -597062.625, -597069.9375, -597077.0625, -597082.9375, -597087.75, -597091.25, -597113.625, -597133.0, -597161.5, -597168.25, -597175.4375, -597180.125, -597185.4375, -597186.875, -597187.3125, -597220.75, -597222.375, -597269.1875, -597272.625, -597281.75, -597295.3125, -597305.1875, -597321.75, -597329.375, -597336.4375, -597344.375, -597347.9375, -597355.4375, -597371.5625, -597382.5, -597402.6875, -597410.5625, -597416.625, -597423.4375, -597427.6875, -597433.25, -597451.8125, -597466.3125, -597490.5, -597497.1875, -597503.6875, -597509.5, -597514.0625, -597517.0, -597539.25, -597560.5, -597588.4375, -597595.1875, -597602.3125, -597606.0625, -597611.4375, -597611.875, -597612.8125, -597646.375, -597658.625, -597671.5, -597672.75, -597688.5, -597698.1875, -597702.4375, -597713.125, -597723.1875, -597731.375, -597744.0, -597751.5625, -597758.9375, -597766.6875, -597771.375, -597779.4375, -597779.625, -597785.5625, -597808.0625, -597811.125, -597841.6875, -597847.6875, -597854.125, -597857.8125, -597862.1875, -597882.0, -597894.3125, -597919.5, -597926.1875, -597932.5625, -597937.6875, -597942.0, -597943.6875, -597967.4375, -597987.3125, -598017.625, -598023.3125, -598030.375, -598033.5625, -598038.75, -598057.4375, -598069.9375, -598094.5625, -598100.875, -598108.0625, -598111.8125, -598118.3125, -598133.3125, -598146.125, -598165.4375, -598172.1875, -598178.75, -598185.125, -598189.25, -598193.375, -598193.75, -598194.1875, -598226.8125, -598238.1875, -598250.3125, -598251.3125, -598265.125, -598274.75, -598278.9375, -598291.1875, -598299.625, -598305.9375, -598315.625, -598316.5625, -598327.125, -598340.1875, -598344.4375, -598361.4375, -598369.125, -598374.3125, -598381.9375, -598384.0625, -598390.0625, -598407.9375, -598416.375, -598440.0, -598446.4375, -598452.9375, -598457.125, -598462.375, -598463.0, -598465.5, -598493.1875, -598504.3125, -598514.9375, -598516.9375, -598529.8125, -598539.0, -598544.25, -598555.6875, -598563.875, -598570.3125, -598578.875, -598581.25, -598590.25, -598602.6875, -598609.125, -598625.125, -598631.875, -598638.25, -598644.75, -598648.1875, -598653.6875, -598669.8125, -598683.8125, -598705.3125, -598711.3125, -598718.375, -598722.25, -598728.6875, -598729.125, -598733.0625, -598757.25, -598758.75, -598789.625, -598795.3125, -598800.375, -598803.8125, -598806.25, -598827.8125, -598846.0625, -598875.625, -598880.75, -598888.5, -598890.125, -598897.375, -598912.625, -598917.9375, -598936.8125, -598943.875, -598948.875, -598955.625, -598957.4375, -598963.0, -598981.5625, -598988.125, -599011.5, -599017.6875, -599023.375, -599028.375, -599031.0625, -599033.5625, -599055.875, -599067.875, -599096.75, -599102.0625, -599108.5, -599111.25, -599115.5625, -599133.5, -599145.1875, -599169.4375, -599175.0625, -599181.625, -599184.5, -599190.5, -599205.3125, -599216.125, -599234.5, -599241.0625, -599246.6875, -599252.125, -599256.0, -599259.75, -599259.9375, -599284.4375, -599307.25, -599341.5, -599345.25, -599354.1875, -599363.1875, -599371.1875, -599382.125, -599389.25, -599395.25, -599402.8125, -599406.0, -599413.875, -599424.5625, -599433.375, -599446.875, -599453.25, -599459.5, -599466.0625, -599469.0625, -599475.75, -599488.3125, -599499.125, -599515.125, -599521.4375, -599527.0625, -599532.75, -599536.8125, -599541.1875, -599541.3125, -599542.875, -599570.375, -599580.0, -599590.4375, -599591.875, -599603.8125, -599612.5, -599616.5, -599627.25, -599635.0, -599640.8125, -599649.1875, -599650.375, -599659.25, -599670.9375, -599675.125, -599689.75, -599696.6875, -599701.3125, -599707.75, -599710.125, -599715.875, -599730.75, -599739.125, -599759.125, -599764.9375, -599770.375, -599774.5, -599778.875, -599780.375, -599782.0, -599806.3125, -599809.3125, -599840.9375, -599844.9375, -599850.875, -599852.3125, -599855.5625, -599875.5625, -599882.375, -599908.8125, -599913.625, -599919.8125, -599921.75, -599927.125, -599942.5, -599949.0625, -599969.5, -599975.125, -599980.0, -599984.6875, -599987.8125, -599990.375, -600009.375, -600021.375, -600046.0625, -600050.625, -600056.6875, -600059.375, -600063.5625, -600078.8125, -600090.0, -600111.0, -600116.375, -600122.3125, -600125.375, -600130.75, -600143.375, -600154.375, -600170.5, -600176.6875, -600181.875, -600186.8125, -600190.875, -600194.0625, -600194.375, -600194.6875, -600222.0625, -600232.3125, -600242.5625, -600243.5625, -600255.625, -600263.8125, -600267.0, -600276.3125, -600283.875, -600289.0625, -600297.9375, -600298.125, -600307.4375, -600318.1875, -600320.875, -600334.375, -600340.75, -600344.625, -600351.5625, -600352.75, -600359.3125, -600373.0625, -600377.125, -600395.1875, -600400.875, -600405.6875, -600409.9375, -600413.1875, -600415.375, -600433.25, -600448.0625, -600472.375, -600476.9375, -600483.25, -600484.5625, -600490.6875, -600503.6875, -600508.75, -600525.25, -600531.0, -600535.4375, -600540.5625, -600542.75, -600546.625, -600562.5, -600570.6875, -600591.0625, -600596.125, -600601.25, -600604.8125, -600608.0, -600609.0, -600628.4375, -600644.75, -600669.75, -600673.9375, -600679.875, -600681.4375, -600686.4375, -600700.5625, -600706.9375, -600726.0, -600730.8125, -600736.3125, -600739.5625, -600743.375, -600743.75, -600744.875, -600768.4375, -600768.5625, -600799.1875, -600802.875, -600808.0, -600808.9375, -600811.4375, -600830.5625, -600833.875, -600859.5625, -600863.5, -600868.875, -600870.1875, -600874.25, -600889.8125, -600895.4375, -600915.1875, -600919.875, -600924.4375, -600928.25, -600930.4375, -600932.375, -600951.0, -600962.75, -600987.5, -600991.25, -600996.8125, -600998.625, -601002.75, -601017.0625, -601023.4375, -601042.8125, -601047.5, -601052.5625, -601055.5625, -601059.0625, -601071.3125, -601084.0, -601100.3125, -601105.375, -601110.1875, -601114.0, -601118.0, -601119.5, -601121.3125, -601140.5625, -601148.4375, -601175.125, -601178.5, -601184.1875, -601184.875, -601189.875, -601204.125, -601206.5625, -601224.875, -601229.8125, -601233.8125, -601237.75, -601239.125, -601241.875, -601259.25, -601264.5, -601288.0625, -601291.8125, -601296.625, -601298.8125, -601301.875, -601316.5625, -601326.1875, -601346.1875, -601350.1875, -601355.6875, -601357.875, -601362.6875, -601374.25, -601382.0625, -601397.0, -601401.8125, -601406.6875, -601410.6875, -601413.6875, -601416.0625, -601416.3125, -601436.4375, -601449.8125, -601477.25, -601480.1875, -601486.375, -601494.0625, -601500.6875, -601510.375, -601515.6875, -601520.1875, -601525.9375, -601528.5625, -601534.0, -601543.125, -601551.125, -601562.6875, -601567.875, -601572.375, -601577.25, -601580.25, -601584.5, -601584.5625, -601586.5, -601606.1875, -601606.5, -601632.4375, -601636.0625, -601640.125, -601641.8125, -601644.3125, -601660.875, -601666.625, -601688.75, -601692.625, -601697.375, -601699.0, -601703.0625, -601716.5625, -601721.625, -601738.0, -601742.75, -601746.5, -601750.4375, -601752.625, -601754.75, -601770.5, -601780.75, -601801.75, -601805.625, -601810.4375, -601812.6875, -601816.375, -601828.875, -601836.375, -601853.125, -601857.3125, -601862.0625, -601865.0, -601868.8125, -601869.125, -601870.625, -601890.3125, -601898.0, -601905.25, -601907.3125, -601915.8125, -601922.4375, -601925.75, -601933.5625, -601939.625, -601944.3125, -601950.3125, -601951.625, -601958.8125, -601966.9375, -601970.625, -601981.1875, -601986.4375, -601990.4375, -601995.5, -601997.5, -602001.875, -602012.625, -602018.8125, -602032.625, -602037.4375, -602041.5, -602045.625, -602048.5, -602050.3125, -602051.3125, -602069.0, -602075.8125, -602099.3125, -602102.4375, -602107.1875, -602108.4375, -602111.8125, -602125.6875, -602129.5625, -602148.1875, -602152.1875, -602156.6875, -602159.1875, -602162.5625, -602174.25, -602183.5, -602198.8125, -602203.125, -602207.4375, -602210.5625, -602213.875, -602215.1875, -602215.75, -602234.375, -602238.0, -602263.25, -602266.0625, -602271.1875, -602278.9375, -602286.625, -602296.1875, -602301.125, -602304.875, -602309.5, -602312.5625, -602316.25, -602316.9375, -602319.125, -602335.625, -602336.875, -602358.8125, -602362.5625, -602366.3125, -602367.9375, -602370.0, -602384.5, -602392.0, -602411.125, -602414.6875, -602419.5, -602421.0625, -602425.25, -602436.0625, -602441.3125, -602455.75, -602459.9375, -602463.5625, -602467.0, -602469.25, -602471.3125, -602484.8125, -602495.25, -602513.0, -602517.0, -602521.125, -602523.0625, -602526.375, -602537.4375, -602545.5, -602560.0, -602563.9375, -602568.375, -602571.25, -602574.75, -602574.9375, -602576.75, -602593.625, -602594.6875, -602617.125, -602619.8125, -602624.0625, -602625.4375, -602627.375, -602641.3125, -602647.3125, -602665.75, -602669.3125, -602673.875, -602675.5, -602679.0, -602690.0625, -602695.3125, -602710.0, -602714.0, -602717.75, -602720.75, -602722.9375, -602724.6875, -602737.875, -602749.375, -602767.1875, -602770.5, -602775.1875, -602776.6875, -602780.5625, -602791.0625, -602797.4375, -602811.75, -602815.25, -602819.1875, -602822.0, -602824.9375, -602825.6875, -602826.8125, -602843.875, -602845.4375, -602867.8125, -602870.875, -602874.4375, -602875.5625, -602878.0625, -602892.0625, -602895.375, -602913.5, -602916.875, -602920.75, -602922.625, -602925.3125, -602936.875, -602943.0625, -602957.375, -602961.375, -602964.8125, -602967.75, -602970.25, -602971.3125, -602985.25]}],\n",
       "                        {\"template\": {\"data\": {\"bar\": [{\"error_x\": {\"color\": \"#2a3f5f\"}, \"error_y\": {\"color\": \"#2a3f5f\"}, \"marker\": {\"line\": {\"color\": \"#E5ECF6\", \"width\": 0.5}}, \"type\": \"bar\"}], \"barpolar\": [{\"marker\": {\"line\": {\"color\": \"#E5ECF6\", \"width\": 0.5}}, \"type\": \"barpolar\"}], \"carpet\": [{\"aaxis\": {\"endlinecolor\": \"#2a3f5f\", \"gridcolor\": \"white\", \"linecolor\": \"white\", \"minorgridcolor\": \"white\", \"startlinecolor\": \"#2a3f5f\"}, \"baxis\": {\"endlinecolor\": \"#2a3f5f\", \"gridcolor\": \"white\", \"linecolor\": \"white\", \"minorgridcolor\": \"white\", \"startlinecolor\": \"#2a3f5f\"}, \"type\": \"carpet\"}], \"choropleth\": [{\"colorbar\": {\"outlinewidth\": 0, \"ticks\": \"\"}, \"type\": \"choropleth\"}], \"contour\": [{\"colorbar\": {\"outlinewidth\": 0, \"ticks\": \"\"}, \"colorscale\": [[0.0, \"#0d0887\"], [0.1111111111111111, \"#46039f\"], [0.2222222222222222, \"#7201a8\"], [0.3333333333333333, \"#9c179e\"], [0.4444444444444444, \"#bd3786\"], [0.5555555555555556, \"#d8576b\"], [0.6666666666666666, \"#ed7953\"], [0.7777777777777778, \"#fb9f3a\"], [0.8888888888888888, \"#fdca26\"], [1.0, \"#f0f921\"]], \"type\": \"contour\"}], \"contourcarpet\": [{\"colorbar\": {\"outlinewidth\": 0, \"ticks\": \"\"}, \"type\": \"contourcarpet\"}], \"heatmap\": [{\"colorbar\": {\"outlinewidth\": 0, \"ticks\": \"\"}, \"colorscale\": [[0.0, \"#0d0887\"], [0.1111111111111111, \"#46039f\"], [0.2222222222222222, \"#7201a8\"], [0.3333333333333333, \"#9c179e\"], [0.4444444444444444, \"#bd3786\"], [0.5555555555555556, \"#d8576b\"], [0.6666666666666666, \"#ed7953\"], [0.7777777777777778, \"#fb9f3a\"], [0.8888888888888888, \"#fdca26\"], [1.0, \"#f0f921\"]], \"type\": \"heatmap\"}], \"heatmapgl\": [{\"colorbar\": {\"outlinewidth\": 0, \"ticks\": \"\"}, \"colorscale\": [[0.0, \"#0d0887\"], [0.1111111111111111, \"#46039f\"], [0.2222222222222222, \"#7201a8\"], [0.3333333333333333, \"#9c179e\"], [0.4444444444444444, \"#bd3786\"], [0.5555555555555556, \"#d8576b\"], [0.6666666666666666, \"#ed7953\"], [0.7777777777777778, \"#fb9f3a\"], [0.8888888888888888, \"#fdca26\"], [1.0, \"#f0f921\"]], \"type\": \"heatmapgl\"}], \"histogram\": [{\"marker\": {\"colorbar\": {\"outlinewidth\": 0, \"ticks\": \"\"}}, \"type\": \"histogram\"}], \"histogram2d\": [{\"colorbar\": {\"outlinewidth\": 0, \"ticks\": \"\"}, \"colorscale\": [[0.0, \"#0d0887\"], [0.1111111111111111, \"#46039f\"], [0.2222222222222222, \"#7201a8\"], [0.3333333333333333, \"#9c179e\"], [0.4444444444444444, \"#bd3786\"], [0.5555555555555556, \"#d8576b\"], [0.6666666666666666, \"#ed7953\"], [0.7777777777777778, \"#fb9f3a\"], [0.8888888888888888, \"#fdca26\"], [1.0, \"#f0f921\"]], \"type\": \"histogram2d\"}], \"histogram2dcontour\": [{\"colorbar\": {\"outlinewidth\": 0, \"ticks\": \"\"}, \"colorscale\": [[0.0, \"#0d0887\"], [0.1111111111111111, \"#46039f\"], [0.2222222222222222, \"#7201a8\"], [0.3333333333333333, \"#9c179e\"], [0.4444444444444444, \"#bd3786\"], [0.5555555555555556, \"#d8576b\"], [0.6666666666666666, \"#ed7953\"], [0.7777777777777778, \"#fb9f3a\"], [0.8888888888888888, \"#fdca26\"], [1.0, \"#f0f921\"]], \"type\": \"histogram2dcontour\"}], \"mesh3d\": [{\"colorbar\": {\"outlinewidth\": 0, \"ticks\": \"\"}, \"type\": \"mesh3d\"}], \"parcoords\": [{\"line\": {\"colorbar\": {\"outlinewidth\": 0, \"ticks\": \"\"}}, \"type\": \"parcoords\"}], \"pie\": [{\"automargin\": true, \"type\": \"pie\"}], \"scatter\": [{\"marker\": {\"colorbar\": {\"outlinewidth\": 0, \"ticks\": \"\"}}, \"type\": \"scatter\"}], \"scatter3d\": [{\"line\": {\"colorbar\": {\"outlinewidth\": 0, \"ticks\": \"\"}}, \"marker\": {\"colorbar\": {\"outlinewidth\": 0, \"ticks\": \"\"}}, \"type\": \"scatter3d\"}], \"scattercarpet\": [{\"marker\": {\"colorbar\": {\"outlinewidth\": 0, \"ticks\": \"\"}}, \"type\": \"scattercarpet\"}], \"scattergeo\": [{\"marker\": {\"colorbar\": {\"outlinewidth\": 0, \"ticks\": \"\"}}, \"type\": \"scattergeo\"}], \"scattergl\": [{\"marker\": {\"colorbar\": {\"outlinewidth\": 0, \"ticks\": \"\"}}, \"type\": \"scattergl\"}], \"scattermapbox\": [{\"marker\": {\"colorbar\": {\"outlinewidth\": 0, \"ticks\": \"\"}}, \"type\": \"scattermapbox\"}], \"scatterpolar\": [{\"marker\": {\"colorbar\": {\"outlinewidth\": 0, \"ticks\": \"\"}}, \"type\": \"scatterpolar\"}], \"scatterpolargl\": [{\"marker\": {\"colorbar\": {\"outlinewidth\": 0, \"ticks\": \"\"}}, \"type\": \"scatterpolargl\"}], \"scatterternary\": [{\"marker\": {\"colorbar\": {\"outlinewidth\": 0, \"ticks\": \"\"}}, \"type\": \"scatterternary\"}], \"surface\": [{\"colorbar\": {\"outlinewidth\": 0, \"ticks\": \"\"}, \"colorscale\": [[0.0, \"#0d0887\"], [0.1111111111111111, \"#46039f\"], [0.2222222222222222, \"#7201a8\"], [0.3333333333333333, \"#9c179e\"], [0.4444444444444444, \"#bd3786\"], [0.5555555555555556, \"#d8576b\"], [0.6666666666666666, \"#ed7953\"], [0.7777777777777778, \"#fb9f3a\"], [0.8888888888888888, \"#fdca26\"], [1.0, \"#f0f921\"]], \"type\": \"surface\"}], \"table\": [{\"cells\": {\"fill\": {\"color\": \"#EBF0F8\"}, \"line\": {\"color\": \"white\"}}, \"header\": {\"fill\": {\"color\": \"#C8D4E3\"}, \"line\": {\"color\": \"white\"}}, \"type\": \"table\"}]}, \"layout\": {\"annotationdefaults\": {\"arrowcolor\": \"#2a3f5f\", \"arrowhead\": 0, \"arrowwidth\": 1}, \"coloraxis\": {\"colorbar\": {\"outlinewidth\": 0, \"ticks\": \"\"}}, \"colorscale\": {\"diverging\": [[0, \"#8e0152\"], [0.1, \"#c51b7d\"], [0.2, \"#de77ae\"], [0.3, \"#f1b6da\"], [0.4, \"#fde0ef\"], [0.5, \"#f7f7f7\"], [0.6, \"#e6f5d0\"], [0.7, \"#b8e186\"], [0.8, \"#7fbc41\"], [0.9, \"#4d9221\"], [1, \"#276419\"]], \"sequential\": [[0.0, \"#0d0887\"], [0.1111111111111111, \"#46039f\"], [0.2222222222222222, \"#7201a8\"], [0.3333333333333333, \"#9c179e\"], [0.4444444444444444, \"#bd3786\"], [0.5555555555555556, \"#d8576b\"], [0.6666666666666666, \"#ed7953\"], [0.7777777777777778, \"#fb9f3a\"], [0.8888888888888888, \"#fdca26\"], [1.0, \"#f0f921\"]], \"sequentialminus\": [[0.0, \"#0d0887\"], [0.1111111111111111, \"#46039f\"], [0.2222222222222222, \"#7201a8\"], [0.3333333333333333, \"#9c179e\"], [0.4444444444444444, \"#bd3786\"], [0.5555555555555556, \"#d8576b\"], [0.6666666666666666, \"#ed7953\"], [0.7777777777777778, \"#fb9f3a\"], [0.8888888888888888, \"#fdca26\"], [1.0, \"#f0f921\"]]}, \"colorway\": [\"#636efa\", \"#EF553B\", \"#00cc96\", \"#ab63fa\", \"#FFA15A\", \"#19d3f3\", \"#FF6692\", \"#B6E880\", \"#FF97FF\", \"#FECB52\"], \"font\": {\"color\": \"#2a3f5f\"}, \"geo\": {\"bgcolor\": \"white\", \"lakecolor\": \"white\", \"landcolor\": \"#E5ECF6\", \"showlakes\": true, \"showland\": true, \"subunitcolor\": \"white\"}, \"hoverlabel\": {\"align\": \"left\"}, \"hovermode\": \"closest\", \"mapbox\": {\"style\": \"light\"}, \"paper_bgcolor\": \"white\", \"plot_bgcolor\": \"#E5ECF6\", \"polar\": {\"angularaxis\": {\"gridcolor\": \"white\", \"linecolor\": \"white\", \"ticks\": \"\"}, \"bgcolor\": \"#E5ECF6\", \"radialaxis\": {\"gridcolor\": \"white\", \"linecolor\": \"white\", \"ticks\": \"\"}}, \"scene\": {\"xaxis\": {\"backgroundcolor\": \"#E5ECF6\", \"gridcolor\": \"white\", \"gridwidth\": 2, \"linecolor\": \"white\", \"showbackground\": true, \"ticks\": \"\", \"zerolinecolor\": \"white\"}, \"yaxis\": {\"backgroundcolor\": \"#E5ECF6\", \"gridcolor\": \"white\", \"gridwidth\": 2, \"linecolor\": \"white\", \"showbackground\": true, \"ticks\": \"\", \"zerolinecolor\": \"white\"}, \"zaxis\": {\"backgroundcolor\": \"#E5ECF6\", \"gridcolor\": \"white\", \"gridwidth\": 2, \"linecolor\": \"white\", \"showbackground\": true, \"ticks\": \"\", \"zerolinecolor\": \"white\"}}, \"shapedefaults\": {\"line\": {\"color\": \"#2a3f5f\"}}, \"ternary\": {\"aaxis\": {\"gridcolor\": \"white\", \"linecolor\": \"white\", \"ticks\": \"\"}, \"baxis\": {\"gridcolor\": \"white\", \"linecolor\": \"white\", \"ticks\": \"\"}, \"bgcolor\": \"#E5ECF6\", \"caxis\": {\"gridcolor\": \"white\", \"linecolor\": \"white\", \"ticks\": \"\"}}, \"title\": {\"x\": 0.05}, \"xaxis\": {\"automargin\": true, \"gridcolor\": \"white\", \"linecolor\": \"white\", \"ticks\": \"\", \"title\": {\"standoff\": 15}, \"zerolinecolor\": \"white\", \"zerolinewidth\": 2}, \"yaxis\": {\"automargin\": true, \"gridcolor\": \"white\", \"linecolor\": \"white\", \"ticks\": \"\", \"title\": {\"standoff\": 15}, \"zerolinecolor\": \"white\", \"zerolinewidth\": 2}}}, \"title\": {\"text\": \"Energy Minimization\"}, \"xaxis\": {\"title\": {\"text\": \"Energy Minimization Step\"}}, \"yaxis\": {\"title\": {\"text\": \"Potential Energy KJ/mol-1\"}}},\n",
       "                        {\"responsive\": true}\n",
       "                    ).then(function(){\n",
       "                            \n",
       "var gd = document.getElementById('8c71dd6d-d922-4186-904a-ad83c16c0e73');\n",
       "var x = new MutationObserver(function (mutations, observer) {{\n",
       "        var display = window.getComputedStyle(gd).display;\n",
       "        if (!display || display === 'none') {{\n",
       "            console.log([gd, 'removed!']);\n",
       "            Plotly.purge(gd);\n",
       "            observer.disconnect();\n",
       "        }}\n",
       "}});\n",
       "\n",
       "// Listen for the removal of the full notebook cells\n",
       "var notebookContainer = gd.closest('#notebook-container');\n",
       "if (notebookContainer) {{\n",
       "    x.observe(notebookContainer, {childList: true});\n",
       "}}\n",
       "\n",
       "// Listen for the clearing of the current output cell\n",
       "var outputEl = gd.closest('.output');\n",
       "if (outputEl) {{\n",
       "    x.observe(outputEl, {childList: true});\n",
       "}}\n",
       "\n",
       "                        })\n",
       "                };\n",
       "                });\n",
       "            </script>\n",
       "        </div>"
      ]
     },
     "metadata": {},
     "output_type": "display_data"
    }
   ],
   "source": [
    "import plotly\n",
    "import plotly.graph_objs as go\n",
    "\n",
    "#Read data from file and filter energy values higher than 1000 Kj/mol^-1\n",
    "with open(output_min_ene_xvg,'r') as energy_file:\n",
    "    x,y = map(\n",
    "        list,\n",
    "        zip(*[\n",
    "            (float(line.split()[0]),float(line.split()[1]))\n",
    "            for line in energy_file \n",
    "            if not line.startswith((\"#\",\"@\")) \n",
    "            if float(line.split()[1]) < 1000 \n",
    "        ])\n",
    "    )\n",
    "\n",
    "plotly.offline.init_notebook_mode(connected=True)\n",
    "\n",
    "fig = {\n",
    "    \"data\": [go.Scatter(x=x, y=y)],\n",
    "    \"layout\": go.Layout(title=\"Energy Minimization\",\n",
    "                        xaxis=dict(title = \"Energy Minimization Step\"),\n",
    "                        yaxis=dict(title = \"Potential Energy KJ/mol-1\")\n",
    "                       )\n",
    "}\n",
    "\n",
    "plotly.offline.iplot(fig)"
   ]
  },
  {
   "cell_type": "markdown",
   "metadata": {},
   "source": [
    "<a id=\"nvt\"></a>\n",
    "***\n",
    "## Equilibrate the system (NVT)\n",
    "Equilibrate the **protein system** in **NVT ensemble** (constant Number of particles, Volume and Temperature). Protein **heavy atoms** will be restrained using position restraining forces: movement is permitted, but only after overcoming a substantial energy penalty. The utility of position restraints is that they allow us to equilibrate our solvent around our protein, without the added variable of structural changes in the protein.\n",
    "\n",
    "- [Step 1](#eqNVTStep1): Creating portable binary run file for system equilibration\n",
    "- [Step 2](#eqNVTStep2): Equilibrate the **protein system** with **NVT** ensemble.\n",
    "- [Step 3](#eqNVTStep3): Checking **NVT Equilibration** results. Plotting **system temperature** by time during the **NVT equilibration** process. \n",
    "***\n",
    "**Building Blocks** used:\n",
    "- [Grompp](https://biobb-md.readthedocs.io/en/latest/gromacs.html#module-gromacs.grompp) from **biobb_gromacs.gromacs.grompp** \n",
    "- [Mdrun](https://biobb-md.readthedocs.io/en/latest/gromacs.html#module-gromacs.mdrun) from **biobb_gromacs.gromacs.mdrun** \n",
    "- [GMXEnergy](https://biobb-analysis.readthedocs.io/en/latest/gromacs.html#module-gromacs.gmx_energy) from **biobb_analysis.gromacs.gmx_energy** \n",
    "***"
   ]
  },
  {
   "cell_type": "markdown",
   "metadata": {},
   "source": [
    "<a id=\"eqNVTStep1\"></a>\n",
    "### Step 1: Creating portable binary run file for system equilibration (NVT)\n",
    "The **nvt** type of the **molecular dynamics parameters (mdp) property** contains the main default parameters to run an **NVT equilibration** with **protein restraints** (see [GROMACS mdp options](http://manual.gromacs.org/documentation/2018/user-guide/mdp-options.html)):\n",
    "\n",
    "-  Define                   = -DPOSRES\n",
    "-  integrator               = md\n",
    "-  dt                       = 0.002\n",
    "-  nsteps                   = 5000\n",
    "-  pcoupl                   = no\n",
    "-  gen_vel                  = yes\n",
    "-  gen_temp                 = 300\n",
    "-  gen_seed                 = -1\n",
    "\n",
    "In this particular example, the default parameters will be used: **md** integrator algorithm, a **step size** of **2fs**, **5,000 equilibration steps** with the protein **heavy atoms restrained**, and a temperature of **300K**.\n",
    "\n",
    "*Please note that for the sake of time this tutorial is only running 10ps of NVT equilibration, whereas in the [original example](http://www.mdtutorials.com/gmx/lysozyme/06_equil.html) the simulated time was 100ps.*"
   ]
  },
  {
   "cell_type": "code",
   "execution_count": 35,
   "metadata": {},
   "outputs": [
    {
     "name": "stdout",
     "output_type": "stream",
     "text": [
      "2021-06-23 07:33:48,104 [MainThread  ] [INFO ]  GROMACS Grompp 20190 version detected\n",
      "2021-06-23 07:33:48,110 [MainThread  ] [INFO ]  Extracting: /home/gbayarri_local/projects/BioBB/tutorials/biobb_wf_md_setup/biobb_wf_md_setup/notebooks/1AKI_genion_top.zip\n",
      "2021-06-23 07:33:48,111 [MainThread  ] [INFO ]  to:\n",
      "2021-06-23 07:33:48,111 [MainThread  ] [INFO ]  ['ead8a156-a898-4418-a017-12c760b89917/p2g.top', 'ead8a156-a898-4418-a017-12c760b89917/posre.itp']\n",
      "2021-06-23 07:33:48,113 [MainThread  ] [INFO ]  Unzipping: \n",
      "2021-06-23 07:33:48,113 [MainThread  ] [INFO ]  1AKI_genion_top.zip\n",
      "2021-06-23 07:33:48,114 [MainThread  ] [INFO ]  To: \n",
      "2021-06-23 07:33:48,115 [MainThread  ] [INFO ]  ead8a156-a898-4418-a017-12c760b89917/p2g.top\n",
      "2021-06-23 07:33:48,115 [MainThread  ] [INFO ]  ead8a156-a898-4418-a017-12c760b89917/posre.itp\n",
      "2021-06-23 07:33:48,117 [MainThread  ] [INFO ]  Not using any container\n",
      "2021-06-23 07:33:48,573 [MainThread  ] [INFO ]  gmx -nobackup -nocopyright grompp -f caab13e6-8b9a-48d1-8b50-d0c61cbf2e9f/grompp.mdp -c 1AKI_min.gro -r 1AKI_min.gro -p ead8a156-a898-4418-a017-12c760b89917/p2g.top -o 1AKI_gppnvt.tpr -po mdout.mdp -maxwarn 10\n",
      "\n",
      "2021-06-23 07:33:48,574 [MainThread  ] [INFO ]  Exit code 0\n",
      "\n",
      "2021-06-23 07:33:48,574 [MainThread  ] [INFO ]  turning H bonds into constraints...\n",
      "turning H bonds into constraints...\n",
      "turning H bonds into constraints...\n",
      "turning H bonds into constraints...\n",
      "Analysing residue names:\n",
      "There are:   129    Protein residues\n",
      "There are: 10616      Water residues\n",
      "There are:    28        Ion residues\n",
      "Analysing Protein...\n",
      "Analysing residues not classified as Protein/DNA/RNA/Water and splitting into groups...\n",
      "Determining Verlet buffer for a tolerance of 0.005 kJ/mol/ps at 300 K\n",
      "Calculated rlist for 1x1 atom pair-list as 1.035 nm, buffer size 0.035 nm\n",
      "Set rlist, assuming 4x4 atom pair-list, to 1.000 nm, buffer size 0.000 nm\n",
      "Note that mdrun will redetermine rlist based on the actual pair-list setup\n",
      "Calculating fourier grid dimensions for X Y Z\n",
      "Using a fourier grid of 60x60x60, spacing 0.117 0.117 0.117\n",
      "This run will generate roughly 12 Mb of data\n",
      "\n",
      "2021-06-23 07:33:48,575 [MainThread  ] [INFO ]                         :-) GROMACS - gmx grompp, 2019 (-:\n",
      "\n",
      "Executable:   /usr/local/gromacs/bin/gmx\n",
      "Data prefix:  /usr/local/gromacs\n",
      "Working dir:  /home/gbayarri_local/projects/BioBB/tutorials/biobb_wf_md_setup/biobb_wf_md_setup/notebooks\n",
      "Command line:\n",
      "  gmx -nobackup -nocopyright grompp -f caab13e6-8b9a-48d1-8b50-d0c61cbf2e9f/grompp.mdp -c 1AKI_min.gro -r 1AKI_min.gro -p ead8a156-a898-4418-a017-12c760b89917/p2g.top -o 1AKI_gppnvt.tpr -po mdout.mdp -maxwarn 10\n",
      "\n",
      "Setting the LD random seed to 1012709653\n",
      "Generated 2145 of the 2145 non-bonded parameter combinations\n",
      "Generating 1-4 interactions: fudge = 0.5\n",
      "Generated 2145 of the 2145 1-4 parameter combinations\n",
      "Excluding 3 bonded neighbours molecule type 'Protein_chain_A'\n",
      "Excluding 2 bonded neighbours molecule type 'SOL'\n",
      "Excluding 1 bonded neighbours molecule type 'NA'\n",
      "Excluding 1 bonded neighbours molecule type 'CL'\n",
      "Setting gen_seed to -1706428937\n",
      "Velocities were taken from a Maxwell distribution at 300 K\n",
      "Removing all charge groups because cutoff-scheme=Verlet\n",
      "Number of degrees of freedom in T-Coupling group Protein is 4920.79\n",
      "Number of degrees of freedom in T-Coupling group non-Protein is 63777.21\n",
      "Estimate for the relative computational load of the PME mesh part: 0.26\n",
      "\n",
      "GROMACS reminds you: \"Never Get a Chance to Kick Ass\" (The Amps)\n",
      "\n",
      "\n",
      "2021-06-23 07:33:48,577 [MainThread  ] [INFO ]  Removed: ['mdout.mdp', 'ead8a156-a898-4418-a017-12c760b89917', 'caab13e6-8b9a-48d1-8b50-d0c61cbf2e9f']\n"
     ]
    },
    {
     "data": {
      "text/plain": [
       "0"
      ]
     },
     "execution_count": 35,
     "metadata": {},
     "output_type": "execute_result"
    }
   ],
   "source": [
    "# Grompp: Creating portable binary run file for NVT Equilibration\n",
    "from biobb_gromacs.gromacs.grompp import grompp\n",
    "\n",
    "# Create prop dict and inputs/outputs\n",
    "output_gppnvt_tpr = pdbCode+'_gppnvt.tpr'\n",
    "prop = {\n",
    "    'mdp':{\n",
    "        'nsteps': 5000,\n",
    "        'dt': 0.002,\n",
    "        'Define': '-DPOSRES',\n",
    "        #'tc_grps': \"DNA Water_and_ions\" # NOTE: uncomment this line if working with DNA\n",
    "    },\n",
    "    'simulation_type': 'nvt'\n",
    "}\n",
    "\n",
    "# Create and launch bb\n",
    "grompp(input_gro_path=output_min_gro, \n",
    "       input_top_zip_path=output_genion_top_zip, \n",
    "       output_tpr_path=output_gppnvt_tpr,  \n",
    "       properties=prop)"
   ]
  },
  {
   "cell_type": "markdown",
   "metadata": {},
   "source": [
    "<a id=\"eqNVTStep2\"></a>\n",
    "### Step 2: Running NVT equilibration"
   ]
  },
  {
   "cell_type": "code",
   "execution_count": 36,
   "metadata": {},
   "outputs": [
    {
     "name": "stdout",
     "output_type": "stream",
     "text": [
      "2021-06-23 07:33:48,606 [MainThread  ] [INFO ]  GROMACS Mdrun 20190 version detected\n",
      "2021-06-23 07:33:48,609 [MainThread  ] [INFO ]  Not using any container\n",
      "2021-06-23 07:34:48,512 [MainThread  ] [INFO ]  gmx -nobackup -nocopyright mdrun -s 1AKI_gppnvt.tpr -o 1AKI_nvt.trr -c 1AKI_nvt.gro -e 1AKI_nvt.edr -g 1AKI_nvt.log -cpo 1AKI_nvt.cpt\n",
      "\n",
      "2021-06-23 07:34:48,513 [MainThread  ] [INFO ]  Exit code 0\n",
      "\n",
      "2021-06-23 07:34:48,513 [MainThread  ] [INFO ]                         :-) GROMACS - gmx mdrun, 2019 (-:\n",
      "\n",
      "Executable:   /usr/local/gromacs/bin/gmx\n",
      "Data prefix:  /usr/local/gromacs\n",
      "Working dir:  /home/gbayarri_local/projects/BioBB/tutorials/biobb_wf_md_setup/biobb_wf_md_setup/notebooks\n",
      "Command line:\n",
      "  gmx -nobackup -nocopyright mdrun -s 1AKI_gppnvt.tpr -o 1AKI_nvt.trr -c 1AKI_nvt.gro -e 1AKI_nvt.edr -g 1AKI_nvt.log -cpo 1AKI_nvt.cpt\n",
      "\n",
      "Reading file 1AKI_gppnvt.tpr, VERSION 2019 (single precision)\n",
      "Changing nstlist from 10 to 50, rlist from 1 to 1.115\n",
      "\n",
      "Using 1 MPI thread\n",
      "Using 8 OpenMP threads \n",
      "\n",
      "starting mdrun 'Protein in water'\n",
      "5000 steps,     10.0 ps.\n",
      "\n",
      "Writing final coordinates.\n",
      "\n",
      "               Core t (s)   Wall t (s)        (%)\n",
      "       Time:      458.802       57.350      800.0\n",
      "                 (ns/day)    (hour/ns)\n",
      "Performance:       15.068        1.593\n",
      "\n",
      "GROMACS reminds you: \"We'll celebrate a woman for anything, as long as it's not her talent.\" (Colleen McCullough)\n",
      "\n",
      "\n",
      "2021-06-23 07:34:48,514 [MainThread  ] [INFO ]  Removed: []\n"
     ]
    },
    {
     "data": {
      "text/plain": [
       "0"
      ]
     },
     "execution_count": 36,
     "metadata": {},
     "output_type": "execute_result"
    }
   ],
   "source": [
    "# Mdrun: Running Equilibration NVT\n",
    "from biobb_gromacs.gromacs.mdrun import mdrun\n",
    "\n",
    "# Create prop dict and inputs/outputs\n",
    "output_nvt_trr = pdbCode+'_nvt.trr'\n",
    "output_nvt_gro = pdbCode+'_nvt.gro'\n",
    "output_nvt_edr = pdbCode+'_nvt.edr'\n",
    "output_nvt_log = pdbCode+'_nvt.log'\n",
    "output_nvt_cpt = pdbCode+'_nvt.cpt'\n",
    "\n",
    "# Create and launch bb\n",
    "mdrun(input_tpr_path=output_gppnvt_tpr, \n",
    "      output_trr_path=output_nvt_trr, \n",
    "      output_gro_path=output_nvt_gro, \n",
    "      output_edr_path=output_nvt_edr, \n",
    "      output_log_path=output_nvt_log, \n",
    "      output_cpt_path=output_nvt_cpt)"
   ]
  },
  {
   "cell_type": "markdown",
   "metadata": {},
   "source": [
    "<a id=\"eqNVTStep3\"></a>\n",
    "### Step 3: Checking NVT Equilibration results\n",
    "Checking **NVT Equilibration** results. Plotting **system temperature** by time during the NVT equilibration process. "
   ]
  },
  {
   "cell_type": "code",
   "execution_count": 37,
   "metadata": {},
   "outputs": [
    {
     "name": "stdout",
     "output_type": "stream",
     "text": [
      "2021-06-23 07:34:48,541 [MainThread  ] [INFO ]  Not using any container\n",
      "2021-06-23 07:34:48,563 [MainThread  ] [INFO ]  gmx energy -f /home/gbayarri_local/projects/BioBB/tutorials/biobb_wf_md_setup/biobb_wf_md_setup/notebooks/1AKI_nvt.edr -o 1AKI_nvt_temp.xvg -xvg none < da6bcf69-f62f-45bd-9aae-55a344f88846/instructions.in\n",
      "\n",
      "2021-06-23 07:34:48,564 [MainThread  ] [INFO ]  Exit code 0\n",
      "\n",
      "2021-06-23 07:34:48,565 [MainThread  ] [INFO ]  \n",
      "Statistics over 5001 steps [ 0.0000 through 10.0000 ps ], 1 data sets\n",
      "All statistics are over 51 points\n",
      "\n",
      "Energy                      Average   Err.Est.       RMSD  Tot-Drift\n",
      "-------------------------------------------------------------------------------\n",
      "Temperature                 297.635          2    9.45548    10.8383  (K)\n",
      "\n",
      "2021-06-23 07:34:48,566 [MainThread  ] [INFO ]                         :-) GROMACS - gmx energy, 2019 (-:\n",
      "\n",
      "                            GROMACS is written by:\n",
      "     Emile Apol      Rossen Apostolov      Paul Bauer     Herman J.C. Berendsen\n",
      "    Par Bjelkmar      Christian Blau   Viacheslav Bolnykh     Kevin Boyd    \n",
      " Aldert van Buuren   Rudi van Drunen     Anton Feenstra       Alan Gray     \n",
      "  Gerrit Groenhof     Anca Hamuraru    Vincent Hindriksen  M. Eric Irrgang  \n",
      "  Aleksei Iupinov   Christoph Junghans     Joe Jordan     Dimitrios Karkoulis\n",
      "    Peter Kasson        Jiri Kraus      Carsten Kutzner      Per Larsson    \n",
      "  Justin A. Lemkul    Viveca Lindahl    Magnus Lundborg     Erik Marklund   \n",
      "    Pascal Merz     Pieter Meulenhoff    Teemu Murtola       Szilard Pall   \n",
      "    Sander Pronk      Roland Schulz      Michael Shirts    Alexey Shvetsov  \n",
      "   Alfons Sijbers     Peter Tieleman      Jon Vincent      Teemu Virolainen \n",
      " Christian Wennberg    Maarten Wolf   \n",
      "                           and the project leaders:\n",
      "        Mark Abraham, Berk Hess, Erik Lindahl, and David van der Spoel\n",
      "\n",
      "Copyright (c) 1991-2000, University of Groningen, The Netherlands.\n",
      "Copyright (c) 2001-2018, The GROMACS development team at\n",
      "Uppsala University, Stockholm University and\n",
      "the Royal Institute of Technology, Sweden.\n",
      "check out http://www.gromacs.org for more information.\n",
      "\n",
      "GROMACS is free software; you can redistribute it and/or modify it\n",
      "under the terms of the GNU Lesser General Public License\n",
      "as published by the Free Software Foundation; either version 2.1\n",
      "of the License, or (at your option) any later version.\n",
      "\n",
      "GROMACS:      gmx energy, version 2019\n",
      "Executable:   /usr/local/gromacs/bin/gmx\n",
      "Data prefix:  /usr/local/gromacs\n",
      "Working dir:  /home/gbayarri_local/projects/BioBB/tutorials/biobb_wf_md_setup/biobb_wf_md_setup/notebooks\n",
      "Command line:\n",
      "  gmx energy -f /home/gbayarri_local/projects/BioBB/tutorials/biobb_wf_md_setup/biobb_wf_md_setup/notebooks/1AKI_nvt.edr -o 1AKI_nvt_temp.xvg -xvg none\n",
      "\n",
      "Opened /home/gbayarri_local/projects/BioBB/tutorials/biobb_wf_md_setup/biobb_wf_md_setup/notebooks/1AKI_nvt.edr as single precision energy file\n",
      "\n",
      "Select the terms you want from the following list by\n",
      "selecting either (part of) the name or the number or a combination.\n",
      "End your selection with an empty line or a zero.\n",
      "-------------------------------------------------------------------\n",
      "  1  Bond             2  Angle            3  Proper-Dih.      4  Improper-Dih. \n",
      "  5  LJ-14            6  Coulomb-14       7  LJ-(SR)          8  Disper.-corr. \n",
      "  9  Coulomb-(SR)    10  Coul.-recip.    11  Position-Rest.  12  Potential     \n",
      " 13  Kinetic-En.     14  Total-Energy    15  Conserved-En.   16  Temperature   \n",
      " 17  Pres.-DC        18  Pressure        19  Constr.-rmsd    20  Vir-XX        \n",
      " 21  Vir-XY          22  Vir-XZ          23  Vir-YX          24  Vir-YY        \n",
      " 25  Vir-YZ          26  Vir-ZX          27  Vir-ZY          28  Vir-ZZ        \n",
      " 29  Pres-XX         30  Pres-XY         31  Pres-XZ         32  Pres-YX       \n",
      " 33  Pres-YY         34  Pres-YZ         35  Pres-ZX         36  Pres-ZY       \n",
      " 37  Pres-ZZ         38  #Surf*SurfTen   39  T-Protein       40  T-non-Protein \n",
      " 41  Lamb-Protein                        42  Lamb-non-Protein                  \n",
      "\n",
      "\n",
      "Back Off! I just backed up 1AKI_nvt_temp.xvg to ./#1AKI_nvt_temp.xvg.4#\n",
      "Last energy frame read 10 time   10.000           \n",
      "\n",
      "GROMACS reminds you: \"Player Sleeps With the Fishes\" (Ein Bekanntes Spiel Von ID Software)\n",
      "\n",
      "\n",
      "2021-06-23 07:34:48,567 [MainThread  ] [INFO ]  Removed: [PurePosixPath('da6bcf69-f62f-45bd-9aae-55a344f88846')]\n"
     ]
    },
    {
     "data": {
      "text/plain": [
       "0"
      ]
     },
     "execution_count": 37,
     "metadata": {},
     "output_type": "execute_result"
    }
   ],
   "source": [
    "# GMXEnergy: Getting system temperature by time during NVT Equilibration  \n",
    "from biobb_analysis.gromacs.gmx_energy import gmx_energy\n",
    "\n",
    "# Create prop dict and inputs/outputs\n",
    "output_nvt_temp_xvg = pdbCode+'_nvt_temp.xvg'\n",
    "prop = {\n",
    "    'terms':  [\"Temperature\"]\n",
    "}\n",
    "\n",
    "# Create and launch bb\n",
    "gmx_energy(input_energy_path=output_nvt_edr, \n",
    "          output_xvg_path=output_nvt_temp_xvg, \n",
    "          properties=prop)"
   ]
  },
  {
   "cell_type": "code",
   "execution_count": 38,
   "metadata": {},
   "outputs": [
    {
     "data": {
      "text/html": [
       "        <script type=\"text/javascript\">\n",
       "        window.PlotlyConfig = {MathJaxConfig: 'local'};\n",
       "        if (window.MathJax) {MathJax.Hub.Config({SVG: {font: \"STIX-Web\"}});}\n",
       "        if (typeof require !== 'undefined') {\n",
       "        require.undef(\"plotly\");\n",
       "        requirejs.config({\n",
       "            paths: {\n",
       "                'plotly': ['https://cdn.plot.ly/plotly-latest.min']\n",
       "            }\n",
       "        });\n",
       "        require(['plotly'], function(Plotly) {\n",
       "            window._Plotly = Plotly;\n",
       "        });\n",
       "        }\n",
       "        </script>\n",
       "        "
      ]
     },
     "metadata": {},
     "output_type": "display_data"
    },
    {
     "data": {
      "application/vnd.plotly.v1+json": {
       "config": {
        "linkText": "Export to plot.ly",
        "plotlyServerURL": "https://plot.ly",
        "showLink": false
       },
       "data": [
        {
         "type": "scatter",
         "x": [
          0,
          1,
          2,
          3,
          4,
          5,
          6,
          7,
          8,
          9,
          10
         ],
         "y": [
          300.156525,
          298.24118,
          300.973663,
          300.673187,
          296.050934,
          299.922974,
          297.713898,
          298.741425,
          301.185577,
          298.408447,
          298.126953
         ]
        }
       ],
       "layout": {
        "template": {
         "data": {
          "bar": [
           {
            "error_x": {
             "color": "#2a3f5f"
            },
            "error_y": {
             "color": "#2a3f5f"
            },
            "marker": {
             "line": {
              "color": "#E5ECF6",
              "width": 0.5
             }
            },
            "type": "bar"
           }
          ],
          "barpolar": [
           {
            "marker": {
             "line": {
              "color": "#E5ECF6",
              "width": 0.5
             }
            },
            "type": "barpolar"
           }
          ],
          "carpet": [
           {
            "aaxis": {
             "endlinecolor": "#2a3f5f",
             "gridcolor": "white",
             "linecolor": "white",
             "minorgridcolor": "white",
             "startlinecolor": "#2a3f5f"
            },
            "baxis": {
             "endlinecolor": "#2a3f5f",
             "gridcolor": "white",
             "linecolor": "white",
             "minorgridcolor": "white",
             "startlinecolor": "#2a3f5f"
            },
            "type": "carpet"
           }
          ],
          "choropleth": [
           {
            "colorbar": {
             "outlinewidth": 0,
             "ticks": ""
            },
            "type": "choropleth"
           }
          ],
          "contour": [
           {
            "colorbar": {
             "outlinewidth": 0,
             "ticks": ""
            },
            "colorscale": [
             [
              0,
              "#0d0887"
             ],
             [
              0.1111111111111111,
              "#46039f"
             ],
             [
              0.2222222222222222,
              "#7201a8"
             ],
             [
              0.3333333333333333,
              "#9c179e"
             ],
             [
              0.4444444444444444,
              "#bd3786"
             ],
             [
              0.5555555555555556,
              "#d8576b"
             ],
             [
              0.6666666666666666,
              "#ed7953"
             ],
             [
              0.7777777777777778,
              "#fb9f3a"
             ],
             [
              0.8888888888888888,
              "#fdca26"
             ],
             [
              1,
              "#f0f921"
             ]
            ],
            "type": "contour"
           }
          ],
          "contourcarpet": [
           {
            "colorbar": {
             "outlinewidth": 0,
             "ticks": ""
            },
            "type": "contourcarpet"
           }
          ],
          "heatmap": [
           {
            "colorbar": {
             "outlinewidth": 0,
             "ticks": ""
            },
            "colorscale": [
             [
              0,
              "#0d0887"
             ],
             [
              0.1111111111111111,
              "#46039f"
             ],
             [
              0.2222222222222222,
              "#7201a8"
             ],
             [
              0.3333333333333333,
              "#9c179e"
             ],
             [
              0.4444444444444444,
              "#bd3786"
             ],
             [
              0.5555555555555556,
              "#d8576b"
             ],
             [
              0.6666666666666666,
              "#ed7953"
             ],
             [
              0.7777777777777778,
              "#fb9f3a"
             ],
             [
              0.8888888888888888,
              "#fdca26"
             ],
             [
              1,
              "#f0f921"
             ]
            ],
            "type": "heatmap"
           }
          ],
          "heatmapgl": [
           {
            "colorbar": {
             "outlinewidth": 0,
             "ticks": ""
            },
            "colorscale": [
             [
              0,
              "#0d0887"
             ],
             [
              0.1111111111111111,
              "#46039f"
             ],
             [
              0.2222222222222222,
              "#7201a8"
             ],
             [
              0.3333333333333333,
              "#9c179e"
             ],
             [
              0.4444444444444444,
              "#bd3786"
             ],
             [
              0.5555555555555556,
              "#d8576b"
             ],
             [
              0.6666666666666666,
              "#ed7953"
             ],
             [
              0.7777777777777778,
              "#fb9f3a"
             ],
             [
              0.8888888888888888,
              "#fdca26"
             ],
             [
              1,
              "#f0f921"
             ]
            ],
            "type": "heatmapgl"
           }
          ],
          "histogram": [
           {
            "marker": {
             "colorbar": {
              "outlinewidth": 0,
              "ticks": ""
             }
            },
            "type": "histogram"
           }
          ],
          "histogram2d": [
           {
            "colorbar": {
             "outlinewidth": 0,
             "ticks": ""
            },
            "colorscale": [
             [
              0,
              "#0d0887"
             ],
             [
              0.1111111111111111,
              "#46039f"
             ],
             [
              0.2222222222222222,
              "#7201a8"
             ],
             [
              0.3333333333333333,
              "#9c179e"
             ],
             [
              0.4444444444444444,
              "#bd3786"
             ],
             [
              0.5555555555555556,
              "#d8576b"
             ],
             [
              0.6666666666666666,
              "#ed7953"
             ],
             [
              0.7777777777777778,
              "#fb9f3a"
             ],
             [
              0.8888888888888888,
              "#fdca26"
             ],
             [
              1,
              "#f0f921"
             ]
            ],
            "type": "histogram2d"
           }
          ],
          "histogram2dcontour": [
           {
            "colorbar": {
             "outlinewidth": 0,
             "ticks": ""
            },
            "colorscale": [
             [
              0,
              "#0d0887"
             ],
             [
              0.1111111111111111,
              "#46039f"
             ],
             [
              0.2222222222222222,
              "#7201a8"
             ],
             [
              0.3333333333333333,
              "#9c179e"
             ],
             [
              0.4444444444444444,
              "#bd3786"
             ],
             [
              0.5555555555555556,
              "#d8576b"
             ],
             [
              0.6666666666666666,
              "#ed7953"
             ],
             [
              0.7777777777777778,
              "#fb9f3a"
             ],
             [
              0.8888888888888888,
              "#fdca26"
             ],
             [
              1,
              "#f0f921"
             ]
            ],
            "type": "histogram2dcontour"
           }
          ],
          "mesh3d": [
           {
            "colorbar": {
             "outlinewidth": 0,
             "ticks": ""
            },
            "type": "mesh3d"
           }
          ],
          "parcoords": [
           {
            "line": {
             "colorbar": {
              "outlinewidth": 0,
              "ticks": ""
             }
            },
            "type": "parcoords"
           }
          ],
          "pie": [
           {
            "automargin": true,
            "type": "pie"
           }
          ],
          "scatter": [
           {
            "marker": {
             "colorbar": {
              "outlinewidth": 0,
              "ticks": ""
             }
            },
            "type": "scatter"
           }
          ],
          "scatter3d": [
           {
            "line": {
             "colorbar": {
              "outlinewidth": 0,
              "ticks": ""
             }
            },
            "marker": {
             "colorbar": {
              "outlinewidth": 0,
              "ticks": ""
             }
            },
            "type": "scatter3d"
           }
          ],
          "scattercarpet": [
           {
            "marker": {
             "colorbar": {
              "outlinewidth": 0,
              "ticks": ""
             }
            },
            "type": "scattercarpet"
           }
          ],
          "scattergeo": [
           {
            "marker": {
             "colorbar": {
              "outlinewidth": 0,
              "ticks": ""
             }
            },
            "type": "scattergeo"
           }
          ],
          "scattergl": [
           {
            "marker": {
             "colorbar": {
              "outlinewidth": 0,
              "ticks": ""
             }
            },
            "type": "scattergl"
           }
          ],
          "scattermapbox": [
           {
            "marker": {
             "colorbar": {
              "outlinewidth": 0,
              "ticks": ""
             }
            },
            "type": "scattermapbox"
           }
          ],
          "scatterpolar": [
           {
            "marker": {
             "colorbar": {
              "outlinewidth": 0,
              "ticks": ""
             }
            },
            "type": "scatterpolar"
           }
          ],
          "scatterpolargl": [
           {
            "marker": {
             "colorbar": {
              "outlinewidth": 0,
              "ticks": ""
             }
            },
            "type": "scatterpolargl"
           }
          ],
          "scatterternary": [
           {
            "marker": {
             "colorbar": {
              "outlinewidth": 0,
              "ticks": ""
             }
            },
            "type": "scatterternary"
           }
          ],
          "surface": [
           {
            "colorbar": {
             "outlinewidth": 0,
             "ticks": ""
            },
            "colorscale": [
             [
              0,
              "#0d0887"
             ],
             [
              0.1111111111111111,
              "#46039f"
             ],
             [
              0.2222222222222222,
              "#7201a8"
             ],
             [
              0.3333333333333333,
              "#9c179e"
             ],
             [
              0.4444444444444444,
              "#bd3786"
             ],
             [
              0.5555555555555556,
              "#d8576b"
             ],
             [
              0.6666666666666666,
              "#ed7953"
             ],
             [
              0.7777777777777778,
              "#fb9f3a"
             ],
             [
              0.8888888888888888,
              "#fdca26"
             ],
             [
              1,
              "#f0f921"
             ]
            ],
            "type": "surface"
           }
          ],
          "table": [
           {
            "cells": {
             "fill": {
              "color": "#EBF0F8"
             },
             "line": {
              "color": "white"
             }
            },
            "header": {
             "fill": {
              "color": "#C8D4E3"
             },
             "line": {
              "color": "white"
             }
            },
            "type": "table"
           }
          ]
         },
         "layout": {
          "annotationdefaults": {
           "arrowcolor": "#2a3f5f",
           "arrowhead": 0,
           "arrowwidth": 1
          },
          "coloraxis": {
           "colorbar": {
            "outlinewidth": 0,
            "ticks": ""
           }
          },
          "colorscale": {
           "diverging": [
            [
             0,
             "#8e0152"
            ],
            [
             0.1,
             "#c51b7d"
            ],
            [
             0.2,
             "#de77ae"
            ],
            [
             0.3,
             "#f1b6da"
            ],
            [
             0.4,
             "#fde0ef"
            ],
            [
             0.5,
             "#f7f7f7"
            ],
            [
             0.6,
             "#e6f5d0"
            ],
            [
             0.7,
             "#b8e186"
            ],
            [
             0.8,
             "#7fbc41"
            ],
            [
             0.9,
             "#4d9221"
            ],
            [
             1,
             "#276419"
            ]
           ],
           "sequential": [
            [
             0,
             "#0d0887"
            ],
            [
             0.1111111111111111,
             "#46039f"
            ],
            [
             0.2222222222222222,
             "#7201a8"
            ],
            [
             0.3333333333333333,
             "#9c179e"
            ],
            [
             0.4444444444444444,
             "#bd3786"
            ],
            [
             0.5555555555555556,
             "#d8576b"
            ],
            [
             0.6666666666666666,
             "#ed7953"
            ],
            [
             0.7777777777777778,
             "#fb9f3a"
            ],
            [
             0.8888888888888888,
             "#fdca26"
            ],
            [
             1,
             "#f0f921"
            ]
           ],
           "sequentialminus": [
            [
             0,
             "#0d0887"
            ],
            [
             0.1111111111111111,
             "#46039f"
            ],
            [
             0.2222222222222222,
             "#7201a8"
            ],
            [
             0.3333333333333333,
             "#9c179e"
            ],
            [
             0.4444444444444444,
             "#bd3786"
            ],
            [
             0.5555555555555556,
             "#d8576b"
            ],
            [
             0.6666666666666666,
             "#ed7953"
            ],
            [
             0.7777777777777778,
             "#fb9f3a"
            ],
            [
             0.8888888888888888,
             "#fdca26"
            ],
            [
             1,
             "#f0f921"
            ]
           ]
          },
          "colorway": [
           "#636efa",
           "#EF553B",
           "#00cc96",
           "#ab63fa",
           "#FFA15A",
           "#19d3f3",
           "#FF6692",
           "#B6E880",
           "#FF97FF",
           "#FECB52"
          ],
          "font": {
           "color": "#2a3f5f"
          },
          "geo": {
           "bgcolor": "white",
           "lakecolor": "white",
           "landcolor": "#E5ECF6",
           "showlakes": true,
           "showland": true,
           "subunitcolor": "white"
          },
          "hoverlabel": {
           "align": "left"
          },
          "hovermode": "closest",
          "mapbox": {
           "style": "light"
          },
          "paper_bgcolor": "white",
          "plot_bgcolor": "#E5ECF6",
          "polar": {
           "angularaxis": {
            "gridcolor": "white",
            "linecolor": "white",
            "ticks": ""
           },
           "bgcolor": "#E5ECF6",
           "radialaxis": {
            "gridcolor": "white",
            "linecolor": "white",
            "ticks": ""
           }
          },
          "scene": {
           "xaxis": {
            "backgroundcolor": "#E5ECF6",
            "gridcolor": "white",
            "gridwidth": 2,
            "linecolor": "white",
            "showbackground": true,
            "ticks": "",
            "zerolinecolor": "white"
           },
           "yaxis": {
            "backgroundcolor": "#E5ECF6",
            "gridcolor": "white",
            "gridwidth": 2,
            "linecolor": "white",
            "showbackground": true,
            "ticks": "",
            "zerolinecolor": "white"
           },
           "zaxis": {
            "backgroundcolor": "#E5ECF6",
            "gridcolor": "white",
            "gridwidth": 2,
            "linecolor": "white",
            "showbackground": true,
            "ticks": "",
            "zerolinecolor": "white"
           }
          },
          "shapedefaults": {
           "line": {
            "color": "#2a3f5f"
           }
          },
          "ternary": {
           "aaxis": {
            "gridcolor": "white",
            "linecolor": "white",
            "ticks": ""
           },
           "baxis": {
            "gridcolor": "white",
            "linecolor": "white",
            "ticks": ""
           },
           "bgcolor": "#E5ECF6",
           "caxis": {
            "gridcolor": "white",
            "linecolor": "white",
            "ticks": ""
           }
          },
          "title": {
           "x": 0.05
          },
          "xaxis": {
           "automargin": true,
           "gridcolor": "white",
           "linecolor": "white",
           "ticks": "",
           "title": {
            "standoff": 15
           },
           "zerolinecolor": "white",
           "zerolinewidth": 2
          },
          "yaxis": {
           "automargin": true,
           "gridcolor": "white",
           "linecolor": "white",
           "ticks": "",
           "title": {
            "standoff": 15
           },
           "zerolinecolor": "white",
           "zerolinewidth": 2
          }
         }
        },
        "title": {
         "text": "Temperature during NVT Equilibration"
        },
        "xaxis": {
         "title": {
          "text": "Time (ps)"
         }
        },
        "yaxis": {
         "title": {
          "text": "Temperature (K)"
         }
        }
       }
      },
      "text/html": [
       "<div>\n",
       "        \n",
       "        \n",
       "            <div id=\"35ff4abf-a329-4703-9102-7affae0e75dd\" class=\"plotly-graph-div\" style=\"height:525px; width:100%;\"></div>\n",
       "            <script type=\"text/javascript\">\n",
       "                require([\"plotly\"], function(Plotly) {\n",
       "                    window.PLOTLYENV=window.PLOTLYENV || {};\n",
       "                    \n",
       "                if (document.getElementById(\"35ff4abf-a329-4703-9102-7affae0e75dd\")) {\n",
       "                    Plotly.newPlot(\n",
       "                        '35ff4abf-a329-4703-9102-7affae0e75dd',\n",
       "                        [{\"type\": \"scatter\", \"x\": [0.0, 1.0, 2.0, 3.0, 4.0, 5.0, 6.0, 7.0, 8.0, 9.0, 10.0], \"y\": [300.156525, 298.24118, 300.973663, 300.673187, 296.050934, 299.922974, 297.713898, 298.741425, 301.185577, 298.408447, 298.126953]}],\n",
       "                        {\"template\": {\"data\": {\"bar\": [{\"error_x\": {\"color\": \"#2a3f5f\"}, \"error_y\": {\"color\": \"#2a3f5f\"}, \"marker\": {\"line\": {\"color\": \"#E5ECF6\", \"width\": 0.5}}, \"type\": \"bar\"}], \"barpolar\": [{\"marker\": {\"line\": {\"color\": \"#E5ECF6\", \"width\": 0.5}}, \"type\": \"barpolar\"}], \"carpet\": [{\"aaxis\": {\"endlinecolor\": \"#2a3f5f\", \"gridcolor\": \"white\", \"linecolor\": \"white\", \"minorgridcolor\": \"white\", \"startlinecolor\": \"#2a3f5f\"}, \"baxis\": {\"endlinecolor\": \"#2a3f5f\", \"gridcolor\": \"white\", \"linecolor\": \"white\", \"minorgridcolor\": \"white\", \"startlinecolor\": \"#2a3f5f\"}, \"type\": \"carpet\"}], \"choropleth\": [{\"colorbar\": {\"outlinewidth\": 0, \"ticks\": \"\"}, \"type\": \"choropleth\"}], \"contour\": [{\"colorbar\": {\"outlinewidth\": 0, \"ticks\": \"\"}, \"colorscale\": [[0.0, \"#0d0887\"], [0.1111111111111111, \"#46039f\"], [0.2222222222222222, \"#7201a8\"], [0.3333333333333333, \"#9c179e\"], [0.4444444444444444, \"#bd3786\"], [0.5555555555555556, \"#d8576b\"], [0.6666666666666666, \"#ed7953\"], [0.7777777777777778, \"#fb9f3a\"], [0.8888888888888888, \"#fdca26\"], [1.0, \"#f0f921\"]], \"type\": \"contour\"}], \"contourcarpet\": [{\"colorbar\": {\"outlinewidth\": 0, \"ticks\": \"\"}, \"type\": \"contourcarpet\"}], \"heatmap\": [{\"colorbar\": {\"outlinewidth\": 0, \"ticks\": \"\"}, \"colorscale\": [[0.0, \"#0d0887\"], [0.1111111111111111, \"#46039f\"], [0.2222222222222222, \"#7201a8\"], [0.3333333333333333, \"#9c179e\"], [0.4444444444444444, \"#bd3786\"], [0.5555555555555556, \"#d8576b\"], [0.6666666666666666, \"#ed7953\"], [0.7777777777777778, \"#fb9f3a\"], [0.8888888888888888, \"#fdca26\"], [1.0, \"#f0f921\"]], \"type\": \"heatmap\"}], \"heatmapgl\": [{\"colorbar\": {\"outlinewidth\": 0, \"ticks\": \"\"}, \"colorscale\": [[0.0, \"#0d0887\"], [0.1111111111111111, \"#46039f\"], [0.2222222222222222, \"#7201a8\"], [0.3333333333333333, \"#9c179e\"], [0.4444444444444444, \"#bd3786\"], [0.5555555555555556, \"#d8576b\"], [0.6666666666666666, \"#ed7953\"], [0.7777777777777778, \"#fb9f3a\"], [0.8888888888888888, \"#fdca26\"], [1.0, \"#f0f921\"]], \"type\": \"heatmapgl\"}], \"histogram\": [{\"marker\": {\"colorbar\": {\"outlinewidth\": 0, \"ticks\": \"\"}}, \"type\": \"histogram\"}], \"histogram2d\": [{\"colorbar\": {\"outlinewidth\": 0, \"ticks\": \"\"}, \"colorscale\": [[0.0, \"#0d0887\"], [0.1111111111111111, \"#46039f\"], [0.2222222222222222, \"#7201a8\"], [0.3333333333333333, \"#9c179e\"], [0.4444444444444444, \"#bd3786\"], [0.5555555555555556, \"#d8576b\"], [0.6666666666666666, \"#ed7953\"], [0.7777777777777778, \"#fb9f3a\"], [0.8888888888888888, \"#fdca26\"], [1.0, \"#f0f921\"]], \"type\": \"histogram2d\"}], \"histogram2dcontour\": [{\"colorbar\": {\"outlinewidth\": 0, \"ticks\": \"\"}, \"colorscale\": [[0.0, \"#0d0887\"], [0.1111111111111111, \"#46039f\"], [0.2222222222222222, \"#7201a8\"], [0.3333333333333333, \"#9c179e\"], [0.4444444444444444, \"#bd3786\"], [0.5555555555555556, \"#d8576b\"], [0.6666666666666666, \"#ed7953\"], [0.7777777777777778, \"#fb9f3a\"], [0.8888888888888888, \"#fdca26\"], [1.0, \"#f0f921\"]], \"type\": \"histogram2dcontour\"}], \"mesh3d\": [{\"colorbar\": {\"outlinewidth\": 0, \"ticks\": \"\"}, \"type\": \"mesh3d\"}], \"parcoords\": [{\"line\": {\"colorbar\": {\"outlinewidth\": 0, \"ticks\": \"\"}}, \"type\": \"parcoords\"}], \"pie\": [{\"automargin\": true, \"type\": \"pie\"}], \"scatter\": [{\"marker\": {\"colorbar\": {\"outlinewidth\": 0, \"ticks\": \"\"}}, \"type\": \"scatter\"}], \"scatter3d\": [{\"line\": {\"colorbar\": {\"outlinewidth\": 0, \"ticks\": \"\"}}, \"marker\": {\"colorbar\": {\"outlinewidth\": 0, \"ticks\": \"\"}}, \"type\": \"scatter3d\"}], \"scattercarpet\": [{\"marker\": {\"colorbar\": {\"outlinewidth\": 0, \"ticks\": \"\"}}, \"type\": \"scattercarpet\"}], \"scattergeo\": [{\"marker\": {\"colorbar\": {\"outlinewidth\": 0, \"ticks\": \"\"}}, \"type\": \"scattergeo\"}], \"scattergl\": [{\"marker\": {\"colorbar\": {\"outlinewidth\": 0, \"ticks\": \"\"}}, \"type\": \"scattergl\"}], \"scattermapbox\": [{\"marker\": {\"colorbar\": {\"outlinewidth\": 0, \"ticks\": \"\"}}, \"type\": \"scattermapbox\"}], \"scatterpolar\": [{\"marker\": {\"colorbar\": {\"outlinewidth\": 0, \"ticks\": \"\"}}, \"type\": \"scatterpolar\"}], \"scatterpolargl\": [{\"marker\": {\"colorbar\": {\"outlinewidth\": 0, \"ticks\": \"\"}}, \"type\": \"scatterpolargl\"}], \"scatterternary\": [{\"marker\": {\"colorbar\": {\"outlinewidth\": 0, \"ticks\": \"\"}}, \"type\": \"scatterternary\"}], \"surface\": [{\"colorbar\": {\"outlinewidth\": 0, \"ticks\": \"\"}, \"colorscale\": [[0.0, \"#0d0887\"], [0.1111111111111111, \"#46039f\"], [0.2222222222222222, \"#7201a8\"], [0.3333333333333333, \"#9c179e\"], [0.4444444444444444, \"#bd3786\"], [0.5555555555555556, \"#d8576b\"], [0.6666666666666666, \"#ed7953\"], [0.7777777777777778, \"#fb9f3a\"], [0.8888888888888888, \"#fdca26\"], [1.0, \"#f0f921\"]], \"type\": \"surface\"}], \"table\": [{\"cells\": {\"fill\": {\"color\": \"#EBF0F8\"}, \"line\": {\"color\": \"white\"}}, \"header\": {\"fill\": {\"color\": \"#C8D4E3\"}, \"line\": {\"color\": \"white\"}}, \"type\": \"table\"}]}, \"layout\": {\"annotationdefaults\": {\"arrowcolor\": \"#2a3f5f\", \"arrowhead\": 0, \"arrowwidth\": 1}, \"coloraxis\": {\"colorbar\": {\"outlinewidth\": 0, \"ticks\": \"\"}}, \"colorscale\": {\"diverging\": [[0, \"#8e0152\"], [0.1, \"#c51b7d\"], [0.2, \"#de77ae\"], [0.3, \"#f1b6da\"], [0.4, \"#fde0ef\"], [0.5, \"#f7f7f7\"], [0.6, \"#e6f5d0\"], [0.7, \"#b8e186\"], [0.8, \"#7fbc41\"], [0.9, \"#4d9221\"], [1, \"#276419\"]], \"sequential\": [[0.0, \"#0d0887\"], [0.1111111111111111, \"#46039f\"], [0.2222222222222222, \"#7201a8\"], [0.3333333333333333, \"#9c179e\"], [0.4444444444444444, \"#bd3786\"], [0.5555555555555556, \"#d8576b\"], [0.6666666666666666, \"#ed7953\"], [0.7777777777777778, \"#fb9f3a\"], [0.8888888888888888, \"#fdca26\"], [1.0, \"#f0f921\"]], \"sequentialminus\": [[0.0, \"#0d0887\"], [0.1111111111111111, \"#46039f\"], [0.2222222222222222, \"#7201a8\"], [0.3333333333333333, \"#9c179e\"], [0.4444444444444444, \"#bd3786\"], [0.5555555555555556, \"#d8576b\"], [0.6666666666666666, \"#ed7953\"], [0.7777777777777778, \"#fb9f3a\"], [0.8888888888888888, \"#fdca26\"], [1.0, \"#f0f921\"]]}, \"colorway\": [\"#636efa\", \"#EF553B\", \"#00cc96\", \"#ab63fa\", \"#FFA15A\", \"#19d3f3\", \"#FF6692\", \"#B6E880\", \"#FF97FF\", \"#FECB52\"], \"font\": {\"color\": \"#2a3f5f\"}, \"geo\": {\"bgcolor\": \"white\", \"lakecolor\": \"white\", \"landcolor\": \"#E5ECF6\", \"showlakes\": true, \"showland\": true, \"subunitcolor\": \"white\"}, \"hoverlabel\": {\"align\": \"left\"}, \"hovermode\": \"closest\", \"mapbox\": {\"style\": \"light\"}, \"paper_bgcolor\": \"white\", \"plot_bgcolor\": \"#E5ECF6\", \"polar\": {\"angularaxis\": {\"gridcolor\": \"white\", \"linecolor\": \"white\", \"ticks\": \"\"}, \"bgcolor\": \"#E5ECF6\", \"radialaxis\": {\"gridcolor\": \"white\", \"linecolor\": \"white\", \"ticks\": \"\"}}, \"scene\": {\"xaxis\": {\"backgroundcolor\": \"#E5ECF6\", \"gridcolor\": \"white\", \"gridwidth\": 2, \"linecolor\": \"white\", \"showbackground\": true, \"ticks\": \"\", \"zerolinecolor\": \"white\"}, \"yaxis\": {\"backgroundcolor\": \"#E5ECF6\", \"gridcolor\": \"white\", \"gridwidth\": 2, \"linecolor\": \"white\", \"showbackground\": true, \"ticks\": \"\", \"zerolinecolor\": \"white\"}, \"zaxis\": {\"backgroundcolor\": \"#E5ECF6\", \"gridcolor\": \"white\", \"gridwidth\": 2, \"linecolor\": \"white\", \"showbackground\": true, \"ticks\": \"\", \"zerolinecolor\": \"white\"}}, \"shapedefaults\": {\"line\": {\"color\": \"#2a3f5f\"}}, \"ternary\": {\"aaxis\": {\"gridcolor\": \"white\", \"linecolor\": \"white\", \"ticks\": \"\"}, \"baxis\": {\"gridcolor\": \"white\", \"linecolor\": \"white\", \"ticks\": \"\"}, \"bgcolor\": \"#E5ECF6\", \"caxis\": {\"gridcolor\": \"white\", \"linecolor\": \"white\", \"ticks\": \"\"}}, \"title\": {\"x\": 0.05}, \"xaxis\": {\"automargin\": true, \"gridcolor\": \"white\", \"linecolor\": \"white\", \"ticks\": \"\", \"title\": {\"standoff\": 15}, \"zerolinecolor\": \"white\", \"zerolinewidth\": 2}, \"yaxis\": {\"automargin\": true, \"gridcolor\": \"white\", \"linecolor\": \"white\", \"ticks\": \"\", \"title\": {\"standoff\": 15}, \"zerolinecolor\": \"white\", \"zerolinewidth\": 2}}}, \"title\": {\"text\": \"Temperature during NVT Equilibration\"}, \"xaxis\": {\"title\": {\"text\": \"Time (ps)\"}}, \"yaxis\": {\"title\": {\"text\": \"Temperature (K)\"}}},\n",
       "                        {\"responsive\": true}\n",
       "                    ).then(function(){\n",
       "                            \n",
       "var gd = document.getElementById('35ff4abf-a329-4703-9102-7affae0e75dd');\n",
       "var x = new MutationObserver(function (mutations, observer) {{\n",
       "        var display = window.getComputedStyle(gd).display;\n",
       "        if (!display || display === 'none') {{\n",
       "            console.log([gd, 'removed!']);\n",
       "            Plotly.purge(gd);\n",
       "            observer.disconnect();\n",
       "        }}\n",
       "}});\n",
       "\n",
       "// Listen for the removal of the full notebook cells\n",
       "var notebookContainer = gd.closest('#notebook-container');\n",
       "if (notebookContainer) {{\n",
       "    x.observe(notebookContainer, {childList: true});\n",
       "}}\n",
       "\n",
       "// Listen for the clearing of the current output cell\n",
       "var outputEl = gd.closest('.output');\n",
       "if (outputEl) {{\n",
       "    x.observe(outputEl, {childList: true});\n",
       "}}\n",
       "\n",
       "                        })\n",
       "                };\n",
       "                });\n",
       "            </script>\n",
       "        </div>"
      ]
     },
     "metadata": {},
     "output_type": "display_data"
    }
   ],
   "source": [
    "import plotly\n",
    "import plotly.graph_objs as go\n",
    "\n",
    "# Read temperature data from file \n",
    "with open(output_nvt_temp_xvg,'r') as temperature_file:\n",
    "    x,y = map(\n",
    "        list,\n",
    "        zip(*[\n",
    "            (float(line.split()[0]),float(line.split()[1]))\n",
    "            for line in temperature_file \n",
    "            if not line.startswith((\"#\",\"@\")) \n",
    "        ])\n",
    "    )\n",
    "\n",
    "plotly.offline.init_notebook_mode(connected=True)\n",
    "\n",
    "fig = {\n",
    "    \"data\": [go.Scatter(x=x, y=y)],\n",
    "    \"layout\": go.Layout(title=\"Temperature during NVT Equilibration\",\n",
    "                        xaxis=dict(title = \"Time (ps)\"),\n",
    "                        yaxis=dict(title = \"Temperature (K)\")\n",
    "                       )\n",
    "}\n",
    "\n",
    "plotly.offline.iplot(fig)"
   ]
  },
  {
   "cell_type": "markdown",
   "metadata": {},
   "source": [
    "<a id=\"npt\"></a>\n",
    "***\n",
    "## Equilibrate the system (NPT)\n",
    "Equilibrate the **protein system** in **NPT** ensemble (constant Number of particles, Pressure and Temperature).\n",
    "- [Step 1](#eqNPTStep1): Creating portable binary run file for system equilibration\n",
    "- [Step 2](#eqNPTStep2): Equilibrate the **protein system** with **NPT** ensemble.\n",
    "- [Step 3](#eqNPTStep3): Checking **NPT Equilibration** results. Plotting **system pressure and density** by time during the **NPT equilibration** process.\n",
    "***\n",
    "**Building Blocks** used:\n",
    " - [Grompp](https://biobb-md.readthedocs.io/en/latest/gromacs.html#module-gromacs.grompp) from **biobb_gromacs.gromacs.grompp** \n",
    " - [Mdrun](https://biobb-md.readthedocs.io/en/latest/gromacs.html#module-gromacs.mdrun) from **biobb_gromacs.gromacs.mdrun** \n",
    " - [GMXEnergy](https://biobb-analysis.readthedocs.io/en/latest/gromacs.html#module-gromacs.gmx_energy) from **biobb_analysis.gromacs.gmx_energy** \n",
    "***"
   ]
  },
  {
   "cell_type": "markdown",
   "metadata": {},
   "source": [
    "<a id=\"eqNPTStep1\"></a>\n",
    "### Step 1: Creating portable binary run file for system equilibration (NPT)\n",
    "\n",
    "The **npt** type of the **molecular dynamics parameters (mdp) property** contains the main default parameters to run an **NPT equilibration** with **protein restraints** (see [GROMACS mdp options](http://manual.gromacs.org/documentation/2018/user-guide/mdp-options.html)):\n",
    "\n",
    "-  Define                   = -DPOSRES\n",
    "-  integrator               = md\n",
    "-  dt                       = 0.002\n",
    "-  nsteps                   = 5000\n",
    "-  pcoupl = Parrinello-Rahman\n",
    "-  pcoupltype = isotropic\n",
    "-  tau_p = 1.0\n",
    "-  ref_p = 1.0\n",
    "-  compressibility = 4.5e-5\n",
    "-  refcoord_scaling = com\n",
    "-  gen_vel = no\n",
    "\n",
    "In this particular example, the default parameters will be used: **md** integrator algorithm, a **time step** of **2fs**, **5,000 equilibration steps** with the protein **heavy atoms restrained**, and a Parrinello-Rahman **pressure coupling** algorithm.\n",
    "\n",
    "*Please note that for the sake of time this tutorial is only running 10ps of NPT equilibration, whereas in the [original example](http://www.mdtutorials.com/gmx/lysozyme/07_equil2.html) the simulated time was 100ps.*"
   ]
  },
  {
   "cell_type": "code",
   "execution_count": 39,
   "metadata": {},
   "outputs": [
    {
     "name": "stdout",
     "output_type": "stream",
     "text": [
      "2021-06-23 07:34:48,661 [MainThread  ] [INFO ]  GROMACS Grompp 20190 version detected\n",
      "2021-06-23 07:34:48,672 [MainThread  ] [INFO ]  Extracting: /home/gbayarri_local/projects/BioBB/tutorials/biobb_wf_md_setup/biobb_wf_md_setup/notebooks/1AKI_genion_top.zip\n",
      "2021-06-23 07:34:48,673 [MainThread  ] [INFO ]  to:\n",
      "2021-06-23 07:34:48,674 [MainThread  ] [INFO ]  ['18c1da8c-3087-4d3b-bce2-dfa4c5f57196/p2g.top', '18c1da8c-3087-4d3b-bce2-dfa4c5f57196/posre.itp']\n",
      "2021-06-23 07:34:48,676 [MainThread  ] [INFO ]  Unzipping: \n",
      "2021-06-23 07:34:48,676 [MainThread  ] [INFO ]  1AKI_genion_top.zip\n",
      "2021-06-23 07:34:48,677 [MainThread  ] [INFO ]  To: \n",
      "2021-06-23 07:34:48,679 [MainThread  ] [INFO ]  18c1da8c-3087-4d3b-bce2-dfa4c5f57196/p2g.top\n",
      "2021-06-23 07:34:48,680 [MainThread  ] [INFO ]  18c1da8c-3087-4d3b-bce2-dfa4c5f57196/posre.itp\n",
      "2021-06-23 07:34:48,682 [MainThread  ] [INFO ]  Not using any container\n",
      "2021-06-23 07:34:49,481 [MainThread  ] [INFO ]  gmx -nobackup -nocopyright grompp -f db51cb9f-c8bb-4865-b861-4736a22e069e/grompp.mdp -c 1AKI_nvt.gro -r 1AKI_nvt.gro -p 18c1da8c-3087-4d3b-bce2-dfa4c5f57196/p2g.top -o 1AKI_gppnpt.tpr -po mdout.mdp -maxwarn 10 -t 1AKI_nvt.cpt\n",
      "\n",
      "2021-06-23 07:34:49,483 [MainThread  ] [INFO ]  Exit code 0\n",
      "\n",
      "2021-06-23 07:34:49,483 [MainThread  ] [INFO ]  turning H bonds into constraints...\n",
      "turning H bonds into constraints...\n",
      "turning H bonds into constraints...\n",
      "turning H bonds into constraints...\n",
      "Analysing residue names:\n",
      "There are:   129    Protein residues\n",
      "There are: 10616      Water residues\n",
      "There are:    28        Ion residues\n",
      "Analysing Protein...\n",
      "Analysing residues not classified as Protein/DNA/RNA/Water and splitting into groups...\n",
      "Determining Verlet buffer for a tolerance of 0.005 kJ/mol/ps at 300 K\n",
      "Calculated rlist for 1x1 atom pair-list as 1.035 nm, buffer size 0.035 nm\n",
      "Set rlist, assuming 4x4 atom pair-list, to 1.000 nm, buffer size 0.000 nm\n",
      "Note that mdrun will redetermine rlist based on the actual pair-list setup\n",
      "Calculating fourier grid dimensions for X Y Z\n",
      "Using a fourier grid of 60x60x60, spacing 0.117 0.117 0.117\n",
      "This run will generate roughly 12 Mb of data\n",
      "\n",
      "2021-06-23 07:34:49,485 [MainThread  ] [INFO ]                         :-) GROMACS - gmx grompp, 2019 (-:\n",
      "\n",
      "Executable:   /usr/local/gromacs/bin/gmx\n",
      "Data prefix:  /usr/local/gromacs\n",
      "Working dir:  /home/gbayarri_local/projects/BioBB/tutorials/biobb_wf_md_setup/biobb_wf_md_setup/notebooks\n",
      "Command line:\n",
      "  gmx -nobackup -nocopyright grompp -f db51cb9f-c8bb-4865-b861-4736a22e069e/grompp.mdp -c 1AKI_nvt.gro -r 1AKI_nvt.gro -p 18c1da8c-3087-4d3b-bce2-dfa4c5f57196/p2g.top -o 1AKI_gppnpt.tpr -po mdout.mdp -maxwarn 10 -t 1AKI_nvt.cpt\n",
      "\n",
      "Setting the LD random seed to -1466723260\n",
      "Generated 2145 of the 2145 non-bonded parameter combinations\n",
      "Generating 1-4 interactions: fudge = 0.5\n",
      "Generated 2145 of the 2145 1-4 parameter combinations\n",
      "Excluding 3 bonded neighbours molecule type 'Protein_chain_A'\n",
      "Excluding 2 bonded neighbours molecule type 'SOL'\n",
      "Excluding 1 bonded neighbours molecule type 'NA'\n",
      "Excluding 1 bonded neighbours molecule type 'CL'\n",
      "Removing all charge groups because cutoff-scheme=Verlet\n",
      "\n",
      "NOTE 1 [file p2g.top, line 18678]:\n",
      "  You are combining position restraints with Parrinello-Rahman pressure\n",
      "  coupling, which can lead to instabilities. If you really want to combine\n",
      "  position restraints with pressure coupling, we suggest to use Berendsen\n",
      "  pressure coupling instead.\n",
      "\n",
      "The center of mass of the position restraint coord's is  3.488  3.520  3.506\n",
      "The center of mass of the position restraint coord's is  3.488  3.520  3.506\n",
      "Number of degrees of freedom in T-Coupling group Protein is 4920.79\n",
      "Number of degrees of freedom in T-Coupling group non-Protein is 63777.21\n",
      "Reading Coordinates, Velocities and Box size from old trajectory\n",
      "Will read whole trajectory\n",
      "Last frame         -1 time   10.000   \n",
      "Using frame at t = 10 ps\n",
      "Starting time for run is 0 ps\n",
      "Estimate for the relative computational load of the PME mesh part: 0.26\n",
      "\n",
      "There was 1 note\n",
      "\n",
      "GROMACS reminds you: \"There's Nothing We Can't Fix, 'coz We Can Do It in the Mix\" (Indeep)\n",
      "\n",
      "\n",
      "2021-06-23 07:34:49,487 [MainThread  ] [INFO ]  Removed: ['mdout.mdp', '18c1da8c-3087-4d3b-bce2-dfa4c5f57196', 'db51cb9f-c8bb-4865-b861-4736a22e069e']\n"
     ]
    },
    {
     "data": {
      "text/plain": [
       "0"
      ]
     },
     "execution_count": 39,
     "metadata": {},
     "output_type": "execute_result"
    }
   ],
   "source": [
    "# Grompp: Creating portable binary run file for NPT System Equilibration\n",
    "from biobb_gromacs.gromacs.grompp import grompp\n",
    "\n",
    "# Create prop dict and inputs/outputs\n",
    "output_gppnpt_tpr = pdbCode+'_gppnpt.tpr'\n",
    "prop = {\n",
    "    'mdp':{\n",
    "        'nsteps':'5000',\n",
    "        #'tc_grps': \"DNA Water_and_ions\" # NOTE: uncomment this line if working with DNA\n",
    "    },\n",
    "    'simulation_type': 'npt'\n",
    "}\n",
    "\n",
    "# Create and launch bb\n",
    "grompp(input_gro_path=output_nvt_gro, \n",
    "       input_top_zip_path=output_genion_top_zip, \n",
    "       output_tpr_path=output_gppnpt_tpr, \n",
    "       input_cpt_path=output_nvt_cpt,  \n",
    "       properties=prop)"
   ]
  },
  {
   "cell_type": "markdown",
   "metadata": {},
   "source": [
    "<a id=\"eqNPTStep2\"></a>\n",
    "### Step 2: Running NPT equilibration"
   ]
  },
  {
   "cell_type": "code",
   "execution_count": 40,
   "metadata": {},
   "outputs": [
    {
     "name": "stdout",
     "output_type": "stream",
     "text": [
      "2021-06-23 07:34:49,537 [MainThread  ] [INFO ]  GROMACS Mdrun 20190 version detected\n",
      "2021-06-23 07:34:49,539 [MainThread  ] [INFO ]  Not using any container\n",
      "2021-06-23 07:35:50,256 [MainThread  ] [INFO ]  gmx -nobackup -nocopyright mdrun -s 1AKI_gppnpt.tpr -o 1AKI_npt.trr -c 1AKI_npt.gro -e 1AKI_npt.edr -g 1AKI_npt.log -cpo 1AKI_npt.cpt\n",
      "\n",
      "2021-06-23 07:35:50,257 [MainThread  ] [INFO ]  Exit code 0\n",
      "\n",
      "2021-06-23 07:35:50,258 [MainThread  ] [INFO ]                         :-) GROMACS - gmx mdrun, 2019 (-:\n",
      "\n",
      "Executable:   /usr/local/gromacs/bin/gmx\n",
      "Data prefix:  /usr/local/gromacs\n",
      "Working dir:  /home/gbayarri_local/projects/BioBB/tutorials/biobb_wf_md_setup/biobb_wf_md_setup/notebooks\n",
      "Command line:\n",
      "  gmx -nobackup -nocopyright mdrun -s 1AKI_gppnpt.tpr -o 1AKI_npt.trr -c 1AKI_npt.gro -e 1AKI_npt.edr -g 1AKI_npt.log -cpo 1AKI_npt.cpt\n",
      "\n",
      "Reading file 1AKI_gppnpt.tpr, VERSION 2019 (single precision)\n",
      "Changing nstlist from 10 to 50, rlist from 1 to 1.115\n",
      "\n",
      "Using 1 MPI thread\n",
      "Using 8 OpenMP threads \n",
      "\n",
      "starting mdrun 'Protein in water'\n",
      "5000 steps,     10.0 ps.\n",
      "\n",
      "Writing final coordinates.\n",
      "\n",
      "               Core t (s)   Wall t (s)        (%)\n",
      "       Time:      465.988       58.249      800.0\n",
      "                 (ns/day)    (hour/ns)\n",
      "Performance:       14.836        1.618\n",
      "\n",
      "GROMACS reminds you: \"Been There, Done It\" (Beavis and Butthead)\n",
      "\n",
      "\n",
      "2021-06-23 07:35:50,259 [MainThread  ] [INFO ]  Removed: []\n"
     ]
    },
    {
     "data": {
      "text/plain": [
       "0"
      ]
     },
     "execution_count": 40,
     "metadata": {},
     "output_type": "execute_result"
    }
   ],
   "source": [
    "# Mdrun: Running NPT System Equilibration\n",
    "from biobb_gromacs.gromacs.mdrun import mdrun\n",
    "\n",
    "# Create prop dict and inputs/outputs\n",
    "output_npt_trr = pdbCode+'_npt.trr'\n",
    "output_npt_gro = pdbCode+'_npt.gro'\n",
    "output_npt_edr = pdbCode+'_npt.edr'\n",
    "output_npt_log = pdbCode+'_npt.log'\n",
    "output_npt_cpt = pdbCode+'_npt.cpt'\n",
    "\n",
    "# Create and launch bb\n",
    "mdrun(input_tpr_path=output_gppnpt_tpr, \n",
    "      output_trr_path=output_npt_trr, \n",
    "      output_gro_path=output_npt_gro, \n",
    "      output_edr_path=output_npt_edr, \n",
    "      output_log_path=output_npt_log, \n",
    "      output_cpt_path=output_npt_cpt)"
   ]
  },
  {
   "cell_type": "markdown",
   "metadata": {},
   "source": [
    "<a id=\"eqNPTStep3\"></a>\n",
    "### Step 3: Checking NPT Equilibration results\n",
    "Checking **NPT Equilibration** results. Plotting **system pressure and density** by time during the **NPT equilibration** process. "
   ]
  },
  {
   "cell_type": "code",
   "execution_count": 41,
   "metadata": {},
   "outputs": [
    {
     "name": "stdout",
     "output_type": "stream",
     "text": [
      "2021-06-23 07:35:50,290 [MainThread  ] [INFO ]  Not using any container\n",
      "2021-06-23 07:35:50,311 [MainThread  ] [INFO ]  gmx energy -f /home/gbayarri_local/projects/BioBB/tutorials/biobb_wf_md_setup/biobb_wf_md_setup/notebooks/1AKI_npt.edr -o 1AKI_npt_PD.xvg -xvg none < 96ccd9b2-aa0a-4a54-b2ab-09a257d517cf/instructions.in\n",
      "\n",
      "2021-06-23 07:35:50,313 [MainThread  ] [INFO ]  Exit code 0\n",
      "\n",
      "2021-06-23 07:35:50,313 [MainThread  ] [INFO ]  \n",
      "Statistics over 5001 steps [ 0.0000 through 10.0000 ps ], 2 data sets\n",
      "All statistics are over 51 points\n",
      "\n",
      "Energy                      Average   Err.Est.       RMSD  Tot-Drift\n",
      "-------------------------------------------------------------------------------\n",
      "Pressure                    -6.0881         21    197.563   -4.64836  (bar)\n",
      "Density                     1018.39        1.1    4.16549    6.74408  (kg/m^3)\n",
      "\n",
      "2021-06-23 07:35:50,314 [MainThread  ] [INFO ]                         :-) GROMACS - gmx energy, 2019 (-:\n",
      "\n",
      "                            GROMACS is written by:\n",
      "     Emile Apol      Rossen Apostolov      Paul Bauer     Herman J.C. Berendsen\n",
      "    Par Bjelkmar      Christian Blau   Viacheslav Bolnykh     Kevin Boyd    \n",
      " Aldert van Buuren   Rudi van Drunen     Anton Feenstra       Alan Gray     \n",
      "  Gerrit Groenhof     Anca Hamuraru    Vincent Hindriksen  M. Eric Irrgang  \n",
      "  Aleksei Iupinov   Christoph Junghans     Joe Jordan     Dimitrios Karkoulis\n",
      "    Peter Kasson        Jiri Kraus      Carsten Kutzner      Per Larsson    \n",
      "  Justin A. Lemkul    Viveca Lindahl    Magnus Lundborg     Erik Marklund   \n",
      "    Pascal Merz     Pieter Meulenhoff    Teemu Murtola       Szilard Pall   \n",
      "    Sander Pronk      Roland Schulz      Michael Shirts    Alexey Shvetsov  \n",
      "   Alfons Sijbers     Peter Tieleman      Jon Vincent      Teemu Virolainen \n",
      " Christian Wennberg    Maarten Wolf   \n",
      "                           and the project leaders:\n",
      "        Mark Abraham, Berk Hess, Erik Lindahl, and David van der Spoel\n",
      "\n",
      "Copyright (c) 1991-2000, University of Groningen, The Netherlands.\n",
      "Copyright (c) 2001-2018, The GROMACS development team at\n",
      "Uppsala University, Stockholm University and\n",
      "the Royal Institute of Technology, Sweden.\n",
      "check out http://www.gromacs.org for more information.\n",
      "\n",
      "GROMACS is free software; you can redistribute it and/or modify it\n",
      "under the terms of the GNU Lesser General Public License\n",
      "as published by the Free Software Foundation; either version 2.1\n",
      "of the License, or (at your option) any later version.\n",
      "\n",
      "GROMACS:      gmx energy, version 2019\n",
      "Executable:   /usr/local/gromacs/bin/gmx\n",
      "Data prefix:  /usr/local/gromacs\n",
      "Working dir:  /home/gbayarri_local/projects/BioBB/tutorials/biobb_wf_md_setup/biobb_wf_md_setup/notebooks\n",
      "Command line:\n",
      "  gmx energy -f /home/gbayarri_local/projects/BioBB/tutorials/biobb_wf_md_setup/biobb_wf_md_setup/notebooks/1AKI_npt.edr -o 1AKI_npt_PD.xvg -xvg none\n",
      "\n",
      "Opened /home/gbayarri_local/projects/BioBB/tutorials/biobb_wf_md_setup/biobb_wf_md_setup/notebooks/1AKI_npt.edr as single precision energy file\n",
      "\n",
      "Select the terms you want from the following list by\n",
      "selecting either (part of) the name or the number or a combination.\n",
      "End your selection with an empty line or a zero.\n",
      "-------------------------------------------------------------------\n",
      "  1  Bond             2  Angle            3  Proper-Dih.      4  Improper-Dih. \n",
      "  5  LJ-14            6  Coulomb-14       7  LJ-(SR)          8  Disper.-corr. \n",
      "  9  Coulomb-(SR)    10  Coul.-recip.    11  Position-Rest.  12  Potential     \n",
      " 13  Kinetic-En.     14  Total-Energy    15  Conserved-En.   16  Temperature   \n",
      " 17  Pres.-DC        18  Pressure        19  Constr.-rmsd    20  Box-X         \n",
      " 21  Box-Y           22  Box-Z           23  Volume          24  Density       \n",
      " 25  pV              26  Enthalpy        27  Vir-XX          28  Vir-XY        \n",
      " 29  Vir-XZ          30  Vir-YX          31  Vir-YY          32  Vir-YZ        \n",
      " 33  Vir-ZX          34  Vir-ZY          35  Vir-ZZ          36  Pres-XX       \n",
      " 37  Pres-XY         38  Pres-XZ         39  Pres-YX         40  Pres-YY       \n",
      " 41  Pres-YZ         42  Pres-ZX         43  Pres-ZY         44  Pres-ZZ       \n",
      " 45  #Surf*SurfTen   46  Box-Vel-XX      47  Box-Vel-YY      48  Box-Vel-ZZ    \n",
      " 49  T-Protein                           50  T-non-Protein                     \n",
      " 51  Lamb-Protein                        52  Lamb-non-Protein                  \n",
      "\n",
      "\n",
      "Back Off! I just backed up 1AKI_npt_PD.xvg to ./#1AKI_npt_PD.xvg.4#\n",
      "Last energy frame read 10 time   10.000           \n",
      "\n",
      "GROMACS reminds you: \"This isn't right. This isn't even wrong.\" (Wolfgang Pauli)\n",
      "\n",
      "\n",
      "2021-06-23 07:35:50,316 [MainThread  ] [INFO ]  Removed: [PurePosixPath('96ccd9b2-aa0a-4a54-b2ab-09a257d517cf')]\n"
     ]
    },
    {
     "data": {
      "text/plain": [
       "0"
      ]
     },
     "execution_count": 41,
     "metadata": {},
     "output_type": "execute_result"
    }
   ],
   "source": [
    "# GMXEnergy: Getting system pressure and density by time during NPT Equilibration  \n",
    "from biobb_analysis.gromacs.gmx_energy import gmx_energy\n",
    "\n",
    "# Create prop dict and inputs/outputs\n",
    "output_npt_pd_xvg = pdbCode+'_npt_PD.xvg'\n",
    "prop = {\n",
    "    'terms':  [\"Pressure\",\"Density\"]\n",
    "}\n",
    "\n",
    "# Create and launch bb\n",
    "gmx_energy(input_energy_path=output_npt_edr, \n",
    "          output_xvg_path=output_npt_pd_xvg, \n",
    "          properties=prop)"
   ]
  },
  {
   "cell_type": "code",
   "execution_count": 42,
   "metadata": {},
   "outputs": [
    {
     "data": {
      "text/html": [
       "        <script type=\"text/javascript\">\n",
       "        window.PlotlyConfig = {MathJaxConfig: 'local'};\n",
       "        if (window.MathJax) {MathJax.Hub.Config({SVG: {font: \"STIX-Web\"}});}\n",
       "        if (typeof require !== 'undefined') {\n",
       "        require.undef(\"plotly\");\n",
       "        requirejs.config({\n",
       "            paths: {\n",
       "                'plotly': ['https://cdn.plot.ly/plotly-latest.min']\n",
       "            }\n",
       "        });\n",
       "        require(['plotly'], function(Plotly) {\n",
       "            window._Plotly = Plotly;\n",
       "        });\n",
       "        }\n",
       "        </script>\n",
       "        "
      ]
     },
     "metadata": {},
     "output_type": "display_data"
    },
    {
     "data": {
      "application/vnd.plotly.v1+json": {
       "config": {
        "linkText": "Export to plot.ly",
        "plotlyServerURL": "https://plot.ly",
        "showLink": false
       },
       "data": [
        {
         "type": "scatter",
         "x": [
          0,
          1,
          2,
          3,
          4,
          5,
          6,
          7,
          8,
          9,
          10
         ],
         "xaxis": "x",
         "y": [
          -692.971802,
          -20.755203,
          -10.210159,
          365.691956,
          41.220047,
          69.346649,
          -91.022919,
          -4.442215,
          235.844223,
          84.643555,
          -80.066559
         ],
         "yaxis": "y"
        },
        {
         "type": "scatter",
         "x": [
          0,
          1,
          2,
          3,
          4,
          5,
          6,
          7,
          8,
          9,
          10
         ],
         "xaxis": "x2",
         "y": [
          995.082031,
          1016.164246,
          1017.146301,
          1022.868408,
          1017.976379,
          1022.015076,
          1019.206909,
          1020.156616,
          1020.640808,
          1019.637512,
          1021.418518
         ],
         "yaxis": "y2"
        }
       ],
       "layout": {
        "showlegend": false,
        "template": {
         "data": {
          "bar": [
           {
            "error_x": {
             "color": "#2a3f5f"
            },
            "error_y": {
             "color": "#2a3f5f"
            },
            "marker": {
             "line": {
              "color": "#E5ECF6",
              "width": 0.5
             }
            },
            "type": "bar"
           }
          ],
          "barpolar": [
           {
            "marker": {
             "line": {
              "color": "#E5ECF6",
              "width": 0.5
             }
            },
            "type": "barpolar"
           }
          ],
          "carpet": [
           {
            "aaxis": {
             "endlinecolor": "#2a3f5f",
             "gridcolor": "white",
             "linecolor": "white",
             "minorgridcolor": "white",
             "startlinecolor": "#2a3f5f"
            },
            "baxis": {
             "endlinecolor": "#2a3f5f",
             "gridcolor": "white",
             "linecolor": "white",
             "minorgridcolor": "white",
             "startlinecolor": "#2a3f5f"
            },
            "type": "carpet"
           }
          ],
          "choropleth": [
           {
            "colorbar": {
             "outlinewidth": 0,
             "ticks": ""
            },
            "type": "choropleth"
           }
          ],
          "contour": [
           {
            "colorbar": {
             "outlinewidth": 0,
             "ticks": ""
            },
            "colorscale": [
             [
              0,
              "#0d0887"
             ],
             [
              0.1111111111111111,
              "#46039f"
             ],
             [
              0.2222222222222222,
              "#7201a8"
             ],
             [
              0.3333333333333333,
              "#9c179e"
             ],
             [
              0.4444444444444444,
              "#bd3786"
             ],
             [
              0.5555555555555556,
              "#d8576b"
             ],
             [
              0.6666666666666666,
              "#ed7953"
             ],
             [
              0.7777777777777778,
              "#fb9f3a"
             ],
             [
              0.8888888888888888,
              "#fdca26"
             ],
             [
              1,
              "#f0f921"
             ]
            ],
            "type": "contour"
           }
          ],
          "contourcarpet": [
           {
            "colorbar": {
             "outlinewidth": 0,
             "ticks": ""
            },
            "type": "contourcarpet"
           }
          ],
          "heatmap": [
           {
            "colorbar": {
             "outlinewidth": 0,
             "ticks": ""
            },
            "colorscale": [
             [
              0,
              "#0d0887"
             ],
             [
              0.1111111111111111,
              "#46039f"
             ],
             [
              0.2222222222222222,
              "#7201a8"
             ],
             [
              0.3333333333333333,
              "#9c179e"
             ],
             [
              0.4444444444444444,
              "#bd3786"
             ],
             [
              0.5555555555555556,
              "#d8576b"
             ],
             [
              0.6666666666666666,
              "#ed7953"
             ],
             [
              0.7777777777777778,
              "#fb9f3a"
             ],
             [
              0.8888888888888888,
              "#fdca26"
             ],
             [
              1,
              "#f0f921"
             ]
            ],
            "type": "heatmap"
           }
          ],
          "heatmapgl": [
           {
            "colorbar": {
             "outlinewidth": 0,
             "ticks": ""
            },
            "colorscale": [
             [
              0,
              "#0d0887"
             ],
             [
              0.1111111111111111,
              "#46039f"
             ],
             [
              0.2222222222222222,
              "#7201a8"
             ],
             [
              0.3333333333333333,
              "#9c179e"
             ],
             [
              0.4444444444444444,
              "#bd3786"
             ],
             [
              0.5555555555555556,
              "#d8576b"
             ],
             [
              0.6666666666666666,
              "#ed7953"
             ],
             [
              0.7777777777777778,
              "#fb9f3a"
             ],
             [
              0.8888888888888888,
              "#fdca26"
             ],
             [
              1,
              "#f0f921"
             ]
            ],
            "type": "heatmapgl"
           }
          ],
          "histogram": [
           {
            "marker": {
             "colorbar": {
              "outlinewidth": 0,
              "ticks": ""
             }
            },
            "type": "histogram"
           }
          ],
          "histogram2d": [
           {
            "colorbar": {
             "outlinewidth": 0,
             "ticks": ""
            },
            "colorscale": [
             [
              0,
              "#0d0887"
             ],
             [
              0.1111111111111111,
              "#46039f"
             ],
             [
              0.2222222222222222,
              "#7201a8"
             ],
             [
              0.3333333333333333,
              "#9c179e"
             ],
             [
              0.4444444444444444,
              "#bd3786"
             ],
             [
              0.5555555555555556,
              "#d8576b"
             ],
             [
              0.6666666666666666,
              "#ed7953"
             ],
             [
              0.7777777777777778,
              "#fb9f3a"
             ],
             [
              0.8888888888888888,
              "#fdca26"
             ],
             [
              1,
              "#f0f921"
             ]
            ],
            "type": "histogram2d"
           }
          ],
          "histogram2dcontour": [
           {
            "colorbar": {
             "outlinewidth": 0,
             "ticks": ""
            },
            "colorscale": [
             [
              0,
              "#0d0887"
             ],
             [
              0.1111111111111111,
              "#46039f"
             ],
             [
              0.2222222222222222,
              "#7201a8"
             ],
             [
              0.3333333333333333,
              "#9c179e"
             ],
             [
              0.4444444444444444,
              "#bd3786"
             ],
             [
              0.5555555555555556,
              "#d8576b"
             ],
             [
              0.6666666666666666,
              "#ed7953"
             ],
             [
              0.7777777777777778,
              "#fb9f3a"
             ],
             [
              0.8888888888888888,
              "#fdca26"
             ],
             [
              1,
              "#f0f921"
             ]
            ],
            "type": "histogram2dcontour"
           }
          ],
          "mesh3d": [
           {
            "colorbar": {
             "outlinewidth": 0,
             "ticks": ""
            },
            "type": "mesh3d"
           }
          ],
          "parcoords": [
           {
            "line": {
             "colorbar": {
              "outlinewidth": 0,
              "ticks": ""
             }
            },
            "type": "parcoords"
           }
          ],
          "pie": [
           {
            "automargin": true,
            "type": "pie"
           }
          ],
          "scatter": [
           {
            "marker": {
             "colorbar": {
              "outlinewidth": 0,
              "ticks": ""
             }
            },
            "type": "scatter"
           }
          ],
          "scatter3d": [
           {
            "line": {
             "colorbar": {
              "outlinewidth": 0,
              "ticks": ""
             }
            },
            "marker": {
             "colorbar": {
              "outlinewidth": 0,
              "ticks": ""
             }
            },
            "type": "scatter3d"
           }
          ],
          "scattercarpet": [
           {
            "marker": {
             "colorbar": {
              "outlinewidth": 0,
              "ticks": ""
             }
            },
            "type": "scattercarpet"
           }
          ],
          "scattergeo": [
           {
            "marker": {
             "colorbar": {
              "outlinewidth": 0,
              "ticks": ""
             }
            },
            "type": "scattergeo"
           }
          ],
          "scattergl": [
           {
            "marker": {
             "colorbar": {
              "outlinewidth": 0,
              "ticks": ""
             }
            },
            "type": "scattergl"
           }
          ],
          "scattermapbox": [
           {
            "marker": {
             "colorbar": {
              "outlinewidth": 0,
              "ticks": ""
             }
            },
            "type": "scattermapbox"
           }
          ],
          "scatterpolar": [
           {
            "marker": {
             "colorbar": {
              "outlinewidth": 0,
              "ticks": ""
             }
            },
            "type": "scatterpolar"
           }
          ],
          "scatterpolargl": [
           {
            "marker": {
             "colorbar": {
              "outlinewidth": 0,
              "ticks": ""
             }
            },
            "type": "scatterpolargl"
           }
          ],
          "scatterternary": [
           {
            "marker": {
             "colorbar": {
              "outlinewidth": 0,
              "ticks": ""
             }
            },
            "type": "scatterternary"
           }
          ],
          "surface": [
           {
            "colorbar": {
             "outlinewidth": 0,
             "ticks": ""
            },
            "colorscale": [
             [
              0,
              "#0d0887"
             ],
             [
              0.1111111111111111,
              "#46039f"
             ],
             [
              0.2222222222222222,
              "#7201a8"
             ],
             [
              0.3333333333333333,
              "#9c179e"
             ],
             [
              0.4444444444444444,
              "#bd3786"
             ],
             [
              0.5555555555555556,
              "#d8576b"
             ],
             [
              0.6666666666666666,
              "#ed7953"
             ],
             [
              0.7777777777777778,
              "#fb9f3a"
             ],
             [
              0.8888888888888888,
              "#fdca26"
             ],
             [
              1,
              "#f0f921"
             ]
            ],
            "type": "surface"
           }
          ],
          "table": [
           {
            "cells": {
             "fill": {
              "color": "#EBF0F8"
             },
             "line": {
              "color": "white"
             }
            },
            "header": {
             "fill": {
              "color": "#C8D4E3"
             },
             "line": {
              "color": "white"
             }
            },
            "type": "table"
           }
          ]
         },
         "layout": {
          "annotationdefaults": {
           "arrowcolor": "#2a3f5f",
           "arrowhead": 0,
           "arrowwidth": 1
          },
          "coloraxis": {
           "colorbar": {
            "outlinewidth": 0,
            "ticks": ""
           }
          },
          "colorscale": {
           "diverging": [
            [
             0,
             "#8e0152"
            ],
            [
             0.1,
             "#c51b7d"
            ],
            [
             0.2,
             "#de77ae"
            ],
            [
             0.3,
             "#f1b6da"
            ],
            [
             0.4,
             "#fde0ef"
            ],
            [
             0.5,
             "#f7f7f7"
            ],
            [
             0.6,
             "#e6f5d0"
            ],
            [
             0.7,
             "#b8e186"
            ],
            [
             0.8,
             "#7fbc41"
            ],
            [
             0.9,
             "#4d9221"
            ],
            [
             1,
             "#276419"
            ]
           ],
           "sequential": [
            [
             0,
             "#0d0887"
            ],
            [
             0.1111111111111111,
             "#46039f"
            ],
            [
             0.2222222222222222,
             "#7201a8"
            ],
            [
             0.3333333333333333,
             "#9c179e"
            ],
            [
             0.4444444444444444,
             "#bd3786"
            ],
            [
             0.5555555555555556,
             "#d8576b"
            ],
            [
             0.6666666666666666,
             "#ed7953"
            ],
            [
             0.7777777777777778,
             "#fb9f3a"
            ],
            [
             0.8888888888888888,
             "#fdca26"
            ],
            [
             1,
             "#f0f921"
            ]
           ],
           "sequentialminus": [
            [
             0,
             "#0d0887"
            ],
            [
             0.1111111111111111,
             "#46039f"
            ],
            [
             0.2222222222222222,
             "#7201a8"
            ],
            [
             0.3333333333333333,
             "#9c179e"
            ],
            [
             0.4444444444444444,
             "#bd3786"
            ],
            [
             0.5555555555555556,
             "#d8576b"
            ],
            [
             0.6666666666666666,
             "#ed7953"
            ],
            [
             0.7777777777777778,
             "#fb9f3a"
            ],
            [
             0.8888888888888888,
             "#fdca26"
            ],
            [
             1,
             "#f0f921"
            ]
           ]
          },
          "colorway": [
           "#636efa",
           "#EF553B",
           "#00cc96",
           "#ab63fa",
           "#FFA15A",
           "#19d3f3",
           "#FF6692",
           "#B6E880",
           "#FF97FF",
           "#FECB52"
          ],
          "font": {
           "color": "#2a3f5f"
          },
          "geo": {
           "bgcolor": "white",
           "lakecolor": "white",
           "landcolor": "#E5ECF6",
           "showlakes": true,
           "showland": true,
           "subunitcolor": "white"
          },
          "hoverlabel": {
           "align": "left"
          },
          "hovermode": "closest",
          "mapbox": {
           "style": "light"
          },
          "paper_bgcolor": "white",
          "plot_bgcolor": "#E5ECF6",
          "polar": {
           "angularaxis": {
            "gridcolor": "white",
            "linecolor": "white",
            "ticks": ""
           },
           "bgcolor": "#E5ECF6",
           "radialaxis": {
            "gridcolor": "white",
            "linecolor": "white",
            "ticks": ""
           }
          },
          "scene": {
           "xaxis": {
            "backgroundcolor": "#E5ECF6",
            "gridcolor": "white",
            "gridwidth": 2,
            "linecolor": "white",
            "showbackground": true,
            "ticks": "",
            "zerolinecolor": "white"
           },
           "yaxis": {
            "backgroundcolor": "#E5ECF6",
            "gridcolor": "white",
            "gridwidth": 2,
            "linecolor": "white",
            "showbackground": true,
            "ticks": "",
            "zerolinecolor": "white"
           },
           "zaxis": {
            "backgroundcolor": "#E5ECF6",
            "gridcolor": "white",
            "gridwidth": 2,
            "linecolor": "white",
            "showbackground": true,
            "ticks": "",
            "zerolinecolor": "white"
           }
          },
          "shapedefaults": {
           "line": {
            "color": "#2a3f5f"
           }
          },
          "ternary": {
           "aaxis": {
            "gridcolor": "white",
            "linecolor": "white",
            "ticks": ""
           },
           "baxis": {
            "gridcolor": "white",
            "linecolor": "white",
            "ticks": ""
           },
           "bgcolor": "#E5ECF6",
           "caxis": {
            "gridcolor": "white",
            "linecolor": "white",
            "ticks": ""
           }
          },
          "title": {
           "x": 0.05
          },
          "xaxis": {
           "automargin": true,
           "gridcolor": "white",
           "linecolor": "white",
           "ticks": "",
           "title": {
            "standoff": 15
           },
           "zerolinecolor": "white",
           "zerolinewidth": 2
          },
          "yaxis": {
           "automargin": true,
           "gridcolor": "white",
           "linecolor": "white",
           "ticks": "",
           "title": {
            "standoff": 15
           },
           "zerolinecolor": "white",
           "zerolinewidth": 2
          }
         }
        },
        "title": {
         "text": "Pressure and Density during NPT Equilibration"
        },
        "xaxis": {
         "anchor": "y",
         "domain": [
          0,
          0.45
         ],
         "title": {
          "text": "Time (ps)"
         }
        },
        "xaxis2": {
         "anchor": "y2",
         "domain": [
          0.55,
          1
         ],
         "title": {
          "text": "Time (ps)"
         }
        },
        "yaxis": {
         "anchor": "x",
         "domain": [
          0,
          1
         ],
         "title": {
          "text": "Pressure (bar)"
         }
        },
        "yaxis2": {
         "anchor": "x2",
         "domain": [
          0,
          1
         ],
         "title": {
          "text": "Density (Kg*m^-3)"
         }
        }
       }
      },
      "text/html": [
       "<div>\n",
       "        \n",
       "        \n",
       "            <div id=\"ae0cb9e8-64fd-4ed7-b9a0-5f50a499869c\" class=\"plotly-graph-div\" style=\"height:525px; width:100%;\"></div>\n",
       "            <script type=\"text/javascript\">\n",
       "                require([\"plotly\"], function(Plotly) {\n",
       "                    window.PLOTLYENV=window.PLOTLYENV || {};\n",
       "                    \n",
       "                if (document.getElementById(\"ae0cb9e8-64fd-4ed7-b9a0-5f50a499869c\")) {\n",
       "                    Plotly.newPlot(\n",
       "                        'ae0cb9e8-64fd-4ed7-b9a0-5f50a499869c',\n",
       "                        [{\"type\": \"scatter\", \"x\": [0.0, 1.0, 2.0, 3.0, 4.0, 5.0, 6.0, 7.0, 8.0, 9.0, 10.0], \"xaxis\": \"x\", \"y\": [-692.971802, -20.755203, -10.210159, 365.691956, 41.220047, 69.346649, -91.022919, -4.442215, 235.844223, 84.643555, -80.066559], \"yaxis\": \"y\"}, {\"type\": \"scatter\", \"x\": [0.0, 1.0, 2.0, 3.0, 4.0, 5.0, 6.0, 7.0, 8.0, 9.0, 10.0], \"xaxis\": \"x2\", \"y\": [995.082031, 1016.164246, 1017.146301, 1022.868408, 1017.976379, 1022.015076, 1019.206909, 1020.156616, 1020.640808, 1019.637512, 1021.418518], \"yaxis\": \"y2\"}],\n",
       "                        {\"showlegend\": false, \"template\": {\"data\": {\"bar\": [{\"error_x\": {\"color\": \"#2a3f5f\"}, \"error_y\": {\"color\": \"#2a3f5f\"}, \"marker\": {\"line\": {\"color\": \"#E5ECF6\", \"width\": 0.5}}, \"type\": \"bar\"}], \"barpolar\": [{\"marker\": {\"line\": {\"color\": \"#E5ECF6\", \"width\": 0.5}}, \"type\": \"barpolar\"}], \"carpet\": [{\"aaxis\": {\"endlinecolor\": \"#2a3f5f\", \"gridcolor\": \"white\", \"linecolor\": \"white\", \"minorgridcolor\": \"white\", \"startlinecolor\": \"#2a3f5f\"}, \"baxis\": {\"endlinecolor\": \"#2a3f5f\", \"gridcolor\": \"white\", \"linecolor\": \"white\", \"minorgridcolor\": \"white\", \"startlinecolor\": \"#2a3f5f\"}, \"type\": \"carpet\"}], \"choropleth\": [{\"colorbar\": {\"outlinewidth\": 0, \"ticks\": \"\"}, \"type\": \"choropleth\"}], \"contour\": [{\"colorbar\": {\"outlinewidth\": 0, \"ticks\": \"\"}, \"colorscale\": [[0.0, \"#0d0887\"], [0.1111111111111111, \"#46039f\"], [0.2222222222222222, \"#7201a8\"], [0.3333333333333333, \"#9c179e\"], [0.4444444444444444, \"#bd3786\"], [0.5555555555555556, \"#d8576b\"], [0.6666666666666666, \"#ed7953\"], [0.7777777777777778, \"#fb9f3a\"], [0.8888888888888888, \"#fdca26\"], [1.0, \"#f0f921\"]], \"type\": \"contour\"}], \"contourcarpet\": [{\"colorbar\": {\"outlinewidth\": 0, \"ticks\": \"\"}, \"type\": \"contourcarpet\"}], \"heatmap\": [{\"colorbar\": {\"outlinewidth\": 0, \"ticks\": \"\"}, \"colorscale\": [[0.0, \"#0d0887\"], [0.1111111111111111, \"#46039f\"], [0.2222222222222222, \"#7201a8\"], [0.3333333333333333, \"#9c179e\"], [0.4444444444444444, \"#bd3786\"], [0.5555555555555556, \"#d8576b\"], [0.6666666666666666, \"#ed7953\"], [0.7777777777777778, \"#fb9f3a\"], [0.8888888888888888, \"#fdca26\"], [1.0, \"#f0f921\"]], \"type\": \"heatmap\"}], \"heatmapgl\": [{\"colorbar\": {\"outlinewidth\": 0, \"ticks\": \"\"}, \"colorscale\": [[0.0, \"#0d0887\"], [0.1111111111111111, \"#46039f\"], [0.2222222222222222, \"#7201a8\"], [0.3333333333333333, \"#9c179e\"], [0.4444444444444444, \"#bd3786\"], [0.5555555555555556, \"#d8576b\"], [0.6666666666666666, \"#ed7953\"], [0.7777777777777778, \"#fb9f3a\"], [0.8888888888888888, \"#fdca26\"], [1.0, \"#f0f921\"]], \"type\": \"heatmapgl\"}], \"histogram\": [{\"marker\": {\"colorbar\": {\"outlinewidth\": 0, \"ticks\": \"\"}}, \"type\": \"histogram\"}], \"histogram2d\": [{\"colorbar\": {\"outlinewidth\": 0, \"ticks\": \"\"}, \"colorscale\": [[0.0, \"#0d0887\"], [0.1111111111111111, \"#46039f\"], [0.2222222222222222, \"#7201a8\"], [0.3333333333333333, \"#9c179e\"], [0.4444444444444444, \"#bd3786\"], [0.5555555555555556, \"#d8576b\"], [0.6666666666666666, \"#ed7953\"], [0.7777777777777778, \"#fb9f3a\"], [0.8888888888888888, \"#fdca26\"], [1.0, \"#f0f921\"]], \"type\": \"histogram2d\"}], \"histogram2dcontour\": [{\"colorbar\": {\"outlinewidth\": 0, \"ticks\": \"\"}, \"colorscale\": [[0.0, \"#0d0887\"], [0.1111111111111111, \"#46039f\"], [0.2222222222222222, \"#7201a8\"], [0.3333333333333333, \"#9c179e\"], [0.4444444444444444, \"#bd3786\"], [0.5555555555555556, \"#d8576b\"], [0.6666666666666666, \"#ed7953\"], [0.7777777777777778, \"#fb9f3a\"], [0.8888888888888888, \"#fdca26\"], [1.0, \"#f0f921\"]], \"type\": \"histogram2dcontour\"}], \"mesh3d\": [{\"colorbar\": {\"outlinewidth\": 0, \"ticks\": \"\"}, \"type\": \"mesh3d\"}], \"parcoords\": [{\"line\": {\"colorbar\": {\"outlinewidth\": 0, \"ticks\": \"\"}}, \"type\": \"parcoords\"}], \"pie\": [{\"automargin\": true, \"type\": \"pie\"}], \"scatter\": [{\"marker\": {\"colorbar\": {\"outlinewidth\": 0, \"ticks\": \"\"}}, \"type\": \"scatter\"}], \"scatter3d\": [{\"line\": {\"colorbar\": {\"outlinewidth\": 0, \"ticks\": \"\"}}, \"marker\": {\"colorbar\": {\"outlinewidth\": 0, \"ticks\": \"\"}}, \"type\": \"scatter3d\"}], \"scattercarpet\": [{\"marker\": {\"colorbar\": {\"outlinewidth\": 0, \"ticks\": \"\"}}, \"type\": \"scattercarpet\"}], \"scattergeo\": [{\"marker\": {\"colorbar\": {\"outlinewidth\": 0, \"ticks\": \"\"}}, \"type\": \"scattergeo\"}], \"scattergl\": [{\"marker\": {\"colorbar\": {\"outlinewidth\": 0, \"ticks\": \"\"}}, \"type\": \"scattergl\"}], \"scattermapbox\": [{\"marker\": {\"colorbar\": {\"outlinewidth\": 0, \"ticks\": \"\"}}, \"type\": \"scattermapbox\"}], \"scatterpolar\": [{\"marker\": {\"colorbar\": {\"outlinewidth\": 0, \"ticks\": \"\"}}, \"type\": \"scatterpolar\"}], \"scatterpolargl\": [{\"marker\": {\"colorbar\": {\"outlinewidth\": 0, \"ticks\": \"\"}}, \"type\": \"scatterpolargl\"}], \"scatterternary\": [{\"marker\": {\"colorbar\": {\"outlinewidth\": 0, \"ticks\": \"\"}}, \"type\": \"scatterternary\"}], \"surface\": [{\"colorbar\": {\"outlinewidth\": 0, \"ticks\": \"\"}, \"colorscale\": [[0.0, \"#0d0887\"], [0.1111111111111111, \"#46039f\"], [0.2222222222222222, \"#7201a8\"], [0.3333333333333333, \"#9c179e\"], [0.4444444444444444, \"#bd3786\"], [0.5555555555555556, \"#d8576b\"], [0.6666666666666666, \"#ed7953\"], [0.7777777777777778, \"#fb9f3a\"], [0.8888888888888888, \"#fdca26\"], [1.0, \"#f0f921\"]], \"type\": \"surface\"}], \"table\": [{\"cells\": {\"fill\": {\"color\": \"#EBF0F8\"}, \"line\": {\"color\": \"white\"}}, \"header\": {\"fill\": {\"color\": \"#C8D4E3\"}, \"line\": {\"color\": \"white\"}}, \"type\": \"table\"}]}, \"layout\": {\"annotationdefaults\": {\"arrowcolor\": \"#2a3f5f\", \"arrowhead\": 0, \"arrowwidth\": 1}, \"coloraxis\": {\"colorbar\": {\"outlinewidth\": 0, \"ticks\": \"\"}}, \"colorscale\": {\"diverging\": [[0, \"#8e0152\"], [0.1, \"#c51b7d\"], [0.2, \"#de77ae\"], [0.3, \"#f1b6da\"], [0.4, \"#fde0ef\"], [0.5, \"#f7f7f7\"], [0.6, \"#e6f5d0\"], [0.7, \"#b8e186\"], [0.8, \"#7fbc41\"], [0.9, \"#4d9221\"], [1, \"#276419\"]], \"sequential\": [[0.0, \"#0d0887\"], [0.1111111111111111, \"#46039f\"], [0.2222222222222222, \"#7201a8\"], [0.3333333333333333, \"#9c179e\"], [0.4444444444444444, \"#bd3786\"], [0.5555555555555556, \"#d8576b\"], [0.6666666666666666, \"#ed7953\"], [0.7777777777777778, \"#fb9f3a\"], [0.8888888888888888, \"#fdca26\"], [1.0, \"#f0f921\"]], \"sequentialminus\": [[0.0, \"#0d0887\"], [0.1111111111111111, \"#46039f\"], [0.2222222222222222, \"#7201a8\"], [0.3333333333333333, \"#9c179e\"], [0.4444444444444444, \"#bd3786\"], [0.5555555555555556, \"#d8576b\"], [0.6666666666666666, \"#ed7953\"], [0.7777777777777778, \"#fb9f3a\"], [0.8888888888888888, \"#fdca26\"], [1.0, \"#f0f921\"]]}, \"colorway\": [\"#636efa\", \"#EF553B\", \"#00cc96\", \"#ab63fa\", \"#FFA15A\", \"#19d3f3\", \"#FF6692\", \"#B6E880\", \"#FF97FF\", \"#FECB52\"], \"font\": {\"color\": \"#2a3f5f\"}, \"geo\": {\"bgcolor\": \"white\", \"lakecolor\": \"white\", \"landcolor\": \"#E5ECF6\", \"showlakes\": true, \"showland\": true, \"subunitcolor\": \"white\"}, \"hoverlabel\": {\"align\": \"left\"}, \"hovermode\": \"closest\", \"mapbox\": {\"style\": \"light\"}, \"paper_bgcolor\": \"white\", \"plot_bgcolor\": \"#E5ECF6\", \"polar\": {\"angularaxis\": {\"gridcolor\": \"white\", \"linecolor\": \"white\", \"ticks\": \"\"}, \"bgcolor\": \"#E5ECF6\", \"radialaxis\": {\"gridcolor\": \"white\", \"linecolor\": \"white\", \"ticks\": \"\"}}, \"scene\": {\"xaxis\": {\"backgroundcolor\": \"#E5ECF6\", \"gridcolor\": \"white\", \"gridwidth\": 2, \"linecolor\": \"white\", \"showbackground\": true, \"ticks\": \"\", \"zerolinecolor\": \"white\"}, \"yaxis\": {\"backgroundcolor\": \"#E5ECF6\", \"gridcolor\": \"white\", \"gridwidth\": 2, \"linecolor\": \"white\", \"showbackground\": true, \"ticks\": \"\", \"zerolinecolor\": \"white\"}, \"zaxis\": {\"backgroundcolor\": \"#E5ECF6\", \"gridcolor\": \"white\", \"gridwidth\": 2, \"linecolor\": \"white\", \"showbackground\": true, \"ticks\": \"\", \"zerolinecolor\": \"white\"}}, \"shapedefaults\": {\"line\": {\"color\": \"#2a3f5f\"}}, \"ternary\": {\"aaxis\": {\"gridcolor\": \"white\", \"linecolor\": \"white\", \"ticks\": \"\"}, \"baxis\": {\"gridcolor\": \"white\", \"linecolor\": \"white\", \"ticks\": \"\"}, \"bgcolor\": \"#E5ECF6\", \"caxis\": {\"gridcolor\": \"white\", \"linecolor\": \"white\", \"ticks\": \"\"}}, \"title\": {\"x\": 0.05}, \"xaxis\": {\"automargin\": true, \"gridcolor\": \"white\", \"linecolor\": \"white\", \"ticks\": \"\", \"title\": {\"standoff\": 15}, \"zerolinecolor\": \"white\", \"zerolinewidth\": 2}, \"yaxis\": {\"automargin\": true, \"gridcolor\": \"white\", \"linecolor\": \"white\", \"ticks\": \"\", \"title\": {\"standoff\": 15}, \"zerolinecolor\": \"white\", \"zerolinewidth\": 2}}}, \"title\": {\"text\": \"Pressure and Density during NPT Equilibration\"}, \"xaxis\": {\"anchor\": \"y\", \"domain\": [0.0, 0.45], \"title\": {\"text\": \"Time (ps)\"}}, \"xaxis2\": {\"anchor\": \"y2\", \"domain\": [0.55, 1.0], \"title\": {\"text\": \"Time (ps)\"}}, \"yaxis\": {\"anchor\": \"x\", \"domain\": [0.0, 1.0], \"title\": {\"text\": \"Pressure (bar)\"}}, \"yaxis2\": {\"anchor\": \"x2\", \"domain\": [0.0, 1.0], \"title\": {\"text\": \"Density (Kg*m^-3)\"}}},\n",
       "                        {\"responsive\": true}\n",
       "                    ).then(function(){\n",
       "                            \n",
       "var gd = document.getElementById('ae0cb9e8-64fd-4ed7-b9a0-5f50a499869c');\n",
       "var x = new MutationObserver(function (mutations, observer) {{\n",
       "        var display = window.getComputedStyle(gd).display;\n",
       "        if (!display || display === 'none') {{\n",
       "            console.log([gd, 'removed!']);\n",
       "            Plotly.purge(gd);\n",
       "            observer.disconnect();\n",
       "        }}\n",
       "}});\n",
       "\n",
       "// Listen for the removal of the full notebook cells\n",
       "var notebookContainer = gd.closest('#notebook-container');\n",
       "if (notebookContainer) {{\n",
       "    x.observe(notebookContainer, {childList: true});\n",
       "}}\n",
       "\n",
       "// Listen for the clearing of the current output cell\n",
       "var outputEl = gd.closest('.output');\n",
       "if (outputEl) {{\n",
       "    x.observe(outputEl, {childList: true});\n",
       "}}\n",
       "\n",
       "                        })\n",
       "                };\n",
       "                });\n",
       "            </script>\n",
       "        </div>"
      ]
     },
     "metadata": {},
     "output_type": "display_data"
    }
   ],
   "source": [
    "import plotly\n",
    "from plotly import subplots\n",
    "import plotly.graph_objs as go\n",
    "\n",
    "# Read pressure and density data from file \n",
    "with open(output_npt_pd_xvg,'r') as pd_file:\n",
    "    x,y,z = map(\n",
    "        list,\n",
    "        zip(*[\n",
    "            (float(line.split()[0]),float(line.split()[1]),float(line.split()[2]))\n",
    "            for line in pd_file \n",
    "            if not line.startswith((\"#\",\"@\")) \n",
    "        ])\n",
    "    )\n",
    "\n",
    "plotly.offline.init_notebook_mode(connected=True)\n",
    "\n",
    "trace1 = go.Scatter(\n",
    "    x=x,y=y\n",
    ")\n",
    "trace2 = go.Scatter(\n",
    "    x=x,y=z\n",
    ")\n",
    "\n",
    "fig = subplots.make_subplots(rows=1, cols=2, print_grid=False)\n",
    "\n",
    "fig.append_trace(trace1, 1, 1)\n",
    "fig.append_trace(trace2, 1, 2)\n",
    "\n",
    "fig['layout']['xaxis1'].update(title='Time (ps)')\n",
    "fig['layout']['xaxis2'].update(title='Time (ps)')\n",
    "fig['layout']['yaxis1'].update(title='Pressure (bar)')\n",
    "fig['layout']['yaxis2'].update(title='Density (Kg*m^-3)')\n",
    "\n",
    "fig['layout'].update(title='Pressure and Density during NPT Equilibration')\n",
    "fig['layout'].update(showlegend=False)\n",
    "\n",
    "plotly.offline.iplot(fig)"
   ]
  },
  {
   "cell_type": "markdown",
   "metadata": {},
   "source": [
    "<a id=\"free\"></a>\n",
    "***\n",
    "## Free Molecular Dynamics Simulation\n",
    "Upon completion of the **two equilibration phases (NVT and NPT)**, the system is now well-equilibrated at the desired temperature and pressure. The **position restraints** can now be released. The last step of the **protein** MD setup is a short, **free MD simulation**, to ensure the robustness of the system. \n",
    "- [Step 1](#mdStep1): Creating portable binary run file to run a **free MD simulation**.\n",
    "- [Step 2](#mdStep2): Run short MD simulation of the **protein system**.\n",
    "- [Step 3](#mdStep3): Checking results for the final step of the setup process, the **free MD run**. Plotting **Root Mean Square deviation (RMSd)** and **Radius of Gyration (Rgyr)** by time during the **free MD run** step. \n",
    "***\n",
    "**Building Blocks** used:\n",
    " - [Grompp](https://biobb-md.readthedocs.io/en/latest/gromacs.html#module-gromacs.grompp) from **biobb_gromacs.gromacs.grompp** \n",
    " - [Mdrun](https://biobb-md.readthedocs.io/en/latest/gromacs.html#module-gromacs.mdrun) from **biobb_gromacs.gromacs.mdrun** \n",
    " - [GMXRms](https://biobb-analysis.readthedocs.io/en/latest/gromacs.html#module-gromacs.gmx_rms) from **biobb_analysis.gromacs.gmx_rms** \n",
    " - [GMXRgyr](https://biobb-analysis.readthedocs.io/en/latest/gromacs.html#module-gromacs.gmx_rgyr) from **biobb_analysis.gromacs.gmx_rgyr** \n",
    "***"
   ]
  },
  {
   "cell_type": "markdown",
   "metadata": {},
   "source": [
    "<a id=\"mdStep1\"></a>\n",
    "### Step 1: Creating portable binary run file to run a free MD simulation\n",
    "\n",
    "The **free** type of the **molecular dynamics parameters (mdp) property** contains the main default parameters to run an **free MD simulation** (see [GROMACS mdp options](http://manual.gromacs.org/documentation/2018/user-guide/mdp-options.html)):\n",
    "\n",
    "-  integrator               = md\n",
    "-  dt                       = 0.002 (ps)\n",
    "-  nsteps                   = 50000\n",
    "\n",
    "In this particular example, the default parameters will be used: **md** integrator algorithm, a **time step** of **2fs**, and a total of **50,000 md steps** (100ps).\n",
    "\n",
    "*Please note that for the sake of time this tutorial is only running 100ps of free MD, whereas in the [original example](http://www.mdtutorials.com/gmx/lysozyme/08_MD.html) the simulated time was 1ns (1000ps).*"
   ]
  },
  {
   "cell_type": "code",
   "execution_count": 43,
   "metadata": {},
   "outputs": [
    {
     "name": "stdout",
     "output_type": "stream",
     "text": [
      "2021-06-23 07:35:50,467 [MainThread  ] [INFO ]  GROMACS Grompp 20190 version detected\n",
      "2021-06-23 07:35:50,478 [MainThread  ] [INFO ]  Extracting: /home/gbayarri_local/projects/BioBB/tutorials/biobb_wf_md_setup/biobb_wf_md_setup/notebooks/1AKI_genion_top.zip\n",
      "2021-06-23 07:35:50,479 [MainThread  ] [INFO ]  to:\n",
      "2021-06-23 07:35:50,480 [MainThread  ] [INFO ]  ['fdc4a3b3-42d6-4037-9b1c-4c4bb9edf6fe/p2g.top', 'fdc4a3b3-42d6-4037-9b1c-4c4bb9edf6fe/posre.itp']\n",
      "2021-06-23 07:35:50,481 [MainThread  ] [INFO ]  Unzipping: \n",
      "2021-06-23 07:35:50,482 [MainThread  ] [INFO ]  1AKI_genion_top.zip\n",
      "2021-06-23 07:35:50,483 [MainThread  ] [INFO ]  To: \n",
      "2021-06-23 07:35:50,484 [MainThread  ] [INFO ]  fdc4a3b3-42d6-4037-9b1c-4c4bb9edf6fe/p2g.top\n",
      "2021-06-23 07:35:50,487 [MainThread  ] [INFO ]  fdc4a3b3-42d6-4037-9b1c-4c4bb9edf6fe/posre.itp\n",
      "2021-06-23 07:35:50,489 [MainThread  ] [INFO ]  Not using any container\n",
      "2021-06-23 07:35:50,884 [MainThread  ] [INFO ]  gmx -nobackup -nocopyright grompp -f f0e7689e-0dde-4863-a2c4-f5bf7e34393a/grompp.mdp -c 1AKI_npt.gro -r 1AKI_npt.gro -p fdc4a3b3-42d6-4037-9b1c-4c4bb9edf6fe/p2g.top -o 1AKI_gppmd.tpr -po mdout.mdp -maxwarn 10 -t 1AKI_npt.cpt\n",
      "\n",
      "2021-06-23 07:35:50,885 [MainThread  ] [INFO ]  Exit code 0\n",
      "\n",
      "2021-06-23 07:35:50,885 [MainThread  ] [INFO ]  turning H bonds into constraints...\n",
      "turning H bonds into constraints...\n",
      "turning H bonds into constraints...\n",
      "turning H bonds into constraints...\n",
      "Analysing residue names:\n",
      "There are:   129    Protein residues\n",
      "There are: 10616      Water residues\n",
      "There are:    28        Ion residues\n",
      "Analysing Protein...\n",
      "Analysing residues not classified as Protein/DNA/RNA/Water and splitting into groups...\n",
      "Determining Verlet buffer for a tolerance of 0.005 kJ/mol/ps at 300 K\n",
      "Calculated rlist for 1x1 atom pair-list as 1.035 nm, buffer size 0.035 nm\n",
      "Set rlist, assuming 4x4 atom pair-list, to 1.000 nm, buffer size 0.000 nm\n",
      "Note that mdrun will redetermine rlist based on the actual pair-list setup\n",
      "Calculating fourier grid dimensions for X Y Z\n",
      "Using a fourier grid of 60x60x60, spacing 0.116 0.116 0.116\n",
      "This run will generate roughly 19 Mb of data\n",
      "\n",
      "2021-06-23 07:35:50,886 [MainThread  ] [INFO ]                         :-) GROMACS - gmx grompp, 2019 (-:\n",
      "\n",
      "Executable:   /usr/local/gromacs/bin/gmx\n",
      "Data prefix:  /usr/local/gromacs\n",
      "Working dir:  /home/gbayarri_local/projects/BioBB/tutorials/biobb_wf_md_setup/biobb_wf_md_setup/notebooks\n",
      "Command line:\n",
      "  gmx -nobackup -nocopyright grompp -f f0e7689e-0dde-4863-a2c4-f5bf7e34393a/grompp.mdp -c 1AKI_npt.gro -r 1AKI_npt.gro -p fdc4a3b3-42d6-4037-9b1c-4c4bb9edf6fe/p2g.top -o 1AKI_gppmd.tpr -po mdout.mdp -maxwarn 10 -t 1AKI_npt.cpt\n",
      "\n",
      "Setting the LD random seed to 682966722\n",
      "Generated 2145 of the 2145 non-bonded parameter combinations\n",
      "Generating 1-4 interactions: fudge = 0.5\n",
      "Generated 2145 of the 2145 1-4 parameter combinations\n",
      "Excluding 3 bonded neighbours molecule type 'Protein_chain_A'\n",
      "Excluding 2 bonded neighbours molecule type 'SOL'\n",
      "Excluding 1 bonded neighbours molecule type 'NA'\n",
      "Excluding 1 bonded neighbours molecule type 'CL'\n",
      "Removing all charge groups because cutoff-scheme=Verlet\n",
      "Number of degrees of freedom in T-Coupling group Protein is 4920.79\n",
      "Number of degrees of freedom in T-Coupling group non-Protein is 63777.21\n",
      "Reading Coordinates, Velocities and Box size from old trajectory\n",
      "Will read whole trajectory\n",
      "Last frame         -1 time   10.000   \n",
      "Using frame at t = 10 ps\n",
      "Starting time for run is 0 ps\n",
      "Estimate for the relative computational load of the PME mesh part: 0.26\n",
      "\n",
      "GROMACS reminds you: \"You Try to Run the Universe\" (Tricky)\n",
      "\n",
      "\n",
      "2021-06-23 07:35:50,888 [MainThread  ] [INFO ]  Removed: ['mdout.mdp', 'fdc4a3b3-42d6-4037-9b1c-4c4bb9edf6fe', 'f0e7689e-0dde-4863-a2c4-f5bf7e34393a']\n"
     ]
    },
    {
     "data": {
      "text/plain": [
       "0"
      ]
     },
     "execution_count": 43,
     "metadata": {},
     "output_type": "execute_result"
    }
   ],
   "source": [
    "# Grompp: Creating portable binary run file for mdrun\n",
    "from biobb_gromacs.gromacs.grompp import grompp\n",
    "\n",
    "# Create prop dict and inputs/outputs\n",
    "output_gppmd_tpr = pdbCode+'_gppmd.tpr'\n",
    "prop = {\n",
    "    'mdp':{\n",
    "        'nsteps':'50000',\n",
    "        #'tc_grps': \"DNA Water_and_ions\" # NOTE: uncomment this line if working with DNA\n",
    "    },\n",
    "    'simulation_type': 'free'\n",
    "}\n",
    "\n",
    "# Create and launch bb\n",
    "grompp(input_gro_path=output_npt_gro, \n",
    "       input_top_zip_path=output_genion_top_zip, \n",
    "       output_tpr_path=output_gppmd_tpr, \n",
    "       input_cpt_path=output_npt_cpt, \n",
    "       properties=prop)"
   ]
  },
  {
   "cell_type": "markdown",
   "metadata": {},
   "source": [
    "<a id=\"mdStep2\"></a>\n",
    "### Step 2: Running short free MD simulation"
   ]
  },
  {
   "cell_type": "code",
   "execution_count": 44,
   "metadata": {},
   "outputs": [
    {
     "name": "stdout",
     "output_type": "stream",
     "text": [
      "2021-06-23 07:35:50,929 [MainThread  ] [INFO ]  GROMACS Mdrun 20190 version detected\n",
      "2021-06-23 07:35:50,931 [MainThread  ] [INFO ]  Not using any container\n",
      "2021-06-23 07:45:45,145 [MainThread  ] [INFO ]  gmx -nobackup -nocopyright mdrun -s 1AKI_gppmd.tpr -o 1AKI_md.trr -c 1AKI_md.gro -e 1AKI_md.edr -g 1AKI_md.log -cpo 1AKI_md.cpt\n",
      "\n",
      "2021-06-23 07:45:45,147 [MainThread  ] [INFO ]  Exit code 0\n",
      "\n",
      "2021-06-23 07:45:45,148 [MainThread  ] [INFO ]                         :-) GROMACS - gmx mdrun, 2019 (-:\n",
      "\n",
      "Executable:   /usr/local/gromacs/bin/gmx\n",
      "Data prefix:  /usr/local/gromacs\n",
      "Working dir:  /home/gbayarri_local/projects/BioBB/tutorials/biobb_wf_md_setup/biobb_wf_md_setup/notebooks\n",
      "Command line:\n",
      "  gmx -nobackup -nocopyright mdrun -s 1AKI_gppmd.tpr -o 1AKI_md.trr -c 1AKI_md.gro -e 1AKI_md.edr -g 1AKI_md.log -cpo 1AKI_md.cpt\n",
      "\n",
      "Reading file 1AKI_gppmd.tpr, VERSION 2019 (single precision)\n",
      "Changing nstlist from 10 to 50, rlist from 1 to 1.116\n",
      "\n",
      "Using 1 MPI thread\n",
      "Using 8 OpenMP threads \n",
      "\n",
      "starting mdrun 'Protein in water'\n",
      "50000 steps,    100.0 ps.\n",
      "\n",
      "Writing final coordinates.\n",
      "\n",
      "               Core t (s)   Wall t (s)        (%)\n",
      "       Time:     4733.433      591.679      800.0\n",
      "                 (ns/day)    (hour/ns)\n",
      "Performance:       14.603        1.644\n",
      "\n",
      "GROMACS reminds you: \"Science may never come up with a better office communication system than the coffee break.\" (Earl Wilson)\n",
      "\n",
      "\n",
      "2021-06-23 07:45:45,149 [MainThread  ] [INFO ]  Removed: []\n"
     ]
    },
    {
     "data": {
      "text/plain": [
       "0"
      ]
     },
     "execution_count": 44,
     "metadata": {},
     "output_type": "execute_result"
    }
   ],
   "source": [
    "# Mdrun: Running free dynamics\n",
    "from biobb_gromacs.gromacs.mdrun import mdrun\n",
    "\n",
    "# Create prop dict and inputs/outputs\n",
    "output_md_trr = pdbCode+'_md.trr'\n",
    "output_md_gro = pdbCode+'_md.gro'\n",
    "output_md_edr = pdbCode+'_md.edr'\n",
    "output_md_log = pdbCode+'_md.log'\n",
    "output_md_cpt = pdbCode+'_md.cpt'\n",
    "\n",
    "# Create and launch bb\n",
    "mdrun(input_tpr_path=output_gppmd_tpr, \n",
    "      output_trr_path=output_md_trr, \n",
    "      output_gro_path=output_md_gro, \n",
    "      output_edr_path=output_md_edr, \n",
    "      output_log_path=output_md_log, \n",
    "      output_cpt_path=output_md_cpt)"
   ]
  },
  {
   "cell_type": "markdown",
   "metadata": {},
   "source": [
    "<a id=\"mdStep3\"></a>\n",
    "### Step 3: Checking free MD simulation results\n",
    "Checking results for the final step of the setup process, the **free MD run**. Plotting **Root Mean Square deviation (RMSd)** and **Radius of Gyration (Rgyr)** by time during the **free MD run** step. **RMSd** against the **experimental structure** (input structure of the pipeline) and against the **minimized and equilibrated structure** (output structure of the NPT equilibration step)."
   ]
  },
  {
   "cell_type": "code",
   "execution_count": 45,
   "metadata": {},
   "outputs": [
    {
     "name": "stdout",
     "output_type": "stream",
     "text": [
      "2021-06-23 07:45:45,176 [MainThread  ] [INFO ]  Not using any container\n",
      "2021-06-23 07:45:45,378 [MainThread  ] [INFO ]  echo 'Backbone Backbone' | gmx rms -s /home/gbayarri_local/projects/BioBB/tutorials/biobb_wf_md_setup/biobb_wf_md_setup/notebooks/1AKI_gppmd.tpr -f /home/gbayarri_local/projects/BioBB/tutorials/biobb_wf_md_setup/biobb_wf_md_setup/notebooks/1AKI_md.trr -o 1AKI_rms_first.xvg -xvg none\n",
      "\n",
      "2021-06-23 07:45:45,380 [MainThread  ] [INFO ]  Exit code 0\n",
      "\n",
      "2021-06-23 07:45:45,380 [MainThread  ] [INFO ]  Selected 4: 'Backbone'\n",
      "Selected 4: 'Backbone'\n",
      "\n",
      "2021-06-23 07:45:45,381 [MainThread  ] [INFO ]                          :-) GROMACS - gmx rms, 2019 (-:\n",
      "\n",
      "                            GROMACS is written by:\n",
      "     Emile Apol      Rossen Apostolov      Paul Bauer     Herman J.C. Berendsen\n",
      "    Par Bjelkmar      Christian Blau   Viacheslav Bolnykh     Kevin Boyd    \n",
      " Aldert van Buuren   Rudi van Drunen     Anton Feenstra       Alan Gray     \n",
      "  Gerrit Groenhof     Anca Hamuraru    Vincent Hindriksen  M. Eric Irrgang  \n",
      "  Aleksei Iupinov   Christoph Junghans     Joe Jordan     Dimitrios Karkoulis\n",
      "    Peter Kasson        Jiri Kraus      Carsten Kutzner      Per Larsson    \n",
      "  Justin A. Lemkul    Viveca Lindahl    Magnus Lundborg     Erik Marklund   \n",
      "    Pascal Merz     Pieter Meulenhoff    Teemu Murtola       Szilard Pall   \n",
      "    Sander Pronk      Roland Schulz      Michael Shirts    Alexey Shvetsov  \n",
      "   Alfons Sijbers     Peter Tieleman      Jon Vincent      Teemu Virolainen \n",
      " Christian Wennberg    Maarten Wolf   \n",
      "                           and the project leaders:\n",
      "        Mark Abraham, Berk Hess, Erik Lindahl, and David van der Spoel\n",
      "\n",
      "Copyright (c) 1991-2000, University of Groningen, The Netherlands.\n",
      "Copyright (c) 2001-2018, The GROMACS development team at\n",
      "Uppsala University, Stockholm University and\n",
      "the Royal Institute of Technology, Sweden.\n",
      "check out http://www.gromacs.org for more information.\n",
      "\n",
      "GROMACS is free software; you can redistribute it and/or modify it\n",
      "under the terms of the GNU Lesser General Public License\n",
      "as published by the Free Software Foundation; either version 2.1\n",
      "of the License, or (at your option) any later version.\n",
      "\n",
      "GROMACS:      gmx rms, version 2019\n",
      "Executable:   /usr/local/gromacs/bin/gmx\n",
      "Data prefix:  /usr/local/gromacs\n",
      "Working dir:  /home/gbayarri_local/projects/BioBB/tutorials/biobb_wf_md_setup/biobb_wf_md_setup/notebooks\n",
      "Command line:\n",
      "  gmx rms -s /home/gbayarri_local/projects/BioBB/tutorials/biobb_wf_md_setup/biobb_wf_md_setup/notebooks/1AKI_gppmd.tpr -f /home/gbayarri_local/projects/BioBB/tutorials/biobb_wf_md_setup/biobb_wf_md_setup/notebooks/1AKI_md.trr -o 1AKI_rms_first.xvg -xvg none\n",
      "\n",
      "Reading file /home/gbayarri_local/projects/BioBB/tutorials/biobb_wf_md_setup/biobb_wf_md_setup/notebooks/1AKI_gppmd.tpr, VERSION 2019 (single precision)\n",
      "Reading file /home/gbayarri_local/projects/BioBB/tutorials/biobb_wf_md_setup/biobb_wf_md_setup/notebooks/1AKI_gppmd.tpr, VERSION 2019 (single precision)\n",
      "Select group for least squares fit\n",
      "Group     0 (         System) has 33836 elements\n",
      "Group     1 (        Protein) has  1960 elements\n",
      "Group     2 (      Protein-H) has  1001 elements\n",
      "Group     3 (        C-alpha) has   129 elements\n",
      "Group     4 (       Backbone) has   387 elements\n",
      "Group     5 (      MainChain) has   517 elements\n",
      "Group     6 (   MainChain+Cb) has   634 elements\n",
      "Group     7 (    MainChain+H) has   646 elements\n",
      "Group     8 (      SideChain) has  1314 elements\n",
      "Group     9 (    SideChain-H) has   484 elements\n",
      "Group    10 (    Prot-Masses) has  1960 elements\n",
      "Group    11 (    non-Protein) has 31876 elements\n",
      "Group    12 (          Water) has 31848 elements\n",
      "Group    13 (            SOL) has 31848 elements\n",
      "Group    14 (      non-Water) has  1988 elements\n",
      "Group    15 (            Ion) has    28 elements\n",
      "Group    16 (             NA) has    10 elements\n",
      "Group    17 (             CL) has    18 elements\n",
      "Group    18 ( Water_and_ions) has 31876 elements\n",
      "Select a group: Select group for RMSD calculation\n",
      "Group     0 (         System) has 33836 elements\n",
      "Group     1 (        Protein) has  1960 elements\n",
      "Group     2 (      Protein-H) has  1001 elements\n",
      "Group     3 (        C-alpha) has   129 elements\n",
      "Group     4 (       Backbone) has   387 elements\n",
      "Group     5 (      MainChain) has   517 elements\n",
      "Group     6 (   MainChain+Cb) has   634 elements\n",
      "Group     7 (    MainChain+H) has   646 elements\n",
      "Group     8 (      SideChain) has  1314 elements\n",
      "Group     9 (    SideChain-H) has   484 elements\n",
      "Group    10 (    Prot-Masses) has  1960 elements\n",
      "Group    11 (    non-Protein) has 31876 elements\n",
      "Group    12 (          Water) has 31848 elements\n",
      "Group    13 (            SOL) has 31848 elements\n",
      "Group    14 (      non-Water) has  1988 elements\n",
      "Group    15 (            Ion) has    28 elements\n",
      "Group    16 (             NA) has    10 elements\n",
      "Group    17 (             CL) has    18 elements\n",
      "Group    18 ( Water_and_ions) has 31876 elements\n",
      "Select a group: trr version: GMX_trn_file (single precision)\n",
      "Last frame         10 time  100.000   \n",
      "\n",
      "Back Off! I just backed up 1AKI_rms_first.xvg to ./#1AKI_rms_first.xvg.4#\n",
      "\n",
      "GROMACS reminds you: \"If You Want Something Done You Have to Do It Yourself\" (Highlander II)\n",
      "\n",
      "\n"
     ]
    },
    {
     "data": {
      "text/plain": [
       "0"
      ]
     },
     "execution_count": 45,
     "metadata": {},
     "output_type": "execute_result"
    }
   ],
   "source": [
    "# GMXRms: Computing Root Mean Square deviation to analyse structural stability \n",
    "#         RMSd against minimized and equilibrated snapshot (backbone atoms)   \n",
    "\n",
    "from biobb_analysis.gromacs.gmx_rms import gmx_rms\n",
    "\n",
    "# Create prop dict and inputs/outputs\n",
    "output_rms_first = pdbCode+'_rms_first.xvg'\n",
    "prop = {\n",
    "    'selection':  'Backbone',\n",
    "    #'selection': 'non-Water'\n",
    "}\n",
    "\n",
    "# Create and launch bb\n",
    "gmx_rms(input_structure_path=output_gppmd_tpr,\n",
    "         input_traj_path=output_md_trr,\n",
    "         output_xvg_path=output_rms_first, \n",
    "          properties=prop)"
   ]
  },
  {
   "cell_type": "code",
   "execution_count": 46,
   "metadata": {},
   "outputs": [
    {
     "name": "stdout",
     "output_type": "stream",
     "text": [
      "2021-06-23 07:45:45,401 [MainThread  ] [INFO ]  Not using any container\n",
      "2021-06-23 07:45:45,601 [MainThread  ] [INFO ]  echo 'Backbone Backbone' | gmx rms -s /home/gbayarri_local/projects/BioBB/tutorials/biobb_wf_md_setup/biobb_wf_md_setup/notebooks/1AKI_gppmin.tpr -f /home/gbayarri_local/projects/BioBB/tutorials/biobb_wf_md_setup/biobb_wf_md_setup/notebooks/1AKI_md.trr -o 1AKI_rms_exp.xvg -xvg none\n",
      "\n",
      "2021-06-23 07:45:45,602 [MainThread  ] [INFO ]  Exit code 0\n",
      "\n",
      "2021-06-23 07:45:45,603 [MainThread  ] [INFO ]  Selected 4: 'Backbone'\n",
      "Selected 4: 'Backbone'\n",
      "\n",
      "2021-06-23 07:45:45,604 [MainThread  ] [INFO ]                          :-) GROMACS - gmx rms, 2019 (-:\n",
      "\n",
      "                            GROMACS is written by:\n",
      "     Emile Apol      Rossen Apostolov      Paul Bauer     Herman J.C. Berendsen\n",
      "    Par Bjelkmar      Christian Blau   Viacheslav Bolnykh     Kevin Boyd    \n",
      " Aldert van Buuren   Rudi van Drunen     Anton Feenstra       Alan Gray     \n",
      "  Gerrit Groenhof     Anca Hamuraru    Vincent Hindriksen  M. Eric Irrgang  \n",
      "  Aleksei Iupinov   Christoph Junghans     Joe Jordan     Dimitrios Karkoulis\n",
      "    Peter Kasson        Jiri Kraus      Carsten Kutzner      Per Larsson    \n",
      "  Justin A. Lemkul    Viveca Lindahl    Magnus Lundborg     Erik Marklund   \n",
      "    Pascal Merz     Pieter Meulenhoff    Teemu Murtola       Szilard Pall   \n",
      "    Sander Pronk      Roland Schulz      Michael Shirts    Alexey Shvetsov  \n",
      "   Alfons Sijbers     Peter Tieleman      Jon Vincent      Teemu Virolainen \n",
      " Christian Wennberg    Maarten Wolf   \n",
      "                           and the project leaders:\n",
      "        Mark Abraham, Berk Hess, Erik Lindahl, and David van der Spoel\n",
      "\n",
      "Copyright (c) 1991-2000, University of Groningen, The Netherlands.\n",
      "Copyright (c) 2001-2018, The GROMACS development team at\n",
      "Uppsala University, Stockholm University and\n",
      "the Royal Institute of Technology, Sweden.\n",
      "check out http://www.gromacs.org for more information.\n",
      "\n",
      "GROMACS is free software; you can redistribute it and/or modify it\n",
      "under the terms of the GNU Lesser General Public License\n",
      "as published by the Free Software Foundation; either version 2.1\n",
      "of the License, or (at your option) any later version.\n",
      "\n",
      "GROMACS:      gmx rms, version 2019\n",
      "Executable:   /usr/local/gromacs/bin/gmx\n",
      "Data prefix:  /usr/local/gromacs\n",
      "Working dir:  /home/gbayarri_local/projects/BioBB/tutorials/biobb_wf_md_setup/biobb_wf_md_setup/notebooks\n",
      "Command line:\n",
      "  gmx rms -s /home/gbayarri_local/projects/BioBB/tutorials/biobb_wf_md_setup/biobb_wf_md_setup/notebooks/1AKI_gppmin.tpr -f /home/gbayarri_local/projects/BioBB/tutorials/biobb_wf_md_setup/biobb_wf_md_setup/notebooks/1AKI_md.trr -o 1AKI_rms_exp.xvg -xvg none\n",
      "\n",
      "Reading file /home/gbayarri_local/projects/BioBB/tutorials/biobb_wf_md_setup/biobb_wf_md_setup/notebooks/1AKI_gppmin.tpr, VERSION 2019 (single precision)\n",
      "Reading file /home/gbayarri_local/projects/BioBB/tutorials/biobb_wf_md_setup/biobb_wf_md_setup/notebooks/1AKI_gppmin.tpr, VERSION 2019 (single precision)\n",
      "Select group for least squares fit\n",
      "Group     0 (         System) has 33836 elements\n",
      "Group     1 (        Protein) has  1960 elements\n",
      "Group     2 (      Protein-H) has  1001 elements\n",
      "Group     3 (        C-alpha) has   129 elements\n",
      "Group     4 (       Backbone) has   387 elements\n",
      "Group     5 (      MainChain) has   517 elements\n",
      "Group     6 (   MainChain+Cb) has   634 elements\n",
      "Group     7 (    MainChain+H) has   646 elements\n",
      "Group     8 (      SideChain) has  1314 elements\n",
      "Group     9 (    SideChain-H) has   484 elements\n",
      "Group    10 (    Prot-Masses) has  1960 elements\n",
      "Group    11 (    non-Protein) has 31876 elements\n",
      "Group    12 (          Water) has 31848 elements\n",
      "Group    13 (            SOL) has 31848 elements\n",
      "Group    14 (      non-Water) has  1988 elements\n",
      "Group    15 (            Ion) has    28 elements\n",
      "Group    16 (             NA) has    10 elements\n",
      "Group    17 (             CL) has    18 elements\n",
      "Group    18 ( Water_and_ions) has 31876 elements\n",
      "Select a group: Select group for RMSD calculation\n",
      "Group     0 (         System) has 33836 elements\n",
      "Group     1 (        Protein) has  1960 elements\n",
      "Group     2 (      Protein-H) has  1001 elements\n",
      "Group     3 (        C-alpha) has   129 elements\n",
      "Group     4 (       Backbone) has   387 elements\n",
      "Group     5 (      MainChain) has   517 elements\n",
      "Group     6 (   MainChain+Cb) has   634 elements\n",
      "Group     7 (    MainChain+H) has   646 elements\n",
      "Group     8 (      SideChain) has  1314 elements\n",
      "Group     9 (    SideChain-H) has   484 elements\n",
      "Group    10 (    Prot-Masses) has  1960 elements\n",
      "Group    11 (    non-Protein) has 31876 elements\n",
      "Group    12 (          Water) has 31848 elements\n",
      "Group    13 (            SOL) has 31848 elements\n",
      "Group    14 (      non-Water) has  1988 elements\n",
      "Group    15 (            Ion) has    28 elements\n",
      "Group    16 (             NA) has    10 elements\n",
      "Group    17 (             CL) has    18 elements\n",
      "Group    18 ( Water_and_ions) has 31876 elements\n",
      "Select a group: trr version: GMX_trn_file (single precision)\n",
      "Last frame         10 time  100.000   \n",
      "\n",
      "Back Off! I just backed up 1AKI_rms_exp.xvg to ./#1AKI_rms_exp.xvg.4#\n",
      "\n",
      "GROMACS reminds you: \"Good Music Saves your Soul\" (Lemmy)\n",
      "\n",
      "\n"
     ]
    },
    {
     "data": {
      "text/plain": [
       "0"
      ]
     },
     "execution_count": 46,
     "metadata": {},
     "output_type": "execute_result"
    }
   ],
   "source": [
    "# GMXRms: Computing Root Mean Square deviation to analyse structural stability \n",
    "#         RMSd against experimental structure (backbone atoms)   \n",
    "\n",
    "from biobb_analysis.gromacs.gmx_rms import gmx_rms\n",
    "\n",
    "# Create prop dict and inputs/outputs\n",
    "output_rms_exp = pdbCode+'_rms_exp.xvg'\n",
    "prop = {\n",
    "    'selection':  'Backbone',\n",
    "    #'selection': 'non-Water'\n",
    "}\n",
    "\n",
    "# Create and launch bb\n",
    "gmx_rms(input_structure_path=output_gppmin_tpr,\n",
    "         input_traj_path=output_md_trr,\n",
    "         output_xvg_path=output_rms_exp, \n",
    "          properties=prop)"
   ]
  },
  {
   "cell_type": "code",
   "execution_count": 47,
   "metadata": {},
   "outputs": [
    {
     "data": {
      "text/html": [
       "        <script type=\"text/javascript\">\n",
       "        window.PlotlyConfig = {MathJaxConfig: 'local'};\n",
       "        if (window.MathJax) {MathJax.Hub.Config({SVG: {font: \"STIX-Web\"}});}\n",
       "        if (typeof require !== 'undefined') {\n",
       "        require.undef(\"plotly\");\n",
       "        requirejs.config({\n",
       "            paths: {\n",
       "                'plotly': ['https://cdn.plot.ly/plotly-latest.min']\n",
       "            }\n",
       "        });\n",
       "        require(['plotly'], function(Plotly) {\n",
       "            window._Plotly = Plotly;\n",
       "        });\n",
       "        }\n",
       "        </script>\n",
       "        "
      ]
     },
     "metadata": {},
     "output_type": "display_data"
    },
    {
     "data": {
      "application/vnd.plotly.v1+json": {
       "config": {
        "linkText": "Export to plot.ly",
        "plotlyServerURL": "https://plot.ly",
        "showLink": false
       },
       "data": [
        {
         "name": "RMSd vs first",
         "type": "scatter",
         "x": [
          0,
          10,
          20,
          30,
          40,
          50,
          60,
          70,
          80,
          90,
          100
         ],
         "y": [
          1e-07,
          0.0483676,
          0.0615318,
          0.0637303,
          0.0834343,
          0.0882521,
          0.071654,
          0.0766248,
          0.0734936,
          0.0807398,
          0.0801162
         ]
        },
        {
         "name": "RMSd vs exp",
         "type": "scatter",
         "x": [
          0,
          10,
          20,
          30,
          40,
          50,
          60,
          70,
          80,
          90,
          100
         ],
         "y": [
          0.0331952,
          0.0525555,
          0.0693061,
          0.0714938,
          0.090232,
          0.0939353,
          0.0784096,
          0.0821851,
          0.0777232,
          0.0863895,
          0.0829221
         ]
        }
       ],
       "layout": {
        "template": {
         "data": {
          "bar": [
           {
            "error_x": {
             "color": "#2a3f5f"
            },
            "error_y": {
             "color": "#2a3f5f"
            },
            "marker": {
             "line": {
              "color": "#E5ECF6",
              "width": 0.5
             }
            },
            "type": "bar"
           }
          ],
          "barpolar": [
           {
            "marker": {
             "line": {
              "color": "#E5ECF6",
              "width": 0.5
             }
            },
            "type": "barpolar"
           }
          ],
          "carpet": [
           {
            "aaxis": {
             "endlinecolor": "#2a3f5f",
             "gridcolor": "white",
             "linecolor": "white",
             "minorgridcolor": "white",
             "startlinecolor": "#2a3f5f"
            },
            "baxis": {
             "endlinecolor": "#2a3f5f",
             "gridcolor": "white",
             "linecolor": "white",
             "minorgridcolor": "white",
             "startlinecolor": "#2a3f5f"
            },
            "type": "carpet"
           }
          ],
          "choropleth": [
           {
            "colorbar": {
             "outlinewidth": 0,
             "ticks": ""
            },
            "type": "choropleth"
           }
          ],
          "contour": [
           {
            "colorbar": {
             "outlinewidth": 0,
             "ticks": ""
            },
            "colorscale": [
             [
              0,
              "#0d0887"
             ],
             [
              0.1111111111111111,
              "#46039f"
             ],
             [
              0.2222222222222222,
              "#7201a8"
             ],
             [
              0.3333333333333333,
              "#9c179e"
             ],
             [
              0.4444444444444444,
              "#bd3786"
             ],
             [
              0.5555555555555556,
              "#d8576b"
             ],
             [
              0.6666666666666666,
              "#ed7953"
             ],
             [
              0.7777777777777778,
              "#fb9f3a"
             ],
             [
              0.8888888888888888,
              "#fdca26"
             ],
             [
              1,
              "#f0f921"
             ]
            ],
            "type": "contour"
           }
          ],
          "contourcarpet": [
           {
            "colorbar": {
             "outlinewidth": 0,
             "ticks": ""
            },
            "type": "contourcarpet"
           }
          ],
          "heatmap": [
           {
            "colorbar": {
             "outlinewidth": 0,
             "ticks": ""
            },
            "colorscale": [
             [
              0,
              "#0d0887"
             ],
             [
              0.1111111111111111,
              "#46039f"
             ],
             [
              0.2222222222222222,
              "#7201a8"
             ],
             [
              0.3333333333333333,
              "#9c179e"
             ],
             [
              0.4444444444444444,
              "#bd3786"
             ],
             [
              0.5555555555555556,
              "#d8576b"
             ],
             [
              0.6666666666666666,
              "#ed7953"
             ],
             [
              0.7777777777777778,
              "#fb9f3a"
             ],
             [
              0.8888888888888888,
              "#fdca26"
             ],
             [
              1,
              "#f0f921"
             ]
            ],
            "type": "heatmap"
           }
          ],
          "heatmapgl": [
           {
            "colorbar": {
             "outlinewidth": 0,
             "ticks": ""
            },
            "colorscale": [
             [
              0,
              "#0d0887"
             ],
             [
              0.1111111111111111,
              "#46039f"
             ],
             [
              0.2222222222222222,
              "#7201a8"
             ],
             [
              0.3333333333333333,
              "#9c179e"
             ],
             [
              0.4444444444444444,
              "#bd3786"
             ],
             [
              0.5555555555555556,
              "#d8576b"
             ],
             [
              0.6666666666666666,
              "#ed7953"
             ],
             [
              0.7777777777777778,
              "#fb9f3a"
             ],
             [
              0.8888888888888888,
              "#fdca26"
             ],
             [
              1,
              "#f0f921"
             ]
            ],
            "type": "heatmapgl"
           }
          ],
          "histogram": [
           {
            "marker": {
             "colorbar": {
              "outlinewidth": 0,
              "ticks": ""
             }
            },
            "type": "histogram"
           }
          ],
          "histogram2d": [
           {
            "colorbar": {
             "outlinewidth": 0,
             "ticks": ""
            },
            "colorscale": [
             [
              0,
              "#0d0887"
             ],
             [
              0.1111111111111111,
              "#46039f"
             ],
             [
              0.2222222222222222,
              "#7201a8"
             ],
             [
              0.3333333333333333,
              "#9c179e"
             ],
             [
              0.4444444444444444,
              "#bd3786"
             ],
             [
              0.5555555555555556,
              "#d8576b"
             ],
             [
              0.6666666666666666,
              "#ed7953"
             ],
             [
              0.7777777777777778,
              "#fb9f3a"
             ],
             [
              0.8888888888888888,
              "#fdca26"
             ],
             [
              1,
              "#f0f921"
             ]
            ],
            "type": "histogram2d"
           }
          ],
          "histogram2dcontour": [
           {
            "colorbar": {
             "outlinewidth": 0,
             "ticks": ""
            },
            "colorscale": [
             [
              0,
              "#0d0887"
             ],
             [
              0.1111111111111111,
              "#46039f"
             ],
             [
              0.2222222222222222,
              "#7201a8"
             ],
             [
              0.3333333333333333,
              "#9c179e"
             ],
             [
              0.4444444444444444,
              "#bd3786"
             ],
             [
              0.5555555555555556,
              "#d8576b"
             ],
             [
              0.6666666666666666,
              "#ed7953"
             ],
             [
              0.7777777777777778,
              "#fb9f3a"
             ],
             [
              0.8888888888888888,
              "#fdca26"
             ],
             [
              1,
              "#f0f921"
             ]
            ],
            "type": "histogram2dcontour"
           }
          ],
          "mesh3d": [
           {
            "colorbar": {
             "outlinewidth": 0,
             "ticks": ""
            },
            "type": "mesh3d"
           }
          ],
          "parcoords": [
           {
            "line": {
             "colorbar": {
              "outlinewidth": 0,
              "ticks": ""
             }
            },
            "type": "parcoords"
           }
          ],
          "pie": [
           {
            "automargin": true,
            "type": "pie"
           }
          ],
          "scatter": [
           {
            "marker": {
             "colorbar": {
              "outlinewidth": 0,
              "ticks": ""
             }
            },
            "type": "scatter"
           }
          ],
          "scatter3d": [
           {
            "line": {
             "colorbar": {
              "outlinewidth": 0,
              "ticks": ""
             }
            },
            "marker": {
             "colorbar": {
              "outlinewidth": 0,
              "ticks": ""
             }
            },
            "type": "scatter3d"
           }
          ],
          "scattercarpet": [
           {
            "marker": {
             "colorbar": {
              "outlinewidth": 0,
              "ticks": ""
             }
            },
            "type": "scattercarpet"
           }
          ],
          "scattergeo": [
           {
            "marker": {
             "colorbar": {
              "outlinewidth": 0,
              "ticks": ""
             }
            },
            "type": "scattergeo"
           }
          ],
          "scattergl": [
           {
            "marker": {
             "colorbar": {
              "outlinewidth": 0,
              "ticks": ""
             }
            },
            "type": "scattergl"
           }
          ],
          "scattermapbox": [
           {
            "marker": {
             "colorbar": {
              "outlinewidth": 0,
              "ticks": ""
             }
            },
            "type": "scattermapbox"
           }
          ],
          "scatterpolar": [
           {
            "marker": {
             "colorbar": {
              "outlinewidth": 0,
              "ticks": ""
             }
            },
            "type": "scatterpolar"
           }
          ],
          "scatterpolargl": [
           {
            "marker": {
             "colorbar": {
              "outlinewidth": 0,
              "ticks": ""
             }
            },
            "type": "scatterpolargl"
           }
          ],
          "scatterternary": [
           {
            "marker": {
             "colorbar": {
              "outlinewidth": 0,
              "ticks": ""
             }
            },
            "type": "scatterternary"
           }
          ],
          "surface": [
           {
            "colorbar": {
             "outlinewidth": 0,
             "ticks": ""
            },
            "colorscale": [
             [
              0,
              "#0d0887"
             ],
             [
              0.1111111111111111,
              "#46039f"
             ],
             [
              0.2222222222222222,
              "#7201a8"
             ],
             [
              0.3333333333333333,
              "#9c179e"
             ],
             [
              0.4444444444444444,
              "#bd3786"
             ],
             [
              0.5555555555555556,
              "#d8576b"
             ],
             [
              0.6666666666666666,
              "#ed7953"
             ],
             [
              0.7777777777777778,
              "#fb9f3a"
             ],
             [
              0.8888888888888888,
              "#fdca26"
             ],
             [
              1,
              "#f0f921"
             ]
            ],
            "type": "surface"
           }
          ],
          "table": [
           {
            "cells": {
             "fill": {
              "color": "#EBF0F8"
             },
             "line": {
              "color": "white"
             }
            },
            "header": {
             "fill": {
              "color": "#C8D4E3"
             },
             "line": {
              "color": "white"
             }
            },
            "type": "table"
           }
          ]
         },
         "layout": {
          "annotationdefaults": {
           "arrowcolor": "#2a3f5f",
           "arrowhead": 0,
           "arrowwidth": 1
          },
          "coloraxis": {
           "colorbar": {
            "outlinewidth": 0,
            "ticks": ""
           }
          },
          "colorscale": {
           "diverging": [
            [
             0,
             "#8e0152"
            ],
            [
             0.1,
             "#c51b7d"
            ],
            [
             0.2,
             "#de77ae"
            ],
            [
             0.3,
             "#f1b6da"
            ],
            [
             0.4,
             "#fde0ef"
            ],
            [
             0.5,
             "#f7f7f7"
            ],
            [
             0.6,
             "#e6f5d0"
            ],
            [
             0.7,
             "#b8e186"
            ],
            [
             0.8,
             "#7fbc41"
            ],
            [
             0.9,
             "#4d9221"
            ],
            [
             1,
             "#276419"
            ]
           ],
           "sequential": [
            [
             0,
             "#0d0887"
            ],
            [
             0.1111111111111111,
             "#46039f"
            ],
            [
             0.2222222222222222,
             "#7201a8"
            ],
            [
             0.3333333333333333,
             "#9c179e"
            ],
            [
             0.4444444444444444,
             "#bd3786"
            ],
            [
             0.5555555555555556,
             "#d8576b"
            ],
            [
             0.6666666666666666,
             "#ed7953"
            ],
            [
             0.7777777777777778,
             "#fb9f3a"
            ],
            [
             0.8888888888888888,
             "#fdca26"
            ],
            [
             1,
             "#f0f921"
            ]
           ],
           "sequentialminus": [
            [
             0,
             "#0d0887"
            ],
            [
             0.1111111111111111,
             "#46039f"
            ],
            [
             0.2222222222222222,
             "#7201a8"
            ],
            [
             0.3333333333333333,
             "#9c179e"
            ],
            [
             0.4444444444444444,
             "#bd3786"
            ],
            [
             0.5555555555555556,
             "#d8576b"
            ],
            [
             0.6666666666666666,
             "#ed7953"
            ],
            [
             0.7777777777777778,
             "#fb9f3a"
            ],
            [
             0.8888888888888888,
             "#fdca26"
            ],
            [
             1,
             "#f0f921"
            ]
           ]
          },
          "colorway": [
           "#636efa",
           "#EF553B",
           "#00cc96",
           "#ab63fa",
           "#FFA15A",
           "#19d3f3",
           "#FF6692",
           "#B6E880",
           "#FF97FF",
           "#FECB52"
          ],
          "font": {
           "color": "#2a3f5f"
          },
          "geo": {
           "bgcolor": "white",
           "lakecolor": "white",
           "landcolor": "#E5ECF6",
           "showlakes": true,
           "showland": true,
           "subunitcolor": "white"
          },
          "hoverlabel": {
           "align": "left"
          },
          "hovermode": "closest",
          "mapbox": {
           "style": "light"
          },
          "paper_bgcolor": "white",
          "plot_bgcolor": "#E5ECF6",
          "polar": {
           "angularaxis": {
            "gridcolor": "white",
            "linecolor": "white",
            "ticks": ""
           },
           "bgcolor": "#E5ECF6",
           "radialaxis": {
            "gridcolor": "white",
            "linecolor": "white",
            "ticks": ""
           }
          },
          "scene": {
           "xaxis": {
            "backgroundcolor": "#E5ECF6",
            "gridcolor": "white",
            "gridwidth": 2,
            "linecolor": "white",
            "showbackground": true,
            "ticks": "",
            "zerolinecolor": "white"
           },
           "yaxis": {
            "backgroundcolor": "#E5ECF6",
            "gridcolor": "white",
            "gridwidth": 2,
            "linecolor": "white",
            "showbackground": true,
            "ticks": "",
            "zerolinecolor": "white"
           },
           "zaxis": {
            "backgroundcolor": "#E5ECF6",
            "gridcolor": "white",
            "gridwidth": 2,
            "linecolor": "white",
            "showbackground": true,
            "ticks": "",
            "zerolinecolor": "white"
           }
          },
          "shapedefaults": {
           "line": {
            "color": "#2a3f5f"
           }
          },
          "ternary": {
           "aaxis": {
            "gridcolor": "white",
            "linecolor": "white",
            "ticks": ""
           },
           "baxis": {
            "gridcolor": "white",
            "linecolor": "white",
            "ticks": ""
           },
           "bgcolor": "#E5ECF6",
           "caxis": {
            "gridcolor": "white",
            "linecolor": "white",
            "ticks": ""
           }
          },
          "title": {
           "x": 0.05
          },
          "xaxis": {
           "automargin": true,
           "gridcolor": "white",
           "linecolor": "white",
           "ticks": "",
           "title": {
            "standoff": 15
           },
           "zerolinecolor": "white",
           "zerolinewidth": 2
          },
          "yaxis": {
           "automargin": true,
           "gridcolor": "white",
           "linecolor": "white",
           "ticks": "",
           "title": {
            "standoff": 15
           },
           "zerolinecolor": "white",
           "zerolinewidth": 2
          }
         }
        },
        "title": {
         "text": "RMSd during free MD Simulation"
        },
        "xaxis": {
         "title": {
          "text": "Time (ps)"
         }
        },
        "yaxis": {
         "title": {
          "text": "RMSd (nm)"
         }
        }
       }
      },
      "text/html": [
       "<div>\n",
       "        \n",
       "        \n",
       "            <div id=\"49973535-2ee7-48ff-9a5f-ef164697fe04\" class=\"plotly-graph-div\" style=\"height:525px; width:100%;\"></div>\n",
       "            <script type=\"text/javascript\">\n",
       "                require([\"plotly\"], function(Plotly) {\n",
       "                    window.PLOTLYENV=window.PLOTLYENV || {};\n",
       "                    \n",
       "                if (document.getElementById(\"49973535-2ee7-48ff-9a5f-ef164697fe04\")) {\n",
       "                    Plotly.newPlot(\n",
       "                        '49973535-2ee7-48ff-9a5f-ef164697fe04',\n",
       "                        [{\"name\": \"RMSd vs first\", \"type\": \"scatter\", \"x\": [0.0, 10.0, 20.0, 30.0, 40.0, 50.0, 60.0, 70.0, 80.0, 90.0, 100.0], \"y\": [1e-07, 0.0483676, 0.0615318, 0.0637303, 0.0834343, 0.0882521, 0.071654, 0.0766248, 0.0734936, 0.0807398, 0.0801162]}, {\"name\": \"RMSd vs exp\", \"type\": \"scatter\", \"x\": [0.0, 10.0, 20.0, 30.0, 40.0, 50.0, 60.0, 70.0, 80.0, 90.0, 100.0], \"y\": [0.0331952, 0.0525555, 0.0693061, 0.0714938, 0.090232, 0.0939353, 0.0784096, 0.0821851, 0.0777232, 0.0863895, 0.0829221]}],\n",
       "                        {\"template\": {\"data\": {\"bar\": [{\"error_x\": {\"color\": \"#2a3f5f\"}, \"error_y\": {\"color\": \"#2a3f5f\"}, \"marker\": {\"line\": {\"color\": \"#E5ECF6\", \"width\": 0.5}}, \"type\": \"bar\"}], \"barpolar\": [{\"marker\": {\"line\": {\"color\": \"#E5ECF6\", \"width\": 0.5}}, \"type\": \"barpolar\"}], \"carpet\": [{\"aaxis\": {\"endlinecolor\": \"#2a3f5f\", \"gridcolor\": \"white\", \"linecolor\": \"white\", \"minorgridcolor\": \"white\", \"startlinecolor\": \"#2a3f5f\"}, \"baxis\": {\"endlinecolor\": \"#2a3f5f\", \"gridcolor\": \"white\", \"linecolor\": \"white\", \"minorgridcolor\": \"white\", \"startlinecolor\": \"#2a3f5f\"}, \"type\": \"carpet\"}], \"choropleth\": [{\"colorbar\": {\"outlinewidth\": 0, \"ticks\": \"\"}, \"type\": \"choropleth\"}], \"contour\": [{\"colorbar\": {\"outlinewidth\": 0, \"ticks\": \"\"}, \"colorscale\": [[0.0, \"#0d0887\"], [0.1111111111111111, \"#46039f\"], [0.2222222222222222, \"#7201a8\"], [0.3333333333333333, \"#9c179e\"], [0.4444444444444444, \"#bd3786\"], [0.5555555555555556, \"#d8576b\"], [0.6666666666666666, \"#ed7953\"], [0.7777777777777778, \"#fb9f3a\"], [0.8888888888888888, \"#fdca26\"], [1.0, \"#f0f921\"]], \"type\": \"contour\"}], \"contourcarpet\": [{\"colorbar\": {\"outlinewidth\": 0, \"ticks\": \"\"}, \"type\": \"contourcarpet\"}], \"heatmap\": [{\"colorbar\": {\"outlinewidth\": 0, \"ticks\": \"\"}, \"colorscale\": [[0.0, \"#0d0887\"], [0.1111111111111111, \"#46039f\"], [0.2222222222222222, \"#7201a8\"], [0.3333333333333333, \"#9c179e\"], [0.4444444444444444, \"#bd3786\"], [0.5555555555555556, \"#d8576b\"], [0.6666666666666666, \"#ed7953\"], [0.7777777777777778, \"#fb9f3a\"], [0.8888888888888888, \"#fdca26\"], [1.0, \"#f0f921\"]], \"type\": \"heatmap\"}], \"heatmapgl\": [{\"colorbar\": {\"outlinewidth\": 0, \"ticks\": \"\"}, \"colorscale\": [[0.0, \"#0d0887\"], [0.1111111111111111, \"#46039f\"], [0.2222222222222222, \"#7201a8\"], [0.3333333333333333, \"#9c179e\"], [0.4444444444444444, \"#bd3786\"], [0.5555555555555556, \"#d8576b\"], [0.6666666666666666, \"#ed7953\"], [0.7777777777777778, \"#fb9f3a\"], [0.8888888888888888, \"#fdca26\"], [1.0, \"#f0f921\"]], \"type\": \"heatmapgl\"}], \"histogram\": [{\"marker\": {\"colorbar\": {\"outlinewidth\": 0, \"ticks\": \"\"}}, \"type\": \"histogram\"}], \"histogram2d\": [{\"colorbar\": {\"outlinewidth\": 0, \"ticks\": \"\"}, \"colorscale\": [[0.0, \"#0d0887\"], [0.1111111111111111, \"#46039f\"], [0.2222222222222222, \"#7201a8\"], [0.3333333333333333, \"#9c179e\"], [0.4444444444444444, \"#bd3786\"], [0.5555555555555556, \"#d8576b\"], [0.6666666666666666, \"#ed7953\"], [0.7777777777777778, \"#fb9f3a\"], [0.8888888888888888, \"#fdca26\"], [1.0, \"#f0f921\"]], \"type\": \"histogram2d\"}], \"histogram2dcontour\": [{\"colorbar\": {\"outlinewidth\": 0, \"ticks\": \"\"}, \"colorscale\": [[0.0, \"#0d0887\"], [0.1111111111111111, \"#46039f\"], [0.2222222222222222, \"#7201a8\"], [0.3333333333333333, \"#9c179e\"], [0.4444444444444444, \"#bd3786\"], [0.5555555555555556, \"#d8576b\"], [0.6666666666666666, \"#ed7953\"], [0.7777777777777778, \"#fb9f3a\"], [0.8888888888888888, \"#fdca26\"], [1.0, \"#f0f921\"]], \"type\": \"histogram2dcontour\"}], \"mesh3d\": [{\"colorbar\": {\"outlinewidth\": 0, \"ticks\": \"\"}, \"type\": \"mesh3d\"}], \"parcoords\": [{\"line\": {\"colorbar\": {\"outlinewidth\": 0, \"ticks\": \"\"}}, \"type\": \"parcoords\"}], \"pie\": [{\"automargin\": true, \"type\": \"pie\"}], \"scatter\": [{\"marker\": {\"colorbar\": {\"outlinewidth\": 0, \"ticks\": \"\"}}, \"type\": \"scatter\"}], \"scatter3d\": [{\"line\": {\"colorbar\": {\"outlinewidth\": 0, \"ticks\": \"\"}}, \"marker\": {\"colorbar\": {\"outlinewidth\": 0, \"ticks\": \"\"}}, \"type\": \"scatter3d\"}], \"scattercarpet\": [{\"marker\": {\"colorbar\": {\"outlinewidth\": 0, \"ticks\": \"\"}}, \"type\": \"scattercarpet\"}], \"scattergeo\": [{\"marker\": {\"colorbar\": {\"outlinewidth\": 0, \"ticks\": \"\"}}, \"type\": \"scattergeo\"}], \"scattergl\": [{\"marker\": {\"colorbar\": {\"outlinewidth\": 0, \"ticks\": \"\"}}, \"type\": \"scattergl\"}], \"scattermapbox\": [{\"marker\": {\"colorbar\": {\"outlinewidth\": 0, \"ticks\": \"\"}}, \"type\": \"scattermapbox\"}], \"scatterpolar\": [{\"marker\": {\"colorbar\": {\"outlinewidth\": 0, \"ticks\": \"\"}}, \"type\": \"scatterpolar\"}], \"scatterpolargl\": [{\"marker\": {\"colorbar\": {\"outlinewidth\": 0, \"ticks\": \"\"}}, \"type\": \"scatterpolargl\"}], \"scatterternary\": [{\"marker\": {\"colorbar\": {\"outlinewidth\": 0, \"ticks\": \"\"}}, \"type\": \"scatterternary\"}], \"surface\": [{\"colorbar\": {\"outlinewidth\": 0, \"ticks\": \"\"}, \"colorscale\": [[0.0, \"#0d0887\"], [0.1111111111111111, \"#46039f\"], [0.2222222222222222, \"#7201a8\"], [0.3333333333333333, \"#9c179e\"], [0.4444444444444444, \"#bd3786\"], [0.5555555555555556, \"#d8576b\"], [0.6666666666666666, \"#ed7953\"], [0.7777777777777778, \"#fb9f3a\"], [0.8888888888888888, \"#fdca26\"], [1.0, \"#f0f921\"]], \"type\": \"surface\"}], \"table\": [{\"cells\": {\"fill\": {\"color\": \"#EBF0F8\"}, \"line\": {\"color\": \"white\"}}, \"header\": {\"fill\": {\"color\": \"#C8D4E3\"}, \"line\": {\"color\": \"white\"}}, \"type\": \"table\"}]}, \"layout\": {\"annotationdefaults\": {\"arrowcolor\": \"#2a3f5f\", \"arrowhead\": 0, \"arrowwidth\": 1}, \"coloraxis\": {\"colorbar\": {\"outlinewidth\": 0, \"ticks\": \"\"}}, \"colorscale\": {\"diverging\": [[0, \"#8e0152\"], [0.1, \"#c51b7d\"], [0.2, \"#de77ae\"], [0.3, \"#f1b6da\"], [0.4, \"#fde0ef\"], [0.5, \"#f7f7f7\"], [0.6, \"#e6f5d0\"], [0.7, \"#b8e186\"], [0.8, \"#7fbc41\"], [0.9, \"#4d9221\"], [1, \"#276419\"]], \"sequential\": [[0.0, \"#0d0887\"], [0.1111111111111111, \"#46039f\"], [0.2222222222222222, \"#7201a8\"], [0.3333333333333333, \"#9c179e\"], [0.4444444444444444, \"#bd3786\"], [0.5555555555555556, \"#d8576b\"], [0.6666666666666666, \"#ed7953\"], [0.7777777777777778, \"#fb9f3a\"], [0.8888888888888888, \"#fdca26\"], [1.0, \"#f0f921\"]], \"sequentialminus\": [[0.0, \"#0d0887\"], [0.1111111111111111, \"#46039f\"], [0.2222222222222222, \"#7201a8\"], [0.3333333333333333, \"#9c179e\"], [0.4444444444444444, \"#bd3786\"], [0.5555555555555556, \"#d8576b\"], [0.6666666666666666, \"#ed7953\"], [0.7777777777777778, \"#fb9f3a\"], [0.8888888888888888, \"#fdca26\"], [1.0, \"#f0f921\"]]}, \"colorway\": [\"#636efa\", \"#EF553B\", \"#00cc96\", \"#ab63fa\", \"#FFA15A\", \"#19d3f3\", \"#FF6692\", \"#B6E880\", \"#FF97FF\", \"#FECB52\"], \"font\": {\"color\": \"#2a3f5f\"}, \"geo\": {\"bgcolor\": \"white\", \"lakecolor\": \"white\", \"landcolor\": \"#E5ECF6\", \"showlakes\": true, \"showland\": true, \"subunitcolor\": \"white\"}, \"hoverlabel\": {\"align\": \"left\"}, \"hovermode\": \"closest\", \"mapbox\": {\"style\": \"light\"}, \"paper_bgcolor\": \"white\", \"plot_bgcolor\": \"#E5ECF6\", \"polar\": {\"angularaxis\": {\"gridcolor\": \"white\", \"linecolor\": \"white\", \"ticks\": \"\"}, \"bgcolor\": \"#E5ECF6\", \"radialaxis\": {\"gridcolor\": \"white\", \"linecolor\": \"white\", \"ticks\": \"\"}}, \"scene\": {\"xaxis\": {\"backgroundcolor\": \"#E5ECF6\", \"gridcolor\": \"white\", \"gridwidth\": 2, \"linecolor\": \"white\", \"showbackground\": true, \"ticks\": \"\", \"zerolinecolor\": \"white\"}, \"yaxis\": {\"backgroundcolor\": \"#E5ECF6\", \"gridcolor\": \"white\", \"gridwidth\": 2, \"linecolor\": \"white\", \"showbackground\": true, \"ticks\": \"\", \"zerolinecolor\": \"white\"}, \"zaxis\": {\"backgroundcolor\": \"#E5ECF6\", \"gridcolor\": \"white\", \"gridwidth\": 2, \"linecolor\": \"white\", \"showbackground\": true, \"ticks\": \"\", \"zerolinecolor\": \"white\"}}, \"shapedefaults\": {\"line\": {\"color\": \"#2a3f5f\"}}, \"ternary\": {\"aaxis\": {\"gridcolor\": \"white\", \"linecolor\": \"white\", \"ticks\": \"\"}, \"baxis\": {\"gridcolor\": \"white\", \"linecolor\": \"white\", \"ticks\": \"\"}, \"bgcolor\": \"#E5ECF6\", \"caxis\": {\"gridcolor\": \"white\", \"linecolor\": \"white\", \"ticks\": \"\"}}, \"title\": {\"x\": 0.05}, \"xaxis\": {\"automargin\": true, \"gridcolor\": \"white\", \"linecolor\": \"white\", \"ticks\": \"\", \"title\": {\"standoff\": 15}, \"zerolinecolor\": \"white\", \"zerolinewidth\": 2}, \"yaxis\": {\"automargin\": true, \"gridcolor\": \"white\", \"linecolor\": \"white\", \"ticks\": \"\", \"title\": {\"standoff\": 15}, \"zerolinecolor\": \"white\", \"zerolinewidth\": 2}}}, \"title\": {\"text\": \"RMSd during free MD Simulation\"}, \"xaxis\": {\"title\": {\"text\": \"Time (ps)\"}}, \"yaxis\": {\"title\": {\"text\": \"RMSd (nm)\"}}},\n",
       "                        {\"responsive\": true}\n",
       "                    ).then(function(){\n",
       "                            \n",
       "var gd = document.getElementById('49973535-2ee7-48ff-9a5f-ef164697fe04');\n",
       "var x = new MutationObserver(function (mutations, observer) {{\n",
       "        var display = window.getComputedStyle(gd).display;\n",
       "        if (!display || display === 'none') {{\n",
       "            console.log([gd, 'removed!']);\n",
       "            Plotly.purge(gd);\n",
       "            observer.disconnect();\n",
       "        }}\n",
       "}});\n",
       "\n",
       "// Listen for the removal of the full notebook cells\n",
       "var notebookContainer = gd.closest('#notebook-container');\n",
       "if (notebookContainer) {{\n",
       "    x.observe(notebookContainer, {childList: true});\n",
       "}}\n",
       "\n",
       "// Listen for the clearing of the current output cell\n",
       "var outputEl = gd.closest('.output');\n",
       "if (outputEl) {{\n",
       "    x.observe(outputEl, {childList: true});\n",
       "}}\n",
       "\n",
       "                        })\n",
       "                };\n",
       "                });\n",
       "            </script>\n",
       "        </div>"
      ]
     },
     "metadata": {},
     "output_type": "display_data"
    }
   ],
   "source": [
    "import plotly\n",
    "import plotly.graph_objs as go\n",
    "\n",
    "# Read RMS vs first snapshot data from file \n",
    "with open(output_rms_first,'r') as rms_first_file:\n",
    "    x,y = map(\n",
    "        list,\n",
    "        zip(*[\n",
    "            (float(line.split()[0]),float(line.split()[1]))\n",
    "            for line in rms_first_file \n",
    "            if not line.startswith((\"#\",\"@\")) \n",
    "        ])\n",
    "    )\n",
    "\n",
    "# Read RMS vs experimental structure data from file \n",
    "with open(output_rms_exp,'r') as rms_exp_file:\n",
    "    x2,y2 = map(\n",
    "        list,\n",
    "        zip(*[\n",
    "            (float(line.split()[0]),float(line.split()[1]))\n",
    "            for line in rms_exp_file\n",
    "            if not line.startswith((\"#\",\"@\")) \n",
    "        ])\n",
    "    )\n",
    "    \n",
    "trace1 = go.Scatter(\n",
    "    x = x,\n",
    "    y = y,\n",
    "    name = 'RMSd vs first'\n",
    ")\n",
    "\n",
    "trace2 = go.Scatter(\n",
    "    x = x,\n",
    "    y = y2,\n",
    "    name = 'RMSd vs exp'\n",
    ")\n",
    "\n",
    "data = [trace1, trace2]\n",
    "\n",
    "plotly.offline.init_notebook_mode(connected=True)\n",
    "\n",
    "fig = {\n",
    "    \"data\": data,\n",
    "    \"layout\": go.Layout(title=\"RMSd during free MD Simulation\",\n",
    "                        xaxis=dict(title = \"Time (ps)\"),\n",
    "                        yaxis=dict(title = \"RMSd (nm)\")\n",
    "                       )\n",
    "}\n",
    "\n",
    "plotly.offline.iplot(fig)\n"
   ]
  },
  {
   "cell_type": "code",
   "execution_count": 48,
   "metadata": {},
   "outputs": [
    {
     "name": "stdout",
     "output_type": "stream",
     "text": [
      "2021-06-23 07:45:45,695 [MainThread  ] [INFO ]  Not using any container\n",
      "2021-06-23 07:45:45,906 [MainThread  ] [INFO ]  echo \"Backbone\" | gmx gyrate -s /home/gbayarri_local/projects/BioBB/tutorials/biobb_wf_md_setup/biobb_wf_md_setup/notebooks/1AKI_gppmin.tpr -f /home/gbayarri_local/projects/BioBB/tutorials/biobb_wf_md_setup/biobb_wf_md_setup/notebooks/1AKI_md.trr -o 1AKI_rgyr.xvg -xvg none\n",
      "\n",
      "2021-06-23 07:45:45,907 [MainThread  ] [INFO ]  Exit code 0\n",
      "\n",
      "2021-06-23 07:45:45,907 [MainThread  ] [INFO ]  Selected 4: 'Backbone'\n",
      "\n",
      "2021-06-23 07:45:45,909 [MainThread  ] [INFO ]                         :-) GROMACS - gmx gyrate, 2019 (-:\n",
      "\n",
      "                            GROMACS is written by:\n",
      "     Emile Apol      Rossen Apostolov      Paul Bauer     Herman J.C. Berendsen\n",
      "    Par Bjelkmar      Christian Blau   Viacheslav Bolnykh     Kevin Boyd    \n",
      " Aldert van Buuren   Rudi van Drunen     Anton Feenstra       Alan Gray     \n",
      "  Gerrit Groenhof     Anca Hamuraru    Vincent Hindriksen  M. Eric Irrgang  \n",
      "  Aleksei Iupinov   Christoph Junghans     Joe Jordan     Dimitrios Karkoulis\n",
      "    Peter Kasson        Jiri Kraus      Carsten Kutzner      Per Larsson    \n",
      "  Justin A. Lemkul    Viveca Lindahl    Magnus Lundborg     Erik Marklund   \n",
      "    Pascal Merz     Pieter Meulenhoff    Teemu Murtola       Szilard Pall   \n",
      "    Sander Pronk      Roland Schulz      Michael Shirts    Alexey Shvetsov  \n",
      "   Alfons Sijbers     Peter Tieleman      Jon Vincent      Teemu Virolainen \n",
      " Christian Wennberg    Maarten Wolf   \n",
      "                           and the project leaders:\n",
      "        Mark Abraham, Berk Hess, Erik Lindahl, and David van der Spoel\n",
      "\n",
      "Copyright (c) 1991-2000, University of Groningen, The Netherlands.\n",
      "Copyright (c) 2001-2018, The GROMACS development team at\n",
      "Uppsala University, Stockholm University and\n",
      "the Royal Institute of Technology, Sweden.\n",
      "check out http://www.gromacs.org for more information.\n",
      "\n",
      "GROMACS is free software; you can redistribute it and/or modify it\n",
      "under the terms of the GNU Lesser General Public License\n",
      "as published by the Free Software Foundation; either version 2.1\n",
      "of the License, or (at your option) any later version.\n",
      "\n",
      "GROMACS:      gmx gyrate, version 2019\n",
      "Executable:   /usr/local/gromacs/bin/gmx\n",
      "Data prefix:  /usr/local/gromacs\n",
      "Working dir:  /home/gbayarri_local/projects/BioBB/tutorials/biobb_wf_md_setup/biobb_wf_md_setup/notebooks\n",
      "Command line:\n",
      "  gmx gyrate -s /home/gbayarri_local/projects/BioBB/tutorials/biobb_wf_md_setup/biobb_wf_md_setup/notebooks/1AKI_gppmin.tpr -f /home/gbayarri_local/projects/BioBB/tutorials/biobb_wf_md_setup/biobb_wf_md_setup/notebooks/1AKI_md.trr -o 1AKI_rgyr.xvg -xvg none\n",
      "\n",
      "Reading file /home/gbayarri_local/projects/BioBB/tutorials/biobb_wf_md_setup/biobb_wf_md_setup/notebooks/1AKI_gppmin.tpr, VERSION 2019 (single precision)\n",
      "Reading file /home/gbayarri_local/projects/BioBB/tutorials/biobb_wf_md_setup/biobb_wf_md_setup/notebooks/1AKI_gppmin.tpr, VERSION 2019 (single precision)\n",
      "Group     0 (         System) has 33836 elements\n",
      "Group     1 (        Protein) has  1960 elements\n",
      "Group     2 (      Protein-H) has  1001 elements\n",
      "Group     3 (        C-alpha) has   129 elements\n",
      "Group     4 (       Backbone) has   387 elements\n",
      "Group     5 (      MainChain) has   517 elements\n",
      "Group     6 (   MainChain+Cb) has   634 elements\n",
      "Group     7 (    MainChain+H) has   646 elements\n",
      "Group     8 (      SideChain) has  1314 elements\n",
      "Group     9 (    SideChain-H) has   484 elements\n",
      "Group    10 (    Prot-Masses) has  1960 elements\n",
      "Group    11 (    non-Protein) has 31876 elements\n",
      "Group    12 (          Water) has 31848 elements\n",
      "Group    13 (            SOL) has 31848 elements\n",
      "Group    14 (      non-Water) has  1988 elements\n",
      "Group    15 (            Ion) has    28 elements\n",
      "Group    16 (             NA) has    10 elements\n",
      "Group    17 (             CL) has    18 elements\n",
      "Group    18 ( Water_and_ions) has 31876 elements\n",
      "Select a group: trr version: GMX_trn_file (single precision)\n",
      "Reading frame       0 time    0.000   \n",
      "Back Off! I just backed up 1AKI_rgyr.xvg to ./#1AKI_rgyr.xvg.4#\n",
      "Last frame         10 time  100.000   \n",
      "\n",
      "GROMACS reminds you: \"The World is a Friendly Place\" (Magnapop)\n",
      "\n",
      "\n"
     ]
    },
    {
     "data": {
      "text/plain": [
       "0"
      ]
     },
     "execution_count": 48,
     "metadata": {},
     "output_type": "execute_result"
    }
   ],
   "source": [
    "# GMXRgyr: Computing Radius of Gyration to measure the protein compactness during the free MD simulation \n",
    "\n",
    "from biobb_analysis.gromacs.gmx_rgyr import gmx_rgyr\n",
    "\n",
    "# Create prop dict and inputs/outputs\n",
    "output_rgyr = pdbCode+'_rgyr.xvg'\n",
    "prop = {\n",
    "    'selection':  'Backbone'\n",
    "}\n",
    "\n",
    "# Create and launch bb\n",
    "gmx_rgyr(input_structure_path=output_gppmin_tpr,\n",
    "         input_traj_path=output_md_trr,\n",
    "         output_xvg_path=output_rgyr, \n",
    "          properties=prop)"
   ]
  },
  {
   "cell_type": "code",
   "execution_count": 49,
   "metadata": {},
   "outputs": [
    {
     "data": {
      "text/html": [
       "        <script type=\"text/javascript\">\n",
       "        window.PlotlyConfig = {MathJaxConfig: 'local'};\n",
       "        if (window.MathJax) {MathJax.Hub.Config({SVG: {font: \"STIX-Web\"}});}\n",
       "        if (typeof require !== 'undefined') {\n",
       "        require.undef(\"plotly\");\n",
       "        requirejs.config({\n",
       "            paths: {\n",
       "                'plotly': ['https://cdn.plot.ly/plotly-latest.min']\n",
       "            }\n",
       "        });\n",
       "        require(['plotly'], function(Plotly) {\n",
       "            window._Plotly = Plotly;\n",
       "        });\n",
       "        }\n",
       "        </script>\n",
       "        "
      ]
     },
     "metadata": {},
     "output_type": "display_data"
    },
    {
     "data": {
      "application/vnd.plotly.v1+json": {
       "config": {
        "linkText": "Export to plot.ly",
        "plotlyServerURL": "https://plot.ly",
        "showLink": false
       },
       "data": [
        {
         "type": "scatter",
         "x": [
          0,
          10,
          20,
          30,
          40,
          50,
          60,
          70,
          80,
          90,
          100
         ],
         "y": [
          1.37922,
          1.38355,
          1.38413,
          1.3811,
          1.38912,
          1.38599,
          1.3864,
          1.3835,
          1.38757,
          1.39394,
          1.38843
         ]
        }
       ],
       "layout": {
        "template": {
         "data": {
          "bar": [
           {
            "error_x": {
             "color": "#2a3f5f"
            },
            "error_y": {
             "color": "#2a3f5f"
            },
            "marker": {
             "line": {
              "color": "#E5ECF6",
              "width": 0.5
             }
            },
            "type": "bar"
           }
          ],
          "barpolar": [
           {
            "marker": {
             "line": {
              "color": "#E5ECF6",
              "width": 0.5
             }
            },
            "type": "barpolar"
           }
          ],
          "carpet": [
           {
            "aaxis": {
             "endlinecolor": "#2a3f5f",
             "gridcolor": "white",
             "linecolor": "white",
             "minorgridcolor": "white",
             "startlinecolor": "#2a3f5f"
            },
            "baxis": {
             "endlinecolor": "#2a3f5f",
             "gridcolor": "white",
             "linecolor": "white",
             "minorgridcolor": "white",
             "startlinecolor": "#2a3f5f"
            },
            "type": "carpet"
           }
          ],
          "choropleth": [
           {
            "colorbar": {
             "outlinewidth": 0,
             "ticks": ""
            },
            "type": "choropleth"
           }
          ],
          "contour": [
           {
            "colorbar": {
             "outlinewidth": 0,
             "ticks": ""
            },
            "colorscale": [
             [
              0,
              "#0d0887"
             ],
             [
              0.1111111111111111,
              "#46039f"
             ],
             [
              0.2222222222222222,
              "#7201a8"
             ],
             [
              0.3333333333333333,
              "#9c179e"
             ],
             [
              0.4444444444444444,
              "#bd3786"
             ],
             [
              0.5555555555555556,
              "#d8576b"
             ],
             [
              0.6666666666666666,
              "#ed7953"
             ],
             [
              0.7777777777777778,
              "#fb9f3a"
             ],
             [
              0.8888888888888888,
              "#fdca26"
             ],
             [
              1,
              "#f0f921"
             ]
            ],
            "type": "contour"
           }
          ],
          "contourcarpet": [
           {
            "colorbar": {
             "outlinewidth": 0,
             "ticks": ""
            },
            "type": "contourcarpet"
           }
          ],
          "heatmap": [
           {
            "colorbar": {
             "outlinewidth": 0,
             "ticks": ""
            },
            "colorscale": [
             [
              0,
              "#0d0887"
             ],
             [
              0.1111111111111111,
              "#46039f"
             ],
             [
              0.2222222222222222,
              "#7201a8"
             ],
             [
              0.3333333333333333,
              "#9c179e"
             ],
             [
              0.4444444444444444,
              "#bd3786"
             ],
             [
              0.5555555555555556,
              "#d8576b"
             ],
             [
              0.6666666666666666,
              "#ed7953"
             ],
             [
              0.7777777777777778,
              "#fb9f3a"
             ],
             [
              0.8888888888888888,
              "#fdca26"
             ],
             [
              1,
              "#f0f921"
             ]
            ],
            "type": "heatmap"
           }
          ],
          "heatmapgl": [
           {
            "colorbar": {
             "outlinewidth": 0,
             "ticks": ""
            },
            "colorscale": [
             [
              0,
              "#0d0887"
             ],
             [
              0.1111111111111111,
              "#46039f"
             ],
             [
              0.2222222222222222,
              "#7201a8"
             ],
             [
              0.3333333333333333,
              "#9c179e"
             ],
             [
              0.4444444444444444,
              "#bd3786"
             ],
             [
              0.5555555555555556,
              "#d8576b"
             ],
             [
              0.6666666666666666,
              "#ed7953"
             ],
             [
              0.7777777777777778,
              "#fb9f3a"
             ],
             [
              0.8888888888888888,
              "#fdca26"
             ],
             [
              1,
              "#f0f921"
             ]
            ],
            "type": "heatmapgl"
           }
          ],
          "histogram": [
           {
            "marker": {
             "colorbar": {
              "outlinewidth": 0,
              "ticks": ""
             }
            },
            "type": "histogram"
           }
          ],
          "histogram2d": [
           {
            "colorbar": {
             "outlinewidth": 0,
             "ticks": ""
            },
            "colorscale": [
             [
              0,
              "#0d0887"
             ],
             [
              0.1111111111111111,
              "#46039f"
             ],
             [
              0.2222222222222222,
              "#7201a8"
             ],
             [
              0.3333333333333333,
              "#9c179e"
             ],
             [
              0.4444444444444444,
              "#bd3786"
             ],
             [
              0.5555555555555556,
              "#d8576b"
             ],
             [
              0.6666666666666666,
              "#ed7953"
             ],
             [
              0.7777777777777778,
              "#fb9f3a"
             ],
             [
              0.8888888888888888,
              "#fdca26"
             ],
             [
              1,
              "#f0f921"
             ]
            ],
            "type": "histogram2d"
           }
          ],
          "histogram2dcontour": [
           {
            "colorbar": {
             "outlinewidth": 0,
             "ticks": ""
            },
            "colorscale": [
             [
              0,
              "#0d0887"
             ],
             [
              0.1111111111111111,
              "#46039f"
             ],
             [
              0.2222222222222222,
              "#7201a8"
             ],
             [
              0.3333333333333333,
              "#9c179e"
             ],
             [
              0.4444444444444444,
              "#bd3786"
             ],
             [
              0.5555555555555556,
              "#d8576b"
             ],
             [
              0.6666666666666666,
              "#ed7953"
             ],
             [
              0.7777777777777778,
              "#fb9f3a"
             ],
             [
              0.8888888888888888,
              "#fdca26"
             ],
             [
              1,
              "#f0f921"
             ]
            ],
            "type": "histogram2dcontour"
           }
          ],
          "mesh3d": [
           {
            "colorbar": {
             "outlinewidth": 0,
             "ticks": ""
            },
            "type": "mesh3d"
           }
          ],
          "parcoords": [
           {
            "line": {
             "colorbar": {
              "outlinewidth": 0,
              "ticks": ""
             }
            },
            "type": "parcoords"
           }
          ],
          "pie": [
           {
            "automargin": true,
            "type": "pie"
           }
          ],
          "scatter": [
           {
            "marker": {
             "colorbar": {
              "outlinewidth": 0,
              "ticks": ""
             }
            },
            "type": "scatter"
           }
          ],
          "scatter3d": [
           {
            "line": {
             "colorbar": {
              "outlinewidth": 0,
              "ticks": ""
             }
            },
            "marker": {
             "colorbar": {
              "outlinewidth": 0,
              "ticks": ""
             }
            },
            "type": "scatter3d"
           }
          ],
          "scattercarpet": [
           {
            "marker": {
             "colorbar": {
              "outlinewidth": 0,
              "ticks": ""
             }
            },
            "type": "scattercarpet"
           }
          ],
          "scattergeo": [
           {
            "marker": {
             "colorbar": {
              "outlinewidth": 0,
              "ticks": ""
             }
            },
            "type": "scattergeo"
           }
          ],
          "scattergl": [
           {
            "marker": {
             "colorbar": {
              "outlinewidth": 0,
              "ticks": ""
             }
            },
            "type": "scattergl"
           }
          ],
          "scattermapbox": [
           {
            "marker": {
             "colorbar": {
              "outlinewidth": 0,
              "ticks": ""
             }
            },
            "type": "scattermapbox"
           }
          ],
          "scatterpolar": [
           {
            "marker": {
             "colorbar": {
              "outlinewidth": 0,
              "ticks": ""
             }
            },
            "type": "scatterpolar"
           }
          ],
          "scatterpolargl": [
           {
            "marker": {
             "colorbar": {
              "outlinewidth": 0,
              "ticks": ""
             }
            },
            "type": "scatterpolargl"
           }
          ],
          "scatterternary": [
           {
            "marker": {
             "colorbar": {
              "outlinewidth": 0,
              "ticks": ""
             }
            },
            "type": "scatterternary"
           }
          ],
          "surface": [
           {
            "colorbar": {
             "outlinewidth": 0,
             "ticks": ""
            },
            "colorscale": [
             [
              0,
              "#0d0887"
             ],
             [
              0.1111111111111111,
              "#46039f"
             ],
             [
              0.2222222222222222,
              "#7201a8"
             ],
             [
              0.3333333333333333,
              "#9c179e"
             ],
             [
              0.4444444444444444,
              "#bd3786"
             ],
             [
              0.5555555555555556,
              "#d8576b"
             ],
             [
              0.6666666666666666,
              "#ed7953"
             ],
             [
              0.7777777777777778,
              "#fb9f3a"
             ],
             [
              0.8888888888888888,
              "#fdca26"
             ],
             [
              1,
              "#f0f921"
             ]
            ],
            "type": "surface"
           }
          ],
          "table": [
           {
            "cells": {
             "fill": {
              "color": "#EBF0F8"
             },
             "line": {
              "color": "white"
             }
            },
            "header": {
             "fill": {
              "color": "#C8D4E3"
             },
             "line": {
              "color": "white"
             }
            },
            "type": "table"
           }
          ]
         },
         "layout": {
          "annotationdefaults": {
           "arrowcolor": "#2a3f5f",
           "arrowhead": 0,
           "arrowwidth": 1
          },
          "coloraxis": {
           "colorbar": {
            "outlinewidth": 0,
            "ticks": ""
           }
          },
          "colorscale": {
           "diverging": [
            [
             0,
             "#8e0152"
            ],
            [
             0.1,
             "#c51b7d"
            ],
            [
             0.2,
             "#de77ae"
            ],
            [
             0.3,
             "#f1b6da"
            ],
            [
             0.4,
             "#fde0ef"
            ],
            [
             0.5,
             "#f7f7f7"
            ],
            [
             0.6,
             "#e6f5d0"
            ],
            [
             0.7,
             "#b8e186"
            ],
            [
             0.8,
             "#7fbc41"
            ],
            [
             0.9,
             "#4d9221"
            ],
            [
             1,
             "#276419"
            ]
           ],
           "sequential": [
            [
             0,
             "#0d0887"
            ],
            [
             0.1111111111111111,
             "#46039f"
            ],
            [
             0.2222222222222222,
             "#7201a8"
            ],
            [
             0.3333333333333333,
             "#9c179e"
            ],
            [
             0.4444444444444444,
             "#bd3786"
            ],
            [
             0.5555555555555556,
             "#d8576b"
            ],
            [
             0.6666666666666666,
             "#ed7953"
            ],
            [
             0.7777777777777778,
             "#fb9f3a"
            ],
            [
             0.8888888888888888,
             "#fdca26"
            ],
            [
             1,
             "#f0f921"
            ]
           ],
           "sequentialminus": [
            [
             0,
             "#0d0887"
            ],
            [
             0.1111111111111111,
             "#46039f"
            ],
            [
             0.2222222222222222,
             "#7201a8"
            ],
            [
             0.3333333333333333,
             "#9c179e"
            ],
            [
             0.4444444444444444,
             "#bd3786"
            ],
            [
             0.5555555555555556,
             "#d8576b"
            ],
            [
             0.6666666666666666,
             "#ed7953"
            ],
            [
             0.7777777777777778,
             "#fb9f3a"
            ],
            [
             0.8888888888888888,
             "#fdca26"
            ],
            [
             1,
             "#f0f921"
            ]
           ]
          },
          "colorway": [
           "#636efa",
           "#EF553B",
           "#00cc96",
           "#ab63fa",
           "#FFA15A",
           "#19d3f3",
           "#FF6692",
           "#B6E880",
           "#FF97FF",
           "#FECB52"
          ],
          "font": {
           "color": "#2a3f5f"
          },
          "geo": {
           "bgcolor": "white",
           "lakecolor": "white",
           "landcolor": "#E5ECF6",
           "showlakes": true,
           "showland": true,
           "subunitcolor": "white"
          },
          "hoverlabel": {
           "align": "left"
          },
          "hovermode": "closest",
          "mapbox": {
           "style": "light"
          },
          "paper_bgcolor": "white",
          "plot_bgcolor": "#E5ECF6",
          "polar": {
           "angularaxis": {
            "gridcolor": "white",
            "linecolor": "white",
            "ticks": ""
           },
           "bgcolor": "#E5ECF6",
           "radialaxis": {
            "gridcolor": "white",
            "linecolor": "white",
            "ticks": ""
           }
          },
          "scene": {
           "xaxis": {
            "backgroundcolor": "#E5ECF6",
            "gridcolor": "white",
            "gridwidth": 2,
            "linecolor": "white",
            "showbackground": true,
            "ticks": "",
            "zerolinecolor": "white"
           },
           "yaxis": {
            "backgroundcolor": "#E5ECF6",
            "gridcolor": "white",
            "gridwidth": 2,
            "linecolor": "white",
            "showbackground": true,
            "ticks": "",
            "zerolinecolor": "white"
           },
           "zaxis": {
            "backgroundcolor": "#E5ECF6",
            "gridcolor": "white",
            "gridwidth": 2,
            "linecolor": "white",
            "showbackground": true,
            "ticks": "",
            "zerolinecolor": "white"
           }
          },
          "shapedefaults": {
           "line": {
            "color": "#2a3f5f"
           }
          },
          "ternary": {
           "aaxis": {
            "gridcolor": "white",
            "linecolor": "white",
            "ticks": ""
           },
           "baxis": {
            "gridcolor": "white",
            "linecolor": "white",
            "ticks": ""
           },
           "bgcolor": "#E5ECF6",
           "caxis": {
            "gridcolor": "white",
            "linecolor": "white",
            "ticks": ""
           }
          },
          "title": {
           "x": 0.05
          },
          "xaxis": {
           "automargin": true,
           "gridcolor": "white",
           "linecolor": "white",
           "ticks": "",
           "title": {
            "standoff": 15
           },
           "zerolinecolor": "white",
           "zerolinewidth": 2
          },
          "yaxis": {
           "automargin": true,
           "gridcolor": "white",
           "linecolor": "white",
           "ticks": "",
           "title": {
            "standoff": 15
           },
           "zerolinecolor": "white",
           "zerolinewidth": 2
          }
         }
        },
        "title": {
         "text": "Radius of Gyration"
        },
        "xaxis": {
         "title": {
          "text": "Time (ps)"
         }
        },
        "yaxis": {
         "title": {
          "text": "Rgyr (nm)"
         }
        }
       }
      },
      "text/html": [
       "<div>\n",
       "        \n",
       "        \n",
       "            <div id=\"e64b5051-8134-427f-9575-90f97041d7a8\" class=\"plotly-graph-div\" style=\"height:525px; width:100%;\"></div>\n",
       "            <script type=\"text/javascript\">\n",
       "                require([\"plotly\"], function(Plotly) {\n",
       "                    window.PLOTLYENV=window.PLOTLYENV || {};\n",
       "                    \n",
       "                if (document.getElementById(\"e64b5051-8134-427f-9575-90f97041d7a8\")) {\n",
       "                    Plotly.newPlot(\n",
       "                        'e64b5051-8134-427f-9575-90f97041d7a8',\n",
       "                        [{\"type\": \"scatter\", \"x\": [0.0, 10.0, 20.0, 30.0, 40.0, 50.0, 60.0, 70.0, 80.0, 90.0, 100.0], \"y\": [1.37922, 1.38355, 1.38413, 1.3811, 1.38912, 1.38599, 1.3864, 1.3835, 1.38757, 1.39394, 1.38843]}],\n",
       "                        {\"template\": {\"data\": {\"bar\": [{\"error_x\": {\"color\": \"#2a3f5f\"}, \"error_y\": {\"color\": \"#2a3f5f\"}, \"marker\": {\"line\": {\"color\": \"#E5ECF6\", \"width\": 0.5}}, \"type\": \"bar\"}], \"barpolar\": [{\"marker\": {\"line\": {\"color\": \"#E5ECF6\", \"width\": 0.5}}, \"type\": \"barpolar\"}], \"carpet\": [{\"aaxis\": {\"endlinecolor\": \"#2a3f5f\", \"gridcolor\": \"white\", \"linecolor\": \"white\", \"minorgridcolor\": \"white\", \"startlinecolor\": \"#2a3f5f\"}, \"baxis\": {\"endlinecolor\": \"#2a3f5f\", \"gridcolor\": \"white\", \"linecolor\": \"white\", \"minorgridcolor\": \"white\", \"startlinecolor\": \"#2a3f5f\"}, \"type\": \"carpet\"}], \"choropleth\": [{\"colorbar\": {\"outlinewidth\": 0, \"ticks\": \"\"}, \"type\": \"choropleth\"}], \"contour\": [{\"colorbar\": {\"outlinewidth\": 0, \"ticks\": \"\"}, \"colorscale\": [[0.0, \"#0d0887\"], [0.1111111111111111, \"#46039f\"], [0.2222222222222222, \"#7201a8\"], [0.3333333333333333, \"#9c179e\"], [0.4444444444444444, \"#bd3786\"], [0.5555555555555556, \"#d8576b\"], [0.6666666666666666, \"#ed7953\"], [0.7777777777777778, \"#fb9f3a\"], [0.8888888888888888, \"#fdca26\"], [1.0, \"#f0f921\"]], \"type\": \"contour\"}], \"contourcarpet\": [{\"colorbar\": {\"outlinewidth\": 0, \"ticks\": \"\"}, \"type\": \"contourcarpet\"}], \"heatmap\": [{\"colorbar\": {\"outlinewidth\": 0, \"ticks\": \"\"}, \"colorscale\": [[0.0, \"#0d0887\"], [0.1111111111111111, \"#46039f\"], [0.2222222222222222, \"#7201a8\"], [0.3333333333333333, \"#9c179e\"], [0.4444444444444444, \"#bd3786\"], [0.5555555555555556, \"#d8576b\"], [0.6666666666666666, \"#ed7953\"], [0.7777777777777778, \"#fb9f3a\"], [0.8888888888888888, \"#fdca26\"], [1.0, \"#f0f921\"]], \"type\": \"heatmap\"}], \"heatmapgl\": [{\"colorbar\": {\"outlinewidth\": 0, \"ticks\": \"\"}, \"colorscale\": [[0.0, \"#0d0887\"], [0.1111111111111111, \"#46039f\"], [0.2222222222222222, \"#7201a8\"], [0.3333333333333333, \"#9c179e\"], [0.4444444444444444, \"#bd3786\"], [0.5555555555555556, \"#d8576b\"], [0.6666666666666666, \"#ed7953\"], [0.7777777777777778, \"#fb9f3a\"], [0.8888888888888888, \"#fdca26\"], [1.0, \"#f0f921\"]], \"type\": \"heatmapgl\"}], \"histogram\": [{\"marker\": {\"colorbar\": {\"outlinewidth\": 0, \"ticks\": \"\"}}, \"type\": \"histogram\"}], \"histogram2d\": [{\"colorbar\": {\"outlinewidth\": 0, \"ticks\": \"\"}, \"colorscale\": [[0.0, \"#0d0887\"], [0.1111111111111111, \"#46039f\"], [0.2222222222222222, \"#7201a8\"], [0.3333333333333333, \"#9c179e\"], [0.4444444444444444, \"#bd3786\"], [0.5555555555555556, \"#d8576b\"], [0.6666666666666666, \"#ed7953\"], [0.7777777777777778, \"#fb9f3a\"], [0.8888888888888888, \"#fdca26\"], [1.0, \"#f0f921\"]], \"type\": \"histogram2d\"}], \"histogram2dcontour\": [{\"colorbar\": {\"outlinewidth\": 0, \"ticks\": \"\"}, \"colorscale\": [[0.0, \"#0d0887\"], [0.1111111111111111, \"#46039f\"], [0.2222222222222222, \"#7201a8\"], [0.3333333333333333, \"#9c179e\"], [0.4444444444444444, \"#bd3786\"], [0.5555555555555556, \"#d8576b\"], [0.6666666666666666, \"#ed7953\"], [0.7777777777777778, \"#fb9f3a\"], [0.8888888888888888, \"#fdca26\"], [1.0, \"#f0f921\"]], \"type\": \"histogram2dcontour\"}], \"mesh3d\": [{\"colorbar\": {\"outlinewidth\": 0, \"ticks\": \"\"}, \"type\": \"mesh3d\"}], \"parcoords\": [{\"line\": {\"colorbar\": {\"outlinewidth\": 0, \"ticks\": \"\"}}, \"type\": \"parcoords\"}], \"pie\": [{\"automargin\": true, \"type\": \"pie\"}], \"scatter\": [{\"marker\": {\"colorbar\": {\"outlinewidth\": 0, \"ticks\": \"\"}}, \"type\": \"scatter\"}], \"scatter3d\": [{\"line\": {\"colorbar\": {\"outlinewidth\": 0, \"ticks\": \"\"}}, \"marker\": {\"colorbar\": {\"outlinewidth\": 0, \"ticks\": \"\"}}, \"type\": \"scatter3d\"}], \"scattercarpet\": [{\"marker\": {\"colorbar\": {\"outlinewidth\": 0, \"ticks\": \"\"}}, \"type\": \"scattercarpet\"}], \"scattergeo\": [{\"marker\": {\"colorbar\": {\"outlinewidth\": 0, \"ticks\": \"\"}}, \"type\": \"scattergeo\"}], \"scattergl\": [{\"marker\": {\"colorbar\": {\"outlinewidth\": 0, \"ticks\": \"\"}}, \"type\": \"scattergl\"}], \"scattermapbox\": [{\"marker\": {\"colorbar\": {\"outlinewidth\": 0, \"ticks\": \"\"}}, \"type\": \"scattermapbox\"}], \"scatterpolar\": [{\"marker\": {\"colorbar\": {\"outlinewidth\": 0, \"ticks\": \"\"}}, \"type\": \"scatterpolar\"}], \"scatterpolargl\": [{\"marker\": {\"colorbar\": {\"outlinewidth\": 0, \"ticks\": \"\"}}, \"type\": \"scatterpolargl\"}], \"scatterternary\": [{\"marker\": {\"colorbar\": {\"outlinewidth\": 0, \"ticks\": \"\"}}, \"type\": \"scatterternary\"}], \"surface\": [{\"colorbar\": {\"outlinewidth\": 0, \"ticks\": \"\"}, \"colorscale\": [[0.0, \"#0d0887\"], [0.1111111111111111, \"#46039f\"], [0.2222222222222222, \"#7201a8\"], [0.3333333333333333, \"#9c179e\"], [0.4444444444444444, \"#bd3786\"], [0.5555555555555556, \"#d8576b\"], [0.6666666666666666, \"#ed7953\"], [0.7777777777777778, \"#fb9f3a\"], [0.8888888888888888, \"#fdca26\"], [1.0, \"#f0f921\"]], \"type\": \"surface\"}], \"table\": [{\"cells\": {\"fill\": {\"color\": \"#EBF0F8\"}, \"line\": {\"color\": \"white\"}}, \"header\": {\"fill\": {\"color\": \"#C8D4E3\"}, \"line\": {\"color\": \"white\"}}, \"type\": \"table\"}]}, \"layout\": {\"annotationdefaults\": {\"arrowcolor\": \"#2a3f5f\", \"arrowhead\": 0, \"arrowwidth\": 1}, \"coloraxis\": {\"colorbar\": {\"outlinewidth\": 0, \"ticks\": \"\"}}, \"colorscale\": {\"diverging\": [[0, \"#8e0152\"], [0.1, \"#c51b7d\"], [0.2, \"#de77ae\"], [0.3, \"#f1b6da\"], [0.4, \"#fde0ef\"], [0.5, \"#f7f7f7\"], [0.6, \"#e6f5d0\"], [0.7, \"#b8e186\"], [0.8, \"#7fbc41\"], [0.9, \"#4d9221\"], [1, \"#276419\"]], \"sequential\": [[0.0, \"#0d0887\"], [0.1111111111111111, \"#46039f\"], [0.2222222222222222, \"#7201a8\"], [0.3333333333333333, \"#9c179e\"], [0.4444444444444444, \"#bd3786\"], [0.5555555555555556, \"#d8576b\"], [0.6666666666666666, \"#ed7953\"], [0.7777777777777778, \"#fb9f3a\"], [0.8888888888888888, \"#fdca26\"], [1.0, \"#f0f921\"]], \"sequentialminus\": [[0.0, \"#0d0887\"], [0.1111111111111111, \"#46039f\"], [0.2222222222222222, \"#7201a8\"], [0.3333333333333333, \"#9c179e\"], [0.4444444444444444, \"#bd3786\"], [0.5555555555555556, \"#d8576b\"], [0.6666666666666666, \"#ed7953\"], [0.7777777777777778, \"#fb9f3a\"], [0.8888888888888888, \"#fdca26\"], [1.0, \"#f0f921\"]]}, \"colorway\": [\"#636efa\", \"#EF553B\", \"#00cc96\", \"#ab63fa\", \"#FFA15A\", \"#19d3f3\", \"#FF6692\", \"#B6E880\", \"#FF97FF\", \"#FECB52\"], \"font\": {\"color\": \"#2a3f5f\"}, \"geo\": {\"bgcolor\": \"white\", \"lakecolor\": \"white\", \"landcolor\": \"#E5ECF6\", \"showlakes\": true, \"showland\": true, \"subunitcolor\": \"white\"}, \"hoverlabel\": {\"align\": \"left\"}, \"hovermode\": \"closest\", \"mapbox\": {\"style\": \"light\"}, \"paper_bgcolor\": \"white\", \"plot_bgcolor\": \"#E5ECF6\", \"polar\": {\"angularaxis\": {\"gridcolor\": \"white\", \"linecolor\": \"white\", \"ticks\": \"\"}, \"bgcolor\": \"#E5ECF6\", \"radialaxis\": {\"gridcolor\": \"white\", \"linecolor\": \"white\", \"ticks\": \"\"}}, \"scene\": {\"xaxis\": {\"backgroundcolor\": \"#E5ECF6\", \"gridcolor\": \"white\", \"gridwidth\": 2, \"linecolor\": \"white\", \"showbackground\": true, \"ticks\": \"\", \"zerolinecolor\": \"white\"}, \"yaxis\": {\"backgroundcolor\": \"#E5ECF6\", \"gridcolor\": \"white\", \"gridwidth\": 2, \"linecolor\": \"white\", \"showbackground\": true, \"ticks\": \"\", \"zerolinecolor\": \"white\"}, \"zaxis\": {\"backgroundcolor\": \"#E5ECF6\", \"gridcolor\": \"white\", \"gridwidth\": 2, \"linecolor\": \"white\", \"showbackground\": true, \"ticks\": \"\", \"zerolinecolor\": \"white\"}}, \"shapedefaults\": {\"line\": {\"color\": \"#2a3f5f\"}}, \"ternary\": {\"aaxis\": {\"gridcolor\": \"white\", \"linecolor\": \"white\", \"ticks\": \"\"}, \"baxis\": {\"gridcolor\": \"white\", \"linecolor\": \"white\", \"ticks\": \"\"}, \"bgcolor\": \"#E5ECF6\", \"caxis\": {\"gridcolor\": \"white\", \"linecolor\": \"white\", \"ticks\": \"\"}}, \"title\": {\"x\": 0.05}, \"xaxis\": {\"automargin\": true, \"gridcolor\": \"white\", \"linecolor\": \"white\", \"ticks\": \"\", \"title\": {\"standoff\": 15}, \"zerolinecolor\": \"white\", \"zerolinewidth\": 2}, \"yaxis\": {\"automargin\": true, \"gridcolor\": \"white\", \"linecolor\": \"white\", \"ticks\": \"\", \"title\": {\"standoff\": 15}, \"zerolinecolor\": \"white\", \"zerolinewidth\": 2}}}, \"title\": {\"text\": \"Radius of Gyration\"}, \"xaxis\": {\"title\": {\"text\": \"Time (ps)\"}}, \"yaxis\": {\"title\": {\"text\": \"Rgyr (nm)\"}}},\n",
       "                        {\"responsive\": true}\n",
       "                    ).then(function(){\n",
       "                            \n",
       "var gd = document.getElementById('e64b5051-8134-427f-9575-90f97041d7a8');\n",
       "var x = new MutationObserver(function (mutations, observer) {{\n",
       "        var display = window.getComputedStyle(gd).display;\n",
       "        if (!display || display === 'none') {{\n",
       "            console.log([gd, 'removed!']);\n",
       "            Plotly.purge(gd);\n",
       "            observer.disconnect();\n",
       "        }}\n",
       "}});\n",
       "\n",
       "// Listen for the removal of the full notebook cells\n",
       "var notebookContainer = gd.closest('#notebook-container');\n",
       "if (notebookContainer) {{\n",
       "    x.observe(notebookContainer, {childList: true});\n",
       "}}\n",
       "\n",
       "// Listen for the clearing of the current output cell\n",
       "var outputEl = gd.closest('.output');\n",
       "if (outputEl) {{\n",
       "    x.observe(outputEl, {childList: true});\n",
       "}}\n",
       "\n",
       "                        })\n",
       "                };\n",
       "                });\n",
       "            </script>\n",
       "        </div>"
      ]
     },
     "metadata": {},
     "output_type": "display_data"
    }
   ],
   "source": [
    "import plotly\n",
    "import plotly.graph_objs as go\n",
    "\n",
    "# Read Rgyr data from file \n",
    "with open(output_rgyr,'r') as rgyr_file:\n",
    "    x,y = map(\n",
    "        list,\n",
    "        zip(*[\n",
    "            (float(line.split()[0]),float(line.split()[1]))\n",
    "            for line in rgyr_file \n",
    "            if not line.startswith((\"#\",\"@\")) \n",
    "        ])\n",
    "    )\n",
    "\n",
    "plotly.offline.init_notebook_mode(connected=True)\n",
    "\n",
    "fig = {\n",
    "    \"data\": [go.Scatter(x=x, y=y)],\n",
    "    \"layout\": go.Layout(title=\"Radius of Gyration\",\n",
    "                        xaxis=dict(title = \"Time (ps)\"),\n",
    "                        yaxis=dict(title = \"Rgyr (nm)\")\n",
    "                       )\n",
    "}\n",
    "\n",
    "plotly.offline.iplot(fig)"
   ]
  },
  {
   "cell_type": "markdown",
   "metadata": {},
   "source": [
    "<a id=\"post\"></a>\n",
    "***\n",
    "## Post-processing and Visualizing resulting 3D trajectory\n",
    "Post-processing and Visualizing the **protein system** MD setup **resulting trajectory** using **NGL**\n",
    "- [Step 1](#ppStep1): *Imaging* the resulting trajectory, **stripping out water molecules and ions** and **correcting periodicity issues**.\n",
    "- [Step 2](#ppStep2): Generating a *dry* structure, **removing water molecules and ions** from the final snapshot of the MD setup pipeline.\n",
    "- [Step 3](#ppStep3): Visualizing the *imaged* trajectory using the *dry* structure as a **topology**. \n",
    "***\n",
    "**Building Blocks** used:\n",
    " - [GMXImage](https://biobb-analysis.readthedocs.io/en/latest/gromacs.html#module-gromacs.gmx_image) from **biobb_analysis.gromacs.gmx_image** \n",
    " - [GMXTrjConvStr](https://biobb-analysis.readthedocs.io/en/latest/gromacs.html#module-gromacs.gmx_trjconv_str) from **biobb_analysis.gromacs.gmx_trjconv_str** \n",
    "***"
   ]
  },
  {
   "cell_type": "markdown",
   "metadata": {},
   "source": [
    "<a id=\"ppStep1\"></a>\n",
    "### Step 1: *Imaging* the resulting trajectory.\n",
    "Stripping out **water molecules and ions** and **correcting periodicity issues**  "
   ]
  },
  {
   "cell_type": "code",
   "execution_count": 50,
   "metadata": {},
   "outputs": [
    {
     "name": "stdout",
     "output_type": "stream",
     "text": [
      "2021-06-23 07:45:45,973 [MainThread  ] [INFO ]  Not using any container\n",
      "2021-06-23 07:45:46,185 [MainThread  ] [INFO ]  echo \"Protein\" \"Protein\" | gmx trjconv -f /home/gbayarri_local/projects/BioBB/tutorials/biobb_wf_md_setup/biobb_wf_md_setup/notebooks/1AKI_md.trr -s /home/gbayarri_local/projects/BioBB/tutorials/biobb_wf_md_setup/biobb_wf_md_setup/notebooks/1AKI_gppmd.tpr -fit none -o 1AKI_imaged_traj.trr -center -pbc mol -ur compact\n",
      "\n",
      "2021-06-23 07:45:46,187 [MainThread  ] [INFO ]  Exit code 0\n",
      "\n",
      "2021-06-23 07:45:46,191 [MainThread  ] [INFO ]  Note that major changes are planned in future for trjconv, to improve usability and utility.Select group for centering\n",
      "Selected 1: 'Protein'\n",
      "Select group for output\n",
      "Selected 1: 'Protein'\n",
      "\n",
      "2021-06-23 07:45:46,192 [MainThread  ] [INFO ]                        :-) GROMACS - gmx trjconv, 2019 (-:\n",
      "\n",
      "                            GROMACS is written by:\n",
      "     Emile Apol      Rossen Apostolov      Paul Bauer     Herman J.C. Berendsen\n",
      "    Par Bjelkmar      Christian Blau   Viacheslav Bolnykh     Kevin Boyd    \n",
      " Aldert van Buuren   Rudi van Drunen     Anton Feenstra       Alan Gray     \n",
      "  Gerrit Groenhof     Anca Hamuraru    Vincent Hindriksen  M. Eric Irrgang  \n",
      "  Aleksei Iupinov   Christoph Junghans     Joe Jordan     Dimitrios Karkoulis\n",
      "    Peter Kasson        Jiri Kraus      Carsten Kutzner      Per Larsson    \n",
      "  Justin A. Lemkul    Viveca Lindahl    Magnus Lundborg     Erik Marklund   \n",
      "    Pascal Merz     Pieter Meulenhoff    Teemu Murtola       Szilard Pall   \n",
      "    Sander Pronk      Roland Schulz      Michael Shirts    Alexey Shvetsov  \n",
      "   Alfons Sijbers     Peter Tieleman      Jon Vincent      Teemu Virolainen \n",
      " Christian Wennberg    Maarten Wolf   \n",
      "                           and the project leaders:\n",
      "        Mark Abraham, Berk Hess, Erik Lindahl, and David van der Spoel\n",
      "\n",
      "Copyright (c) 1991-2000, University of Groningen, The Netherlands.\n",
      "Copyright (c) 2001-2018, The GROMACS development team at\n",
      "Uppsala University, Stockholm University and\n",
      "the Royal Institute of Technology, Sweden.\n",
      "check out http://www.gromacs.org for more information.\n",
      "\n",
      "GROMACS is free software; you can redistribute it and/or modify it\n",
      "under the terms of the GNU Lesser General Public License\n",
      "as published by the Free Software Foundation; either version 2.1\n",
      "of the License, or (at your option) any later version.\n",
      "\n",
      "GROMACS:      gmx trjconv, version 2019\n",
      "Executable:   /usr/local/gromacs/bin/gmx\n",
      "Data prefix:  /usr/local/gromacs\n",
      "Working dir:  /home/gbayarri_local/projects/BioBB/tutorials/biobb_wf_md_setup/biobb_wf_md_setup/notebooks\n",
      "Command line:\n",
      "  gmx trjconv -f /home/gbayarri_local/projects/BioBB/tutorials/biobb_wf_md_setup/biobb_wf_md_setup/notebooks/1AKI_md.trr -s /home/gbayarri_local/projects/BioBB/tutorials/biobb_wf_md_setup/biobb_wf_md_setup/notebooks/1AKI_gppmd.tpr -fit none -o 1AKI_imaged_traj.trr -center -pbc mol -ur compact\n",
      "\n",
      "Will write trr: Trajectory in portable xdr format\n",
      "Reading file /home/gbayarri_local/projects/BioBB/tutorials/biobb_wf_md_setup/biobb_wf_md_setup/notebooks/1AKI_gppmd.tpr, VERSION 2019 (single precision)\n",
      "Reading file /home/gbayarri_local/projects/BioBB/tutorials/biobb_wf_md_setup/biobb_wf_md_setup/notebooks/1AKI_gppmd.tpr, VERSION 2019 (single precision)\n",
      "Group     0 (         System) has 33836 elements\n",
      "Group     1 (        Protein) has  1960 elements\n",
      "Group     2 (      Protein-H) has  1001 elements\n",
      "Group     3 (        C-alpha) has   129 elements\n",
      "Group     4 (       Backbone) has   387 elements\n",
      "Group     5 (      MainChain) has   517 elements\n",
      "Group     6 (   MainChain+Cb) has   634 elements\n",
      "Group     7 (    MainChain+H) has   646 elements\n",
      "Group     8 (      SideChain) has  1314 elements\n",
      "Group     9 (    SideChain-H) has   484 elements\n",
      "Group    10 (    Prot-Masses) has  1960 elements\n",
      "Group    11 (    non-Protein) has 31876 elements\n",
      "Group    12 (          Water) has 31848 elements\n",
      "Group    13 (            SOL) has 31848 elements\n",
      "Group    14 (      non-Water) has  1988 elements\n",
      "Group    15 (            Ion) has    28 elements\n",
      "Group    16 (             NA) has    10 elements\n",
      "Group    17 (             CL) has    18 elements\n",
      "Group    18 ( Water_and_ions) has 31876 elements\n",
      "Select a group: Group     0 (         System) has 33836 elements\n",
      "Group     1 (        Protein) has  1960 elements\n",
      "Group     2 (      Protein-H) has  1001 elements\n",
      "Group     3 (        C-alpha) has   129 elements\n",
      "Group     4 (       Backbone) has   387 elements\n",
      "Group     5 (      MainChain) has   517 elements\n",
      "Group     6 (   MainChain+Cb) has   634 elements\n",
      "Group     7 (    MainChain+H) has   646 elements\n",
      "Group     8 (      SideChain) has  1314 elements\n",
      "Group     9 (    SideChain-H) has   484 elements\n",
      "Group    10 (    Prot-Masses) has  1960 elements\n",
      "Group    11 (    non-Protein) has 31876 elements\n",
      "Group    12 (          Water) has 31848 elements\n",
      "Group    13 (            SOL) has 31848 elements\n",
      "Group    14 (      non-Water) has  1988 elements\n",
      "Group    15 (            Ion) has    28 elements\n",
      "Group    16 (             NA) has    10 elements\n",
      "Group    17 (             CL) has    18 elements\n",
      "Group    18 ( Water_and_ions) has 31876 elements\n",
      "Select a group: trr version: GMX_trn_file (single precision)\n",
      "Reading frame       0 time    0.000   \n",
      "Back Off! I just backed up 1AKI_imaged_traj.trr to ./#1AKI_imaged_traj.trr.4#\n",
      "Last frame         10 time  100.000    ->  frame     10 time  100.000      \n",
      "\n",
      "\n",
      "GROMACS reminds you: \"According to my computations we're overdue for a transformation.\" (Jackson Browne)\n",
      "\n",
      "\n"
     ]
    },
    {
     "data": {
      "text/plain": [
       "0"
      ]
     },
     "execution_count": 50,
     "metadata": {},
     "output_type": "execute_result"
    }
   ],
   "source": [
    "# GMXImage: \"Imaging\" the resulting trajectory\n",
    "#           Removing water molecules and ions from the resulting structure\n",
    "from biobb_analysis.gromacs.gmx_image import gmx_image\n",
    "\n",
    "# Create prop dict and inputs/outputs\n",
    "output_imaged_traj = pdbCode+'_imaged_traj.trr'\n",
    "prop = {\n",
    "    'center_selection':  'Protein',\n",
    "    'output_selection': 'Protein',\n",
    "    'pbc' : 'mol',\n",
    "    'center' : True\n",
    "}\n",
    "\n",
    "# Create and launch bb\n",
    "gmx_image(input_traj_path=output_md_trr,\n",
    "         input_top_path=output_gppmd_tpr,\n",
    "         output_traj_path=output_imaged_traj, \n",
    "          properties=prop)"
   ]
  },
  {
   "cell_type": "markdown",
   "metadata": {},
   "source": [
    "<a id=\"ppStep2\"></a>\n",
    "### Step 2: Generating the output *dry* structure.\n",
    "**Removing water molecules and ions** from the resulting structure"
   ]
  },
  {
   "cell_type": "code",
   "execution_count": 51,
   "metadata": {},
   "outputs": [
    {
     "name": "stdout",
     "output_type": "stream",
     "text": [
      "2021-06-23 07:45:46,220 [MainThread  ] [INFO ]  Not using any container\n",
      "2021-06-23 07:45:46,416 [MainThread  ] [INFO ]  echo \"Protein\" | gmx trjconv -f /home/gbayarri_local/projects/BioBB/tutorials/biobb_wf_md_setup/biobb_wf_md_setup/notebooks/1AKI_md.gro -s /home/gbayarri_local/projects/BioBB/tutorials/biobb_wf_md_setup/biobb_wf_md_setup/notebooks/1AKI_gppmd.tpr -o 1AKI_md_dry.gro\n",
      "\n",
      "2021-06-23 07:45:46,417 [MainThread  ] [INFO ]  Exit code 0\n",
      "\n",
      "2021-06-23 07:45:46,418 [MainThread  ] [INFO ]  Note that major changes are planned in future for trjconv, to improve usability and utility.Select group for output\n",
      "Selected 1: 'Protein'\n",
      "\n",
      "2021-06-23 07:45:46,419 [MainThread  ] [INFO ]                        :-) GROMACS - gmx trjconv, 2019 (-:\n",
      "\n",
      "                            GROMACS is written by:\n",
      "     Emile Apol      Rossen Apostolov      Paul Bauer     Herman J.C. Berendsen\n",
      "    Par Bjelkmar      Christian Blau   Viacheslav Bolnykh     Kevin Boyd    \n",
      " Aldert van Buuren   Rudi van Drunen     Anton Feenstra       Alan Gray     \n",
      "  Gerrit Groenhof     Anca Hamuraru    Vincent Hindriksen  M. Eric Irrgang  \n",
      "  Aleksei Iupinov   Christoph Junghans     Joe Jordan     Dimitrios Karkoulis\n",
      "    Peter Kasson        Jiri Kraus      Carsten Kutzner      Per Larsson    \n",
      "  Justin A. Lemkul    Viveca Lindahl    Magnus Lundborg     Erik Marklund   \n",
      "    Pascal Merz     Pieter Meulenhoff    Teemu Murtola       Szilard Pall   \n",
      "    Sander Pronk      Roland Schulz      Michael Shirts    Alexey Shvetsov  \n",
      "   Alfons Sijbers     Peter Tieleman      Jon Vincent      Teemu Virolainen \n",
      " Christian Wennberg    Maarten Wolf   \n",
      "                           and the project leaders:\n",
      "        Mark Abraham, Berk Hess, Erik Lindahl, and David van der Spoel\n",
      "\n",
      "Copyright (c) 1991-2000, University of Groningen, The Netherlands.\n",
      "Copyright (c) 2001-2018, The GROMACS development team at\n",
      "Uppsala University, Stockholm University and\n",
      "the Royal Institute of Technology, Sweden.\n",
      "check out http://www.gromacs.org for more information.\n",
      "\n",
      "GROMACS is free software; you can redistribute it and/or modify it\n",
      "under the terms of the GNU Lesser General Public License\n",
      "as published by the Free Software Foundation; either version 2.1\n",
      "of the License, or (at your option) any later version.\n",
      "\n",
      "GROMACS:      gmx trjconv, version 2019\n",
      "Executable:   /usr/local/gromacs/bin/gmx\n",
      "Data prefix:  /usr/local/gromacs\n",
      "Working dir:  /home/gbayarri_local/projects/BioBB/tutorials/biobb_wf_md_setup/biobb_wf_md_setup/notebooks\n",
      "Command line:\n",
      "  gmx trjconv -f /home/gbayarri_local/projects/BioBB/tutorials/biobb_wf_md_setup/biobb_wf_md_setup/notebooks/1AKI_md.gro -s /home/gbayarri_local/projects/BioBB/tutorials/biobb_wf_md_setup/biobb_wf_md_setup/notebooks/1AKI_gppmd.tpr -o 1AKI_md_dry.gro\n",
      "\n",
      "Will write gro: Coordinate file in Gromos-87 format\n",
      "Reading file /home/gbayarri_local/projects/BioBB/tutorials/biobb_wf_md_setup/biobb_wf_md_setup/notebooks/1AKI_gppmd.tpr, VERSION 2019 (single precision)\n",
      "Reading file /home/gbayarri_local/projects/BioBB/tutorials/biobb_wf_md_setup/biobb_wf_md_setup/notebooks/1AKI_gppmd.tpr, VERSION 2019 (single precision)\n",
      "Group     0 (         System) has 33836 elements\n",
      "Group     1 (        Protein) has  1960 elements\n",
      "Group     2 (      Protein-H) has  1001 elements\n",
      "Group     3 (        C-alpha) has   129 elements\n",
      "Group     4 (       Backbone) has   387 elements\n",
      "Group     5 (      MainChain) has   517 elements\n",
      "Group     6 (   MainChain+Cb) has   634 elements\n",
      "Group     7 (    MainChain+H) has   646 elements\n",
      "Group     8 (      SideChain) has  1314 elements\n",
      "Group     9 (    SideChain-H) has   484 elements\n",
      "Group    10 (    Prot-Masses) has  1960 elements\n",
      "Group    11 (    non-Protein) has 31876 elements\n",
      "Group    12 (          Water) has 31848 elements\n",
      "Group    13 (            SOL) has 31848 elements\n",
      "Group    14 (      non-Water) has  1988 elements\n",
      "Group    15 (            Ion) has    28 elements\n",
      "Group    16 (             NA) has    10 elements\n",
      "Group    17 (             CL) has    18 elements\n",
      "Group    18 ( Water_and_ions) has 31876 elements\n",
      "Select a group: Reading frames from gro file 'Protein in water', 33836 atoms.\n",
      "Reading frame       0 time    0.000   \n",
      "Precision of /home/gbayarri_local/projects/BioBB/tutorials/biobb_wf_md_setup/biobb_wf_md_setup/notebooks/1AKI_md.gro is 0.001 (nm)\n",
      "Using output precision of 0.001 (nm)\n",
      "\n",
      "Back Off! I just backed up 1AKI_md_dry.gro to ./#1AKI_md_dry.gro.4#\n",
      "Last frame          0 time    0.000   \n",
      "\n",
      "\n",
      "GROMACS reminds you: \"Computer dating is fine, if you are a computer.\" (Rita May Brown)\n",
      "\n",
      "\n"
     ]
    },
    {
     "data": {
      "text/plain": [
       "0"
      ]
     },
     "execution_count": 51,
     "metadata": {},
     "output_type": "execute_result"
    }
   ],
   "source": [
    "# GMXTrjConvStr: Converting and/or manipulating a structure\n",
    "#                Removing water molecules and ions from the resulting structure\n",
    "#                The \"dry\" structure will be used as a topology to visualize \n",
    "#                the \"imaged dry\" trajectory generated in the previous step.\n",
    "from biobb_analysis.gromacs.gmx_trjconv_str import gmx_trjconv_str\n",
    "\n",
    "# Create prop dict and inputs/outputs\n",
    "output_dry_gro = pdbCode+'_md_dry.gro'\n",
    "prop = {\n",
    "    'selection':  'Protein'\n",
    "}\n",
    "\n",
    "# Create and launch bb\n",
    "gmx_trjconv_str(input_structure_path=output_md_gro,\n",
    "         input_top_path=output_gppmd_tpr,\n",
    "         output_str_path=output_dry_gro, \n",
    "          properties=prop)"
   ]
  },
  {
   "cell_type": "markdown",
   "metadata": {},
   "source": [
    "<a id=\"ppStep3\"></a>\n",
    "### Step 3: Visualizing the generated dehydrated trajectory.\n",
    "Using the **imaged trajectory** (output of the [Post-processing step 1](#ppStep1)) with the **dry structure** (output of the [Post-processing step 2](#ppStep2)) as a topology."
   ]
  },
  {
   "cell_type": "code",
   "execution_count": 52,
   "metadata": {
    "scrolled": true
   },
   "outputs": [
    {
     "data": {
      "application/vnd.jupyter.widget-view+json": {
       "model_id": "c3486cd55c914cec84c03af91af2b2c0",
       "version_major": 2,
       "version_minor": 0
      },
      "text/plain": [
       "NGLWidget(max_frame=10)"
      ]
     },
     "metadata": {},
     "output_type": "display_data"
    },
    {
     "data": {
      "application/vnd.jupyter.widget-view+json": {
       "model_id": "455ca7dc814a4794a7079cc4bd162d8e",
       "version_major": 2,
       "version_minor": 0
      },
      "text/plain": [
       "Tab(children=(Box(children=(Box(children=(Box(children=(Label(value='step'), IntSlider(value=1, min=-100)), la…"
      ]
     },
     "metadata": {},
     "output_type": "display_data"
    }
   ],
   "source": [
    "# Show trajectory\n",
    "view = nglview.show_simpletraj(nglview.SimpletrajTrajectory(output_imaged_traj, output_dry_gro), gui=True)\n",
    "view"
   ]
  },
  {
   "cell_type": "markdown",
   "metadata": {},
   "source": [
    "<img src='trajectory.gif'></img>"
   ]
  },
  {
   "cell_type": "markdown",
   "metadata": {
    "variables": {
     "output_genion_top_zip": "1AKI_genion_top.zip",
     "output_gppmd_tpr": "1AKI_gppmd.tpr",
     "output_md_cpt": "1AKI_md.cpt",
     "output_md_gro": "1AKI_md.gro",
     "output_md_trr": "1AKI_md.trr",
     "output_rgyr": "1AKI_rgyr.xvg",
     "output_rms_exp": "1AKI_rms_exp.xvg",
     "output_rms_first": "1AKI_rms_first.xvg"
    }
   },
   "source": [
    "<a id=\"output\"></a>\n",
    "## Output files\n",
    "\n",
    "Important **Output files** generated:\n",
    " - {{output_md_gro}}: **Final structure** (snapshot) of the MD setup protocol.\n",
    " - {{output_md_trr}}: **Final trajectory** of the MD setup protocol.\n",
    " - {{output_md_cpt}}: **Final checkpoint file**, with information about the state of the simulation. It can be used to **restart** or **continue** a MD simulation.\n",
    " - {{output_gppmd_tpr}}: **Final tpr file**, GROMACS portable binary run input file. This file contains the starting structure of the **MD setup free MD simulation step**, together with the molecular topology and all the simulation parameters. It can be used to **extend** the simulation.\n",
    " - {{output_genion_top_zip}}: **Final topology** of the MD system. It is a compressed zip file including a **topology file** (.top) and a set of auxiliar **include topology** files (.itp).\n",
    "\n",
    "**Analysis** (MD setup check) output files generated:\n",
    " - {{output_rms_first}}: **Root Mean Square deviation (RMSd)** against **minimized and equilibrated structure** of the final **free MD run step**.\n",
    " - {{output_rms_exp}}: **Root Mean Square deviation (RMSd)** against **experimental structure** of the final **free MD run step**.\n",
    " - {{output_rgyr}}: **Radius of Gyration** of the final **free MD run step** of the **setup pipeline**.\n",
    " "
   ]
  },
  {
   "cell_type": "markdown",
   "metadata": {},
   "source": [
    "***\n",
    "<a id=\"questions\"></a>\n",
    "\n",
    "## Questions & Comments\n",
    "\n",
    "Questions, issues, suggestions and comments are really welcome!\n",
    "\n",
    "* GitHub issues:\n",
    "    * [https://github.com/bioexcel/biobb](https://github.com/bioexcel/biobb)\n",
    "\n",
    "* BioExcel forum:\n",
    "    * [https://ask.bioexcel.eu/c/BioExcel-Building-Blocks-library](https://ask.bioexcel.eu/c/BioExcel-Building-Blocks-library)\n"
   ]
  }
 ],
 "metadata": {
  "kernelspec": {
   "display_name": "Python 3",
   "language": "python",
   "name": "python3"
  },
  "language_info": {
   "codemirror_mode": {
    "name": "ipython",
    "version": 3
   },
   "file_extension": ".py",
   "mimetype": "text/x-python",
   "name": "python",
   "nbconvert_exporter": "python",
   "pygments_lexer": "ipython3",
   "version": "3.7.6"
  }
 },
 "nbformat": 4,
 "nbformat_minor": 2
}
