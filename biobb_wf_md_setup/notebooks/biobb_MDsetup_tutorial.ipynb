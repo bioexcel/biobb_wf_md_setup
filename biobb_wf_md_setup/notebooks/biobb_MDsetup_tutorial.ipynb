{
 "cells": [
  {
   "attachments": {
    "Bioexcel2_logo_400px_transp.png": {
     "image/png": "[encoded data removed]"
    }
   },
   "cell_type": "markdown",
   "metadata": {},
   "source": [
    "# Protein MD Setup tutorial using BioExcel Building Blocks (biobb)\n",
    "### Based on the official Gromacs tutorial: http://www.mdtutorials.com/gmx/lysozyme/index.html\n",
    "***\n",
    "This tutorial aims to illustrate the process of **setting up a simulation system** containing a **protein**, step by step, using the **BioExcel Building Blocks library (biobb)**. The particular example used is the **Lysozyme** protein (PDB code 1AKI). \n",
    "***\n",
    "**Biobb modules** used:\n",
    "\n",
    " - [biobb_io](https://github.com/bioexcel/biobb_io): Tools to fetch biomolecular data from public databases.\n",
    " - [biobb_model](https://github.com/bioexcel/biobb_model): Tools to model macromolecular structures.\n",
    " - [biobb_md](https://github.com/bioexcel/biobb_md): Tools to setup and run Molecular Dynamics simulations.\n",
    " - [biobb_analysis](https://github.com/bioexcel/biobb_analysis): Tools to analyse Molecular Dynamics trajectories.\n",
    " \n",
    "**Auxiliar libraries** used:\n",
    "\n",
    " - [nglview](http://nglviewer.org/#nglview): Jupyter/IPython widget to interactively view molecular structures and trajectories in notebooks.\n",
    " - [ipywidgets](https://github.com/jupyter-widgets/ipywidgets): Interactive HTML widgets for Jupyter notebooks and the IPython kernel.\n",
    " - [plotly](https://plot.ly/python/offline/): Python interactive graphing library integrated in Jupyter notebooks.\n",
    "\n",
    "Conda **Installation**:\n",
    "\n",
    " - **conda install -c bioconda biobb_MD_setup**   ////  *NOTE: this is not yet available*  ////\n",
    "\n",
    "***\n",
    "### Pipeline steps:\n",
    " 1. [Input Parameters](#input)\n",
    " 2. [Fetching PDB Structure](#fetch)\n",
    " 3. [Fix Protein Structure](#fix)\n",
    " 4. [Create Protein System Topology](#top)\n",
    " 5. [Create Solvent Box](#box)\n",
    " 6. [Fill the Box with Water Molecules](#water)\n",
    " 7. [Adding Ions](#ions)\n",
    " 8. [Energetically Minimize the System](#min)\n",
    " 9. [Equilibrate the System (NVT)](#nvt)\n",
    " 10. [Equilibrate the System (NPT)](#npt)\n",
    " 11. [Free Molecular Dynamics Simulation](#free)\n",
    " 12. [Post-processing and Visualizing Resulting 3D Trajectory](#post)\n",
    " 13. [Output Files](#output)\n",
    " \n",
    "***\n",
    "![Bioexcel2_logo_400px_transp.png](attachment:Bioexcel2_logo_400px_transp.png)\n",
    "***\n"
   ]
  },
  {
   "cell_type": "markdown",
   "metadata": {},
   "source": [
    "<a id=\"input\"></a>\n",
    "***\n",
    "## Input parameters\n",
    "**Input parameters** needed:\n",
    " - **pdbCode**: PDB code of the protein structure (e.g. 1AKI)"
   ]
  },
  {
   "cell_type": "code",
   "execution_count": null,
   "metadata": {},
   "outputs": [],
   "source": [
    "import nglview\n",
    "import ipywidgets\n",
    "\n",
    "pdbCode = \"1AKI\""
   ]
  },
  {
   "cell_type": "markdown",
   "metadata": {},
   "source": [
    "<a id=\"fetch\"></a>\n",
    "***\n",
    "## Fetching PDB structure\n",
    "Downloading **PDB structure** with the **protein molecule** from the RCSB PDB database.<br>\n",
    "Alternatively, a **PDB file** can be used as starting structure. <br>\n",
    "***\n",
    "**Building Blocks** used:\n",
    " - [Pdb](https://biobb-io.readthedocs.io/en/latest/api.html#module-api.pdb) from **biobb_io.api.pdb**\n",
    "***"
   ]
  },
  {
   "cell_type": "code",
   "execution_count": null,
   "metadata": {},
   "outputs": [],
   "source": [
    "# Downloading desired PDB file \n",
    "# Import module\n",
    "from biobb_io.api.pdb import Pdb\n",
    "\n",
    "# Create properties dict and inputs/outputs\n",
    "downloaded_pdb = pdbCode+'.pdb'\n",
    "prop = {\n",
    "    'pdb_code': pdbCode\n",
    "}\n",
    "\n",
    "#Create and launch bb\n",
    "Pdb(output_pdb_path=downloaded_pdb,\n",
    "    properties=prop).launch()"
   ]
  },
  {
   "cell_type": "markdown",
   "metadata": {},
   "source": [
    "<a id=\"vis3D\"></a>\n",
    "### Visualizing 3D structure\n",
    "Visualizing the downloaded/given **PDB structure** using **NGL**:    "
   ]
  },
  {
   "cell_type": "code",
   "execution_count": null,
   "metadata": {},
   "outputs": [],
   "source": [
    "# Show protein\n",
    "view = nglview.show_file(downloaded_pdb)\n",
    "view.add_representation(repr_type='ball+stick', selection='all')\n",
    "view._remote_call('setSize', target='Widget', args=['','600px'])\n",
    "view"
   ]
  },
  {
   "cell_type": "markdown",
   "metadata": {},
   "source": [
    "<a id=\"fix\"></a>\n",
    "***\n",
    "## Fix protein structure\n",
    "**Checking** and **fixing** (if needed) the protein structure:<br>\n",
    "- **Modeling** **missing side-chain atoms**, modifying incorrect **amide assignments**, choosing **alternative locations**.<br>\n",
    "- **Checking** for missing **backbone atoms**, **heteroatoms**, **modified residues** and possible **atomic clashes**.\n",
    "\n",
    "***\n",
    "**Building Blocks** used:\n",
    " - [FixSideChain](https://biobb-model.readthedocs.io/en/latest/model.html#module-model.fix_side_chain) from **biobb_model.model.fix_side_chain**\n",
    "***"
   ]
  },
  {
   "cell_type": "code",
   "execution_count": null,
   "metadata": {},
   "outputs": [],
   "source": [
    "# Check & Fix PDB\n",
    "# Import module\n",
    "from biobb_model.model.fix_side_chain import FixSideChain\n",
    "\n",
    "# Create prop dict and inputs/outputs\n",
    "fixed_pdb = pdbCode + '_fixed.pdb'\n",
    "\n",
    "# Create and launch bb\n",
    "FixSideChain(input_pdb_path=downloaded_pdb, \n",
    "             output_pdb_path=fixed_pdb).launch()"
   ]
  },
  {
   "cell_type": "markdown",
   "metadata": {},
   "source": [
    "### Visualizing 3D structure\n",
    "Visualizing the fixed **PDB structure** using **NGL**. In this particular example, the checking step didn't find any issue to be solved, so there is no difference between the original structure and the fixed one.   "
   ]
  },
  {
   "cell_type": "code",
   "execution_count": null,
   "metadata": {},
   "outputs": [],
   "source": [
    "# Show protein\n",
    "view = nglview.show_file(fixed_pdb)\n",
    "view.add_representation(repr_type='ball+stick', selection='all')\n",
    "view._remote_call('setSize', target='Widget', args=['','600px'])\n",
    "view.camera='orthographic'\n",
    "view"
   ]
  },
  {
   "cell_type": "markdown",
   "metadata": {},
   "source": [
    "<a id=\"top\"></a>\n",
    "***\n",
    "## Create protein system topology\n",
    "**Building GROMACS topology** corresponding to the protein structure.<br>\n",
    "Force field used in this tutorial is [**amber99sb-ildn**](https://dx.doi.org/10.1002%2Fprot.22711): AMBER **parm99** force field with **corrections on backbone** (sb) and **side-chain torsion potentials** (ildn). Water molecules type used in this tutorial is [**spc/e**](https://pubs.acs.org/doi/abs/10.1021/j100308a038).<br>\n",
    "Adding **hydrogen atoms** if missing. Automatically identifying **disulfide bridges**. <br>\n",
    "\n",
    "Generating two output files: \n",
    "- **GROMACS structure** (gro file)\n",
    "- **GROMACS topology** ZIP compressed file containing:\n",
    "    - *GROMACS topology top file* (top file)\n",
    "    - *GROMACS position restraint file/s* (itp file/s)\n",
    "***\n",
    "**Building Blocks** used:\n",
    " - [Pdb2gmx](https://biobb-md.readthedocs.io/en/latest/gromacs.html#module-gromacs.pdb2gmx) from **biobb_md.gromacs.pdb2gmx**\n",
    "***"
   ]
  },
  {
   "cell_type": "code",
   "execution_count": null,
   "metadata": {},
   "outputs": [],
   "source": [
    "# Create system topology\n",
    "# Import module\n",
    "from biobb_md.gromacs.pdb2gmx import Pdb2gmx\n",
    "\n",
    "# Create inputs/outputs\n",
    "output_pdb2gmx_gro = pdbCode+'_pdb2gmx.gro'\n",
    "output_pdb2gmx_top_zip = pdbCode+'_pdb2gmx_top.zip'\n",
    "\n",
    "# Create and launch bb\n",
    "Pdb2gmx(input_pdb_path=fixed_pdb, \n",
    "        output_gro_path=output_pdb2gmx_gro, \n",
    "        output_top_zip_path=output_pdb2gmx_top_zip).launch()"
   ]
  },
  {
   "cell_type": "markdown",
   "metadata": {},
   "source": [
    "### Visualizing 3D structure\n",
    "Visualizing the generated **GRO structure** using **NGL**. Note that **hydrogen atoms** were added to the structure by the **pdb2gmx GROMACS tool** when generating the **topology**.    "
   ]
  },
  {
   "cell_type": "code",
   "execution_count": null,
   "metadata": {},
   "outputs": [],
   "source": [
    "# Show protein\n",
    "view = nglview.show_file(output_pdb2gmx_gro)\n",
    "view.add_representation(repr_type='ball+stick', selection='all')\n",
    "view._remote_call('setSize', target='Widget', args=['','600px'])\n",
    "view.camera='orthographic'\n",
    "view"
   ]
  },
  {
   "cell_type": "markdown",
   "metadata": {},
   "source": [
    "<a id=\"box\"></a>\n",
    "***\n",
    "## Create solvent box\n",
    "Define the unit cell for the **protein structure MD system** to fill it with water molecules.<br>\n",
    "A **cubic box** is used to define the unit cell, with a **distance from the protein to the box edge of 1.0 nm**. The protein is **centered in the box**.  \n",
    "\n",
    "***\n",
    "**Building Blocks** used:\n",
    " - [Editconf](https://biobb-md.readthedocs.io/en/latest/gromacs.html#module-gromacs.editconf) from **biobb_md.gromacs.editconf** \n",
    "***"
   ]
  },
  {
   "cell_type": "code",
   "execution_count": null,
   "metadata": {},
   "outputs": [],
   "source": [
    "# Editconf: Create solvent box\n",
    "# Import module\n",
    "from biobb_md.gromacs.editconf import Editconf\n",
    "\n",
    "# Create prop dict and inputs/outputs\n",
    "output_editconf_gro = pdbCode+'_editconf.gro'\n",
    "\n",
    "prop = {\n",
    "    'box_type': 'cubic',\n",
    "    'distance_to_molecule': 1.0\n",
    "}\n",
    "\n",
    "#Create and launch bb\n",
    "Editconf(input_gro_path=output_pdb2gmx_gro, \n",
    "         output_gro_path=output_editconf_gro,\n",
    "         properties=prop).launch()"
   ]
  },
  {
   "cell_type": "markdown",
   "metadata": {},
   "source": [
    "<a id=\"water\"></a>\n",
    "***\n",
    "## Fill the box with water molecules\n",
    "Fill the unit cell for the **protein structure system** with water molecules.<br>\n",
    "The solvent type used is the default **Simple Point Charge water (SPC)**, a generic equilibrated 3-point solvent model. \n",
    "\n",
    "***\n",
    "**Building Blocks** used:\n",
    " - [Solvate](https://biobb-md.readthedocs.io/en/latest/gromacs.html#module-gromacs.solvate) from **biobb_md.gromacs.solvate** \n",
    "***"
   ]
  },
  {
   "cell_type": "code",
   "execution_count": null,
   "metadata": {},
   "outputs": [],
   "source": [
    "# Solvate: Fill the box with water molecules\n",
    "from biobb_md.gromacs.solvate import Solvate\n",
    "\n",
    "# Create prop dict and inputs/outputs\n",
    "output_solvate_gro = pdbCode+'_solvate.gro'\n",
    "output_solvate_top_zip = pdbCode+'_solvate_top.zip'\n",
    "\n",
    "# Create and launch bb\n",
    "Solvate(input_solute_gro_path=output_editconf_gro, \n",
    "        output_gro_path=output_solvate_gro, \n",
    "        input_top_zip_path=output_pdb2gmx_top_zip, \n",
    "        output_top_zip_path=output_solvate_top_zip).launch()"
   ]
  },
  {
   "cell_type": "markdown",
   "metadata": {},
   "source": [
    "### Visualizing 3D structure\n",
    "Visualizing the **protein system** with the newly added **solvent box** using **NGL**.<br> Note the **cubic box** filled with **water molecules** surrounding the **protein structure**, which is **centered** right in the middle of the cube."
   ]
  },
  {
   "cell_type": "code",
   "execution_count": null,
   "metadata": {},
   "outputs": [],
   "source": [
    "# Show protein\n",
    "view = nglview.show_file(output_solvate_gro)\n",
    "view.clear_representations()\n",
    "view.add_representation(repr_type='cartoon', selection='solute', color='green')\n",
    "view.add_representation(repr_type='ball+stick', selection='SOL')\n",
    "view._remote_call('setSize', target='Widget', args=['','600px'])\n",
    "view.camera='orthographic'\n",
    "view"
   ]
  },
  {
   "cell_type": "markdown",
   "metadata": {},
   "source": [
    "<a id=\"ions\"></a>\n",
    "***\n",
    "## Adding ions\n",
    "Add ions to neutralize the **protein structure** charge\n",
    "- [Step 1](#ionsStep1): Creating portable binary run file for ion generation\n",
    "- [Step 2](#ionsStep2): Adding ions to **neutralize** the system\n",
    "***\n",
    "**Building Blocks** used:\n",
    " - [Grompp](https://biobb-md.readthedocs.io/en/latest/gromacs.html#module-gromacs.grompp) from **biobb_md.gromacs.grompp** \n",
    " - [Genion](https://biobb-md.readthedocs.io/en/latest/gromacs.html#module-gromacs.genion) from **biobb_md.gromacs.genion** \n",
    "***"
   ]
  },
  {
   "cell_type": "markdown",
   "metadata": {},
   "source": [
    "<a id=\"ionsStep1\"></a>\n",
    "### Step 1: Creating portable binary run file for ion generation\n",
    "A simple **energy minimization** molecular dynamics parameters (mdp) properties will be used to generate the portable binary run file for **ion generation**, although **any legitimate combination of parameters** could be used in this step."
   ]
  },
  {
   "cell_type": "code",
   "execution_count": null,
   "metadata": {},
   "outputs": [],
   "source": [
    "# Grompp: Creating portable binary run file for ion generation\n",
    "from biobb_md.gromacs.grompp import Grompp\n",
    "\n",
    "# Create prop dict and inputs/outputs\n",
    "output_gppion_tpr = pdbCode+'_gppion.tpr'\n",
    "prop = {\n",
    "    'mdp':{\n",
    "        'type': 'minimization'\n",
    "    }\n",
    "}\n",
    "\n",
    "# Create and launch bb\n",
    "Grompp(input_gro_path=output_solvate_gro, \n",
    "       input_top_zip_path=output_solvate_top_zip, \n",
    "       output_tpr_path=output_gppion_tpr,  \n",
    "       properties=prop).launch()"
   ]
  },
  {
   "cell_type": "markdown",
   "metadata": {},
   "source": [
    "<a id=\"ionsStep2\"></a>\n",
    "### Step 2: Adding ions to neutralize the system\n",
    "Replace **solvent molecules** with **ions** to **neutralize** the system."
   ]
  },
  {
   "cell_type": "code",
   "execution_count": null,
   "metadata": {},
   "outputs": [],
   "source": [
    "# Genion: Adding ions to neutralize the system\n",
    "from biobb_md.gromacs.genion import Genion\n",
    "\n",
    "# Create prop dict and inputs/outputs\n",
    "output_genion_gro = pdbCode+'_genion.gro'\n",
    "output_genion_top_zip = pdbCode+'_genion_top.zip'\n",
    "prop={\n",
    "    'neutral':True\n",
    "}\n",
    "\n",
    "# Create and launch bb\n",
    "Genion(input_tpr_path=output_gppion_tpr, \n",
    "       output_gro_path=output_genion_gro, \n",
    "       input_top_zip_path=output_solvate_top_zip, \n",
    "       output_top_zip_path=output_genion_top_zip, \n",
    "       properties=prop).launch()"
   ]
  },
  {
   "cell_type": "markdown",
   "metadata": {},
   "source": [
    "### Visualizing 3D structure\n",
    "Visualizing the **neutralized protein system** with the newly added **ions** using **NGL**"
   ]
  },
  {
   "cell_type": "code",
   "execution_count": null,
   "metadata": {},
   "outputs": [],
   "source": [
    "# Show protein\n",
    "view = nglview.show_file(output_genion_gro)\n",
    "view.clear_representations()\n",
    "view.add_representation(repr_type='cartoon', selection='solute', color='sstruc')\n",
    "view.add_representation(repr_type='ball+stick', selection='NA')\n",
    "view.add_representation(repr_type='ball+stick', selection='CL')\n",
    "view._remote_call('setSize', target='Widget', args=['','600px'])\n",
    "view.camera='orthographic'\n",
    "view"
   ]
  },
  {
   "cell_type": "markdown",
   "metadata": {},
   "source": [
    "<a id=\"min\"></a>\n",
    "***\n",
    "## Energetically minimize the system\n",
    "Energetically minimize the **protein system** till reaching a desired potential energy.\n",
    "- [Step 1](#emStep1): Creating portable binary run file for energy minimization\n",
    "- [Step 2](#emStep2): Energetically minimize the **system** till reaching a force of 500 kJ mol-1 nm-1.\n",
    "- [Step 3](#emStep3): Checking **energy minimization** results. Plotting energy by time during the **minimization** process.\n",
    "***\n",
    "**Building Blocks** used:\n",
    " - [Grompp](https://biobb-md.readthedocs.io/en/latest/gromacs.html#module-gromacs.grompp) from **biobb_md.gromacs.grompp** \n",
    " - [Mdrun](https://biobb-md.readthedocs.io/en/latest/gromacs.html#module-gromacs.mdrun) from **biobb_md.gromacs.mdrun** \n",
    " - [GMXEnergy](https://biobb-analysis.readthedocs.io/en/latest/gromacs.html#module-gromacs.gmx_energy) from **biobb_analysis.gromacs.gmx_energy** \n",
    "***"
   ]
  },
  {
   "cell_type": "markdown",
   "metadata": {},
   "source": [
    "<a id=\"emStep1\"></a>\n",
    "### Step 1: Creating portable binary run file for energy minimization\n",
    "The **minimization** type of the **molecular dynamics parameters (mdp) property** contains the main default parameters to run an **energy minimization**:\n",
    "\n",
    "-  integrator  = steep ; Algorithm (steep = steepest descent minimization)\n",
    "-  emtol       = 1000.0 ; Stop minimization when the maximum force < 1000.0 kJ/mol/nm\n",
    "-  emstep      = 0.01 ; Minimization step size (nm)\n",
    "-  nsteps      = 50000 ; Maximum number of (minimization) steps to perform\n",
    "\n",
    "In this particular example, the method used to run the **energy minimization** is the default **steepest descent**, but the **maximum force** is placed at **500 KJ/mol\\*nm^2**, and the **maximum number of steps** to perform (if the maximum force is not reached) to **5,000 steps**. "
   ]
  },
  {
   "cell_type": "code",
   "execution_count": null,
   "metadata": {},
   "outputs": [],
   "source": [
    "# Grompp: Creating portable binary run file for mdrun\n",
    "from biobb_md.gromacs.grompp import Grompp\n",
    "\n",
    "# Create prop dict and inputs/outputs\n",
    "output_gppmin_tpr = pdbCode+'_gppmin.tpr'\n",
    "prop = {\n",
    "    'mdp':{\n",
    "        'type': 'minimization',\n",
    "        'emtol':'500',\n",
    "        'nsteps':'5000'\n",
    "    }\n",
    "}\n",
    "\n",
    "# Create and launch bb\n",
    "Grompp(input_gro_path=output_genion_gro, \n",
    "       input_top_zip_path=output_genion_top_zip, \n",
    "       output_tpr_path=output_gppmin_tpr,  \n",
    "       properties=prop).launch()"
   ]
  },
  {
   "cell_type": "markdown",
   "metadata": {},
   "source": [
    "<a id=\"emStep2\"></a>\n",
    "### Step 2: Running Energy Minimization\n",
    "Running **energy minimization** using the **tpr file** generated in the previous step. "
   ]
  },
  {
   "cell_type": "code",
   "execution_count": null,
   "metadata": {},
   "outputs": [],
   "source": [
    "# Mdrun: Running minimization\n",
    "from biobb_md.gromacs.mdrun import Mdrun\n",
    "\n",
    "# Create prop dict and inputs/outputs\n",
    "output_min_trr = pdbCode+'_min.trr'\n",
    "output_min_gro = pdbCode+'_min.gro'\n",
    "output_min_edr = pdbCode+'_min.edr'\n",
    "output_min_log = pdbCode+'_min.log'\n",
    "\n",
    "# Create and launch bb\n",
    "Mdrun(input_tpr_path=output_gppmin_tpr, \n",
    "      output_trr_path=output_min_trr, \n",
    "      output_gro_path=output_min_gro, \n",
    "      output_edr_path=output_min_edr, \n",
    "      output_log_path=output_min_log).launch()"
   ]
  },
  {
   "cell_type": "markdown",
   "metadata": {},
   "source": [
    "<a id=\"emStep3\"></a>\n",
    "### Step 3: Checking Energy Minimization results\n",
    "Checking **energy minimization** results. Plotting **potential energy** by time during the minimization process. "
   ]
  },
  {
   "cell_type": "code",
   "execution_count": null,
   "metadata": {},
   "outputs": [],
   "source": [
    "# GMXEnergy: Getting system energy by time  \n",
    "from biobb_analysis.gromacs.gmx_energy import GMXEnergy\n",
    "\n",
    "# Create prop dict and inputs/outputs\n",
    "output_min_ene_xvg = pdbCode+'_min_ene.xvg'\n",
    "prop = {\n",
    "    'terms':  [\"Potential\"]\n",
    "}\n",
    "\n",
    "# Create and launch bb\n",
    "GMXEnergy(input_energy_path=output_min_edr, \n",
    "          output_xvg_path=output_min_ene_xvg, \n",
    "          properties=prop).launch()"
   ]
  },
  {
   "cell_type": "code",
   "execution_count": null,
   "metadata": {},
   "outputs": [],
   "source": [
    "import plotly\n",
    "import plotly.graph_objs as go\n",
    "\n",
    "#Read data from file and filter energy values higher than 1000 Kj/mol^-1\n",
    "with open(output_min_ene_xvg,'r') as energy_file:\n",
    "    x,y = map(\n",
    "        list,\n",
    "        zip(*[\n",
    "            (float(line.split()[0]),float(line.split()[1]))\n",
    "            for line in energy_file \n",
    "            if not line.startswith((\"#\",\"@\")) \n",
    "            if float(line.split()[1]) < 1000 \n",
    "        ])\n",
    "    )\n",
    "\n",
    "plotly.offline.init_notebook_mode(connected=True)\n",
    "\n",
    "plotly.offline.iplot({\n",
    "    \"data\": [go.Scatter(x=x, y=y)],\n",
    "    \"layout\": go.Layout(title=\"Energy Minimization\",\n",
    "                        xaxis=dict(title = \"Energy Minimization Step\"),\n",
    "                        yaxis=dict(title = \"Potential Energy KJ/mol-1\")\n",
    "                       )\n",
    "})"
   ]
  },
  {
   "cell_type": "markdown",
   "metadata": {},
   "source": [
    "<a id=\"nvt\"></a>\n",
    "***\n",
    "## Equilibrate the system (NVT)\n",
    "Equilibrate the **protein system** in **NVT ensemble** (constant Number of particles, Volume and Temperature). Protein **heavy atoms** will be restrained using position restraining forces: movement is permitted, but only after overcoming a substantial energy penalty. The utility of position restraints is that they allow us to equilibrate our solvent around our protein, without the added variable of structural changes in the protein.\n",
    "\n",
    "- [Step 1](#eqNVTStep1): Creating portable binary run file for system equilibration\n",
    "- [Step 2](#eqNVTStep2): Equilibrate the **protein system** with **NVT** ensemble.\n",
    "- [Step 3](#eqNVTStep3): Checking **NVT Equilibration** results. Plotting **system temperature** by time during the **NVT equilibration** process. \n",
    "***\n",
    "**Building Blocks** used:\n",
    "- [Grompp](https://biobb-md.readthedocs.io/en/latest/gromacs.html#module-gromacs.grompp) from **biobb_md.gromacs.grompp** \n",
    "- [Mdrun](https://biobb-md.readthedocs.io/en/latest/gromacs.html#module-gromacs.mdrun) from **biobb_md.gromacs.mdrun** \n",
    "- [GMXEnergy](https://biobb-analysis.readthedocs.io/en/latest/gromacs.html#module-gromacs.gmx_energy) from **biobb_analysis.gromacs.gmx_energy** \n",
    "***"
   ]
  },
  {
   "cell_type": "markdown",
   "metadata": {},
   "source": [
    "<a id=\"eqNVTStep1\"></a>\n",
    "### Step 1: Creating portable binary run file for system equilibration (NVT)\n",
    "The **nvt** type of the **molecular dynamics parameters (mdp) property** contains the main default parameters to run an **NVT equilibration** with **protein restraints** (see [GROMACS mdp options](http://manual.gromacs.org/documentation/2018/user-guide/mdp-options.html)):\n",
    "\n",
    "-  Define                   = -DPOSRES\n",
    "-  integrator               = md\n",
    "-  dt                       = 0.002\n",
    "-  nsteps                   = 5000\n",
    "-  pcoupl                   = no\n",
    "-  gen_vel                  = yes\n",
    "-  gen_temp                 = 300\n",
    "-  gen_seed                 = -1\n",
    "\n",
    "In this particular example, the default parameters will be used: **md** integrator algorithm, a **step size** of **2fs**, **5,000 equilibration steps** with the protein **heavy atoms restrained**, and a temperature of **300K**.\n",
    "\n",
    "*Please note that for the sake of time this tutorial is only running 10ps of NVT equilibration, whereas in the [original example](http://www.mdtutorials.com/gmx/lysozyme/06_equil.html) the simulated time was 100ps.*"
   ]
  },
  {
   "cell_type": "code",
   "execution_count": null,
   "metadata": {},
   "outputs": [],
   "source": [
    "# Grompp: Creating portable binary run file for NVT Equilibration\n",
    "from biobb_md.gromacs.grompp import Grompp\n",
    "\n",
    "# Create prop dict and inputs/outputs\n",
    "output_gppnvt_tpr = pdbCode+'_gppnvt.tpr'\n",
    "prop = {\n",
    "    'mdp':{\n",
    "        'type': 'nvt',\n",
    "        'nsteps': 5000,\n",
    "        'dt': 0.002,\n",
    "        'define': '-DPOSRES',\n",
    "        #'tc_grps': \"DNA Water_and_ions\" # NOTE: uncomment this line if working with DNA\n",
    "    }\n",
    "}\n",
    "\n",
    "# Create and launch bb\n",
    "Grompp(input_gro_path=output_min_gro, \n",
    "       input_top_zip_path=output_genion_top_zip, \n",
    "       output_tpr_path=output_gppnvt_tpr,  \n",
    "       properties=prop).launch()"
   ]
  },
  {
   "cell_type": "markdown",
   "metadata": {},
   "source": [
    "<a id=\"eqNVTStep2\"></a>\n",
    "### Step 2: Running NVT equilibration"
   ]
  },
  {
   "cell_type": "code",
   "execution_count": null,
   "metadata": {},
   "outputs": [],
   "source": [
    "# Mdrun: Running Equilibration NVT\n",
    "from biobb_md.gromacs.mdrun import Mdrun\n",
    "\n",
    "# Create prop dict and inputs/outputs\n",
    "output_nvt_trr = pdbCode+'_nvt.trr'\n",
    "output_nvt_gro = pdbCode+'_nvt.gro'\n",
    "output_nvt_edr = pdbCode+'_nvt.edr'\n",
    "output_nvt_log = pdbCode+'_nvt.log'\n",
    "output_nvt_cpt = pdbCode+'_nvt.cpt'\n",
    "\n",
    "# Create and launch bb\n",
    "Mdrun(input_tpr_path=output_gppnvt_tpr, \n",
    "      output_trr_path=output_nvt_trr, \n",
    "      output_gro_path=output_nvt_gro, \n",
    "      output_edr_path=output_nvt_edr, \n",
    "      output_log_path=output_nvt_log, \n",
    "      output_cpt_path=output_nvt_cpt).launch()"
   ]
  },
  {
   "cell_type": "markdown",
   "metadata": {},
   "source": [
    "<a id=\"eqNVTStep3\"></a>\n",
    "### Step 3: Checking NVT Equilibration results\n",
    "Checking **NVT Equilibration** results. Plotting **system temperature** by time during the NVT equilibration process. "
   ]
  },
  {
   "cell_type": "code",
   "execution_count": null,
   "metadata": {},
   "outputs": [],
   "source": [
    "# GMXEnergy: Getting system temperature by time during NVT Equilibration  \n",
    "from biobb_analysis.gromacs.gmx_energy import GMXEnergy\n",
    "\n",
    "# Create prop dict and inputs/outputs\n",
    "output_nvt_temp_xvg = pdbCode+'_nvt_temp.xvg'\n",
    "prop = {\n",
    "    'terms':  [\"Temperature\"]\n",
    "}\n",
    "\n",
    "# Create and launch bb\n",
    "GMXEnergy(input_energy_path=output_nvt_edr, \n",
    "          output_xvg_path=output_nvt_temp_xvg, \n",
    "          properties=prop).launch()"
   ]
  },
  {
   "cell_type": "code",
   "execution_count": null,
   "metadata": {},
   "outputs": [],
   "source": [
    "import plotly\n",
    "import plotly.graph_objs as go\n",
    "\n",
    "# Read temperature data from file \n",
    "with open(output_nvt_temp_xvg,'r') as temperature_file:\n",
    "    x,y = map(\n",
    "        list,\n",
    "        zip(*[\n",
    "            (float(line.split()[0]),float(line.split()[1]))\n",
    "            for line in temperature_file \n",
    "            if not line.startswith((\"#\",\"@\")) \n",
    "        ])\n",
    "    )\n",
    "\n",
    "plotly.offline.init_notebook_mode(connected=True)\n",
    "\n",
    "plotly.offline.iplot({\n",
    "    \"data\": [go.Scatter(x=x, y=y)],\n",
    "    \"layout\": go.Layout(title=\"Temperature during NVT Equilibration\",\n",
    "                        xaxis=dict(title = \"Time (ps)\"),\n",
    "                        yaxis=dict(title = \"Temperature (K)\")\n",
    "                       )\n",
    "})"
   ]
  },
  {
   "cell_type": "markdown",
   "metadata": {},
   "source": [
    "<a id=\"npt\"></a>\n",
    "***\n",
    "## Equilibrate the system (NPT)\n",
    "Equilibrate the **protein system** in **NPT** ensemble (constant Number of particles, Pressure and Temperature).\n",
    "- [Step 1](#eqNPTStep1): Creating portable binary run file for system equilibration\n",
    "- [Step 2](#eqNPTStep2): Equilibrate the **protein system** with **NPT** ensemble.\n",
    "- [Step 3](#eqNPTStep3): Checking **NPT Equilibration** results. Plotting **system pressure and density** by time during the **NPT equilibration** process.\n",
    "***\n",
    "**Building Blocks** used:\n",
    " - [Grompp](https://biobb-md.readthedocs.io/en/latest/gromacs.html#module-gromacs.grompp) from **biobb_md.gromacs.grompp** \n",
    " - [Mdrun](https://biobb-md.readthedocs.io/en/latest/gromacs.html#module-gromacs.mdrun) from **biobb_md.gromacs.mdrun** \n",
    " - [GMXEnergy](https://biobb-analysis.readthedocs.io/en/latest/gromacs.html#module-gromacs.gmx_energy) from **biobb_analysis.gromacs.gmx_energy** \n",
    "***"
   ]
  },
  {
   "cell_type": "markdown",
   "metadata": {},
   "source": [
    "<a id=\"eqNPTStep1\"></a>\n",
    "### Step 1: Creating portable binary run file for system equilibration (NPT)\n",
    "\n",
    "The **npt** type of the **molecular dynamics parameters (mdp) property** contains the main default parameters to run an **NPT equilibration** with **protein restraints** (see [GROMACS mdp options](http://manual.gromacs.org/documentation/2018/user-guide/mdp-options.html)):\n",
    "\n",
    "-  Define                   = -DPOSRES\n",
    "-  integrator               = md\n",
    "-  dt                       = 0.002\n",
    "-  nsteps                   = 5000\n",
    "-  pcoupl = Parrinello-Rahman\n",
    "-  pcoupltype = isotropic\n",
    "-  tau_p = 1.0\n",
    "-  ref_p = 1.0\n",
    "-  compressibility = 4.5e-5\n",
    "-  refcoord_scaling = com\n",
    "-  gen_vel = no\n",
    "\n",
    "In this particular example, the default parameters will be used: **md** integrator algorithm, a **time step** of **2fs**, **5,000 equilibration steps** with the protein **heavy atoms restrained**, and a Parrinello-Rahman **pressure coupling** algorithm.\n",
    "\n",
    "*Please note that for the sake of time this tutorial is only running 10ps of NPT equilibration, whereas in the [original example](http://www.mdtutorials.com/gmx/lysozyme/07_equil2.html) the simulated time was 100ps.*"
   ]
  },
  {
   "cell_type": "code",
   "execution_count": null,
   "metadata": {},
   "outputs": [],
   "source": [
    "# Grompp: Creating portable binary run file for NPT System Equilibration\n",
    "from biobb_md.gromacs.grompp import Grompp\n",
    "\n",
    "# Create prop dict and inputs/outputs\n",
    "output_gppnpt_tpr = pdbCode+'_gppnpt.tpr'\n",
    "prop = {\n",
    "    'mdp':{\n",
    "        'type': 'npt',\n",
    "        'nsteps':'5000',\n",
    "        #'tc_grps': \"DNA Water_and_ions\" # NOTE: uncomment this line if working with DNA\n",
    "    }\n",
    "}\n",
    "\n",
    "# Create and launch bb\n",
    "Grompp(input_gro_path=output_nvt_gro, \n",
    "       input_top_zip_path=output_genion_top_zip, \n",
    "       output_tpr_path=output_gppnpt_tpr, \n",
    "       input_cpt_path=output_nvt_cpt,  \n",
    "       properties=prop).launch()"
   ]
  },
  {
   "cell_type": "markdown",
   "metadata": {},
   "source": [
    "<a id=\"eqNPTStep2\"></a>\n",
    "### Step 2: Running NPT equilibration"
   ]
  },
  {
   "cell_type": "code",
   "execution_count": null,
   "metadata": {},
   "outputs": [],
   "source": [
    "# Mdrun: Running NPT System Equilibration\n",
    "from biobb_md.gromacs.mdrun import Mdrun\n",
    "\n",
    "# Create prop dict and inputs/outputs\n",
    "output_npt_trr = pdbCode+'_npt.trr'\n",
    "output_npt_gro = pdbCode+'_npt.gro'\n",
    "output_npt_edr = pdbCode+'_npt.edr'\n",
    "output_npt_log = pdbCode+'_npt.log'\n",
    "output_npt_cpt = pdbCode+'_npt.cpt'\n",
    "\n",
    "# Create and launch bb\n",
    "Mdrun(input_tpr_path=output_gppnpt_tpr, \n",
    "      output_trr_path=output_npt_trr, \n",
    "      output_gro_path=output_npt_gro, \n",
    "      output_edr_path=output_npt_edr, \n",
    "      output_log_path=output_npt_log, \n",
    "      output_cpt_path=output_npt_cpt).launch()"
   ]
  },
  {
   "cell_type": "markdown",
   "metadata": {},
   "source": [
    "<a id=\"eqNPTStep3\"></a>\n",
    "### Step 3: Checking NPT Equilibration results\n",
    "Checking **NPT Equilibration** results. Plotting **system pressure and density** by time during the **NPT equilibration** process. "
   ]
  },
  {
   "cell_type": "code",
   "execution_count": null,
   "metadata": {},
   "outputs": [],
   "source": [
    "# GMXEnergy: Getting system pressure and density by time during NPT Equilibration  \n",
    "from biobb_analysis.gromacs.gmx_energy import GMXEnergy\n",
    "\n",
    "# Create prop dict and inputs/outputs\n",
    "output_npt_pd_xvg = pdbCode+'_npt_PD.xvg'\n",
    "prop = {\n",
    "    'terms':  [\"Pressure\",\"Density\"]\n",
    "}\n",
    "\n",
    "# Create and launch bb\n",
    "GMXEnergy(input_energy_path=output_npt_edr, \n",
    "          output_xvg_path=output_npt_pd_xvg, \n",
    "          properties=prop).launch()"
   ]
  },
  {
   "cell_type": "code",
   "execution_count": null,
   "metadata": {},
   "outputs": [],
   "source": [
    "import plotly\n",
    "from plotly import tools\n",
    "import plotly.graph_objs as go\n",
    "\n",
    "# Read pressure and density data from file \n",
    "with open(output_npt_pd_xvg,'r') as pd_file:\n",
    "    x,y,z = map(\n",
    "        list,\n",
    "        zip(*[\n",
    "            (float(line.split()[0]),float(line.split()[1]),float(line.split()[2]))\n",
    "            for line in pd_file \n",
    "            if not line.startswith((\"#\",\"@\")) \n",
    "        ])\n",
    "    )\n",
    "\n",
    "plotly.offline.init_notebook_mode(connected=True)\n",
    "\n",
    "trace1 = go.Scatter(\n",
    "    x=x,y=y\n",
    ")\n",
    "trace2 = go.Scatter(\n",
    "    x=x,y=z\n",
    ")\n",
    "\n",
    "fig = tools.make_subplots(rows=1, cols=2, print_grid=False)\n",
    "\n",
    "fig.append_trace(trace1, 1, 1)\n",
    "fig.append_trace(trace2, 1, 2)\n",
    "\n",
    "fig['layout']['xaxis1'].update(title='Time (ps)')\n",
    "fig['layout']['xaxis2'].update(title='Time (ps)')\n",
    "fig['layout']['yaxis1'].update(title='Pressure (bar)')\n",
    "fig['layout']['yaxis2'].update(title='Density (Kg*m^-3)')\n",
    "\n",
    "fig['layout'].update(title='Pressure and Density during NPT Equilibration')\n",
    "fig['layout'].update(showlegend=False)\n",
    "\n",
    "plotly.offline.iplot(fig)"
   ]
  },
  {
   "cell_type": "markdown",
   "metadata": {},
   "source": [
    "<a id=\"free\"></a>\n",
    "***\n",
    "## Free Molecular Dynamics Simulation\n",
    "Upon completion of the **two equilibration phases (NVT and NPT)**, the system is now well-equilibrated at the desired temperature and pressure. The **position restraints** can now be released. The last step of the **protein** MD setup is a short, **free MD simulation**, to ensure the robustness of the system. \n",
    "- [Step 1](#mdStep1): Creating portable binary run file to run a **free MD simulation**.\n",
    "- [Step 2](#mdStep2): Run short MD simulation of the **protein system**.\n",
    "- [Step 3](#mdStep3): Checking results for the final step of the setup process, the **free MD run**. Plotting **Root Mean Square deviation (RMSd)** and **Radius of Gyration (Rgyr)** by time during the **free MD run** step. \n",
    "***\n",
    "**Building Blocks** used:\n",
    " - [Grompp](https://biobb-md.readthedocs.io/en/latest/gromacs.html#module-gromacs.grompp) from **biobb_md.gromacs.grompp** \n",
    " - [Mdrun](https://biobb-md.readthedocs.io/en/latest/gromacs.html#module-gromacs.mdrun) from **biobb_md.gromacs.mdrun** \n",
    " - [GMXRms](https://biobb-analysis.readthedocs.io/en/latest/gromacs.html#module-gromacs.gmx_rms) from **biobb_analysis.gromacs.gmx_rms** \n",
    " - [GMXRgyr](https://biobb-analysis.readthedocs.io/en/latest/gromacs.html#module-gromacs.gmx_rgyr) from **biobb_analysis.gromacs.gmx_rgyr** \n",
    "***"
   ]
  },
  {
   "cell_type": "markdown",
   "metadata": {},
   "source": [
    "<a id=\"mdStep1\"></a>\n",
    "### Step 1: Creating portable binary run file to run a free MD simulation\n",
    "\n",
    "The **free** type of the **molecular dynamics parameters (mdp) property** contains the main default parameters to run an **free MD simulation** (see [GROMACS mdp options](http://manual.gromacs.org/documentation/2018/user-guide/mdp-options.html)):\n",
    "\n",
    "-  integrator               = md\n",
    "-  dt                       = 0.002 (ps)\n",
    "-  nsteps                   = 50000\n",
    "\n",
    "In this particular example, the default parameters will be used: **md** integrator algorithm, a **time step** of **2fs**, and a total of **50,000 md steps** (100ps).\n",
    "\n",
    "*Please note that for the sake of time this tutorial is only running 100ps of free MD, whereas in the [original example](http://www.mdtutorials.com/gmx/lysozyme/08_MD.html) the simulated time was 1ns (1000ps).*"
   ]
  },
  {
   "cell_type": "code",
   "execution_count": null,
   "metadata": {},
   "outputs": [],
   "source": [
    "# Grompp: Creating portable binary run file for mdrun\n",
    "from biobb_md.gromacs.grompp import Grompp\n",
    "\n",
    "# Create prop dict and inputs/outputs\n",
    "output_gppmd_tpr = pdbCode+'_gppmd.tpr'\n",
    "prop = {\n",
    "    'mdp':{\n",
    "        'type': 'free',\n",
    "        'nsteps':'50000',\n",
    "        #'tc_grps': \"DNA Water_and_ions\" # NOTE: uncomment this line if working with DNA\n",
    "    }\n",
    "}\n",
    "\n",
    "# Create and launch bb\n",
    "Grompp(input_gro_path=output_npt_gro, \n",
    "       input_top_zip_path=output_genion_top_zip, \n",
    "       output_tpr_path=output_gppmd_tpr, \n",
    "       input_cpt_path=output_npt_cpt, \n",
    "       properties=prop).launch()"
   ]
  },
  {
   "cell_type": "markdown",
   "metadata": {},
   "source": [
    "<a id=\"mdStep2\"></a>\n",
    "### Step 2: Running short free MD simulation"
   ]
  },
  {
   "cell_type": "code",
   "execution_count": null,
   "metadata": {},
   "outputs": [],
   "source": [
    "# Mdrun: Running free dynamics\n",
    "from biobb_md.gromacs.mdrun import Mdrun\n",
    "\n",
    "# Create prop dict and inputs/outputs\n",
    "output_md_trr = pdbCode+'_md.trr'\n",
    "output_md_gro = pdbCode+'_md.gro'\n",
    "output_md_edr = pdbCode+'_md.edr'\n",
    "output_md_log = pdbCode+'_md.log'\n",
    "output_md_cpt = pdbCode+'_md.cpt'\n",
    "\n",
    "# Create and launch bb\n",
    "Mdrun(input_tpr_path=output_gppmd_tpr, \n",
    "      output_trr_path=output_md_trr, \n",
    "      output_gro_path=output_md_gro, \n",
    "      output_edr_path=output_md_edr, \n",
    "      output_log_path=output_md_log, \n",
    "      output_cpt_path=output_md_cpt).launch()"
   ]
  },
  {
   "cell_type": "markdown",
   "metadata": {},
   "source": [
    "<a id=\"mdStep3\"></a>\n",
    "### Step 3: Checking free MD simulation results\n",
    "Checking results for the final step of the setup process, the **free MD run**. Plotting **Root Mean Square deviation (RMSd)** and **Radius of Gyration (Rgyr)** by time during the **free MD run** step. **RMSd** against the **experimental structure** (input structure of the pipeline) and against the **minimized and equilibrated structure** (output structure of the NPT equilibration step)."
   ]
  },
  {
   "cell_type": "code",
   "execution_count": null,
   "metadata": {},
   "outputs": [],
   "source": [
    "# GMXRms: Computing Root Mean Square deviation to analyse structural stability \n",
    "#         RMSd against minimized and equilibrated snapshot (backbone atoms)   \n",
    "\n",
    "from biobb_analysis.gromacs.gmx_rms import GMXRms\n",
    "\n",
    "# Create prop dict and inputs/outputs\n",
    "output_rms_first = pdbCode+'_rms_first.xvg'\n",
    "prop = {\n",
    "    'selection':  'Backbone',\n",
    "    #'selection': 'non-Water'\n",
    "}\n",
    "\n",
    "# Create and launch bb\n",
    "GMXRms(input_structure_path=output_gppmd_tpr,\n",
    "         input_traj_path=output_md_trr,\n",
    "         output_xvg_path=output_rms_first, \n",
    "          properties=prop).launch()"
   ]
  },
  {
   "cell_type": "code",
   "execution_count": null,
   "metadata": {},
   "outputs": [],
   "source": [
    "# GMXRms: Computing Root Mean Square deviation to analyse structural stability \n",
    "#         RMSd against experimental structure (backbone atoms)   \n",
    "\n",
    "from biobb_analysis.gromacs.gmx_rms import GMXRms\n",
    "\n",
    "# Create prop dict and inputs/outputs\n",
    "output_rms_exp = pdbCode+'_rms_exp.xvg'\n",
    "prop = {\n",
    "    'selection':  'Backbone',\n",
    "    #'selection': 'non-Water'\n",
    "}\n",
    "\n",
    "# Create and launch bb\n",
    "GMXRms(input_structure_path=output_gppmin_tpr,\n",
    "         input_traj_path=output_md_trr,\n",
    "         output_xvg_path=output_rms_exp, \n",
    "          properties=prop).launch()"
   ]
  },
  {
   "cell_type": "code",
   "execution_count": null,
   "metadata": {},
   "outputs": [],
   "source": [
    "import plotly\n",
    "import plotly.graph_objs as go\n",
    "\n",
    "# Read RMS vs first snapshot data from file \n",
    "with open(output_rms_first,'r') as rms_first_file:\n",
    "    x,y = map(\n",
    "        list,\n",
    "        zip(*[\n",
    "            (float(line.split()[0]),float(line.split()[1]))\n",
    "            for line in rms_first_file \n",
    "            if not line.startswith((\"#\",\"@\")) \n",
    "        ])\n",
    "    )\n",
    "\n",
    "# Read RMS vs experimental structure data from file \n",
    "with open(output_rms_exp,'r') as rms_exp_file:\n",
    "    x2,y2 = map(\n",
    "        list,\n",
    "        zip(*[\n",
    "            (float(line.split()[0]),float(line.split()[1]))\n",
    "            for line in rms_exp_file\n",
    "            if not line.startswith((\"#\",\"@\")) \n",
    "        ])\n",
    "    )\n",
    "    \n",
    "trace1 = go.Scatter(\n",
    "    x = x,\n",
    "    y = y,\n",
    "    name = 'RMSd vs first'\n",
    ")\n",
    "\n",
    "trace2 = go.Scatter(\n",
    "    x = x,\n",
    "    y = y2,\n",
    "    name = 'RMSd vs exp'\n",
    ")\n",
    "\n",
    "data = [trace1, trace2]\n",
    "\n",
    "plotly.offline.init_notebook_mode(connected=True)\n",
    "\n",
    "plotly.offline.iplot({\n",
    "    \"data\": data,\n",
    "    \"layout\": go.Layout(title=\"RMSd during free MD Simulation\",\n",
    "                        xaxis=dict(title = \"Time (ps)\"),\n",
    "                        yaxis=dict(title = \"RMSd (nm)\")\n",
    "                       )\n",
    "})\n"
   ]
  },
  {
   "cell_type": "code",
   "execution_count": null,
   "metadata": {},
   "outputs": [],
   "source": [
    "# GMXRgyr: Computing Radius of Gyration to measure the protein compactness during the free MD simulation \n",
    "\n",
    "from biobb_analysis.gromacs.gmx_rgyr import GMXRgyr\n",
    "\n",
    "# Create prop dict and inputs/outputs\n",
    "output_rgyr = pdbCode+'_rgyr.xvg'\n",
    "prop = {\n",
    "    'selection':  'Backbone'\n",
    "}\n",
    "\n",
    "# Create and launch bb\n",
    "GMXRms(input_structure_path=output_gppmin_tpr,\n",
    "         input_traj_path=output_md_trr,\n",
    "         output_xvg_path=output_rgyr, \n",
    "          properties=prop).launch()"
   ]
  },
  {
   "cell_type": "code",
   "execution_count": null,
   "metadata": {},
   "outputs": [],
   "source": [
    "import plotly\n",
    "import plotly.graph_objs as go\n",
    "\n",
    "# Read Rgyr data from file \n",
    "with open(output_rgyr,'r') as rgyr_file:\n",
    "    x,y = map(\n",
    "        list,\n",
    "        zip(*[\n",
    "            (float(line.split()[0]),float(line.split()[1]))\n",
    "            for line in rgyr_file \n",
    "            if not line.startswith((\"#\",\"@\")) \n",
    "        ])\n",
    "    )\n",
    "\n",
    "plotly.offline.init_notebook_mode(connected=True)\n",
    "\n",
    "plotly.offline.iplot({\n",
    "    \"data\": [go.Scatter(x=x, y=y)],\n",
    "    \"layout\": go.Layout(title=\"Radius of Gyration\",\n",
    "                        xaxis=dict(title = \"Time (ps)\"),\n",
    "                        yaxis=dict(title = \"Rgyr (nm)\")\n",
    "                       )\n",
    "})"
   ]
  },
  {
   "cell_type": "markdown",
   "metadata": {},
   "source": [
    "<a id=\"post\"></a>\n",
    "***\n",
    "## Post-processing and Visualizing resulting 3D trajectory\n",
    "Post-processing and Visualizing the **protein system** MD setup **resulting trajectory** using **NGL**\n",
    "- [Step 1](#ppStep1): *Imaging* the resulting trajectory, **stripping out water molecules and ions** and **correcting periodicity issues**.\n",
    "- [Step 2](#ppStep2): Generating a *dry* structure, **removing water molecules and ions** from the final snapshot of the MD setup pipeline.\n",
    "- [Step 3](#ppStep3): Visualizing the *imaged* trajectory using the *dry* structure as a **topology**. \n",
    "***\n",
    "**Building Blocks** used:\n",
    " - [GMXImage](https://biobb-analysis.readthedocs.io/en/latest/gromacs.html#module-gromacs.gmx_image) from **biobb_analysis.gromacs.gmx_image** \n",
    " - [GMXTrjConvStr](https://biobb-analysis.readthedocs.io/en/latest/gromacs.html#module-gromacs.gmx_trjconv_str) from **biobb_analysis.gromacs.gmx_trjconv_str** \n",
    "***"
   ]
  },
  {
   "cell_type": "markdown",
   "metadata": {},
   "source": [
    "<a id=\"ppStep1\"></a>\n",
    "### Step 1: *Imaging* the resulting trajectory.\n",
    "Stripping out **water molecules and ions** and **correcting periodicity issues**  "
   ]
  },
  {
   "cell_type": "code",
   "execution_count": null,
   "metadata": {},
   "outputs": [],
   "source": [
    "# GMXImage: \"Imaging\" the resulting trajectory\n",
    "#           Removing water molecules and ions from the resulting structure\n",
    "from biobb_analysis.gromacs.gmx_image import GMXImage\n",
    "\n",
    "# Create prop dict and inputs/outputs\n",
    "output_imaged_traj = pdbCode+'_imaged_traj.trr'\n",
    "prop = {\n",
    "    'center_selection':  'Protein',\n",
    "    'output_selection': 'Protein',\n",
    "    'pbc' : 'mol',\n",
    "    'center' : True\n",
    "}\n",
    "\n",
    "# Create and launch bb\n",
    "GMXImage(input_traj_path=output_md_trr,\n",
    "         input_top_path=output_gppmd_tpr,\n",
    "         output_traj_path=output_imaged_traj, \n",
    "          properties=prop).launch()"
   ]
  },
  {
   "cell_type": "markdown",
   "metadata": {},
   "source": [
    "<a id=\"ppStep2\"></a>\n",
    "### Step 2: Generating the output *dry* structure.\n",
    "**Removing water molecules and ions** from the resulting structure"
   ]
  },
  {
   "cell_type": "code",
   "execution_count": null,
   "metadata": {},
   "outputs": [],
   "source": [
    "# GMXTrjConvStr: Converting and/or manipulating a structure\n",
    "#                Removing water molecules and ions from the resulting structure\n",
    "#                The \"dry\" structure will be used as a topology to visualize \n",
    "#                the \"imaged dry\" trajectory generated in the previous step.\n",
    "from biobb_analysis.gromacs.gmx_trjconv_str import GMXTrjConvStr\n",
    "\n",
    "# Create prop dict and inputs/outputs\n",
    "output_dry_gro = pdbCode+'_md_dry.gro'\n",
    "prop = {\n",
    "    'selection':  'Protein'\n",
    "}\n",
    "\n",
    "# Create and launch bb\n",
    "GMXTrjConvStr(input_structure_path=output_md_gro,\n",
    "         input_top_path=output_gppmd_tpr,\n",
    "         output_str_path=output_dry_gro, \n",
    "          properties=prop).launch()"
   ]
  },
  {
   "cell_type": "markdown",
   "metadata": {},
   "source": [
    "<a id=\"ppStep3\"></a>\n",
    "### Step 3: Visualizing the generated dehydrated trajectory.\n",
    "Using the **imaged trajectory** (output of the [Post-processing step 1](#ppStep1)) with the **dry structure** (output of the [Post-processing step 2](#ppStep2)) as a topology."
   ]
  },
  {
   "cell_type": "code",
   "execution_count": null,
   "metadata": {},
   "outputs": [],
   "source": [
    "# Show trajectory\n",
    "nglview.show_simpletraj(nglview.SimpletrajTrajectory(output_imaged_traj, output_dry_gro), gui=True)"
   ]
  },
  {
   "cell_type": "markdown",
   "metadata": {
    "variables": {
     "output_genion_top_zip": "1A3D_genion_top.zip",
     "output_gppmd_tpr": "1A3D_gppmd.tpr",
     "output_md_cpt": "1A3D_md.cpt",
     "output_md_gro": "1A3D_md.gro",
     "output_md_trr": "1A3D_md.trr",
     "output_rgyr": "1A3D_rgyr.xvg",
     "output_rms_exp": "1A3D_rms_exp.xvg",
     "output_rms_first": "1A3D_rms_first.xvg"
    }
   },
   "source": [
    "<a id=\"output\"></a>\n",
    "## Output files\n",
    "\n",
    "Important **Output files** generated:\n",
    " - {{output_md_gro}}: **Final structure** (snapshot) of the MD setup protocol.\n",
    " - {{output_md_trr}}: **Final trajectory** of the MD setup protocol.\n",
    " - {{output_md_cpt}}: **Final checkpoint file**, with information about the state of the simulation. It can be used to **restart** or **continue** a MD simulation.\n",
    " - {{output_gppmd_tpr}}: **Final tpr file**, GROMACS portable binary run input file. This file contains the starting structure of the **MD setup free MD simulation step**, together with the molecular topology and all the simulation parameters. It can be used to **extend** the simulation.\n",
    " - {{output_genion_top_zip}}: **Final topology** of the MD system. It is a compressed zip file including a **topology file** (.top) and a set of auxiliar **include topology** files (.itp).\n",
    "\n",
    "**Analysis** (MD setup check) output files generated:\n",
    " - {{output_rms_first}}: **Root Mean Square deviation (RMSd)** against **minimized and equilibrated structure** of the final **free MD run step**.\n",
    " - {{output_rms_exp}}: **Root Mean Square deviation (RMSd)** against **experimental structure** of the final **free MD run step**.\n",
    " - {{output_rgyr}}: **Radius of Gyration** of the final **free MD run step** of the **setup pipeline**.\n",
    " "
   ]
  },
  {
   "cell_type": "code",
   "execution_count": null,
   "metadata": {},
   "outputs": [],
   "source": []
  }
 ],
 "metadata": {
  "kernelspec": {
   "display_name": "Python 3",
   "language": "python",
   "name": "python3"
  },
  "language_info": {
   "codemirror_mode": {
    "name": "ipython",
    "version": 3
   },
   "file_extension": ".py",
   "mimetype": "text/x-python",
   "name": "python",
   "nbconvert_exporter": "python",
   "pygments_lexer": "ipython3",
   "version": "3.6.7"
  }
 },
 "nbformat": 4,
 "nbformat_minor": 2
}
